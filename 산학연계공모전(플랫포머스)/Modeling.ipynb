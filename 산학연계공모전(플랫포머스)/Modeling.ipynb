{
 "cells": [
  {
   "cell_type": "code",
   "execution_count": null,
   "id": "4a12f173",
   "metadata": {},
   "outputs": [],
   "source": [
    "# Data Wrangling\n",
    "import pandas as pd\n",
    "\n",
    "from pandas import Series, DataFrame\n",
    "import numpy as np\n",
    "\n",
    "# Visualization\n",
    "import matplotlib.pylab as plt\n",
    "from matplotlib import font_manager, rc\n",
    "%matplotlib inline\n",
    "rc('font', family='malgun gothic')\n",
    "import seaborn as sns\n",
    "%matplotlib inline\n",
    "\n",
    "# EDA\n",
    "\n",
    "# Preprocessing & Feature Engineering\n",
    "from sklearn.model_selection import train_test_split\n",
    "from sklearn.preprocessing import MinMaxScaler\n",
    "from sklearn.impute import SimpleImputer \n",
    "from sklearn.preprocessing import StandardScaler\n",
    "from sklearn.preprocessing import MinMaxScaler\n",
    "from sklearn.preprocessing import PowerTransformer\n",
    "from sklearn.feature_selection import SelectPercentile\n",
    "from sklearn.model_selection import StratifiedKFold\n",
    "from sklearn.cluster import KMeans\n",
    "from sklearn.model_selection import KFold\n",
    "\n",
    "from scipy.stats import randint as sp_randint\n",
    "from scipy.stats import uniform as sp_uniform\n",
    "from random import uniform\n",
    "from scipy.stats import gmean\n",
    "from scipy.stats import randint\n",
    "\n",
    "# Hyperparameter Optimization\n",
    "from sklearn.model_selection import GridSearchCV\n",
    "from sklearn.model_selection import RandomizedSearchCV\n",
    "\n",
    "# Modeling\n",
    "from sklearn.dummy import DummyClassifier\n",
    "from sklearn.linear_model import LogisticRegression\n",
    "from sklearn.neighbors import KNeighborsClassifier\n",
    "from sklearn.ensemble import RandomForestClassifier\n",
    "from sklearn.neural_network import MLPClassifier\n",
    "from sklearn.tree import DecisionTreeClassifier\n",
    "from sklearn.ensemble import GradientBoostingClassifier\n",
    "from sklearn.svm import SVC\n",
    "from sklearn.ensemble import VotingClassifier\n",
    "from sklearn.ensemble import StackingClassifier\n",
    "from sklearn.base import ClassifierMixin\n",
    "from sklearn.ensemble import RandomForestClassifier, AdaBoostClassifier, GradientBoostingClassifier\n",
    "from xgboost import XGBRegressor\n",
    "from lightgbm import LGBMRegressor\n",
    "from catboost import CatBoostClassifier\n",
    "from sklearn.model_selection import RepeatedKFold\n",
    "from sklearn.ensemble import ExtraTreesClassifier\n",
    "# Evaluation\n",
    "from sklearn.metrics import roc_auc_score\n",
    "from sklearn.metrics import accuracy_score\n",
    "from sklearn.model_selection import cross_val_score\n",
    "\n",
    "# Utility\n",
    "import os\n",
    "import time\n",
    "import random\n",
    "import warnings; warnings.filterwarnings(\"ignore\")\n",
    "from IPython.display import Image\n",
    "import pickle\n",
    "from tqdm import tqdm\n",
    "import platform\n",
    "from itertools import combinations\n",
    "from scipy.stats.mstats import gmean\n",
    "from sklearn.decomposition import PCA\n",
    "import datetime"
   ]
  },
  {
   "cell_type": "code",
   "execution_count": null,
   "id": "c8d61d04",
   "metadata": {},
   "outputs": [],
   "source": [
    "# Read Data\n",
    "X = pd.read_csv('X.csv',)\n",
    "y = pd.read_csv('y.csv')\n",
    "test_na = pd.read_csv('test.csv')"
   ]
  },
  {
   "cell_type": "code",
   "execution_count": null,
   "id": "0bfbe924",
   "metadata": {},
   "outputs": [],
   "source": [
    "l = []\n",
    "for col in X.columns:\n",
    "    if X[col].nunique() != 2:\n",
    "        l.append(col)"
   ]
  },
  {
   "cell_type": "code",
   "execution_count": null,
   "id": "730d6e9b",
   "metadata": {},
   "outputs": [],
   "source": []
  },
  {
   "cell_type": "code",
   "execution_count": null,
   "id": "5bbe3bb7",
   "metadata": {},
   "outputs": [],
   "source": [
    "# 데이터 타입 변환\n",
    "X = X.astype('str')\n",
    "test_na = test_na.astype('str')\n",
    "\n",
    "X[['전체회차','현재회차','서비스일자','접수일','최초서비스일']] = X[['전체회차','현재회차','서비스일자','접수일','최초서비스일']].astype('int')\n",
    "test_na[['전체회차','현재회차','서비스일자','접수일','최초서비스일']] = test_na[['전체회차','현재회차','서비스일자','접수일','최초서비스일']].astype('int')"
   ]
  },
  {
   "cell_type": "markdown",
   "id": "ada04b93",
   "metadata": {},
   "source": [
    "## Modeling"
   ]
  },
  {
   "cell_type": "code",
   "execution_count": null,
   "id": "30ba3ff5",
   "metadata": {},
   "outputs": [],
   "source": [
    "X.columns"
   ]
  },
  {
   "cell_type": "code",
   "execution_count": null,
   "id": "b311c0eb",
   "metadata": {},
   "outputs": [],
   "source": [
    "# 범주형 변수\n",
    "cat_list = ['장기서비스여부', '기존고객여부', '서비스주소',  \n",
    "       'betweentime', 'ser_add_dae', 'ser_add_so', \n",
    "       '종료여부', '고객가입일', '고객서비스월', \n",
    "       '우선청소', '부재중여부', '매니저이동방법', '근무가능지역', '부재중서비스가능여부', '매니저생년월일',\n",
    "       'CS교육이수여부', '청소교육이수여부', 'so_가능', 'dae_가능', '지역_가능', '나이대',\n",
    "       '전체회차','현재회차',\"잔여회차\", '서비스일자', '접수일', '최초서비스일', \"cus\",\"man\",'cus_man']"
   ]
  },
  {
   "cell_type": "code",
   "execution_count": null,
   "id": "11bb8981",
   "metadata": {},
   "outputs": [],
   "source": [
    "# Validation\n",
    "kfold = KFold(n_splits=5, shuffle = True, random_state=0)\n",
    "answer = []\n",
    "\n",
    "catf = CatBoostClassifier(cat_features=cat_list, random_state = 20182830)\n",
    "scores = cross_val_score(catf , X[cat_list], y, cv=kfold, scoring='roc_auc')\n",
    "answer.append(scores)\n",
    "print(answer)"
   ]
  },
  {
   "cell_type": "code",
   "execution_count": null,
   "id": "284ac419",
   "metadata": {
    "id": "nb2hgqt2zdkU",
    "scrolled": true
   },
   "outputs": [],
   "source": [
    "# Fitting CatBoostClassifier\n",
    "catf = CatBoostClassifier(cat_features=cat_list, random_state = 20182830)\n",
    "catf.fit(X[cat_list], y)"
   ]
  },
  {
   "cell_type": "code",
   "execution_count": null,
   "id": "8385fc73",
   "metadata": {
    "scrolled": true
   },
   "outputs": [],
   "source": [
    "X.dtypes"
   ]
  },
  {
   "cell_type": "code",
   "execution_count": null,
   "id": "6fb46ae9",
   "metadata": {},
   "outputs": [],
   "source": [
    "def plot_feature_importance(importance, names, model_type):\n",
    "    \n",
    "    feature_importance = np.array(importance)\n",
    "    feature_names = np.array(names)\n",
    "    \n",
    "    data={'feature_names':feature_names,'feature_importance':feature_importance}\n",
    "    fi_df = pd.DataFrame(data)\n",
    "    \n",
    "    fi_df.sort_values(by=['feature_importance'], ascending=False,inplace=True)\n",
    "    \n",
    "    plt.figure(figsize=(10,8))\n",
    "    sns.barplot(x=fi_df['feature_importance'], y=fi_df['feature_names'])\n",
    "    plt.title(model_type + 'FEATURE IMPORTANCE')\n",
    "    plt.xlabel('FEATURE IMPORTANCE')\n",
    "    plt.ylabel('FEATURE NAMES')"
   ]
  },
  {
   "cell_type": "code",
   "execution_count": null,
   "id": "f0547705",
   "metadata": {
    "scrolled": false
   },
   "outputs": [],
   "source": [
    "# Feature Importance\n",
    "plot_feature_importance(catf.get_feature_importance(), X[cat_list].columns,'CatBOOST')"
   ]
  },
  {
   "cell_type": "code",
   "execution_count": null,
   "id": "2d1e33c9",
   "metadata": {
    "id": "IWJ4Ier9zdkW"
   },
   "outputs": [],
   "source": [
    "# Submission\n",
    "sub = pd.read_csv(\"data/sample_submission_final.csv\")\n",
    "pred_tr = catf.predict_proba(test_na[cat_list])\n",
    "sub[\"pred\"] = pd.DataFrame(pred_tr)[1]\n",
    "\n",
    "sub.to_csv(\"sota_test_2.csv\",index = False)"
   ]
  }
 ],
 "metadata": {
  "kernelspec": {
   "display_name": "Python 3 (ipykernel)",
   "language": "python",
   "name": "python3"
  },
  "language_info": {
   "codemirror_mode": {
    "name": "ipython",
    "version": 3
   },
   "file_extension": ".py",
   "mimetype": "text/x-python",
   "name": "python",
   "nbconvert_exporter": "python",
   "pygments_lexer": "ipython3",
   "version": "3.9.7"
  }
 },
 "nbformat": 4,
 "nbformat_minor": 5
}
