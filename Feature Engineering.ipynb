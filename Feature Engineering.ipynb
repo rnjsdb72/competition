{
 "cells": [
  {
   "cell_type": "code",
   "execution_count": 1,
   "metadata": {
    "id": "PIWwP0EtzdkI"
   },
   "outputs": [],
   "source": [
    "# Data Wrangling\n",
    "import pandas as pd\n",
    "\n",
    "from pandas import Series, DataFrame\n",
    "import numpy as np\n",
    "\n",
    "# Visualization\n",
    "import matplotlib.pylab as plt\n",
    "from matplotlib import font_manager, rc\n",
    "%matplotlib inline\n",
    "rc('font', family='malgun gothic')\n",
    "import seaborn as sns\n",
    "%matplotlib inline\n",
    "\n",
    "# EDA\n",
    "\n",
    "# Preprocessing & Feature Engineering\n",
    "from sklearn.model_selection import train_test_split\n",
    "from sklearn.preprocessing import MinMaxScaler\n",
    "from sklearn.impute import SimpleImputer \n",
    "from sklearn.preprocessing import StandardScaler\n",
    "from sklearn.preprocessing import MinMaxScaler\n",
    "from sklearn.preprocessing import PowerTransformer\n",
    "from sklearn.feature_selection import SelectPercentile\n",
    "from sklearn.model_selection import StratifiedKFold\n",
    "from sklearn.cluster import KMeans\n",
    "\n",
    "from scipy.stats import randint as sp_randint\n",
    "from scipy.stats import uniform as sp_uniform\n",
    "from random import uniform\n",
    "from scipy.stats import gmean\n",
    "from scipy.stats import randint\n",
    "\n",
    "# Hyperparameter Optimization\n",
    "from sklearn.model_selection import GridSearchCV\n",
    "from sklearn.model_selection import RandomizedSearchCV\n",
    "\n",
    "# Modeling\n",
    "from sklearn.dummy import DummyClassifier\n",
    "from sklearn.linear_model import LogisticRegression\n",
    "from sklearn.neighbors import KNeighborsClassifier\n",
    "from sklearn.ensemble import RandomForestClassifier\n",
    "from sklearn.neural_network import MLPClassifier\n",
    "from sklearn.tree import DecisionTreeClassifier\n",
    "from sklearn.ensemble import GradientBoostingClassifier\n",
    "from sklearn.svm import SVC\n",
    "from sklearn.ensemble import VotingClassifier\n",
    "from sklearn.ensemble import StackingClassifier\n",
    "from sklearn.base import ClassifierMixin\n",
    "from sklearn.ensemble import RandomForestClassifier, AdaBoostClassifier, GradientBoostingClassifier\n",
    "from xgboost import XGBRegressor\n",
    "from lightgbm import LGBMRegressor\n",
    "from catboost import CatBoostClassifier\n",
    "from sklearn.model_selection import RepeatedKFold\n",
    "from sklearn.ensemble import ExtraTreesClassifier\n",
    "# Evaluation\n",
    "from sklearn.metrics import roc_auc_score\n",
    "from sklearn.metrics import accuracy_score\n",
    "from sklearn.model_selection import cross_val_score\n",
    "\n",
    "# Utility\n",
    "import os\n",
    "import time\n",
    "import random\n",
    "import warnings; warnings.filterwarnings(\"ignore\")\n",
    "from IPython.display import Image\n",
    "import pickle\n",
    "from tqdm import tqdm\n",
    "import platform\n",
    "from itertools import combinations\n",
    "from scipy.stats.mstats import gmean\n",
    "from sklearn.decomposition import PCA\n",
    "import datetime"
   ]
  },
  {
   "cell_type": "code",
   "execution_count": 2,
   "metadata": {
    "id": "V_EUCyo2zdkJ"
   },
   "outputs": [],
   "source": [
    "# Read Data\n",
    "tr = pd.read_csv(\"data/trainset.csv\")\n",
    "test = pd.read_csv(\"data/testset_final.csv\")\n",
    "train=tr[test.columns]\n",
    "train['매칭성공여부']=tr['매칭성공여부']"
   ]
  },
  {
   "cell_type": "code",
   "execution_count": 3,
   "metadata": {},
   "outputs": [
    {
     "data": {
      "text/plain": [
       "{'고객ID', '매니저ID', '매니저주소', '매니저최초가입일', '매니저최초서비스일', '매칭성공여부'}"
      ]
     },
     "execution_count": 3,
     "metadata": {},
     "output_type": "execute_result"
    }
   ],
   "source": [
    "# train 에는 존재하지만 test 에는 존재하지 않아 쓸 수 없는 column들\n",
    "set(tr.columns)-set(test.columns)"
   ]
  },
  {
   "cell_type": "code",
   "execution_count": 4,
   "metadata": {
    "colab": {
     "base_uri": "https://localhost:8080/"
    },
    "id": "XqdjwPtLzdkL",
    "outputId": "d396982d-3cf8-47dc-c972-2ff784fd2be5"
   },
   "outputs": [
    {
     "name": "stdout",
     "output_type": "stream",
     "text": [
      "<class 'pandas.core.frame.DataFrame'>\n",
      "RangeIndex: 23009 entries, 0 to 23008\n",
      "Data columns (total 30 columns):\n",
      " #   Column      Non-Null Count  Dtype  \n",
      "---  ------      --------------  -----  \n",
      " 0   SEQ         23009 non-null  object \n",
      " 1   접수일         23009 non-null  object \n",
      " 2   접수시각        3113 non-null   object \n",
      " 3   장기서비스여부     23009 non-null  int64  \n",
      " 4   최초서비스일      23009 non-null  object \n",
      " 5   전체회차        23009 non-null  int64  \n",
      " 6   현재회차        23009 non-null  int64  \n",
      " 7   서비스일자       23009 non-null  object \n",
      " 8   서비스시작시간     23009 non-null  object \n",
      " 9   서비스종료시간     23009 non-null  object \n",
      " 10  기존고객여부      23009 non-null  int64  \n",
      " 11  결재형태        23009 non-null  object \n",
      " 12  서비스주소       23009 non-null  object \n",
      " 13  주거형태        23009 non-null  object \n",
      " 14  평수          13856 non-null  object \n",
      " 15  고객가입일       23009 non-null  object \n",
      " 16  반려동물        20234 non-null  object \n",
      " 17  부재중여부       13856 non-null  float64\n",
      " 18  우선청소        10979 non-null  object \n",
      " 19  쿠폰사용여부      23009 non-null  int64  \n",
      " 20  매니저생년월일     23009 non-null  object \n",
      " 21  매니저성별       23009 non-null  int64  \n",
      " 22  매니저사용휴대폰    20210 non-null  object \n",
      " 23  매니저이동방법     22759 non-null  object \n",
      " 24  근무가능지역      23009 non-null  object \n",
      " 25  CS교육이수여부    20210 non-null  float64\n",
      " 26  청소교육이수여부    20210 non-null  float64\n",
      " 27  부재중서비스가능여부  23009 non-null  int64  \n",
      " 28  추천인여부       23009 non-null  int64  \n",
      " 29  매칭성공여부      23009 non-null  int64  \n",
      "dtypes: float64(3), int64(9), object(18)\n",
      "memory usage: 5.3+ MB\n"
     ]
    }
   ],
   "source": [
    "train.info()"
   ]
  },
  {
   "cell_type": "code",
   "execution_count": 5,
   "metadata": {
    "colab": {
     "base_uri": "https://localhost:8080/"
    },
    "id": "qmrfBfLlNw6b",
    "outputId": "55526171-ba38-4daa-fd8b-db6a38bb523b"
   },
   "outputs": [
    {
     "name": "stdout",
     "output_type": "stream",
     "text": [
      "<class 'pandas.core.frame.DataFrame'>\n",
      "RangeIndex: 4244 entries, 0 to 4243\n",
      "Data columns (total 29 columns):\n",
      " #   Column      Non-Null Count  Dtype  \n",
      "---  ------      --------------  -----  \n",
      " 0   SEQ         4244 non-null   object \n",
      " 1   접수일         4244 non-null   object \n",
      " 2   접수시각        900 non-null    object \n",
      " 3   장기서비스여부     4244 non-null   int64  \n",
      " 4   최초서비스일      4244 non-null   object \n",
      " 5   전체회차        4244 non-null   int64  \n",
      " 6   현재회차        4244 non-null   int64  \n",
      " 7   서비스일자       4244 non-null   object \n",
      " 8   서비스시작시간     4244 non-null   object \n",
      " 9   서비스종료시간     4244 non-null   object \n",
      " 10  기존고객여부      4244 non-null   int64  \n",
      " 11  결재형태        4238 non-null   object \n",
      " 12  서비스주소       4244 non-null   object \n",
      " 13  주거형태        4244 non-null   object \n",
      " 14  평수          2946 non-null   object \n",
      " 15  고객가입일       4084 non-null   object \n",
      " 16  반려동물        3868 non-null   object \n",
      " 17  부재중여부       2946 non-null   float64\n",
      " 18  우선청소        2381 non-null   object \n",
      " 19  쿠폰사용여부      4244 non-null   int64  \n",
      " 20  매니저생년월일     4244 non-null   int64  \n",
      " 21  매니저성별       4244 non-null   int64  \n",
      " 22  매니저사용휴대폰    3814 non-null   object \n",
      " 23  매니저이동방법     4172 non-null   object \n",
      " 24  근무가능지역      4244 non-null   object \n",
      " 25  CS교육이수여부    3815 non-null   float64\n",
      " 26  청소교육이수여부    3815 non-null   float64\n",
      " 27  부재중서비스가능여부  4244 non-null   int64  \n",
      " 28  추천인여부       4244 non-null   int64  \n",
      "dtypes: float64(3), int64(9), object(17)\n",
      "memory usage: 961.7+ KB\n"
     ]
    }
   ],
   "source": [
    "test.info()"
   ]
  },
  {
   "cell_type": "code",
   "execution_count": 6,
   "metadata": {
    "id": "ev9lVf03zdkM"
   },
   "outputs": [],
   "source": [
    "# 데이터 전처리 과정\n",
    "def preprocess(train):\n",
    "    # Preprocessing\n",
    "    train['CS교육이수여부']=train['CS교육이수여부'].fillna(2)\n",
    "    train['청소교육이수여부']=train['청소교육이수여부'].fillna(2)\n",
    "    train['부재중여부']=train['부재중여부'].fillna(100)\n",
    "    train['결재형태']=train['결재형태'].fillna('미수')\n",
    "    train['평수']=train['평수'].fillna('모름')\n",
    "    train['반려동물']=train['반려동물'].fillna('모름')\n",
    "    train['매니저이동방법']=train['매니저이동방법'].fillna('모름')\n",
    "    train['우선청소']=train['우선청소'].fillna('없음')\n",
    "    train['고객가입일']=train['고객가입일'].fillna('2020-0-0')\n",
    "    \n",
    "    # Make Feature\n",
    "    train['endtime']=train['서비스종료시간'].apply(lambda x: int(x.split(':')[0]))\n",
    "    train['starttime']=train['서비스시작시간'].apply(lambda x: int(x.split(':')[0]))\n",
    "    train['betweentime']=train['endtime']-train['starttime']\n",
    "    \n",
    "    train['접수월']=train['접수일'].apply(lambda x: x[:7])\n",
    "    train['접수일일']=train['접수일'].apply(lambda x: x[8:])\n",
    "    train['접수일']=train['접수일'].apply(lambda x: x.split('-')[0]+x.split('-')[1]+x.split('-')[2])\n",
    "    \n",
    "    train['고객서비스월']=train['최초서비스일'].apply(lambda x: x[:7])\n",
    "    train['고객서비스일']=train['최초서비스일'].apply(lambda x: x[8:])\n",
    "    \n",
    "    train['고객가입월']=train['고객가입일'].apply(lambda x: str(x)[:7])\n",
    "    train['고객가입일일']=train['고객가입일'].apply(lambda x: str(x)[8:])\n",
    "    train['고객가입일']=train['고객가입일'].apply(lambda x: x.split('-')[0]+x.split('-')[1]+x.split('-')[2] if type(x)==str else x)\n",
    "    \n",
    "    train['매니저생년월일']=train['매니저생년월일'].apply(lambda x: str(x)[:4])\n",
    "    train['나이대']=train['매니저생년월일'].apply(lambda x: x[2])\n",
    "    \n",
    "    train['서비스일자']=train['서비스일자'].apply(lambda x: x.split('-')[0]+x.split('-')[1]+x.split('-')[2])\n",
    "    train['최초서비스일']=train['최초서비스일'].apply(lambda x: x.split('-')[0]+x.split('-')[1]+x.split('-')[2])\n",
    "    \n",
    "    train['ser_add_dae']=train['서비스주소'].apply(lambda x: x[:2])\n",
    "    train['ser_add_so']=train['서비스주소'].apply(lambda x: x[3:5])\n",
    "    train['ser_add_so']=train['ser_add_so'].apply(lambda x: '천안/아산' if x in ['천안','아산'] else x)\n",
    "    train['ser_add_so']=train['ser_add_so'].apply(lambda x: '원주/춘천' if x in ['원주','춘천'] else x)\n",
    "    train['so_가능']=train['ser_add_so']==train['근무가능지역']\n",
    "    train['dae_가능']=train['ser_add_dae']==train['근무가능지역']\n",
    "    train['지역_가능']=train['so_가능'].astype(int)+train['dae_가능'].astype(int)\n",
    "    \n",
    "    train['잔여회차']=train['전체회차']-train['현재회차']\n",
    "    train['종료여부']=train['잔여회차'].apply(lambda x: 1 if x==0 else 0)\n",
    "    \n",
    "    train['부재중청소']=train['부재중여부']+train['부재중서비스가능여부']\n",
    "    \n",
    "    return train"
   ]
  },
  {
   "cell_type": "code",
   "execution_count": 7,
   "metadata": {
    "id": "kyt-bmWZzdkM"
   },
   "outputs": [],
   "source": [
    "# train과 test에 동일한 전처리 실행\n",
    "train=preprocess(train)\n",
    "test= preprocess(test)"
   ]
  },
  {
   "cell_type": "code",
   "execution_count": 8,
   "metadata": {
    "id": "J3RRqjSLzdkP"
   },
   "outputs": [],
   "source": [
    "# 범주형 변수와 수치형 변수를 분리\n",
    "obb=['장기서비스여부', '기존고객여부','결재형태','서비스주소','주거형태','평수','반려동물','부재중여부','우선청소','쿠폰사용여부','매니저사용휴대폰',\n",
    "     '매니저성별','매니저이동방법','근무가능지역','CS교육이수여부','청소교육이수여부','부재중서비스가능여부','추천인여부','endtime',\n",
    "     'starttime','betweentime','ser_add_dae','ser_add_so','so_가능','dae_가능','지역_가능','접수월','접수일일','고객서비스월','고객서비스일',\n",
    "     '고객가입월','고객가입일일','나이대','부재중청소','잔여회차','종료여부','매니저생년월일','고객가입일']\n",
    "ff=['전체회차','현재회차','서비스일자','접수일','최초서비스일']"
   ]
  },
  {
   "cell_type": "code",
   "execution_count": 9,
   "metadata": {
    "id": "v0lLT2BY1xVl"
   },
   "outputs": [],
   "source": [
    "train=pd.concat([train[obb].astype(str),train[ff].astype(int)],axis=1)\n",
    "test=pd.concat([test[obb].astype(str),test[ff].astype(int)],axis=1)"
   ]
  },
  {
   "cell_type": "code",
   "execution_count": 10,
   "metadata": {},
   "outputs": [
    {
     "name": "stdout",
     "output_type": "stream",
     "text": [
      "<class 'pandas.core.frame.DataFrame'>\n",
      "RangeIndex: 23009 entries, 0 to 23008\n",
      "Data columns (total 43 columns):\n",
      " #   Column       Non-Null Count  Dtype \n",
      "---  ------       --------------  ----- \n",
      " 0   장기서비스여부      23009 non-null  object\n",
      " 1   기존고객여부       23009 non-null  object\n",
      " 2   결재형태         23009 non-null  object\n",
      " 3   서비스주소        23009 non-null  object\n",
      " 4   주거형태         23009 non-null  object\n",
      " 5   평수           23009 non-null  object\n",
      " 6   반려동물         23009 non-null  object\n",
      " 7   부재중여부        23009 non-null  object\n",
      " 8   우선청소         23009 non-null  object\n",
      " 9   쿠폰사용여부       23009 non-null  object\n",
      " 10  매니저사용휴대폰     23009 non-null  object\n",
      " 11  매니저성별        23009 non-null  object\n",
      " 12  매니저이동방법      23009 non-null  object\n",
      " 13  근무가능지역       23009 non-null  object\n",
      " 14  CS교육이수여부     23009 non-null  object\n",
      " 15  청소교육이수여부     23009 non-null  object\n",
      " 16  부재중서비스가능여부   23009 non-null  object\n",
      " 17  추천인여부        23009 non-null  object\n",
      " 18  endtime      23009 non-null  object\n",
      " 19  starttime    23009 non-null  object\n",
      " 20  betweentime  23009 non-null  object\n",
      " 21  ser_add_dae  23009 non-null  object\n",
      " 22  ser_add_so   23009 non-null  object\n",
      " 23  so_가능        23009 non-null  object\n",
      " 24  dae_가능       23009 non-null  object\n",
      " 25  지역_가능        23009 non-null  object\n",
      " 26  접수월          23009 non-null  object\n",
      " 27  접수일일         23009 non-null  object\n",
      " 28  고객서비스월       23009 non-null  object\n",
      " 29  고객서비스일       23009 non-null  object\n",
      " 30  고객가입월        23009 non-null  object\n",
      " 31  고객가입일일       23009 non-null  object\n",
      " 32  나이대          23009 non-null  object\n",
      " 33  부재중청소        23009 non-null  object\n",
      " 34  잔여회차         23009 non-null  object\n",
      " 35  종료여부         23009 non-null  object\n",
      " 36  매니저생년월일      23009 non-null  object\n",
      " 37  고객가입일        23009 non-null  object\n",
      " 38  전체회차         23009 non-null  int32 \n",
      " 39  현재회차         23009 non-null  int32 \n",
      " 40  서비스일자        23009 non-null  int32 \n",
      " 41  접수일          23009 non-null  int32 \n",
      " 42  최초서비스일       23009 non-null  int32 \n",
      "dtypes: int32(5), object(38)\n",
      "memory usage: 7.1+ MB\n"
     ]
    }
   ],
   "source": [
    "train.info()"
   ]
  },
  {
   "cell_type": "markdown",
   "metadata": {},
   "source": [
    "# 군집화"
   ]
  },
  {
   "cell_type": "code",
   "execution_count": 11,
   "metadata": {},
   "outputs": [],
   "source": [
    "# 매니저 column과 고객 column을 분리해줌\n",
    "\n",
    "cus_col = [ '장기서비스여부','전체회차', '현재회차', \n",
    "        '기존고객여부', '결재형태', '서비스주소', '주거형태', '평수',\n",
    "       '반려동물', '부재중여부', '우선청소', '쿠폰사용여부','부재중서비스가능여부', '추천인여부', \n",
    "           'endtime', 'starttime', 'betweentime', '접수월', '접수일일', '고객서비스월',\n",
    "       '고객서비스일', '고객가입월', '고객가입일일', '잔여회차']\n",
    "\n",
    "man_col = [ '매니저성별', '매니저사용휴대폰',\n",
    "       '매니저이동방법', '근무가능지역', 'CS교육이수여부', '청소교육이수여부', 'ser_add_dae',\n",
    "       'ser_add_so', 'so_가능', 'dae_가능', '지역_가능', '나이대']"
   ]
  },
  {
   "cell_type": "code",
   "execution_count": 12,
   "metadata": {},
   "outputs": [],
   "source": [
    "class KMeansFeaturizer:\n",
    "    \"\"\" 숫자 데이터를 k-평균 클러스터 멤버십으로 변환.\n",
    "\n",
    "    이 변환기는 입력 데이터에 k-평균을 수행해 각 데이터 포인트를 가장 가까운 클러스터의 id로 변환한다.\n",
    "    만약 목표 변수가 주어지면 유사한 데이터 포인트와 함께 grouping되고,\n",
    "    분류 경계에 따르는 클러스터를 생성하기 위해 스케일링되고, k-평균 입력에 포함된다.\n",
    "    \"\"\"\n",
    "\n",
    "    def __init__(self, k = 100, target_scale = 5.0, random_state = None):\n",
    "        self.k = k\n",
    "        self.target_scale = target_scale\n",
    "        self.random_state = random_state\n",
    "\n",
    "    def fit(self, X, y = None):\n",
    "        \"\"\" 입력 데이터에 k-평균을 수행하고 중심점을 찾는다.\n",
    "        \"\"\"\n",
    "        if y is None: # 목표 변수가 없으면 단순한 k-평균 수행\n",
    "            km_model = KMeans(n_clusters = self.k, n_init = 20, random_state = self.random_state)\n",
    "            km_model.fit(X)\n",
    "            \n",
    "            self.inertia_ = km_model.inertia_\n",
    "            self.km_model = km_model\n",
    "            self.cluster_centers_ = km_model.cluster_centers_\n",
    "            return self\n",
    "\n",
    "        # 목표 변수가 있으면, 적절한 스케일링을 적용하고, 이를 k-평균에 대한 입력 데이터에 포함시킨다.\n",
    "        data_with_target = np.hstack((X, y[:, np.newaxis] * self.target_scale))\n",
    "        # 데이터와 타겟에 대해 사전 학습할 k-평균 모델 구축\n",
    "        km_model_pretrain = KMeans(n_clusters = self.k, n_init = 20, random_state = self.random_state)\n",
    "        km_model_pretrain.fit(data_with_target)\n",
    "\n",
    "        # k평균을 두번째로 실행해 목표 변수 없이 원시 공간에서 클러스터를 얻는다. 사전 학습을 통해 얻은 중심점을 활용해 초기화한다.\n",
    "        # 반복을 통해 클러스터 할당과 중심점 계산을 다시 수행한다.\n",
    "\n",
    "        km_model = KMeans(n_clusters = self.k, init = km_model_pretrain.cluster_centers_[:,:data_with_target.shape[1]-1], n_init = 1, max_iter = 1)\n",
    "\n",
    "        km_model.fit(X)\n",
    "        \n",
    "        self.inertia_ = km_model.inertia_\n",
    "        self.km_model = km_model\n",
    "        self.cluster_centers_ = km_model.cluster_centers_\n",
    "        return self\n",
    "\n",
    "    def transform(self, X, y = None):\n",
    "        \"\"\" 각 입력 데이터 포인트에 대해 가장 가까운 클러스터 ID 산출\n",
    "        \"\"\"\n",
    "        clusters = self.km_model.predict(X)\n",
    "        return clusters[:, np.newaxis]\n",
    "\n",
    "    def fit_transform(self, X, y = None):\n",
    "        self.fit(X, y)\n",
    "        return self.transform(X, y)"
   ]
  },
  {
   "cell_type": "code",
   "execution_count": 13,
   "metadata": {},
   "outputs": [],
   "source": [
    "km = KMeansFeaturizer(k=150,random_state = 20182830)"
   ]
  },
  {
   "cell_type": "code",
   "execution_count": 14,
   "metadata": {},
   "outputs": [],
   "source": [
    "cus_train = train[cus_col]\n",
    "cus_test = test[cus_col]\n",
    "\n",
    "# customer 데이터를 문자형으로 변경\n",
    "for i in cus_col:\n",
    "    cus_train.loc[:,[i]] = cus_train.loc[:,[i]].astype(\"str\")\n",
    "    cus_test.loc[:,[i]] = cus_test.loc[:,[i]].astype(\"str\")"
   ]
  },
  {
   "cell_type": "code",
   "execution_count": 15,
   "metadata": {},
   "outputs": [],
   "source": [
    "man_train = train[man_col]\n",
    "man_test = test[man_col]\n",
    "\n",
    "# manager 데이터를 문자형으로 변경\n",
    "for i in man_col:\n",
    "    man_train.loc[:,[i]] = man_train.loc[:,[i]].astype(\"str\")\n",
    "    man_test.loc[:,[i]] = man_test.loc[:,[i]].astype(\"str\")"
   ]
  },
  {
   "cell_type": "code",
   "execution_count": 16,
   "metadata": {},
   "outputs": [],
   "source": [
    "# 원핫인코딩\n",
    "cus_train = pd.get_dummies(cus_train)\n",
    "cus_test = pd.get_dummies(cus_test)\n",
    "man_train = pd.get_dummies(man_train)\n",
    "man_test = pd.get_dummies(man_test)"
   ]
  },
  {
   "cell_type": "code",
   "execution_count": 17,
   "metadata": {},
   "outputs": [
    {
     "name": "stdout",
     "output_type": "stream",
     "text": [
      "서비스주소_경남 창원시\n",
      "서비스주소_부산 동래구\n",
      "endtime_22\n",
      "endtime_23\n",
      "endtime_3\n",
      "starttime_0\n",
      "betweentime_7\n"
     ]
    }
   ],
   "source": [
    "# train column 중 test column에 없는 column\n",
    "for i in cus_train.columns:\n",
    "    if i in cus_test:\n",
    "        pass\n",
    "    else: print(i)"
   ]
  },
  {
   "cell_type": "code",
   "execution_count": 18,
   "metadata": {},
   "outputs": [],
   "source": [
    "# train column 중 test column에 없는 column 0으로 대체\n",
    "cus_test[\"서비스주소_경남 창원시\"] = 0\n",
    "cus_test[\"서비스주소_부산 동래구\"] = 0\n",
    "cus_test[\"endtime_22\"] = 0\n",
    "cus_test[\"endtime_23\"] = 0\n",
    "cus_test[\"endtime_3\"] = 0\n",
    "cus_test[\"starttime_0\"] = 0\n",
    "cus_test[\"betweentime_7\"] = 0"
   ]
  },
  {
   "cell_type": "code",
   "execution_count": 19,
   "metadata": {},
   "outputs": [],
   "source": [
    "# 다중값 처리\n",
    "cus_test.loc[cus_test[\"반려동물_개,고양이\"] == 1,[\"반려동물_고양이\"]] = 1\n",
    "cus_test.loc[cus_test[\"반려동물_개,고양이\"] == 1,[\"반려동물_개\"]] = 1\n",
    "\n",
    "cus_test.loc[cus_test[\"반려동물_개,기타\"] == 1,[\"반려동물_개\"]] = 1\n",
    "cus_test.loc[cus_test[\"반려동물_개,기타\"] == 1,[\"반려동물_기타\"]] = 1\n",
    "\n",
    "cus_test.loc[cus_test[\"반려동물_고양이,기타\"] == 1,[\"반려동물_고양이\"]] = 1\n",
    "cus_test.loc[cus_test[\"반려동물_고양이,기타\"] == 1,[\"반려동물_기타\"]] = 1\n",
    "\n",
    "cus_test = cus_test.drop([\"반려동물_개,고양이\",\"반려동물_개,기타\",\"반려동물_고양이,기타\"],axis = 1)\n",
    "\n",
    "cus_test = cus_test[cus_train.columns]"
   ]
  },
  {
   "cell_type": "code",
   "execution_count": 20,
   "metadata": {},
   "outputs": [
    {
     "name": "stdout",
     "output_type": "stream",
     "text": [
      "ser_add_dae_경남\n",
      "ser_add_so_동래\n",
      "ser_add_so_창원\n"
     ]
    }
   ],
   "source": [
    "# train column 중 test column에 없는 column\n",
    "for i in man_train.columns:\n",
    "    if i in man_test:\n",
    "        pass\n",
    "    else: print(i)"
   ]
  },
  {
   "cell_type": "code",
   "execution_count": 21,
   "metadata": {},
   "outputs": [],
   "source": [
    "# train column 중 test column에 없는 column 0으로 대체\n",
    "man_test[\"ser_add_dae_경남\"] = 0\n",
    "man_test[\"ser_add_so_동래\"] = 0\n",
    "man_test[\"ser_add_so_창원\"] = 0"
   ]
  },
  {
   "cell_type": "code",
   "execution_count": 22,
   "metadata": {},
   "outputs": [],
   "source": [
    "man_test = man_test[man_train.columns]"
   ]
  },
  {
   "cell_type": "code",
   "execution_count": 23,
   "metadata": {},
   "outputs": [],
   "source": [
    "# k-means clustering\n",
    "cus_train_kmean = km.fit_transform(cus_train)\n",
    "cus_test_kmean = km.transform(cus_test)\n",
    "\n",
    "man_train_kmean = km.fit_transform(man_train)\n",
    "man_test_kmean = km.transform(man_test)"
   ]
  },
  {
   "cell_type": "code",
   "execution_count": 24,
   "metadata": {},
   "outputs": [],
   "source": [
    "# k-means 결과 concatenate\n",
    "kmean_train = pd.concat([pd.DataFrame(cus_train_kmean),pd.DataFrame(man_train_kmean)], axis = 1)\n",
    "\n",
    "kmean_test = pd.concat([pd.DataFrame(cus_test_kmean),pd.DataFrame(man_test_kmean)], axis = 1)\n",
    "\n",
    "kmean_train.columns = [\"cus\",\"man\"]\n",
    "kmean_test.columns = [\"cus\",\"man\"]"
   ]
  },
  {
   "cell_type": "code",
   "execution_count": 25,
   "metadata": {},
   "outputs": [],
   "source": [
    "# customer 군집, manager군집 문자형으로 변환\n",
    "kmean_train[\"cus\"] = kmean_train[\"cus\"].astype(\"str\")\n",
    "kmean_test[\"cus\"] = kmean_test[\"cus\"].astype(\"str\")\n",
    "kmean_train[\"man\"] = kmean_train[\"man\"].astype(\"str\")\n",
    "kmean_test[\"man\"] = kmean_test[\"man\"].astype(\"str\")"
   ]
  },
  {
   "cell_type": "code",
   "execution_count": 26,
   "metadata": {},
   "outputs": [],
   "source": [
    "# customer군집, manager군집 조합\n",
    "kmean_train[\"cus_man\"] = kmean_train[\"cus\"].astype(\"str\") + \"_\" + kmean_train[\"man\"].astype(\"str\")\n",
    "kmean_test[\"cus_man\"] = kmean_test[\"cus\"].astype(\"str\") + \"_\" + kmean_test[\"man\"].astype(\"str\")"
   ]
  },
  {
   "cell_type": "markdown",
   "metadata": {},
   "source": [
    "#  -----------------------------------------------------------------------"
   ]
  },
  {
   "cell_type": "code",
   "execution_count": 27,
   "metadata": {
    "id": "xofxzz2SzdkP"
   },
   "outputs": [],
   "source": [
    "train_manager=train[['매니저성별','매니저이동방법', '근무가능지역', '부재중서비스가능여부',\n",
    "                     '매니저생년월일','CS교육이수여부','청소교육이수여부','so_가능', 'dae_가능', '지역_가능','부재중청소','나이대']]"
   ]
  },
  {
   "cell_type": "code",
   "execution_count": 28,
   "metadata": {
    "id": "JnmOPyGizdkQ"
   },
   "outputs": [],
   "source": [
    "test_manager=test[['매니저성별','매니저이동방법', '근무가능지역', '부재중서비스가능여부',\n",
    "                     '매니저생년월일','CS교육이수여부','청소교육이수여부','so_가능', 'dae_가능', '지역_가능','부재중청소','나이대']]"
   ]
  },
  {
   "cell_type": "code",
   "execution_count": 29,
   "metadata": {
    "id": "pUKYziajzdkQ"
   },
   "outputs": [],
   "source": [
    "train_customer=train[[\"장기서비스여부\",'기존고객여부', '결재형태',\n",
    "       '서비스주소', '주거형태', 'endtime', 'starttime', 'betweentime', 'ser_add_dae', 'ser_add_so',\n",
    "      '접수월', '접수일일', '잔여회차','종료여부','고객가입일',\n",
    "       '고객서비스월', '고객서비스일', '고객가입월', '고객가입일일','평수','반려동물','우선청소','부재중여부']]"
   ]
  },
  {
   "cell_type": "code",
   "execution_count": 30,
   "metadata": {
    "id": "QgfGG2SKzdkQ"
   },
   "outputs": [],
   "source": [
    "test_customer=test[[\"장기서비스여부\",'기존고객여부', '결재형태',\n",
    "       '서비스주소', '주거형태', 'endtime', 'starttime', 'betweentime', 'ser_add_dae', 'ser_add_so',\n",
    "      '접수월', '접수일일', '잔여회차','종료여부','고객가입일',\n",
    "       '고객서비스월', '고객서비스일', '고객가입월', '고객가입일일','평수','반려동물','우선청소','부재중여부']]"
   ]
  },
  {
   "cell_type": "code",
   "execution_count": 31,
   "metadata": {
    "id": "bn22tE_TzdkQ"
   },
   "outputs": [],
   "source": [
    "train_manager_dummy = train_manager.copy()#pd.get_dummies(train_manager)\n",
    "test_manager_dummy = test_manager.copy()#pd.get_dummies(test_manager)"
   ]
  },
  {
   "cell_type": "code",
   "execution_count": 32,
   "metadata": {
    "id": "wHzdzhBIzdkR"
   },
   "outputs": [],
   "source": [
    "for i in train_manager_dummy.columns:\n",
    "    if i in test_manager_dummy:\n",
    "        pass\n",
    "    else: print(i)\n",
    "\n",
    "test_manager_dummy=test_manager_dummy[train_manager_dummy.columns]"
   ]
  },
  {
   "cell_type": "code",
   "execution_count": 33,
   "metadata": {
    "id": "boyjw2MMzdkR"
   },
   "outputs": [],
   "source": [
    "train_customer_dummy= train_customer.copy()#pd.get_dummies(train_customer)\n",
    "test_customer_dummy=test_customer.copy() #pd.get_dummies(test_customer)"
   ]
  },
  {
   "cell_type": "code",
   "execution_count": 34,
   "metadata": {
    "id": "wLAZVnJTzdkT"
   },
   "outputs": [],
   "source": [
    "train_na=pd.concat([train_customer_dummy,train_manager_dummy,train[ff]],axis=1)\n",
    "test_na=pd.concat([test_customer_dummy,test_manager_dummy,test[ff]],axis=1)"
   ]
  },
  {
   "cell_type": "code",
   "execution_count": 35,
   "metadata": {},
   "outputs": [],
   "source": [
    "train_na = pd.concat([train_na,kmean_train],axis = 1)\n",
    "test_na = pd.concat([test_na,kmean_test],axis = 1)"
   ]
  },
  {
   "cell_type": "code",
   "execution_count": 36,
   "metadata": {
    "id": "tXLRyXjH516M"
   },
   "outputs": [],
   "source": [
    "# feature, class 정의\n",
    "y = tr['매칭성공여부']\n",
    "X = train_na"
   ]
  },
  {
   "cell_type": "code",
   "execution_count": 37,
   "metadata": {},
   "outputs": [
    {
     "name": "stdout",
     "output_type": "stream",
     "text": [
      "<class 'pandas.core.frame.DataFrame'>\n",
      "RangeIndex: 23009 entries, 0 to 23008\n",
      "Data columns (total 43 columns):\n",
      " #   Column       Non-Null Count  Dtype \n",
      "---  ------       --------------  ----- \n",
      " 0   장기서비스여부      23009 non-null  object\n",
      " 1   기존고객여부       23009 non-null  object\n",
      " 2   결재형태         23009 non-null  object\n",
      " 3   서비스주소        23009 non-null  object\n",
      " 4   주거형태         23009 non-null  object\n",
      " 5   endtime      23009 non-null  object\n",
      " 6   starttime    23009 non-null  object\n",
      " 7   betweentime  23009 non-null  object\n",
      " 8   ser_add_dae  23009 non-null  object\n",
      " 9   ser_add_so   23009 non-null  object\n",
      " 10  접수월          23009 non-null  object\n",
      " 11  접수일일         23009 non-null  object\n",
      " 12  잔여회차         23009 non-null  object\n",
      " 13  종료여부         23009 non-null  object\n",
      " 14  고객가입일        23009 non-null  object\n",
      " 15  고객서비스월       23009 non-null  object\n",
      " 16  고객서비스일       23009 non-null  object\n",
      " 17  고객가입월        23009 non-null  object\n",
      " 18  고객가입일일       23009 non-null  object\n",
      " 19  평수           23009 non-null  object\n",
      " 20  반려동물         23009 non-null  object\n",
      " 21  우선청소         23009 non-null  object\n",
      " 22  부재중여부        23009 non-null  object\n",
      " 23  매니저성별        23009 non-null  object\n",
      " 24  매니저이동방법      23009 non-null  object\n",
      " 25  근무가능지역       23009 non-null  object\n",
      " 26  부재중서비스가능여부   23009 non-null  object\n",
      " 27  매니저생년월일      23009 non-null  object\n",
      " 28  CS교육이수여부     23009 non-null  object\n",
      " 29  청소교육이수여부     23009 non-null  object\n",
      " 30  so_가능        23009 non-null  object\n",
      " 31  dae_가능       23009 non-null  object\n",
      " 32  지역_가능        23009 non-null  object\n",
      " 33  부재중청소        23009 non-null  object\n",
      " 34  나이대          23009 non-null  object\n",
      " 35  전체회차         23009 non-null  int32 \n",
      " 36  현재회차         23009 non-null  int32 \n",
      " 37  서비스일자        23009 non-null  int32 \n",
      " 38  접수일          23009 non-null  int32 \n",
      " 39  최초서비스일       23009 non-null  int32 \n",
      " 40  cus          23009 non-null  object\n",
      " 41  man          23009 non-null  object\n",
      " 42  cus_man      23009 non-null  object\n",
      "dtypes: int32(5), object(38)\n",
      "memory usage: 7.1+ MB\n"
     ]
    }
   ],
   "source": [
    "X.info()"
   ]
  },
  {
   "cell_type": "code",
   "execution_count": 38,
   "metadata": {},
   "outputs": [],
   "source": [
    "# Save Data\n",
    "X.to_csv('X.csv', index=False)\n",
    "y.to_csv('y.csv', index=False)\n",
    "test_na.to_csv('test.csv', index=False)"
   ]
  }
 ],
 "metadata": {
  "colab": {
   "name": "최민석_나뭐한거노!!.ipynb",
   "provenance": []
  },
  "kernelspec": {
   "display_name": "Python 3 (ipykernel)",
   "language": "python",
   "name": "python3"
  },
  "language_info": {
   "codemirror_mode": {
    "name": "ipython",
    "version": 3
   },
   "file_extension": ".py",
   "mimetype": "text/x-python",
   "name": "python",
   "nbconvert_exporter": "python",
   "pygments_lexer": "ipython3",
   "version": "3.7.11"
  },
  "widgets": {
   "application/vnd.jupyter.widget-state+json": {
    "9027e7e09a554cb2942a9fe5f9850666": {
     "model_module": "catboost-widget",
     "model_module_version": "^1.0.0",
     "model_name": "CatboostWidgetModel",
     "state": {
      "_dom_classes": [],
      "_model_module": "catboost-widget",
      "_model_module_version": "^1.0.0",
      "_model_name": "CatboostWidgetModel",
      "_view_count": null,
      "_view_module": "catboost-widget",
      "_view_module_version": "^1.0.0",
      "_view_name": "CatboostWidgetView",
      "data": {
       "catboost_info/model-0": {
        "content": {
         "data": {
          "iterations": [
           {
            "iteration": 0,
            "learn": [
             0.6579421138
            ],
            "passed_time": 0.1104088831,
            "remaining_time": 110.2984742
           },
           {
            "iteration": 1,
            "learn": [
             0.6285449789
            ],
            "passed_time": 0.2350757023,
            "remaining_time": 117.3027755
           },
           {
            "iteration": 2,
            "learn": [
             0.6011273395
            ],
            "passed_time": 0.3502107639,
            "remaining_time": 116.3867105
           },
           {
            "iteration": 3,
            "learn": [
             0.5757384297
            ],
            "passed_time": 0.4470539485,
            "remaining_time": 111.3164332
           },
           {
            "iteration": 4,
            "learn": [
             0.5537915196
            ],
            "passed_time": 0.5350452073,
            "remaining_time": 106.4739963
           },
           {
            "iteration": 5,
            "learn": [
             0.5337873992
            ],
            "passed_time": 0.5476296578,
            "remaining_time": 90.72397997
           },
           {
            "iteration": 6,
            "learn": [
             0.5150136258
            ],
            "passed_time": 0.6417855177,
            "remaining_time": 91.04185987
           },
           {
            "iteration": 7,
            "learn": [
             0.4975017682
            ],
            "passed_time": 0.7389436182,
            "remaining_time": 91.62900866
           },
           {
            "iteration": 8,
            "learn": [
             0.4776217309
            ],
            "passed_time": 0.8424231574,
            "remaining_time": 92.76014988
           },
           {
            "iteration": 9,
            "learn": [
             0.4631098306
            ],
            "passed_time": 0.9369180896,
            "remaining_time": 92.75489087
           },
           {
            "iteration": 10,
            "learn": [
             0.4493436041
            ],
            "passed_time": 1.023453666,
            "remaining_time": 92.01778872
           },
           {
            "iteration": 11,
            "learn": [
             0.4357233954
            ],
            "passed_time": 1.108031309,
            "remaining_time": 91.22791109
           },
           {
            "iteration": 12,
            "learn": [
             0.4254015453
            ],
            "passed_time": 1.134641397,
            "remaining_time": 86.14546607
           },
           {
            "iteration": 13,
            "learn": [
             0.4159565162
            ],
            "passed_time": 1.197725832,
            "remaining_time": 84.35411929
           },
           {
            "iteration": 14,
            "learn": [
             0.406939156
            ],
            "passed_time": 1.291251665,
            "remaining_time": 84.79219268
           },
           {
            "iteration": 15,
            "learn": [
             0.3990104456
            ],
            "passed_time": 1.371549779,
            "remaining_time": 84.35031144
           },
           {
            "iteration": 16,
            "learn": [
             0.3911242163
            ],
            "passed_time": 1.462143939,
            "remaining_time": 84.54632308
           },
           {
            "iteration": 17,
            "learn": [
             0.3792802447
            ],
            "passed_time": 1.549915585,
            "remaining_time": 84.55650583
           },
           {
            "iteration": 18,
            "learn": [
             0.3727887012
            ],
            "passed_time": 1.589639419,
            "remaining_time": 82.07559318
           },
           {
            "iteration": 19,
            "learn": [
             0.3670670953
            ],
            "passed_time": 1.695612296,
            "remaining_time": 83.08500252
           },
           {
            "iteration": 20,
            "learn": [
             0.3595139681
            ],
            "passed_time": 1.793351849,
            "remaining_time": 83.60435526
           },
           {
            "iteration": 21,
            "learn": [
             0.3513280733
            ],
            "passed_time": 1.881586809,
            "remaining_time": 83.64508633
           },
           {
            "iteration": 22,
            "learn": [
             0.3471327151
            ],
            "passed_time": 1.963270791,
            "remaining_time": 83.39632883
           },
           {
            "iteration": 23,
            "learn": [
             0.3435697127
            ],
            "passed_time": 1.977410062,
            "remaining_time": 80.41467587
           },
           {
            "iteration": 24,
            "learn": [
             0.3360423276
            ],
            "passed_time": 2.073623753,
            "remaining_time": 80.87132638
           },
           {
            "iteration": 25,
            "learn": [
             0.3320933522
            ],
            "passed_time": 2.179066157,
            "remaining_time": 81.63117064
           },
           {
            "iteration": 26,
            "learn": [
             0.3287848895
            ],
            "passed_time": 2.28411064,
            "remaining_time": 82.31257973
           },
           {
            "iteration": 27,
            "learn": [
             0.3257816256
            ],
            "passed_time": 2.36835693,
            "remaining_time": 82.21581913
           },
           {
            "iteration": 28,
            "learn": [
             0.3233611147
            ],
            "passed_time": 2.409299985,
            "remaining_time": 80.67000984
           },
           {
            "iteration": 29,
            "learn": [
             0.320888732
            ],
            "passed_time": 2.500086896,
            "remaining_time": 80.83614298
           },
           {
            "iteration": 30,
            "learn": [
             0.3179058826
            ],
            "passed_time": 2.604890191,
            "remaining_time": 81.42382564
           },
           {
            "iteration": 31,
            "learn": [
             0.3159390134
            ],
            "passed_time": 2.680669726,
            "remaining_time": 81.09025922
           },
           {
            "iteration": 32,
            "learn": [
             0.3128974052
            ],
            "passed_time": 2.779313828,
            "remaining_time": 81.44231732
           },
           {
            "iteration": 33,
            "learn": [
             0.3030610268
            ],
            "passed_time": 2.881290962,
            "remaining_time": 81.86256087
           },
           {
            "iteration": 34,
            "learn": [
             0.2983520289
            ],
            "passed_time": 3.081650558,
            "remaining_time": 84.96550824
           },
           {
            "iteration": 35,
            "learn": [
             0.2965367763
            ],
            "passed_time": 3.167624345,
            "remaining_time": 84.8219408
           },
           {
            "iteration": 36,
            "learn": [
             0.2949995457
            ],
            "passed_time": 3.272480762,
            "remaining_time": 85.17294525
           },
           {
            "iteration": 37,
            "learn": [
             0.2872467103
            ],
            "passed_time": 3.383430851,
            "remaining_time": 85.65422311
           },
           {
            "iteration": 38,
            "learn": [
             0.2793395547
            ],
            "passed_time": 3.477996075,
            "remaining_time": 85.70139047
           },
           {
            "iteration": 39,
            "learn": [
             0.2759733894
            ],
            "passed_time": 3.579274186,
            "remaining_time": 85.90258046
           },
           {
            "iteration": 40,
            "learn": [
             0.273677666
            ],
            "passed_time": 3.667631655,
            "remaining_time": 85.78679896
           },
           {
            "iteration": 41,
            "learn": [
             0.2731258629
            ],
            "passed_time": 3.693607987,
            "remaining_time": 84.24943931
           },
           {
            "iteration": 42,
            "learn": [
             0.2712589503
            ],
            "passed_time": 3.795027322,
            "remaining_time": 84.46142202
           },
           {
            "iteration": 43,
            "learn": [
             0.2689333087
            ],
            "passed_time": 3.897475082,
            "remaining_time": 84.68150406
           },
           {
            "iteration": 44,
            "learn": [
             0.2685862419
            ],
            "passed_time": 3.909775572,
            "remaining_time": 82.97412603
           },
           {
            "iteration": 45,
            "learn": [
             0.2605474585
            ],
            "passed_time": 4.006358906,
            "remaining_time": 83.08839993
           },
           {
            "iteration": 46,
            "learn": [
             0.2589271703
            ],
            "passed_time": 4.105927576,
            "remaining_time": 83.25423362
           },
           {
            "iteration": 47,
            "learn": [
             0.2522418279
            ],
            "passed_time": 4.216808595,
            "remaining_time": 83.63337048
           },
           {
            "iteration": 48,
            "learn": [
             0.2443751082
            ],
            "passed_time": 4.311016297,
            "remaining_time": 83.66890814
           },
           {
            "iteration": 49,
            "learn": [
             0.2376215686
            ],
            "passed_time": 4.417477652,
            "remaining_time": 83.93207538
           },
           {
            "iteration": 50,
            "learn": [
             0.2307502474
            ],
            "passed_time": 4.508723027,
            "remaining_time": 83.89761084
           },
           {
            "iteration": 51,
            "learn": [
             0.2298015253
            ],
            "passed_time": 4.603677775,
            "remaining_time": 83.92858712
           },
           {
            "iteration": 52,
            "learn": [
             0.2230121553
            ],
            "passed_time": 4.715863255,
            "remaining_time": 84.26268872
           },
           {
            "iteration": 53,
            "learn": [
             0.219368469
            ],
            "passed_time": 4.822951477,
            "remaining_time": 84.49096476
           },
           {
            "iteration": 54,
            "learn": [
             0.213164552
            ],
            "passed_time": 4.907666445,
            "remaining_time": 84.32263256
           },
           {
            "iteration": 55,
            "learn": [
             0.207691995
            ],
            "passed_time": 5.003975893,
            "remaining_time": 84.35273648
           },
           {
            "iteration": 56,
            "learn": [
             0.2026155825
            ],
            "passed_time": 5.122810088,
            "remaining_time": 84.7510511
           },
           {
            "iteration": 57,
            "learn": [
             0.1977480142
            ],
            "passed_time": 5.231010009,
            "remaining_time": 84.95881773
           },
           {
            "iteration": 58,
            "learn": [
             0.1936632468
            ],
            "passed_time": 5.342278572,
            "remaining_time": 85.20481587
           },
           {
            "iteration": 59,
            "learn": [
             0.1905489983
            ],
            "passed_time": 5.440591148,
            "remaining_time": 85.23592799
           },
           {
            "iteration": 60,
            "learn": [
             0.1874369507
            ],
            "passed_time": 5.531224181,
            "remaining_time": 85.14458207
           },
           {
            "iteration": 61,
            "learn": [
             0.1840198883
            ],
            "passed_time": 5.624670739,
            "remaining_time": 85.09582506
           },
           {
            "iteration": 62,
            "learn": [
             0.1810109179
            ],
            "passed_time": 5.712768383,
            "remaining_time": 84.96609483
           },
           {
            "iteration": 63,
            "learn": [
             0.1781724298
            ],
            "passed_time": 5.801059138,
            "remaining_time": 84.84048989
           },
           {
            "iteration": 64,
            "learn": [
             0.1758970007
            ],
            "passed_time": 5.898964898,
            "remaining_time": 84.85434122
           },
           {
            "iteration": 65,
            "learn": [
             0.1739741767
            ],
            "passed_time": 6.001180049,
            "remaining_time": 84.92579038
           },
           {
            "iteration": 66,
            "learn": [
             0.1714634319
            ],
            "passed_time": 6.112366696,
            "remaining_time": 85.11698697
           },
           {
            "iteration": 67,
            "learn": [
             0.1695628165
            ],
            "passed_time": 6.209804568,
            "remaining_time": 85.11085085
           },
           {
            "iteration": 68,
            "learn": [
             0.1668005378
            ],
            "passed_time": 6.321213849,
            "remaining_time": 85.29058106
           },
           {
            "iteration": 69,
            "learn": [
             0.1640859833
            ],
            "passed_time": 6.423195253,
            "remaining_time": 85.33673693
           },
           {
            "iteration": 70,
            "learn": [
             0.1617711757
            ],
            "passed_time": 6.533246791,
            "remaining_time": 85.48431365
           },
           {
            "iteration": 71,
            "learn": [
             0.1594961025
            ],
            "passed_time": 6.63218406,
            "remaining_time": 85.48148344
           },
           {
            "iteration": 72,
            "learn": [
             0.1576325407
            ],
            "passed_time": 6.739835298,
            "remaining_time": 85.58667564
           },
           {
            "iteration": 73,
            "learn": [
             0.1556378232
            ],
            "passed_time": 6.858478833,
            "remaining_time": 85.82366755
           },
           {
            "iteration": 74,
            "learn": [
             0.1543865877
            ],
            "passed_time": 6.962936209,
            "remaining_time": 85.87621325
           },
           {
            "iteration": 75,
            "learn": [
             0.1532248581
            ],
            "passed_time": 7.076829541,
            "remaining_time": 86.03934863
           },
           {
            "iteration": 76,
            "learn": [
             0.1516745227
            ],
            "passed_time": 7.185341555,
            "remaining_time": 86.13078254
           },
           {
            "iteration": 77,
            "learn": [
             0.1497975731
            ],
            "passed_time": 7.290515594,
            "remaining_time": 86.17763304
           },
           {
            "iteration": 78,
            "learn": [
             0.1482608944
            ],
            "passed_time": 7.40172606,
            "remaining_time": 86.29100888
           },
           {
            "iteration": 79,
            "learn": [
             0.1472696441
            ],
            "passed_time": 7.51214044,
            "remaining_time": 86.38961506
           },
           {
            "iteration": 80,
            "learn": [
             0.145717374
            ],
            "passed_time": 7.614700391,
            "remaining_time": 86.39394641
           },
           {
            "iteration": 81,
            "learn": [
             0.1435658588
            ],
            "passed_time": 7.701919514,
            "remaining_time": 86.22392822
           },
           {
            "iteration": 82,
            "learn": [
             0.1421066917
            ],
            "passed_time": 7.794578501,
            "remaining_time": 86.11600585
           },
           {
            "iteration": 83,
            "learn": [
             0.1406630388
            ],
            "passed_time": 7.886823638,
            "remaining_time": 86.00393396
           },
           {
            "iteration": 84,
            "learn": [
             0.139081502
            ],
            "passed_time": 7.966227322,
            "remaining_time": 85.75409412
           },
           {
            "iteration": 85,
            "learn": [
             0.1383724668
            ],
            "passed_time": 8.062833399,
            "remaining_time": 85.69104333
           },
           {
            "iteration": 86,
            "learn": [
             0.1371967367
            ],
            "passed_time": 8.164804114,
            "remaining_time": 85.68351904
           },
           {
            "iteration": 87,
            "learn": [
             0.1363961901
            ],
            "passed_time": 8.275589436,
            "remaining_time": 85.76519961
           },
           {
            "iteration": 88,
            "learn": [
             0.1351870625
            ],
            "passed_time": 8.378333601,
            "remaining_time": 85.76024619
           },
           {
            "iteration": 89,
            "learn": [
             0.1338868077
            ],
            "passed_time": 8.477176613,
            "remaining_time": 85.71367464
           },
           {
            "iteration": 90,
            "learn": [
             0.1333229685
            ],
            "passed_time": 8.587980454,
            "remaining_time": 85.78543113
           },
           {
            "iteration": 91,
            "learn": [
             0.1323159671
            ],
            "passed_time": 8.679426569,
            "remaining_time": 85.66216657
           },
           {
            "iteration": 92,
            "learn": [
             0.1309707583
            ],
            "passed_time": 8.774875195,
            "remaining_time": 85.57862153
           },
           {
            "iteration": 93,
            "learn": [
             0.1305543314
            ],
            "passed_time": 8.871468492,
            "remaining_time": 85.50585589
           },
           {
            "iteration": 94,
            "learn": [
             0.1297403496
            ],
            "passed_time": 8.981588086,
            "remaining_time": 85.5614444
           },
           {
            "iteration": 95,
            "learn": [
             0.1294282213
            ],
            "passed_time": 9.077900827,
            "remaining_time": 85.48356612
           },
           {
            "iteration": 96,
            "learn": [
             0.1285799695
            ],
            "passed_time": 9.186925686,
            "remaining_time": 85.52364839
           },
           {
            "iteration": 97,
            "learn": [
             0.1284050096
            ],
            "passed_time": 9.288271761,
            "remaining_time": 85.49001151
           },
           {
            "iteration": 98,
            "learn": [
             0.128268001
            ],
            "passed_time": 9.384963195,
            "remaining_time": 85.41264484
           },
           {
            "iteration": 99,
            "learn": [
             0.1273906959
            ],
            "passed_time": 9.473624068,
            "remaining_time": 85.26261661
           },
           {
            "iteration": 100,
            "learn": [
             0.1264973168
            ],
            "passed_time": 9.5617432,
            "remaining_time": 85.10898155
           },
           {
            "iteration": 101,
            "learn": [
             0.1257721534
            ],
            "passed_time": 9.66246104,
            "remaining_time": 85.06754916
           },
           {
            "iteration": 102,
            "learn": [
             0.1250648673
            ],
            "passed_time": 9.777762418,
            "remaining_time": 85.1519698
           },
           {
            "iteration": 103,
            "learn": [
             0.124964934
            ],
            "passed_time": 9.877926987,
            "remaining_time": 85.10214019
           },
           {
            "iteration": 104,
            "learn": [
             0.1243082025
            ],
            "passed_time": 9.977368196,
            "remaining_time": 85.04518605
           },
           {
            "iteration": 105,
            "learn": [
             0.1242912898
            ],
            "passed_time": 9.99065247,
            "remaining_time": 84.26078593
           },
           {
            "iteration": 106,
            "learn": [
             0.124072929
            ],
            "passed_time": 10.08188622,
            "remaining_time": 84.1413495
           },
           {
            "iteration": 107,
            "learn": [
             0.1240583704
            ],
            "passed_time": 10.09545184,
            "remaining_time": 83.38095405
           },
           {
            "iteration": 108,
            "learn": [
             0.1240158216
            ],
            "passed_time": 10.19549559,
            "remaining_time": 83.34116116
           },
           {
            "iteration": 109,
            "learn": [
             0.1229873508
            ],
            "passed_time": 10.30987196,
            "remaining_time": 83.41623677
           },
           {
            "iteration": 110,
            "learn": [
             0.1226829666
            ],
            "passed_time": 10.419303,
            "remaining_time": 83.44829159
           },
           {
            "iteration": 111,
            "learn": [
             0.1220182613
            ],
            "passed_time": 10.55003027,
            "remaining_time": 83.64666856
           },
           {
            "iteration": 112,
            "learn": [
             0.1218525925
            ],
            "passed_time": 10.64445071,
            "remaining_time": 83.55422816
           },
           {
            "iteration": 113,
            "learn": [
             0.1214298206
            ],
            "passed_time": 10.74647979,
            "remaining_time": 83.52088676
           },
           {
            "iteration": 114,
            "learn": [
             0.1211782016
            ],
            "passed_time": 10.84682138,
            "remaining_time": 83.47336453
           },
           {
            "iteration": 115,
            "learn": [
             0.1211637578
            ],
            "passed_time": 10.89101764,
            "remaining_time": 82.99706546
           },
           {
            "iteration": 116,
            "learn": [
             0.1210753694
            ],
            "passed_time": 10.98606575,
            "remaining_time": 82.91193214
           },
           {
            "iteration": 117,
            "learn": [
             0.1205529346
            ],
            "passed_time": 11.08380264,
            "remaining_time": 82.84672818
           },
           {
            "iteration": 118,
            "learn": [
             0.1205418071
            ],
            "passed_time": 11.10785255,
            "remaining_time": 82.23544621
           },
           {
            "iteration": 119,
            "learn": [
             0.1204545143
            ],
            "passed_time": 11.21544147,
            "remaining_time": 82.24657079
           },
           {
            "iteration": 120,
            "learn": [
             0.1204090583
            ],
            "passed_time": 11.32350675,
            "remaining_time": 82.25919368
           },
           {
            "iteration": 121,
            "learn": [
             0.1203601309
            ],
            "passed_time": 11.40107446,
            "remaining_time": 82.05035557
           },
           {
            "iteration": 122,
            "learn": [
             0.1200006338
            ],
            "passed_time": 11.49552624,
            "remaining_time": 81.96403671
           },
           {
            "iteration": 123,
            "learn": [
             0.1191345791
            ],
            "passed_time": 11.60719958,
            "remaining_time": 81.99924867
           },
           {
            "iteration": 124,
            "learn": [
             0.1189918255
            ],
            "passed_time": 11.70667791,
            "remaining_time": 81.94674539
           },
           {
            "iteration": 125,
            "learn": [
             0.118433027
            ],
            "passed_time": 11.80973415,
            "remaining_time": 81.91831463
           },
           {
            "iteration": 126,
            "learn": [
             0.1180414492
            ],
            "passed_time": 11.91315453,
            "remaining_time": 81.89121186
           },
           {
            "iteration": 127,
            "learn": [
             0.1179930761
            ],
            "passed_time": 12.00021668,
            "remaining_time": 81.75147617
           },
           {
            "iteration": 128,
            "learn": [
             0.1177345926
            ],
            "passed_time": 12.10269258,
            "remaining_time": 81.71662977
           },
           {
            "iteration": 129,
            "learn": [
             0.1175968619
            ],
            "passed_time": 12.21798407,
            "remaining_time": 81.76650874
           },
           {
            "iteration": 130,
            "learn": [
             0.117589935
            ],
            "passed_time": 12.24239714,
            "remaining_time": 81.21101617
           },
           {
            "iteration": 131,
            "learn": [
             0.1175550158
            ],
            "passed_time": 12.33807698,
            "remaining_time": 81.13220317
           },
           {
            "iteration": 132,
            "learn": [
             0.1169572046
            ],
            "passed_time": 12.44506296,
            "remaining_time": 81.12683899
           },
           {
            "iteration": 133,
            "learn": [
             0.1160182201
            ],
            "passed_time": 12.55889318,
            "remaining_time": 81.16419026
           },
           {
            "iteration": 134,
            "learn": [
             0.1159285677
            ],
            "passed_time": 12.66546558,
            "remaining_time": 81.15279799
           },
           {
            "iteration": 135,
            "learn": [
             0.1157009712
            ],
            "passed_time": 12.76014829,
            "remaining_time": 81.06447148
           },
           {
            "iteration": 136,
            "learn": [
             0.1149827574
            ],
            "passed_time": 12.87100261,
            "remaining_time": 81.07792152
           },
           {
            "iteration": 137,
            "learn": [
             0.114428443
            ],
            "passed_time": 12.95888445,
            "remaining_time": 80.94607531
           },
           {
            "iteration": 138,
            "learn": [
             0.1144067328
            ],
            "passed_time": 13.04152728,
            "remaining_time": 80.78241001
           },
           {
            "iteration": 139,
            "learn": [
             0.114039798
            ],
            "passed_time": 13.15337703,
            "remaining_time": 80.79931602
           },
           {
            "iteration": 140,
            "learn": [
             0.1139445737
            ],
            "passed_time": 13.27263305,
            "remaining_time": 80.85951625
           },
           {
            "iteration": 141,
            "learn": [
             0.1133832533
            ],
            "passed_time": 13.37892563,
            "remaining_time": 80.83886048
           },
           {
            "iteration": 142,
            "learn": [
             0.1131195952
            ],
            "passed_time": 13.46799897,
            "remaining_time": 80.71381199
           },
           {
            "iteration": 143,
            "learn": [
             0.113079905
            ],
            "passed_time": 13.56838529,
            "remaining_time": 80.65651257
           },
           {
            "iteration": 144,
            "learn": [
             0.1128767888
            ],
            "passed_time": 13.67263921,
            "remaining_time": 80.62142428
           },
           {
            "iteration": 145,
            "learn": [
             0.1127559569
            ],
            "passed_time": 13.76091139,
            "remaining_time": 80.49190634
           },
           {
            "iteration": 146,
            "learn": [
             0.1125209859
            ],
            "passed_time": 13.87054157,
            "remaining_time": 80.4868841
           },
           {
            "iteration": 147,
            "learn": [
             0.112154449
            ],
            "passed_time": 13.97333721,
            "remaining_time": 80.4411034
           },
           {
            "iteration": 148,
            "learn": [
             0.1121383026
            ],
            "passed_time": 14.03015225,
            "remaining_time": 80.13194339
           },
           {
            "iteration": 149,
            "learn": [
             0.1121221664
            ],
            "passed_time": 14.12498229,
            "remaining_time": 80.04156633
           },
           {
            "iteration": 150,
            "learn": [
             0.1120869253
            ],
            "passed_time": 14.20700933,
            "remaining_time": 79.87914516
           },
           {
            "iteration": 151,
            "learn": [
             0.1120406809
            ],
            "passed_time": 14.30314425,
            "remaining_time": 79.79648898
           },
           {
            "iteration": 152,
            "learn": [
             0.1119055209
            ],
            "passed_time": 14.40440619,
            "remaining_time": 79.7420395
           },
           {
            "iteration": 153,
            "learn": [
             0.1118379606
            ],
            "passed_time": 14.49932107,
            "remaining_time": 79.65211446
           },
           {
            "iteration": 154,
            "learn": [
             0.1118212221
            ],
            "passed_time": 14.58724391,
            "remaining_time": 79.52400711
           },
           {
            "iteration": 155,
            "learn": [
             0.1116112215
            ],
            "passed_time": 14.69509543,
            "remaining_time": 79.50423423
           },
           {
            "iteration": 156,
            "learn": [
             0.1116069991
            ],
            "passed_time": 14.73352898,
            "remaining_time": 79.11060464
           },
           {
            "iteration": 157,
            "learn": [
             0.1115610446
            ],
            "passed_time": 14.81603931,
            "remaining_time": 78.9563614
           },
           {
            "iteration": 158,
            "learn": [
             0.1115104362
            ],
            "passed_time": 14.90200626,
            "remaining_time": 78.82130355
           },
           {
            "iteration": 159,
            "learn": [
             0.1113435989
            ],
            "passed_time": 14.99333575,
            "remaining_time": 78.71501267
           },
           {
            "iteration": 160,
            "learn": [
             0.1112602235
            ],
            "passed_time": 15.07790968,
            "remaining_time": 78.57370324
           },
           {
            "iteration": 161,
            "learn": [
             0.1111191726
            ],
            "passed_time": 15.18024592,
            "remaining_time": 78.52497579
           },
           {
            "iteration": 162,
            "learn": [
             0.1110922977
            ],
            "passed_time": 15.28954867,
            "remaining_time": 78.51136343
           },
           {
            "iteration": 163,
            "learn": [
             0.1109820636
            ],
            "passed_time": 15.39874456,
            "remaining_time": 78.49603934
           },
           {
            "iteration": 164,
            "learn": [
             0.1105919146
            ],
            "passed_time": 15.49947182,
            "remaining_time": 78.43672102
           },
           {
            "iteration": 165,
            "learn": [
             0.1105339765
            ],
            "passed_time": 15.5832535,
            "remaining_time": 78.2917676
           },
           {
            "iteration": 166,
            "learn": [
             0.1104872974
            ],
            "passed_time": 15.685145,
            "remaining_time": 78.23787896
           },
           {
            "iteration": 167,
            "learn": [
             0.1104845242
            ],
            "passed_time": 15.70913973,
            "remaining_time": 77.79764438
           },
           {
            "iteration": 168,
            "learn": [
             0.1102064194
            ],
            "passed_time": 15.81229309,
            "remaining_time": 77.75157135
           },
           {
            "iteration": 169,
            "learn": [
             0.1101593202
            ],
            "passed_time": 15.90867074,
            "remaining_time": 77.67174538
           },
           {
            "iteration": 170,
            "learn": [
             0.1101522944
            ],
            "passed_time": 15.96985745,
            "remaining_time": 77.42112178
           },
           {
            "iteration": 171,
            "learn": [
             0.1101506555
            ],
            "passed_time": 15.98141841,
            "remaining_time": 76.93380488
           },
           {
            "iteration": 172,
            "learn": [
             0.1099351292
            ],
            "passed_time": 16.07892981,
            "remaining_time": 76.86286099
           },
           {
            "iteration": 173,
            "learn": [
             0.1097749824
            ],
            "passed_time": 16.17232945,
            "remaining_time": 76.77209266
           },
           {
            "iteration": 174,
            "learn": [
             0.1096235851
            ],
            "passed_time": 16.27667034,
            "remaining_time": 76.73287447
           },
           {
            "iteration": 175,
            "learn": [
             0.1095016166
            ],
            "passed_time": 16.39653581,
            "remaining_time": 76.76559947
           },
           {
            "iteration": 176,
            "learn": [
             0.1094873858
            ],
            "passed_time": 16.48782487,
            "remaining_time": 76.66372806
           },
           {
            "iteration": 177,
            "learn": [
             0.1092861879
            ],
            "passed_time": 16.58496573,
            "remaining_time": 76.58899902
           },
           {
            "iteration": 178,
            "learn": [
             0.1092659798
            ],
            "passed_time": 16.67236211,
            "remaining_time": 76.46932567
           },
           {
            "iteration": 179,
            "learn": [
             0.1092175036
            ],
            "passed_time": 16.76646198,
            "remaining_time": 76.380549
           },
           {
            "iteration": 180,
            "learn": [
             0.1091551095
            ],
            "passed_time": 16.86720459,
            "remaining_time": 76.32177103
           },
           {
            "iteration": 181,
            "learn": [
             0.1090518924
            ],
            "passed_time": 16.95211506,
            "remaining_time": 76.19137429
           },
           {
            "iteration": 182,
            "learn": [
             0.1090460148
            ],
            "passed_time": 17.04343457,
            "remaining_time": 76.09008765
           },
           {
            "iteration": 183,
            "learn": [
             0.1090094192
            ],
            "passed_time": 17.13406513,
            "remaining_time": 75.98585404
           },
           {
            "iteration": 184,
            "learn": [
             0.1089068219
            ],
            "passed_time": 17.24007826,
            "remaining_time": 75.94953395
           },
           {
            "iteration": 185,
            "learn": [
             0.1088536635
            ],
            "passed_time": 17.34420311,
            "remaining_time": 75.90420069
           },
           {
            "iteration": 186,
            "learn": [
             0.1088285659
            ],
            "passed_time": 17.44159515,
            "remaining_time": 75.82896713
           },
           {
            "iteration": 187,
            "learn": [
             0.1087979334
            ],
            "passed_time": 17.53357775,
            "remaining_time": 75.73013371
           },
           {
            "iteration": 188,
            "learn": [
             0.1087840883
            ],
            "passed_time": 17.61307003,
            "remaining_time": 75.57777667
           },
           {
            "iteration": 189,
            "learn": [
             0.1087827534
            ],
            "passed_time": 17.63714141,
            "remaining_time": 75.18991862
           },
           {
            "iteration": 190,
            "learn": [
             0.1087627587
            ],
            "passed_time": 17.71752798,
            "remaining_time": 75.04439861
           },
           {
            "iteration": 191,
            "learn": [
             0.1085350975
            ],
            "passed_time": 17.82387577,
            "remaining_time": 75.00881052
           },
           {
            "iteration": 192,
            "learn": [
             0.1084994532
            ],
            "passed_time": 17.90888203,
            "remaining_time": 74.88325284
           },
           {
            "iteration": 193,
            "learn": [
             0.1084253863
            ],
            "passed_time": 18.0041059,
            "remaining_time": 74.80056369
           },
           {
            "iteration": 194,
            "learn": [
             0.1081940587
            ],
            "passed_time": 18.10819613,
            "remaining_time": 74.75434814
           },
           {
            "iteration": 195,
            "learn": [
             0.1080485874
            ],
            "passed_time": 18.21392249,
            "remaining_time": 74.71425348
           },
           {
            "iteration": 196,
            "learn": [
             0.1077796898
            ],
            "passed_time": 18.34146155,
            "remaining_time": 74.76240417
           },
           {
            "iteration": 197,
            "learn": [
             0.1077267082
            ],
            "passed_time": 18.44457854,
            "remaining_time": 74.70985853
           },
           {
            "iteration": 198,
            "learn": [
             0.1077258374
            ],
            "passed_time": 18.50696652,
            "remaining_time": 74.49286522
           },
           {
            "iteration": 199,
            "learn": [
             0.1077128608
            ],
            "passed_time": 18.60283612,
            "remaining_time": 74.41134449
           },
           {
            "iteration": 200,
            "learn": [
             0.10743252
            ],
            "passed_time": 18.70370765,
            "remaining_time": 74.34956422
           },
           {
            "iteration": 201,
            "learn": [
             0.1073785505
            ],
            "passed_time": 18.78213715,
            "remaining_time": 74.19873985
           },
           {
            "iteration": 202,
            "learn": [
             0.1073263951
            ],
            "passed_time": 18.8702408,
            "remaining_time": 74.08661044
           },
           {
            "iteration": 203,
            "learn": [
             0.1072329801
            ],
            "passed_time": 18.95878055,
            "remaining_time": 73.97641823
           },
           {
            "iteration": 204,
            "learn": [
             0.1071527487
            ],
            "passed_time": 19.05898139,
            "remaining_time": 73.91165954
           },
           {
            "iteration": 205,
            "learn": [
             0.1071155874
            ],
            "passed_time": 19.1514575,
            "remaining_time": 73.8167828
           },
           {
            "iteration": 206,
            "learn": [
             0.1069043424
            ],
            "passed_time": 19.24111094,
            "remaining_time": 73.71111583
           },
           {
            "iteration": 207,
            "learn": [
             0.1068325646
            ],
            "passed_time": 19.34604086,
            "remaining_time": 73.66377098
           },
           {
            "iteration": 208,
            "learn": [
             0.106645568
            ],
            "passed_time": 19.45688264,
            "remaining_time": 73.63824961
           },
           {
            "iteration": 209,
            "learn": [
             0.1064975257
            ],
            "passed_time": 19.55587857,
            "remaining_time": 73.5673527
           },
           {
            "iteration": 210,
            "learn": [
             0.106451475
            ],
            "passed_time": 19.65123375,
            "remaining_time": 73.4825755
           },
           {
            "iteration": 211,
            "learn": [
             0.1062122106
            ],
            "passed_time": 19.75234484,
            "remaining_time": 73.41909307
           },
           {
            "iteration": 212,
            "learn": [
             0.1062082332
            ],
            "passed_time": 19.80344415,
            "remaining_time": 73.17047205
           },
           {
            "iteration": 213,
            "learn": [
             0.1062075901
            ],
            "passed_time": 19.8273849,
            "remaining_time": 72.82394642
           },
           {
            "iteration": 214,
            "learn": [
             0.1062071822
            ],
            "passed_time": 19.85417406,
            "remaining_time": 72.49082158
           },
           {
            "iteration": 215,
            "learn": [
             0.1061868468
            ],
            "passed_time": 19.94845038,
            "remaining_time": 72.40548657
           },
           {
            "iteration": 216,
            "learn": [
             0.1061472367
            ],
            "passed_time": 20.0436392,
            "remaining_time": 72.32336172
           },
           {
            "iteration": 217,
            "learn": [
             0.1060999194
            ],
            "passed_time": 20.14539746,
            "remaining_time": 72.26468262
           },
           {
            "iteration": 218,
            "learn": [
             0.1060791848
            ],
            "passed_time": 20.23516245,
            "remaining_time": 72.16283962
           },
           {
            "iteration": 219,
            "learn": [
             0.1060744584
            ],
            "passed_time": 20.34108765,
            "remaining_time": 72.11840165
           },
           {
            "iteration": 220,
            "learn": [
             0.1060407407
            ],
            "passed_time": 20.42686019,
            "remaining_time": 72.00237143
           },
           {
            "iteration": 221,
            "learn": [
             0.1060256876
            ],
            "passed_time": 20.51748912,
            "remaining_time": 71.90363303
           },
           {
            "iteration": 222,
            "learn": [
             0.1059198114
            ],
            "passed_time": 20.61463706,
            "remaining_time": 71.82768158
           },
           {
            "iteration": 223,
            "learn": [
             0.105919554
            ],
            "passed_time": 20.64128745,
            "remaining_time": 71.50731724
           },
           {
            "iteration": 224,
            "learn": [
             0.1059156699
            ],
            "passed_time": 20.71335283,
            "remaining_time": 71.34599307
           },
           {
            "iteration": 225,
            "learn": [
             0.105899613
            ],
            "passed_time": 20.81428207,
            "remaining_time": 71.28431116
           },
           {
            "iteration": 226,
            "learn": [
             0.1058993281
            ],
            "passed_time": 20.86890078,
            "remaining_time": 71.06458284
           },
           {
            "iteration": 227,
            "learn": [
             0.1058758567
            ],
            "passed_time": 20.96462217,
            "remaining_time": 70.98547508
           },
           {
            "iteration": 228,
            "learn": [
             0.1058527724
            ],
            "passed_time": 21.05858179,
            "remaining_time": 70.90029067
           },
           {
            "iteration": 229,
            "learn": [
             0.105539815
            ],
            "passed_time": 21.16933977,
            "remaining_time": 70.87126794
           },
           {
            "iteration": 230,
            "learn": [
             0.1054695943
            ],
            "passed_time": 21.2652542,
            "remaining_time": 70.7921233
           },
           {
            "iteration": 231,
            "learn": [
             0.1053961025
            ],
            "passed_time": 21.38866112,
            "remaining_time": 70.80384369
           },
           {
            "iteration": 232,
            "learn": [
             0.1053212242
            ],
            "passed_time": 21.49724624,
            "remaining_time": 70.76561315
           },
           {
            "iteration": 233,
            "learn": [
             0.1052792412
            ],
            "passed_time": 21.59875749,
            "remaining_time": 70.70362494
           },
           {
            "iteration": 234,
            "learn": [
             0.1052565532
            ],
            "passed_time": 21.69093261,
            "remaining_time": 70.61090827
           },
           {
            "iteration": 235,
            "learn": [
             0.1050995238
            ],
            "passed_time": 21.78384361,
            "remaining_time": 70.52057846
           },
           {
            "iteration": 236,
            "learn": [
             0.1050606033
            ],
            "passed_time": 21.87361056,
            "remaining_time": 70.42010488
           },
           {
            "iteration": 237,
            "learn": [
             0.1050569362
            ],
            "passed_time": 21.91465566,
            "remaining_time": 70.16372946
           },
           {
            "iteration": 238,
            "learn": [
             0.104974226
            ],
            "passed_time": 22.00240673,
            "remaining_time": 70.05787248
           },
           {
            "iteration": 239,
            "learn": [
             0.1049733943
            ],
            "passed_time": 22.04466405,
            "remaining_time": 69.80810283
           },
           {
            "iteration": 240,
            "learn": [
             0.1048928227
            ],
            "passed_time": 22.13176635,
            "remaining_time": 69.70128905
           },
           {
            "iteration": 241,
            "learn": [
             0.104874749
            ],
            "passed_time": 22.21700298,
            "remaining_time": 69.58879444
           },
           {
            "iteration": 242,
            "learn": [
             0.1048745989
            ],
            "passed_time": 22.23883166,
            "remaining_time": 69.27899409
           },
           {
            "iteration": 243,
            "learn": [
             0.1048501073
            ],
            "passed_time": 22.32364682,
            "remaining_time": 69.16670901
           },
           {
            "iteration": 244,
            "learn": [
             0.1047646433
            ],
            "passed_time": 22.44132116,
            "remaining_time": 69.15590807
           },
           {
            "iteration": 245,
            "learn": [
             0.104528435
            ],
            "passed_time": 22.56325287,
            "remaining_time": 69.15728726
           },
           {
            "iteration": 246,
            "learn": [
             0.1044743184
            ],
            "passed_time": 22.66774733,
            "remaining_time": 69.10450907
           },
           {
            "iteration": 247,
            "learn": [
             0.1044689098
            ],
            "passed_time": 22.70997355,
            "remaining_time": 68.86250044
           },
           {
            "iteration": 248,
            "learn": [
             0.1043843741
            ],
            "passed_time": 22.81362693,
            "remaining_time": 68.80736476
           },
           {
            "iteration": 249,
            "learn": [
             0.1043449914
            ],
            "passed_time": 22.90763836,
            "remaining_time": 68.72291507
           },
           {
            "iteration": 250,
            "learn": [
             0.1043147604
            ],
            "passed_time": 22.99678648,
            "remaining_time": 68.62387679
           },
           {
            "iteration": 251,
            "learn": [
             0.1042957548
            ],
            "passed_time": 23.0823167,
            "remaining_time": 68.51417813
           },
           {
            "iteration": 252,
            "learn": [
             0.104279821
            ],
            "passed_time": 23.17785162,
            "remaining_time": 68.43421013
           },
           {
            "iteration": 253,
            "learn": [
             0.104231153
            ],
            "passed_time": 23.2737272,
            "remaining_time": 68.35512004
           },
           {
            "iteration": 254,
            "learn": [
             0.1040863327
            ],
            "passed_time": 23.39126393,
            "remaining_time": 68.33918287
           },
           {
            "iteration": 255,
            "learn": [
             0.103667859
            ],
            "passed_time": 23.4846452,
            "remaining_time": 68.25225012
           },
           {
            "iteration": 256,
            "learn": [
             0.1035557241
            ],
            "passed_time": 23.5904011,
            "remaining_time": 68.20104287
           },
           {
            "iteration": 257,
            "learn": [
             0.1035554825
            ],
            "passed_time": 23.6174938,
            "remaining_time": 67.92317985
           },
           {
            "iteration": 258,
            "learn": [
             0.1035411884
            ],
            "passed_time": 23.70280874,
            "remaining_time": 67.81382732
           },
           {
            "iteration": 259,
            "learn": [
             0.1034386908
            ],
            "passed_time": 23.79633101,
            "remaining_time": 67.72801903
           },
           {
            "iteration": 260,
            "learn": [
             0.1029665199
            ],
            "passed_time": 23.90958766,
            "remaining_time": 67.6980279
           },
           {
            "iteration": 261,
            "learn": [
             0.1029542128
            ],
            "passed_time": 24.00180625,
            "remaining_time": 67.60814128
           },
           {
            "iteration": 262,
            "learn": [
             0.1029057355
            ],
            "passed_time": 24.09350549,
            "remaining_time": 67.51678153
           },
           {
            "iteration": 263,
            "learn": [
             0.1027309631
            ],
            "passed_time": 24.19939539,
            "remaining_time": 67.46498108
           },
           {
            "iteration": 264,
            "learn": [
             0.1027188137
            ],
            "passed_time": 24.2970741,
            "remaining_time": 67.38999798
           },
           {
            "iteration": 265,
            "learn": [
             0.1026625712
            ],
            "passed_time": 24.40449096,
            "remaining_time": 67.34171566
           },
           {
            "iteration": 266,
            "learn": [
             0.1026337787
            ],
            "passed_time": 24.52321938,
            "remaining_time": 67.32404422
           },
           {
            "iteration": 267,
            "learn": [
             0.1025895389
            ],
            "passed_time": 24.63186519,
            "remaining_time": 67.27807956
           },
           {
            "iteration": 268,
            "learn": [
             0.1024927374
            ],
            "passed_time": 24.73754447,
            "remaining_time": 67.2235874
           },
           {
            "iteration": 269,
            "learn": [
             0.1023881237
            ],
            "passed_time": 24.84220646,
            "remaining_time": 67.16596561
           },
           {
            "iteration": 270,
            "learn": [
             0.102371315
            ],
            "passed_time": 24.9400904,
            "remaining_time": 67.08976348
           },
           {
            "iteration": 271,
            "learn": [
             0.1023636095
            ],
            "passed_time": 25.02679174,
            "remaining_time": 66.983472
           },
           {
            "iteration": 272,
            "learn": [
             0.1022820375
            ],
            "passed_time": 25.12368852,
            "remaining_time": 66.90447456
           },
           {
            "iteration": 273,
            "learn": [
             0.1022053021
            ],
            "passed_time": 25.22717439,
            "remaining_time": 66.84280513
           },
           {
            "iteration": 274,
            "learn": [
             0.1021729501
            ],
            "passed_time": 25.31852794,
            "remaining_time": 66.74884638
           },
           {
            "iteration": 275,
            "learn": [
             0.1018860218
            ],
            "passed_time": 25.42716031,
            "remaining_time": 66.70023212
           },
           {
            "iteration": 276,
            "learn": [
             0.101861262
            ],
            "passed_time": 25.53038635,
            "remaining_time": 66.63707341
           },
           {
            "iteration": 277,
            "learn": [
             0.1017462655
            ],
            "passed_time": 25.61445745,
            "remaining_time": 66.52387871
           },
           {
            "iteration": 278,
            "learn": [
             0.1015999247
            ],
            "passed_time": 25.72125348,
            "remaining_time": 66.46961921
           },
           {
            "iteration": 279,
            "learn": [
             0.1015596533
            ],
            "passed_time": 25.80302397,
            "remaining_time": 66.35063308
           },
           {
            "iteration": 280,
            "learn": [
             0.1015328959
            ],
            "passed_time": 25.90024829,
            "remaining_time": 66.2714538
           },
           {
            "iteration": 281,
            "learn": [
             0.1015164155
            ],
            "passed_time": 25.9886179,
            "remaining_time": 66.16960159
           },
           {
            "iteration": 282,
            "learn": [
             0.1015073152
            ],
            "passed_time": 26.07882144,
            "remaining_time": 66.07249106
           },
           {
            "iteration": 283,
            "learn": [
             0.1012289801
            ],
            "passed_time": 26.17413164,
            "remaining_time": 65.98830372
           },
           {
            "iteration": 284,
            "learn": [
             0.1011811287
            ],
            "passed_time": 26.27060884,
            "remaining_time": 65.90696603
           },
           {
            "iteration": 285,
            "learn": [
             0.1011654916
            ],
            "passed_time": 26.36082035,
            "remaining_time": 65.80988017
           },
           {
            "iteration": 286,
            "learn": [
             0.1009470047
            ],
            "passed_time": 26.48267732,
            "remaining_time": 65.79145967
           },
           {
            "iteration": 287,
            "learn": [
             0.1009066023
            ],
            "passed_time": 26.59159656,
            "remaining_time": 65.74033594
           },
           {
            "iteration": 288,
            "learn": [
             0.1008716178
            ],
            "passed_time": 26.68733765,
            "remaining_time": 65.65639124
           },
           {
            "iteration": 289,
            "learn": [
             0.1008544389
            ],
            "passed_time": 26.78108725,
            "remaining_time": 65.56748946
           },
           {
            "iteration": 290,
            "learn": [
             0.1008227849
            ],
            "passed_time": 26.87532818,
            "remaining_time": 65.47975147
           },
           {
            "iteration": 291,
            "learn": [
             0.100583298
            ],
            "passed_time": 26.97421343,
            "remaining_time": 65.40322983
           },
           {
            "iteration": 292,
            "learn": [
             0.1005296913
            ],
            "passed_time": 27.06270455,
            "remaining_time": 65.30147481
           },
           {
            "iteration": 293,
            "learn": [
             0.1004497596
            ],
            "passed_time": 27.16050199,
            "remaining_time": 65.22215783
           },
           {
            "iteration": 294,
            "learn": [
             0.1003662173
            ],
            "passed_time": 27.27696808,
            "remaining_time": 65.1873305
           },
           {
            "iteration": 295,
            "learn": [
             0.1003424786
            ],
            "passed_time": 27.37705338,
            "remaining_time": 65.11299182
           },
           {
            "iteration": 296,
            "learn": [
             0.1000167323
            ],
            "passed_time": 27.5204465,
            "remaining_time": 65.14098953
           },
           {
            "iteration": 297,
            "learn": [
             0.1000163913
            ],
            "passed_time": 27.55403949,
            "remaining_time": 64.90918027
           },
           {
            "iteration": 298,
            "learn": [
             0.09989908974
            ],
            "passed_time": 27.66641968,
            "remaining_time": 64.86341203
           },
           {
            "iteration": 299,
            "learn": [
             0.09988095914
            ],
            "passed_time": 27.76491867,
            "remaining_time": 64.78481023
           },
           {
            "iteration": 300,
            "learn": [
             0.09971171152
            ],
            "passed_time": 27.86755819,
            "remaining_time": 64.71569162
           },
           {
            "iteration": 301,
            "learn": [
             0.09962542299
            ],
            "passed_time": 27.96583331,
            "remaining_time": 64.63626374
           },
           {
            "iteration": 302,
            "learn": [
             0.09955359353
            ],
            "passed_time": 28.06282576,
            "remaining_time": 64.5537609
           },
           {
            "iteration": 303,
            "learn": [
             0.09951244351
            ],
            "passed_time": 28.15416169,
            "remaining_time": 64.4582123
           },
           {
            "iteration": 304,
            "learn": [
             0.09948457166
            ],
            "passed_time": 28.24346705,
            "remaining_time": 64.35806425
           },
           {
            "iteration": 305,
            "learn": [
             0.09932195858
            ],
            "passed_time": 28.34617125,
            "remaining_time": 64.28837531
           },
           {
            "iteration": 306,
            "learn": [
             0.09929387807
            ],
            "passed_time": 28.43853574,
            "remaining_time": 64.19513118
           },
           {
            "iteration": 307,
            "learn": [
             0.09927724622
            ],
            "passed_time": 28.55475903,
            "remaining_time": 64.15549756
           },
           {
            "iteration": 308,
            "learn": [
             0.09919607629
            ],
            "passed_time": 28.6645898,
            "remaining_time": 64.10107299
           },
           {
            "iteration": 309,
            "learn": [
             0.09918360954
            ],
            "passed_time": 28.7669456,
            "remaining_time": 64.02965312
           },
           {
            "iteration": 310,
            "learn": [
             0.09913596103
            ],
            "passed_time": 28.86247743,
            "remaining_time": 63.94291623
           },
           {
            "iteration": 311,
            "learn": [
             0.09910496518
            ],
            "passed_time": 28.95506012,
            "remaining_time": 63.84961976
           },
           {
            "iteration": 312,
            "learn": [
             0.09891769516
            ],
            "passed_time": 29.05303418,
            "remaining_time": 63.76816128
           },
           {
            "iteration": 313,
            "learn": [
             0.09862006149
            ],
            "passed_time": 29.16798545,
            "remaining_time": 63.72368796
           },
           {
            "iteration": 314,
            "learn": [
             0.09857503562
            ],
            "passed_time": 29.25941989,
            "remaining_time": 63.62762738
           },
           {
            "iteration": 315,
            "learn": [
             0.09828847639
            ],
            "passed_time": 29.35638201,
            "remaining_time": 63.54356105
           },
           {
            "iteration": 316,
            "learn": [
             0.09828192347
            ],
            "passed_time": 29.44034019,
            "remaining_time": 63.43139543
           },
           {
            "iteration": 317,
            "learn": [
             0.09825754489
            ],
            "passed_time": 29.54741383,
            "remaining_time": 63.36898186
           },
           {
            "iteration": 318,
            "learn": [
             0.0979853539
            ],
            "passed_time": 29.64408918,
            "remaining_time": 63.28409007
           },
           {
            "iteration": 319,
            "learn": [
             0.09795589369
            ],
            "passed_time": 29.73929617,
            "remaining_time": 63.19600435
           },
           {
            "iteration": 320,
            "learn": [
             0.09794064454
            ],
            "passed_time": 29.82962338,
            "remaining_time": 63.09755227
           },
           {
            "iteration": 321,
            "learn": [
             0.0979126637
            ],
            "passed_time": 29.91796022,
            "remaining_time": 62.99495972
           },
           {
            "iteration": 322,
            "learn": [
             0.09785853124
            ],
            "passed_time": 30.02068148,
            "remaining_time": 62.92260483
           },
           {
            "iteration": 323,
            "learn": [
             0.09782791386
            ],
            "passed_time": 30.1033843,
            "remaining_time": 62.80829564
           },
           {
            "iteration": 324,
            "learn": [
             0.09768591156
            ],
            "passed_time": 30.19858201,
            "remaining_time": 62.72013187
           },
           {
            "iteration": 325,
            "learn": [
             0.09765187326
            ],
            "passed_time": 30.28248431,
            "remaining_time": 62.60857186
           },
           {
            "iteration": 326,
            "learn": [
             0.09755652412
            ],
            "passed_time": 30.38785362,
            "remaining_time": 62.54136235
           },
           {
            "iteration": 327,
            "learn": [
             0.09753458302
            ],
            "passed_time": 30.48830419,
            "remaining_time": 62.46384274
           },
           {
            "iteration": 328,
            "learn": [
             0.09750702482
            ],
            "passed_time": 30.63062777,
            "remaining_time": 62.4715843
           },
           {
            "iteration": 329,
            "learn": [
             0.09748416707
            ],
            "passed_time": 30.71635526,
            "remaining_time": 62.36350916
           },
           {
            "iteration": 330,
            "learn": [
             0.09746592914
            ],
            "passed_time": 30.81139361,
            "remaining_time": 62.27438769
           },
           {
            "iteration": 331,
            "learn": [
             0.09741696821
            ],
            "passed_time": 30.912672,
            "remaining_time": 62.19778583
           },
           {
            "iteration": 332,
            "learn": [
             0.09740931638
            ],
            "passed_time": 31.00358442,
            "remaining_time": 62.1002727
           },
           {
            "iteration": 333,
            "learn": [
             0.09728732509
            ],
            "passed_time": 31.09909041,
            "remaining_time": 62.01195872
           },
           {
            "iteration": 334,
            "learn": [
             0.09725564591
            ],
            "passed_time": 31.20287889,
            "remaining_time": 61.94004317
           },
           {
            "iteration": 335,
            "learn": [
             0.09723701915
            ],
            "passed_time": 31.28262476,
            "remaining_time": 61.82042512
           },
           {
            "iteration": 336,
            "learn": [
             0.09721656015
            ],
            "passed_time": 31.37480735,
            "remaining_time": 61.72551119
           },
           {
            "iteration": 337,
            "learn": [
             0.0972039556
            ],
            "passed_time": 31.46669951,
            "remaining_time": 61.6300446
           },
           {
            "iteration": 338,
            "learn": [
             0.09718977058
            ],
            "passed_time": 31.59646135,
            "remaining_time": 61.60843939
           },
           {
            "iteration": 339,
            "learn": [
             0.09717267655
            ],
            "passed_time": 31.70075863,
            "remaining_time": 61.53676675
           },
           {
            "iteration": 340,
            "learn": [
             0.09711493659
            ],
            "passed_time": 31.82652809,
            "remaining_time": 61.50639887
           },
           {
            "iteration": 341,
            "learn": [
             0.09704841435
            ],
            "passed_time": 31.92470809,
            "remaining_time": 61.42239159
           },
           {
            "iteration": 342,
            "learn": [
             0.09698787603
            ],
            "passed_time": 32.03177821,
            "remaining_time": 61.35533027
           },
           {
            "iteration": 343,
            "learn": [
             0.09696850695
            ],
            "passed_time": 32.12501681,
            "remaining_time": 61.26165996
           },
           {
            "iteration": 344,
            "learn": [
             0.09691614537
            ],
            "passed_time": 32.21533526,
            "remaining_time": 61.1624481
           },
           {
            "iteration": 345,
            "learn": [
             0.09690788305
            ],
            "passed_time": 32.30579251,
            "remaining_time": 61.06355
           },
           {
            "iteration": 346,
            "learn": [
             0.09687219598
            ],
            "passed_time": 32.40177188,
            "remaining_time": 60.97509233
           },
           {
            "iteration": 347,
            "learn": [
             0.09685698842
            ],
            "passed_time": 32.48429909,
            "remaining_time": 60.86138796
           },
           {
            "iteration": 348,
            "learn": [
             0.09685083222
            ],
            "passed_time": 32.56949112,
            "remaining_time": 60.75283301
           },
           {
            "iteration": 349,
            "learn": [
             0.09680382843
            ],
            "passed_time": 32.70032166,
            "remaining_time": 60.72916879
           },
           {
            "iteration": 350,
            "learn": [
             0.09677467973
            ],
            "passed_time": 32.78888906,
            "remaining_time": 60.62674928
           },
           {
            "iteration": 351,
            "learn": [
             0.09669509962
            ],
            "passed_time": 32.88581469,
            "remaining_time": 60.53979522
           },
           {
            "iteration": 352,
            "learn": [
             0.09658292992
            ],
            "passed_time": 32.99157461,
            "remaining_time": 60.46897669
           },
           {
            "iteration": 353,
            "learn": [
             0.09644731783
            ],
            "passed_time": 33.09733139,
            "remaining_time": 60.39795503
           },
           {
            "iteration": 354,
            "learn": [
             0.09641979525
            ],
            "passed_time": 33.1889067,
            "remaining_time": 60.30097133
           },
           {
            "iteration": 355,
            "learn": [
             0.09640299442
            ],
            "passed_time": 33.28565199,
            "remaining_time": 60.21337045
           },
           {
            "iteration": 356,
            "learn": [
             0.09638310099
            ],
            "passed_time": 33.38471159,
            "remaining_time": 60.12988671
           },
           {
            "iteration": 357,
            "learn": [
             0.09637050672
            ],
            "passed_time": 33.47650483,
            "remaining_time": 60.03328521
           },
           {
            "iteration": 358,
            "learn": [
             0.09630569474
            ],
            "passed_time": 33.57853021,
            "remaining_time": 59.95498013
           },
           {
            "iteration": 359,
            "learn": [
             0.09606161135
            ],
            "passed_time": 33.71193207,
            "remaining_time": 59.93232368
           },
           {
            "iteration": 360,
            "learn": [
             0.09604513055
            ],
            "passed_time": 33.79630988,
            "remaining_time": 59.82227704
           },
           {
            "iteration": 361,
            "learn": [
             0.09592251097
            ],
            "passed_time": 33.89055181,
            "remaining_time": 59.72975705
           },
           {
            "iteration": 362,
            "learn": [
             0.09590723796
            ],
            "passed_time": 33.98741358,
            "remaining_time": 59.64182494
           },
           {
            "iteration": 363,
            "learn": [
             0.09586747741
            ],
            "passed_time": 34.07166499,
            "remaining_time": 59.53181025
           },
           {
            "iteration": 364,
            "learn": [
             0.09579465932
            ],
            "passed_time": 34.16847468,
            "remaining_time": 59.44378472
           },
           {
            "iteration": 365,
            "learn": [
             0.09549692632
            ],
            "passed_time": 34.27783907,
            "remaining_time": 59.37745894
           },
           {
            "iteration": 366,
            "learn": [
             0.09544899217
            ],
            "passed_time": 34.37784749,
            "remaining_time": 59.29476147
           },
           {
            "iteration": 367,
            "learn": [
             0.09544825009
            ],
            "passed_time": 34.46174168,
            "remaining_time": 59.18429549
           },
           {
            "iteration": 368,
            "learn": [
             0.09541882681
            ],
            "passed_time": 34.55530777,
            "remaining_time": 59.09051275
           },
           {
            "iteration": 369,
            "learn": [
             0.09534725306
            ],
            "passed_time": 34.6806078,
            "remaining_time": 59.05076464
           },
           {
            "iteration": 370,
            "learn": [
             0.09529669232
            ],
            "passed_time": 34.77001152,
            "remaining_time": 58.94969608
           },
           {
            "iteration": 371,
            "learn": [
             0.09528491823
            ],
            "passed_time": 34.86839383,
            "remaining_time": 58.86384765
           },
           {
            "iteration": 372,
            "learn": [
             0.09526251752
            ],
            "passed_time": 34.96134043,
            "remaining_time": 58.76879478
           },
           {
            "iteration": 373,
            "learn": [
             0.09520454255
            ],
            "passed_time": 35.05303908,
            "remaining_time": 58.67166435
           },
           {
            "iteration": 374,
            "learn": [
             0.09519463558
            ],
            "passed_time": 35.1348215,
            "remaining_time": 58.55803583
           },
           {
            "iteration": 375,
            "learn": [
             0.09514992368
            ],
            "passed_time": 35.23323958,
            "remaining_time": 58.47218484
           },
           {
            "iteration": 376,
            "learn": [
             0.0951190883
            ],
            "passed_time": 35.31236333,
            "remaining_time": 58.3543829
           },
           {
            "iteration": 377,
            "learn": [
             0.09508081295
            ],
            "passed_time": 35.39834628,
            "remaining_time": 58.24807245
           },
           {
            "iteration": 378,
            "learn": [
             0.09487959967
            ],
            "passed_time": 35.49656352,
            "remaining_time": 58.16191543
           },
           {
            "iteration": 379,
            "learn": [
             0.09468721435
            ],
            "passed_time": 35.59473139,
            "remaining_time": 58.07561438
           },
           {
            "iteration": 380,
            "learn": [
             0.0946833204
            ],
            "passed_time": 35.71533673,
            "remaining_time": 58.02570455
           },
           {
            "iteration": 381,
            "learn": [
             0.09466404848
            ],
            "passed_time": 35.81101667,
            "remaining_time": 57.93510027
           },
           {
            "iteration": 382,
            "learn": [
             0.09463255776
            ],
            "passed_time": 35.89520204,
            "remaining_time": 57.82595211
           },
           {
            "iteration": 383,
            "learn": [
             0.09461772466
            ],
            "passed_time": 35.9911415,
            "remaining_time": 57.73578949
           },
           {
            "iteration": 384,
            "learn": [
             0.09446446058
            ],
            "passed_time": 36.09280085,
            "remaining_time": 57.65473382
           },
           {
            "iteration": 385,
            "learn": [
             0.09445115716
            ],
            "passed_time": 36.18655216,
            "remaining_time": 57.56099229
           },
           {
            "iteration": 386,
            "learn": [
             0.0944429397
            ],
            "passed_time": 36.27666435,
            "remaining_time": 57.46148643
           },
           {
            "iteration": 387,
            "learn": [
             0.09440619725
            ],
            "passed_time": 36.37740187,
            "remaining_time": 57.37878851
           },
           {
            "iteration": 388,
            "learn": [
             0.09438197277
            ],
            "passed_time": 36.47257665,
            "remaining_time": 57.2872605
           },
           {
            "iteration": 389,
            "learn": [
             0.09436721218
            ],
            "passed_time": 36.57532766,
            "remaining_time": 57.20756378
           },
           {
            "iteration": 390,
            "learn": [
             0.09432560239
            ],
            "passed_time": 36.68464051,
            "remaining_time": 57.13796949
           },
           {
            "iteration": 391,
            "learn": [
             0.09426745505
            ],
            "passed_time": 36.80308145,
            "remaining_time": 57.0823304
           },
           {
            "iteration": 392,
            "learn": [
             0.09425105197
            ],
            "passed_time": 36.89801518,
            "remaining_time": 56.99006416
           },
           {
            "iteration": 393,
            "learn": [
             0.09420292099
            ],
            "passed_time": 36.97499969,
            "remaining_time": 56.87017718
           },
           {
            "iteration": 394,
            "learn": [
             0.09416300088
            ],
            "passed_time": 37.06977332,
            "remaining_time": 56.77775408
           },
           {
            "iteration": 395,
            "learn": [
             0.09407042398
            ],
            "passed_time": 37.1732378,
            "remaining_time": 56.69857482
           },
           {
            "iteration": 396,
            "learn": [
             0.09391378144
            ],
            "passed_time": 37.27115033,
            "remaining_time": 56.61084042
           },
           {
            "iteration": 397,
            "learn": [
             0.09387732046
            ],
            "passed_time": 37.36758617,
            "remaining_time": 56.5208213
           },
           {
            "iteration": 398,
            "learn": [
             0.09386204752
            ],
            "passed_time": 37.4560239,
            "remaining_time": 56.41872272
           },
           {
            "iteration": 399,
            "learn": [
             0.09382793902
            ],
            "passed_time": 37.54965124,
            "remaining_time": 56.32447686
           },
           {
            "iteration": 400,
            "learn": [
             0.09374183753
            ],
            "passed_time": 37.65300922,
            "remaining_time": 56.24476939
           },
           {
            "iteration": 401,
            "learn": [
             0.09372862439
            ],
            "passed_time": 37.78452014,
            "remaining_time": 56.2068235
           },
           {
            "iteration": 402,
            "learn": [
             0.09369671191
            ],
            "passed_time": 37.88600036,
            "remaining_time": 56.12392609
           },
           {
            "iteration": 403,
            "learn": [
             0.09366063476
            ],
            "passed_time": 37.97697915,
            "remaining_time": 56.02544448
           },
           {
            "iteration": 404,
            "learn": [
             0.0935930514
            ],
            "passed_time": 38.07824755,
            "remaining_time": 55.94211677
           },
           {
            "iteration": 405,
            "learn": [
             0.09358672891
            ],
            "passed_time": 38.17085147,
            "remaining_time": 55.84602407
           },
           {
            "iteration": 406,
            "learn": [
             0.09351189675
            ],
            "passed_time": 38.27267561,
            "remaining_time": 55.7633824
           },
           {
            "iteration": 407,
            "learn": [
             0.09333075609
            ],
            "passed_time": 38.38279636,
            "remaining_time": 55.69268491
           },
           {
            "iteration": 408,
            "learn": [
             0.09329483258
            ],
            "passed_time": 38.48018218,
            "remaining_time": 55.60339283
           },
           {
            "iteration": 409,
            "learn": [
             0.09319537095
            ],
            "passed_time": 38.58746327,
            "remaining_time": 55.52830081
           },
           {
            "iteration": 410,
            "learn": [
             0.09316789899
            ],
            "passed_time": 38.68236465,
            "remaining_time": 55.4353109
           },
           {
            "iteration": 411,
            "learn": [
             0.09312535587
            ],
            "passed_time": 38.82622652,
            "remaining_time": 55.41218736
           },
           {
            "iteration": 412,
            "learn": [
             0.0930940635
            ],
            "passed_time": 38.92104048,
            "remaining_time": 55.31876698
           },
           {
            "iteration": 413,
            "learn": [
             0.09306982714
            ],
            "passed_time": 39.00591284,
            "remaining_time": 55.21126793
           },
           {
            "iteration": 414,
            "learn": [
             0.09304738724
            ],
            "passed_time": 39.09503742,
            "remaining_time": 55.10987203
           },
           {
            "iteration": 415,
            "learn": [
             0.09301062442
            ],
            "passed_time": 39.19246639,
            "remaining_time": 55.0201932
           },
           {
            "iteration": 416,
            "learn": [
             0.09294915478
            ],
            "passed_time": 39.28896487,
            "remaining_time": 54.9291763
           },
           {
            "iteration": 417,
            "learn": [
             0.09286304146
            ],
            "passed_time": 39.39091898,
            "remaining_time": 54.8457293
           },
           {
            "iteration": 418,
            "learn": [
             0.09286020867
            ],
            "passed_time": 39.48649415,
            "remaining_time": 54.75334869
           },
           {
            "iteration": 419,
            "learn": [
             0.09283841339
            ],
            "passed_time": 39.58368794,
            "remaining_time": 54.66318811
           },
           {
            "iteration": 420,
            "learn": [
             0.09279334477
            ],
            "passed_time": 39.675551,
            "remaining_time": 54.56566277
           },
           {
            "iteration": 421,
            "learn": [
             0.09275681333
            ],
            "passed_time": 39.80783127,
            "remaining_time": 54.52352245
           },
           {
            "iteration": 422,
            "learn": [
             0.09273570569
            ],
            "passed_time": 39.89890499,
            "remaining_time": 54.42474747
           },
           {
            "iteration": 423,
            "learn": [
             0.09268555943
            ],
            "passed_time": 39.98875569,
            "remaining_time": 54.32434735
           },
           {
            "iteration": 424,
            "learn": [
             0.09266452119
            ],
            "passed_time": 40.08093373,
            "remaining_time": 54.22714563
           },
           {
            "iteration": 425,
            "learn": [
             0.09264707749
            ],
            "passed_time": 40.17454095,
            "remaining_time": 54.1318932
           },
           {
            "iteration": 426,
            "learn": [
             0.09264035876
            ],
            "passed_time": 40.27664831,
            "remaining_time": 54.04805499
           },
           {
            "iteration": 427,
            "learn": [
             0.09259441929
            ],
            "passed_time": 40.38126924,
            "remaining_time": 53.96749067
           },
           {
            "iteration": 428,
            "learn": [
             0.09256604207
            ],
            "passed_time": 40.47932795,
            "remaining_time": 53.87807986
           },
           {
            "iteration": 429,
            "learn": [
             0.0925512755
            ],
            "passed_time": 40.57732035,
            "remaining_time": 53.78854093
           },
           {
            "iteration": 430,
            "learn": [
             0.09252760807
            ],
            "passed_time": 40.65626341,
            "remaining_time": 53.67381411
           },
           {
            "iteration": 431,
            "learn": [
             0.09252000353
            ],
            "passed_time": 40.75533911,
            "remaining_time": 53.58572364
           },
           {
            "iteration": 432,
            "learn": [
             0.09250790927
            ],
            "passed_time": 40.87822704,
            "remaining_time": 53.52876382
           },
           {
            "iteration": 433,
            "learn": [
             0.09245651814
            ],
            "passed_time": 40.97222066,
            "remaining_time": 53.43381772
           },
           {
            "iteration": 434,
            "learn": [
             0.09243584502
            ],
            "passed_time": 41.05685666,
            "remaining_time": 53.32672187
           },
           {
            "iteration": 435,
            "learn": [
             0.0924024312
            ],
            "passed_time": 41.14746194,
            "remaining_time": 53.22745076
           },
           {
            "iteration": 436,
            "learn": [
             0.09236893689
            ],
            "passed_time": 41.24750553,
            "remaining_time": 53.14037898
           },
           {
            "iteration": 437,
            "learn": [
             0.09234565416
            ],
            "passed_time": 41.33634453,
            "remaining_time": 53.0388713
           },
           {
            "iteration": 438,
            "learn": [
             0.09233964913
            ],
            "passed_time": 41.42638253,
            "remaining_time": 52.93895353
           },
           {
            "iteration": 439,
            "learn": [
             0.09232843416
            ],
            "passed_time": 41.51489639,
            "remaining_time": 52.83714086
           },
           {
            "iteration": 440,
            "learn": [
             0.09230345006
            ],
            "passed_time": 41.60469325,
            "remaining_time": 52.7370148
           },
           {
            "iteration": 441,
            "learn": [
             0.09229766632
            ],
            "passed_time": 41.6898913,
            "remaining_time": 52.63112974
           },
           {
            "iteration": 442,
            "learn": [
             0.09228255845
            ],
            "passed_time": 41.77715192,
            "remaining_time": 52.52793142
           },
           {
            "iteration": 443,
            "learn": [
             0.09220332428
            ],
            "passed_time": 41.89598431,
            "remaining_time": 52.46434071
           },
           {
            "iteration": 444,
            "learn": [
             0.09215052098
            ],
            "passed_time": 42.00254417,
            "remaining_time": 52.38519554
           },
           {
            "iteration": 445,
            "learn": [
             0.092091707
            ],
            "passed_time": 42.09525813,
            "remaining_time": 52.2887287
           },
           {
            "iteration": 446,
            "learn": [
             0.0920363489
            ],
            "passed_time": 42.2088453,
            "remaining_time": 52.21810168
           },
           {
            "iteration": 447,
            "learn": [
             0.09200489575
            ],
            "passed_time": 42.30531513,
            "remaining_time": 52.12619186
           },
           {
            "iteration": 448,
            "learn": [
             0.09199879409
            ],
            "passed_time": 42.39608393,
            "remaining_time": 52.02726558
           },
           {
            "iteration": 449,
            "learn": [
             0.09197805777
            ],
            "passed_time": 42.49255986,
            "remaining_time": 51.93535094
           },
           {
            "iteration": 450,
            "learn": [
             0.09193300899
            ],
            "passed_time": 42.58585903,
            "remaining_time": 51.83954902
           },
           {
            "iteration": 451,
            "learn": [
             0.09185623238
            ],
            "passed_time": 42.68465447,
            "remaining_time": 51.7504218
           },
           {
            "iteration": 452,
            "learn": [
             0.09172261375
            ],
            "passed_time": 42.78124297,
            "remaining_time": 51.65858698
           },
           {
            "iteration": 453,
            "learn": [
             0.09167577388
            ],
            "passed_time": 42.93905138,
            "remaining_time": 51.64035695
           },
           {
            "iteration": 454,
            "learn": [
             0.09166248429
            ],
            "passed_time": 43.02535594,
            "remaining_time": 51.5358659
           },
           {
            "iteration": 455,
            "learn": [
             0.09161138698
            ],
            "passed_time": 43.13185381,
            "remaining_time": 51.45554489
           },
           {
            "iteration": 456,
            "learn": [
             0.09156841313
            ],
            "passed_time": 43.21859817,
            "remaining_time": 51.35163853
           },
           {
            "iteration": 457,
            "learn": [
             0.09155760014
            ],
            "passed_time": 43.31113356,
            "remaining_time": 51.25466024
           },
           {
            "iteration": 458,
            "learn": [
             0.09149693977
            ],
            "passed_time": 43.40915545,
            "remaining_time": 51.16416797
           },
           {
            "iteration": 459,
            "learn": [
             0.0914743674
            ],
            "passed_time": 43.50317752,
            "remaining_time": 51.06894753
           },
           {
            "iteration": 460,
            "learn": [
             0.09145846206
            ],
            "passed_time": 43.59370184,
            "remaining_time": 50.96964272
           },
           {
            "iteration": 461,
            "learn": [
             0.09141449114
            ],
            "passed_time": 43.68846725,
            "remaining_time": 50.87531468
           },
           {
            "iteration": 462,
            "learn": [
             0.09137934615
            ],
            "passed_time": 43.77777766,
            "remaining_time": 50.77465789
           },
           {
            "iteration": 463,
            "learn": [
             0.09130407041
            ],
            "passed_time": 43.89257635,
            "remaining_time": 50.70349337
           },
           {
            "iteration": 464,
            "learn": [
             0.09125901403
            ],
            "passed_time": 44.03354839,
            "remaining_time": 50.6622546
           },
           {
            "iteration": 465,
            "learn": [
             0.09120898868
            ],
            "passed_time": 44.1305635,
            "remaining_time": 50.57021655
           },
           {
            "iteration": 466,
            "learn": [
             0.091195849
            ],
            "passed_time": 44.22751911,
            "remaining_time": 50.47808927
           },
           {
            "iteration": 467,
            "learn": [
             0.09117921886
            ],
            "passed_time": 44.31542204,
            "remaining_time": 50.3756507
           },
           {
            "iteration": 468,
            "learn": [
             0.09106809083
            ],
            "passed_time": 44.4213034,
            "remaining_time": 50.29362922
           },
           {
            "iteration": 469,
            "learn": [
             0.09093924967
            ],
            "passed_time": 44.51861569,
            "remaining_time": 50.20184322
           },
           {
            "iteration": 470,
            "learn": [
             0.090896913
            ],
            "passed_time": 44.62380338,
            "remaining_time": 50.11887895
           },
           {
            "iteration": 471,
            "learn": [
             0.09084664738
            ],
            "passed_time": 44.7190485,
            "remaining_time": 50.02469833
           },
           {
            "iteration": 472,
            "learn": [
             0.09071716495
            ],
            "passed_time": 44.82040591,
            "remaining_time": 49.93732329
           },
           {
            "iteration": 473,
            "learn": [
             0.09069234641
            ],
            "passed_time": 44.91894248,
            "remaining_time": 49.84675895
           },
           {
            "iteration": 474,
            "learn": [
             0.09068195261
            ],
            "passed_time": 45.03924072,
            "remaining_time": 49.78021343
           },
           {
            "iteration": 475,
            "learn": [
             0.09062442685
            ],
            "passed_time": 45.13568295,
            "remaining_time": 49.68718039
           },
           {
            "iteration": 476,
            "learn": [
             0.09058875451
            ],
            "passed_time": 45.2350493,
            "remaining_time": 49.59733917
           },
           {
            "iteration": 477,
            "learn": [
             0.0905223747
            ],
            "passed_time": 45.33754949,
            "remaining_time": 49.51088041
           },
           {
            "iteration": 478,
            "learn": [
             0.09048886312
            ],
            "passed_time": 45.43642707,
            "remaining_time": 49.42041441
           },
           {
            "iteration": 479,
            "learn": [
             0.09047914993
            ],
            "passed_time": 45.52617732,
            "remaining_time": 49.32002543
           },
           {
            "iteration": 480,
            "learn": [
             0.09045092362
            ],
            "passed_time": 45.61636665,
            "remaining_time": 49.22015445
           },
           {
            "iteration": 481,
            "learn": [
             0.09041651957
            ],
            "passed_time": 45.71410328,
            "remaining_time": 49.12843465
           },
           {
            "iteration": 482,
            "learn": [
             0.09040884486
            ],
            "passed_time": 45.79585477,
            "remaining_time": 49.01957953
           },
           {
            "iteration": 483,
            "learn": [
             0.09038462911
            ],
            "passed_time": 45.89829975,
            "remaining_time": 48.93289808
           },
           {
            "iteration": 484,
            "learn": [
             0.09024371016
            ],
            "passed_time": 46.04685507,
            "remaining_time": 48.89511414
           },
           {
            "iteration": 485,
            "learn": [
             0.09013690195
            ],
            "passed_time": 46.15765969,
            "remaining_time": 48.81694873
           },
           {
            "iteration": 486,
            "learn": [
             0.08998365715
            ],
            "passed_time": 46.26046474,
            "remaining_time": 48.73022261
           },
           {
            "iteration": 487,
            "learn": [
             0.08995222827
            ],
            "passed_time": 46.35627366,
            "remaining_time": 48.6360904
           },
           {
            "iteration": 488,
            "learn": [
             0.0898291521
            ],
            "passed_time": 46.45225312,
            "remaining_time": 48.54212954
           },
           {
            "iteration": 489,
            "learn": [
             0.08973616298
            ],
            "passed_time": 46.55761891,
            "remaining_time": 48.45792988
           },
           {
            "iteration": 490,
            "learn": [
             0.08969107436
            ],
            "passed_time": 46.64175398,
            "remaining_time": 48.35163498
           },
           {
            "iteration": 491,
            "learn": [
             0.08965256748
            ],
            "passed_time": 46.74314728,
            "remaining_time": 48.26324963
           },
           {
            "iteration": 492,
            "learn": [
             0.08963729179
            ],
            "passed_time": 46.83111071,
            "remaining_time": 48.16100026
           },
           {
            "iteration": 493,
            "learn": [
             0.08956586789
            ],
            "passed_time": 46.92564268,
            "remaining_time": 48.06553684
           },
           {
            "iteration": 494,
            "learn": [
             0.08948945645
            ],
            "passed_time": 47.059783,
            "remaining_time": 48.01048569
           },
           {
            "iteration": 495,
            "learn": [
             0.08945847213
            ],
            "passed_time": 47.16173913,
            "remaining_time": 47.92241234
           },
           {
            "iteration": 496,
            "learn": [
             0.08940416388
            ],
            "passed_time": 47.26695367,
            "remaining_time": 47.83758088
           },
           {
            "iteration": 497,
            "learn": [
             0.08922227845
            ],
            "passed_time": 47.37968251,
            "remaining_time": 47.76024221
           },
           {
            "iteration": 498,
            "learn": [
             0.08918004772
            ],
            "passed_time": 47.47386652,
            "remaining_time": 47.66414254
           },
           {
            "iteration": 499,
            "learn": [
             0.0891532738
            ],
            "passed_time": 47.57704717,
            "remaining_time": 47.57704717
           },
           {
            "iteration": 500,
            "learn": [
             0.08912228986
            ],
            "passed_time": 47.66725189,
            "remaining_time": 47.47696346
           },
           {
            "iteration": 501,
            "learn": [
             0.08911363846
            ],
            "passed_time": 47.75622605,
            "remaining_time": 47.37569835
           },
           {
            "iteration": 502,
            "learn": [
             0.0890596903
            ],
            "passed_time": 47.84971652,
            "remaining_time": 47.27894456
           },
           {
            "iteration": 503,
            "learn": [
             0.08901051199
            ],
            "passed_time": 47.95685998,
            "remaining_time": 47.19563998
           },
           {
            "iteration": 504,
            "learn": [
             0.08896497204
            ],
            "passed_time": 48.0560956,
            "remaining_time": 47.10448975
           },
           {
            "iteration": 505,
            "learn": [
             0.08895716011
            ],
            "passed_time": 48.16414604,
            "remaining_time": 47.02191332
           },
           {
            "iteration": 506,
            "learn": [
             0.08894176619
            ],
            "passed_time": 48.26274327,
            "remaining_time": 46.93004424
           },
           {
            "iteration": 507,
            "learn": [
             0.08892446248
            ],
            "passed_time": 48.36001026,
            "remaining_time": 46.83686033
           },
           {
            "iteration": 508,
            "learn": [
             0.08886585654
            ],
            "passed_time": 48.45845459,
            "remaining_time": 46.74479608
           },
           {
            "iteration": 509,
            "learn": [
             0.08885883681
            ],
            "passed_time": 48.5533277,
            "remaining_time": 46.64927563
           },
           {
            "iteration": 510,
            "learn": [
             0.0888127381
            ],
            "passed_time": 48.6396412,
            "remaining_time": 46.54556663
           },
           {
            "iteration": 511,
            "learn": [
             0.08878042835
            ],
            "passed_time": 48.73428124,
            "remaining_time": 46.44986181
           },
           {
            "iteration": 512,
            "learn": [
             0.08876281116
            ],
            "passed_time": 48.83224742,
            "remaining_time": 46.3573187
           },
           {
            "iteration": 513,
            "learn": [
             0.0887467417
            ],
            "passed_time": 48.93891818,
            "remaining_time": 46.2729849
           },
           {
            "iteration": 514,
            "learn": [
             0.0886318981
            ],
            "passed_time": 49.03246276,
            "remaining_time": 46.1762028
           },
           {
            "iteration": 515,
            "learn": [
             0.08860037006
            ],
            "passed_time": 49.16081964,
            "remaining_time": 46.11208664
           },
           {
            "iteration": 516,
            "learn": [
             0.08856448496
            ],
            "passed_time": 49.26424573,
            "remaining_time": 46.02443073
           },
           {
            "iteration": 517,
            "learn": [
             0.08842096363
            ],
            "passed_time": 49.36238776,
            "remaining_time": 45.93179711
           },
           {
            "iteration": 518,
            "learn": [
             0.08838629052
            ],
            "passed_time": 49.45658855,
            "remaining_time": 45.83548958
           },
           {
            "iteration": 519,
            "learn": [
             0.08836840674
            ],
            "passed_time": 49.55194721,
            "remaining_time": 45.74025896
           },
           {
            "iteration": 520,
            "learn": [
             0.08833543862
            ],
            "passed_time": 49.64810212,
            "remaining_time": 45.64575991
           },
           {
            "iteration": 521,
            "learn": [
             0.08833248456
            ],
            "passed_time": 49.73907649,
            "remaining_time": 45.54651066
           },
           {
            "iteration": 522,
            "learn": [
             0.08819670233
            ],
            "passed_time": 49.83941275,
            "remaining_time": 45.45583152
           },
           {
            "iteration": 523,
            "learn": [
             0.08815334685
            ],
            "passed_time": 49.95108424,
            "remaining_time": 45.3754124
           },
           {
            "iteration": 524,
            "learn": [
             0.08813605039
            ],
            "passed_time": 50.04019164,
            "remaining_time": 45.2744591
           },
           {
            "iteration": 525,
            "learn": [
             0.08812508821
            ],
            "passed_time": 50.16239283,
            "remaining_time": 45.20337301
           },
           {
            "iteration": 526,
            "learn": [
             0.08801497406
            ],
            "passed_time": 50.26975508,
            "remaining_time": 45.11877448
           },
           {
            "iteration": 527,
            "learn": [
             0.08798896153
            ],
            "passed_time": 50.37331951,
            "remaining_time": 45.03069471
           },
           {
            "iteration": 528,
            "learn": [
             0.08794667338
            ],
            "passed_time": 50.46660397,
            "remaining_time": 44.93340353
           },
           {
            "iteration": 529,
            "learn": [
             0.08783897316
            ],
            "passed_time": 50.56351099,
            "remaining_time": 44.83933994
           },
           {
            "iteration": 530,
            "learn": [
             0.0877994468
            ],
            "passed_time": 50.64868022,
            "remaining_time": 44.73489835
           },
           {
            "iteration": 531,
            "learn": [
             0.0877575836
            ],
            "passed_time": 50.73450811,
            "remaining_time": 44.63110864
           },
           {
            "iteration": 532,
            "learn": [
             0.08768232954
            ],
            "passed_time": 50.82651513,
            "remaining_time": 44.53280031
           },
           {
            "iteration": 533,
            "learn": [
             0.08764801539
            ],
            "passed_time": 50.90872544,
            "remaining_time": 44.4259664
           },
           {
            "iteration": 534,
            "learn": [
             0.08762403162
            ],
            "passed_time": 51.01190219,
            "remaining_time": 44.33744769
           },
           {
            "iteration": 535,
            "learn": [
             0.08761699266
            ],
            "passed_time": 51.10513568,
            "remaining_time": 44.24026671
           },
           {
            "iteration": 536,
            "learn": [
             0.08758928911
            ],
            "passed_time": 51.23258157,
            "remaining_time": 44.17259826
           },
           {
            "iteration": 537,
            "learn": [
             0.08751979583
            ],
            "passed_time": 51.32630411,
            "remaining_time": 44.07574814
           },
           {
            "iteration": 538,
            "learn": [
             0.08748684576
            ],
            "passed_time": 51.42362662,
            "remaining_time": 43.98198863
           },
           {
            "iteration": 539,
            "learn": [
             0.08746254474
            ],
            "passed_time": 51.50916811,
            "remaining_time": 43.87818024
           },
           {
            "iteration": 540,
            "learn": [
             0.08742323653
            ],
            "passed_time": 51.60855335,
            "remaining_time": 43.78618482
           },
           {
            "iteration": 541,
            "learn": [
             0.08738742796
            ],
            "passed_time": 51.71003589,
            "remaining_time": 43.69593439
           },
           {
            "iteration": 542,
            "learn": [
             0.08733958416
            ],
            "passed_time": 51.79627929,
            "remaining_time": 43.59281701
           },
           {
            "iteration": 543,
            "learn": [
             0.08724765906
            ],
            "passed_time": 51.89190745,
            "remaining_time": 43.4976283
           },
           {
            "iteration": 544,
            "learn": [
             0.08718283522
            ],
            "passed_time": 51.9892399,
            "remaining_time": 43.40386083
           },
           {
            "iteration": 545,
            "learn": [
             0.08695425188
            ],
            "passed_time": 52.09091144,
            "remaining_time": 43.31368827
           },
           {
            "iteration": 546,
            "learn": [
             0.08694365329
            ],
            "passed_time": 52.17906176,
            "remaining_time": 43.21227601
           },
           {
            "iteration": 547,
            "learn": [
             0.08686178765
            ],
            "passed_time": 52.30344108,
            "remaining_time": 43.14079446
           },
           {
            "iteration": 548,
            "learn": [
             0.08678302104
            ],
            "passed_time": 52.40623266,
            "remaining_time": 43.05138603
           },
           {
            "iteration": 549,
            "learn": [
             0.08677785493
            ],
            "passed_time": 52.50348006,
            "remaining_time": 42.95739278
           },
           {
            "iteration": 550,
            "learn": [
             0.08675360085
            ],
            "passed_time": 52.60041977,
            "remaining_time": 42.86313698
           },
           {
            "iteration": 551,
            "learn": [
             0.08672761454
            ],
            "passed_time": 52.69050644,
            "remaining_time": 42.76330958
           },
           {
            "iteration": 552,
            "learn": [
             0.0866768154
            ],
            "passed_time": 52.7757642,
            "remaining_time": 42.6596141
           },
           {
            "iteration": 553,
            "learn": [
             0.08659610079
            ],
            "passed_time": 52.89938938,
            "remaining_time": 42.58687304
           },
           {
            "iteration": 554,
            "learn": [
             0.08652514723
            ],
            "passed_time": 53.01095816,
            "remaining_time": 42.50428177
           },
           {
            "iteration": 555,
            "learn": [
             0.0864473054
            ],
            "passed_time": 53.10720653,
            "remaining_time": 42.40935198
           },
           {
            "iteration": 556,
            "learn": [
             0.08643208767
            ],
            "passed_time": 53.20334061,
            "remaining_time": 42.31432655
           },
           {
            "iteration": 557,
            "learn": [
             0.08637253859
            ],
            "passed_time": 53.32830593,
            "remaining_time": 42.24213481
           },
           {
            "iteration": 558,
            "learn": [
             0.08627480925
            ],
            "passed_time": 53.42934109,
            "remaining_time": 42.15087553
           },
           {
            "iteration": 559,
            "learn": [
             0.08622041344
            ],
            "passed_time": 53.53472429,
            "remaining_time": 42.06299765
           },
           {
            "iteration": 560,
            "learn": [
             0.08614704858
            ],
            "passed_time": 53.62422215,
            "remaining_time": 41.9626266
           },
           {
            "iteration": 561,
            "learn": [
             0.08610424844
            ],
            "passed_time": 53.72328306,
            "remaining_time": 41.8697473
           },
           {
            "iteration": 562,
            "learn": [
             0.08603124654
            ],
            "passed_time": 53.82087431,
            "remaining_time": 41.77570528
           },
           {
            "iteration": 563,
            "learn": [
             0.08598332867
            ],
            "passed_time": 53.91087971,
            "remaining_time": 41.67578644
           },
           {
            "iteration": 564,
            "learn": [
             0.08597270598
            ],
            "passed_time": 54.00513509,
            "remaining_time": 41.5791748
           },
           {
            "iteration": 565,
            "learn": [
             0.08589509401
            ],
            "passed_time": 54.10624766,
            "remaining_time": 41.48782948
           },
           {
            "iteration": 566,
            "learn": [
             0.08585820709
            ],
            "passed_time": 54.20560798,
            "remaining_time": 41.39511156
           },
           {
            "iteration": 567,
            "learn": [
             0.08583946033
            ],
            "passed_time": 54.34102479,
            "remaining_time": 41.3297935
           },
           {
            "iteration": 568,
            "learn": [
             0.08579955217
            ],
            "passed_time": 54.44090347,
            "remaining_time": 41.23731001
           },
           {
            "iteration": 569,
            "learn": [
             0.08578908203
            ],
            "passed_time": 54.53751386,
            "remaining_time": 41.14233502
           },
           {
            "iteration": 570,
            "learn": [
             0.08576307359
            ],
            "passed_time": 54.62600876,
            "remaining_time": 41.04125702
           },
           {
            "iteration": 571,
            "learn": [
             0.08575243635
            ],
            "passed_time": 54.72021211,
            "remaining_time": 40.94449438
           },
           {
            "iteration": 572,
            "learn": [
             0.0857151204
            ],
            "passed_time": 54.81562416,
            "remaining_time": 40.84864139
           },
           {
            "iteration": 573,
            "learn": [
             0.08568895631
            ],
            "passed_time": 54.90882935,
            "remaining_time": 40.7511521
           },
           {
            "iteration": 574,
            "learn": [
             0.08558596726
            ],
            "passed_time": 55.0180109,
            "remaining_time": 40.66548631
           },
           {
            "iteration": 575,
            "learn": [
             0.08558436199
            ],
            "passed_time": 55.10383035,
            "remaining_time": 40.56254179
           },
           {
            "iteration": 576,
            "learn": [
             0.08555810674
            ],
            "passed_time": 55.19710417,
            "remaining_time": 40.46512143
           },
           {
            "iteration": 577,
            "learn": [
             0.08550118704
            ],
            "passed_time": 55.28816685,
            "remaining_time": 40.36610105
           },
           {
            "iteration": 578,
            "learn": [
             0.08547989789
            ],
            "passed_time": 55.41938262,
            "remaining_time": 40.29630412
           },
           {
            "iteration": 579,
            "learn": [
             0.08546501004
            ],
            "passed_time": 55.51418839,
            "remaining_time": 40.19992952
           },
           {
            "iteration": 580,
            "learn": [
             0.0854012471
            ],
            "passed_time": 55.60970482,
            "remaining_time": 40.10407284
           },
           {
            "iteration": 581,
            "learn": [
             0.0853468552
            ],
            "passed_time": 55.69519573,
            "remaining_time": 40.00101686
           },
           {
            "iteration": 582,
            "learn": [
             0.08533832094
            ],
            "passed_time": 55.7801982,
            "remaining_time": 39.89767178
           },
           {
            "iteration": 583,
            "learn": [
             0.08532210116
            ],
            "passed_time": 55.87506981,
            "remaining_time": 39.80141959
           },
           {
            "iteration": 584,
            "learn": [
             0.08530575329
            ],
            "passed_time": 55.96773779,
            "remaining_time": 39.70360886
           },
           {
            "iteration": 585,
            "learn": [
             0.08526558545
            ],
            "passed_time": 56.08155567,
            "remaining_time": 39.62075776
           },
           {
            "iteration": 586,
            "learn": [
             0.08514967166
            ],
            "passed_time": 56.18079837,
            "remaining_time": 39.52754638
           },
           {
            "iteration": 587,
            "learn": [
             0.08509071516
            ],
            "passed_time": 56.2894002,
            "remaining_time": 39.44087225
           },
           {
            "iteration": 588,
            "learn": [
             0.08508144271
            ],
            "passed_time": 56.4334876,
            "remaining_time": 39.37888524
           },
           {
            "iteration": 589,
            "learn": [
             0.08506510087
            ],
            "passed_time": 56.53023264,
            "remaining_time": 39.28372099
           },
           {
            "iteration": 590,
            "learn": [
             0.08505792522
            ],
            "passed_time": 56.6156783,
            "remaining_time": 39.18073169
           },
           {
            "iteration": 591,
            "learn": [
             0.08500440942
            ],
            "passed_time": 56.7092012,
            "remaining_time": 39.08336839
           },
           {
            "iteration": 592,
            "learn": [
             0.08500051427
            ],
            "passed_time": 56.80567956,
            "remaining_time": 38.98804651
           },
           {
            "iteration": 593,
            "learn": [
             0.08500015606
            ],
            "passed_time": 56.90492945,
            "remaining_time": 38.89461508
           },
           {
            "iteration": 594,
            "learn": [
             0.0848695625
            ],
            "passed_time": 57.00161751,
            "remaining_time": 38.79942032
           },
           {
            "iteration": 595,
            "learn": [
             0.08482541187
            ],
            "passed_time": 57.10548749,
            "remaining_time": 38.70908884
           },
           {
            "iteration": 596,
            "learn": [
             0.08481025635
            ],
            "passed_time": 57.1942313,
            "remaining_time": 38.60850119
           },
           {
            "iteration": 597,
            "learn": [
             0.08479073699
            ],
            "passed_time": 57.28908398,
            "remaining_time": 38.5120598
           },
           {
            "iteration": 598,
            "learn": [
             0.08478268997
            ],
            "passed_time": 57.39237133,
            "remaining_time": 38.42127029
           },
           {
            "iteration": 599,
            "learn": [
             0.08475006568
            ],
            "passed_time": 57.51901233,
            "remaining_time": 38.34600822
           },
           {
            "iteration": 600,
            "learn": [
             0.08472990633
            ],
            "passed_time": 57.61515337,
            "remaining_time": 38.25032645
           },
           {
            "iteration": 601,
            "learn": [
             0.08470117499
            ],
            "passed_time": 57.71067507,
            "remaining_time": 38.15423369
           },
           {
            "iteration": 602,
            "learn": [
             0.08447947695
            ],
            "passed_time": 57.80634292,
            "remaining_time": 38.05823903
           },
           {
            "iteration": 603,
            "learn": [
             0.08443060734
            ],
            "passed_time": 57.90302627,
            "remaining_time": 37.96291126
           },
           {
            "iteration": 604,
            "learn": [
             0.0843786028
            ],
            "passed_time": 57.9963481,
            "remaining_time": 37.8653843
           },
           {
            "iteration": 605,
            "learn": [
             0.08436373979
            ],
            "passed_time": 58.10266308,
            "remaining_time": 37.7763189
           },
           {
            "iteration": 606,
            "learn": [
             0.08436339547
            ],
            "passed_time": 58.20006249,
            "remaining_time": 37.68142431
           },
           {
            "iteration": 607,
            "learn": [
             0.08434167435
            ],
            "passed_time": 58.29888434,
            "remaining_time": 37.58743859
           },
           {
            "iteration": 608,
            "learn": [
             0.08431189325
            ],
            "passed_time": 58.3988977,
            "remaining_time": 37.49420197
           },
           {
            "iteration": 609,
            "learn": [
             0.08430731341
            ],
            "passed_time": 58.53518998,
            "remaining_time": 37.42413786
           },
           {
            "iteration": 610,
            "learn": [
             0.08424614269
            ],
            "passed_time": 58.63104388,
            "remaining_time": 37.32811141
           },
           {
            "iteration": 611,
            "learn": [
             0.0841891586
            ],
            "passed_time": 58.72801199,
            "remaining_time": 37.23279191
           },
           {
            "iteration": 612,
            "learn": [
             0.08415194032
            ],
            "passed_time": 58.82025981,
            "remaining_time": 37.13448703
           },
           {
            "iteration": 613,
            "learn": [
             0.08414828402
            ],
            "passed_time": 58.89728652,
            "remaining_time": 37.0266329
           },
           {
            "iteration": 614,
            "learn": [
             0.08413807554
            ],
            "passed_time": 58.98339224,
            "remaining_time": 36.92456262
           },
           {
            "iteration": 615,
            "learn": [
             0.08413468522
            ],
            "passed_time": 59.08690993,
            "remaining_time": 36.8333984
           },
           {
            "iteration": 616,
            "learn": [
             0.08407601691
            ],
            "passed_time": 59.19125368,
            "remaining_time": 36.7427069
           },
           {
            "iteration": 617,
            "learn": [
             0.08400511727
            ],
            "passed_time": 59.29721103,
            "remaining_time": 36.65296863
           },
           {
            "iteration": 618,
            "learn": [
             0.08400066997
            ],
            "passed_time": 59.40680252,
            "remaining_time": 36.5654148
           },
           {
            "iteration": 619,
            "learn": [
             0.08398913629
            ],
            "passed_time": 59.54766928,
            "remaining_time": 36.49695859
           },
           {
            "iteration": 620,
            "learn": [
             0.08397182437
            ],
            "passed_time": 59.63998072,
            "remaining_time": 36.39863557
           },
           {
            "iteration": 621,
            "learn": [
             0.08394880851
            ],
            "passed_time": 59.73146738,
            "remaining_time": 36.29983066
           },
           {
            "iteration": 622,
            "learn": [
             0.08394145218
            ],
            "passed_time": 59.81765703,
            "remaining_time": 36.19784382
           },
           {
            "iteration": 623,
            "learn": [
             0.08390080857
            ],
            "passed_time": 59.90385994,
            "remaining_time": 36.0959156
           },
           {
            "iteration": 624,
            "learn": [
             0.08385969861
            ],
            "passed_time": 60.00519997,
            "remaining_time": 36.00311998
           },
           {
            "iteration": 625,
            "learn": [
             0.08384507331
            ],
            "passed_time": 60.10322204,
            "remaining_time": 35.90831477
           },
           {
            "iteration": 626,
            "learn": [
             0.08383742071
            ],
            "passed_time": 60.19942754,
            "remaining_time": 35.81241862
           },
           {
            "iteration": 627,
            "learn": [
             0.08378273372
            ],
            "passed_time": 60.28915921,
            "remaining_time": 35.71268666
           },
           {
            "iteration": 628,
            "learn": [
             0.08375524931
            ],
            "passed_time": 60.38491358,
            "remaining_time": 35.61653885
           },
           {
            "iteration": 629,
            "learn": [
             0.08371343628
            ],
            "passed_time": 60.48764198,
            "remaining_time": 35.52448814
           },
           {
            "iteration": 630,
            "learn": [
             0.08370935884
            ],
            "passed_time": 60.61885738,
            "remaining_time": 35.4490624
           },
           {
            "iteration": 631,
            "learn": [
             0.08370225681
            ],
            "passed_time": 60.71864969,
            "remaining_time": 35.35516311
           },
           {
            "iteration": 632,
            "learn": [
             0.08369186972
            ],
            "passed_time": 60.80620087,
            "remaining_time": 35.25414805
           },
           {
            "iteration": 633,
            "learn": [
             0.08364200516
            ],
            "passed_time": 60.91108871,
            "remaining_time": 35.1631837
           },
           {
            "iteration": 634,
            "learn": [
             0.08362418245
            ],
            "passed_time": 61.01626885,
            "remaining_time": 35.07234351
           },
           {
            "iteration": 635,
            "learn": [
             0.08361226106
            ],
            "passed_time": 61.11299159,
            "remaining_time": 34.97661783
           },
           {
            "iteration": 636,
            "learn": [
             0.08359403208
            ],
            "passed_time": 61.2168225,
            "remaining_time": 34.88493967
           },
           {
            "iteration": 637,
            "learn": [
             0.08347278628
            ],
            "passed_time": 61.30678695,
            "remaining_time": 34.7853556
           },
           {
            "iteration": 638,
            "learn": [
             0.08345329215
            ],
            "passed_time": 61.4064024,
            "remaining_time": 34.69125394
           },
           {
            "iteration": 639,
            "learn": [
             0.08344242394
            ],
            "passed_time": 61.50067962,
            "remaining_time": 34.59413229
           },
           {
            "iteration": 640,
            "learn": [
             0.08342234773
            ],
            "passed_time": 61.64172317,
            "remaining_time": 34.52321157
           },
           {
            "iteration": 641,
            "learn": [
             0.08338692642
            ],
            "passed_time": 61.74462095,
            "remaining_time": 34.43080109
           },
           {
            "iteration": 642,
            "learn": [
             0.08336891144
            ],
            "passed_time": 61.83877715,
            "remaining_time": 34.33350458
           },
           {
            "iteration": 643,
            "learn": [
             0.08330955983
            ],
            "passed_time": 61.93594925,
            "remaining_time": 34.23788499
           },
           {
            "iteration": 644,
            "learn": [
             0.08328943258
            ],
            "passed_time": 62.03191288,
            "remaining_time": 34.14159546
           },
           {
            "iteration": 645,
            "learn": [
             0.08323606271
            ],
            "passed_time": 62.13230538,
            "remaining_time": 34.04773391
           },
           {
            "iteration": 646,
            "learn": [
             0.08311963884
            ],
            "passed_time": 62.22714909,
            "remaining_time": 33.95082477
           },
           {
            "iteration": 647,
            "learn": [
             0.08311659939
            ],
            "passed_time": 62.32755708,
            "remaining_time": 33.85694459
           },
           {
            "iteration": 648,
            "learn": [
             0.08311440274
            ],
            "passed_time": 62.41606478,
            "remaining_time": 33.75660822
           },
           {
            "iteration": 649,
            "learn": [
             0.0831040344
            ],
            "passed_time": 62.52013206,
            "remaining_time": 33.6646865
           },
           {
            "iteration": 650,
            "learn": [
             0.08310192341
            ],
            "passed_time": 62.6337091,
            "remaining_time": 33.57782562
           },
           {
            "iteration": 651,
            "learn": [
             0.08307828952
            ],
            "passed_time": 62.73976956,
            "remaining_time": 33.48687087
           },
           {
            "iteration": 652,
            "learn": [
             0.08307218012
            ],
            "passed_time": 62.82819853,
            "remaining_time": 33.3865006
           },
           {
            "iteration": 653,
            "learn": [
             0.08307022716
            ],
            "passed_time": 62.92297535,
            "remaining_time": 33.28952519
           },
           {
            "iteration": 654,
            "learn": [
             0.08303618205
            ],
            "passed_time": 63.01456634,
            "remaining_time": 33.19087845
           },
           {
            "iteration": 655,
            "learn": [
             0.08303383992
            ],
            "passed_time": 63.11139665,
            "remaining_time": 33.09500068
           },
           {
            "iteration": 656,
            "learn": [
             0.08298644324
            ],
            "passed_time": 63.24340366,
            "remaining_time": 33.01748471
           },
           {
            "iteration": 657,
            "learn": [
             0.0829378845
            ],
            "passed_time": 63.35488965,
            "remaining_time": 32.92913717
           },
           {
            "iteration": 658,
            "learn": [
             0.08293402473
            ],
            "passed_time": 63.44827691,
            "remaining_time": 32.83135421
           },
           {
            "iteration": 659,
            "learn": [
             0.082892027
            ],
            "passed_time": 63.54934156,
            "remaining_time": 32.73753959
           },
           {
            "iteration": 660,
            "learn": [
             0.08287793903
            ],
            "passed_time": 63.67241982,
            "remaining_time": 32.65499292
           },
           {
            "iteration": 661,
            "learn": [
             0.08280781826
            ],
            "passed_time": 63.77824909,
            "remaining_time": 32.56351691
           },
           {
            "iteration": 662,
            "learn": [
             0.0827873155
            ],
            "passed_time": 63.87470683,
            "remaining_time": 32.46723409
           },
           {
            "iteration": 663,
            "learn": [
             0.08274350754
            ],
            "passed_time": 63.98002266,
            "remaining_time": 32.37543315
           },
           {
            "iteration": 664,
            "learn": [
             0.08267543158
            ],
            "passed_time": 64.07051851,
            "remaining_time": 32.27612587
           },
           {
            "iteration": 665,
            "learn": [
             0.0826735976
            ],
            "passed_time": 64.1635722,
            "remaining_time": 32.1781278
           },
           {
            "iteration": 666,
            "learn": [
             0.08264904625
            ],
            "passed_time": 64.25985123,
            "remaining_time": 32.08175481
           },
           {
            "iteration": 667,
            "learn": [
             0.08262987726
            ],
            "passed_time": 64.35192632,
            "remaining_time": 31.98329272
           },
           {
            "iteration": 668,
            "learn": [
             0.08260794412
            ],
            "passed_time": 64.45037996,
            "remaining_time": 31.88800563
           },
           {
            "iteration": 669,
            "learn": [
             0.08259228708
            ],
            "passed_time": 64.55550813,
            "remaining_time": 31.79599654
           },
           {
            "iteration": 670,
            "learn": [
             0.08257669464
            ],
            "passed_time": 64.63929236,
            "remaining_time": 31.69348314
           },
           {
            "iteration": 671,
            "learn": [
             0.08239838104
            ],
            "passed_time": 64.80002287,
            "remaining_time": 31.62858259
           },
           {
            "iteration": 672,
            "learn": [
             0.08239467002
            ],
            "passed_time": 64.89889814,
            "remaining_time": 31.53334278
           },
           {
            "iteration": 673,
            "learn": [
             0.08228387668
            ],
            "passed_time": 65.00729845,
            "remaining_time": 31.44269925
           },
           {
            "iteration": 674,
            "learn": [
             0.08226913816
            ],
            "passed_time": 65.10156767,
            "remaining_time": 31.34519925
           },
           {
            "iteration": 675,
            "learn": [
             0.08221721851
            ],
            "passed_time": 65.21285121,
            "remaining_time": 31.2558636
           },
           {
            "iteration": 676,
            "learn": [
             0.08217380859
            ],
            "passed_time": 65.30836939,
            "remaining_time": 31.15894138
           },
           {
            "iteration": 677,
            "learn": [
             0.08216746127
            ],
            "passed_time": 65.39299521,
            "remaining_time": 31.05685023
           },
           {
            "iteration": 678,
            "learn": [
             0.08215223009
            ],
            "passed_time": 65.4958764,
            "remaining_time": 30.96344083
           },
           {
            "iteration": 679,
            "learn": [
             0.08213871304
            ],
            "passed_time": 65.59301602,
            "remaining_time": 30.86730166
           },
           {
            "iteration": 680,
            "learn": [
             0.0820821652
            ],
            "passed_time": 65.68664035,
            "remaining_time": 30.76951288
           },
           {
            "iteration": 681,
            "learn": [
             0.08206442283
            ],
            "passed_time": 65.81630052,
            "remaining_time": 30.68853895
           },
           {
            "iteration": 682,
            "learn": [
             0.08203572294
            ],
            "passed_time": 65.91762304,
            "remaining_time": 30.59427014
           },
           {
            "iteration": 683,
            "learn": [
             0.08200066635
            ],
            "passed_time": 66.01543256,
            "remaining_time": 30.49835773
           },
           {
            "iteration": 684,
            "learn": [
             0.08197602237
            ],
            "passed_time": 66.11193213,
            "remaining_time": 30.4018374
           },
           {
            "iteration": 685,
            "learn": [
             0.08196426177
            ],
            "passed_time": 66.21150364,
            "remaining_time": 30.30672324
           },
           {
            "iteration": 686,
            "learn": [
             0.08193419189
            ],
            "passed_time": 66.31018652,
            "remaining_time": 30.21119124
           },
           {
            "iteration": 687,
            "learn": [
             0.0819136795
            ],
            "passed_time": 66.39989917,
            "remaining_time": 30.11158218
           },
           {
            "iteration": 688,
            "learn": [
             0.08172714138
            ],
            "passed_time": 66.51010308,
            "remaining_time": 30.02125117
           },
           {
            "iteration": 689,
            "learn": [
             0.08169990096
            ],
            "passed_time": 66.61018808,
            "remaining_time": 29.92631638
           },
           {
            "iteration": 690,
            "learn": [
             0.08169283836
            ],
            "passed_time": 66.70489391,
            "remaining_time": 29.82896124
           },
           {
            "iteration": 691,
            "learn": [
             0.08164522939
            ],
            "passed_time": 66.84859875,
            "remaining_time": 29.75342256
           },
           {
            "iteration": 692,
            "learn": [
             0.08159514749
            ],
            "passed_time": 66.95334526,
            "remaining_time": 29.66042856
           },
           {
            "iteration": 693,
            "learn": [
             0.08158184002
            ],
            "passed_time": 67.03728445,
            "remaining_time": 29.55822629
           },
           {
            "iteration": 694,
            "learn": [
             0.0815785372
            ],
            "passed_time": 67.12170194,
            "remaining_time": 29.45628646
           },
           {
            "iteration": 695,
            "learn": [
             0.08157314306
            ],
            "passed_time": 67.22248515,
            "remaining_time": 29.36154524
           },
           {
            "iteration": 696,
            "learn": [
             0.08154079058
            ],
            "passed_time": 67.3160614,
            "remaining_time": 29.26365366
           },
           {
            "iteration": 697,
            "learn": [
             0.08151899031
            ],
            "passed_time": 67.41324867,
            "remaining_time": 29.16733682
           },
           {
            "iteration": 698,
            "learn": [
             0.08145204956
            ],
            "passed_time": 67.52144809,
            "remaining_time": 29.07575948
           },
           {
            "iteration": 699,
            "learn": [
             0.08143424367
            ],
            "passed_time": 67.61928148,
            "remaining_time": 28.97969206
           },
           {
            "iteration": 700,
            "learn": [
             0.08139033572
            ],
            "passed_time": 67.72543737,
            "remaining_time": 28.88716944
           },
           {
            "iteration": 701,
            "learn": [
             0.08137580962
            ],
            "passed_time": 67.86630578,
            "remaining_time": 28.80934348
           },
           {
            "iteration": 702,
            "learn": [
             0.08136293313
            ],
            "passed_time": 67.96092221,
            "remaining_time": 28.71179786
           },
           {
            "iteration": 703,
            "learn": [
             0.08134831697
            ],
            "passed_time": 68.05553115,
            "remaining_time": 28.61425742
           },
           {
            "iteration": 704,
            "learn": [
             0.08131164134
            ],
            "passed_time": 68.15587701,
            "remaining_time": 28.51912584
           },
           {
            "iteration": 705,
            "learn": [
             0.08129287524
            ],
            "passed_time": 68.25315014,
            "remaining_time": 28.42269992
           },
           {
            "iteration": 706,
            "learn": [
             0.08124556424
            ],
            "passed_time": 68.3555023,
            "remaining_time": 28.32837648
           },
           {
            "iteration": 707,
            "learn": [
             0.08122660087
            ],
            "passed_time": 68.45569323,
            "remaining_time": 28.23313902
           },
           {
            "iteration": 708,
            "learn": [
             0.08118005836
            ],
            "passed_time": 68.54904456,
            "remaining_time": 28.13508035
           },
           {
            "iteration": 709,
            "learn": [
             0.08115810432
            ],
            "passed_time": 68.63890769,
            "remaining_time": 28.03561019
           },
           {
            "iteration": 710,
            "learn": [
             0.08114835965
            ],
            "passed_time": 68.73029329,
            "remaining_time": 27.93678588
           },
           {
            "iteration": 711,
            "learn": [
             0.0810749524
            ],
            "passed_time": 68.8534699,
            "remaining_time": 27.85084176
           },
           {
            "iteration": 712,
            "learn": [
             0.08103953854
            ],
            "passed_time": 68.97974413,
            "remaining_time": 27.76604006
           },
           {
            "iteration": 713,
            "learn": [
             0.08103692565
            ],
            "passed_time": 69.07589532,
            "remaining_time": 27.66905611
           },
           {
            "iteration": 714,
            "learn": [
             0.08103253603
            ],
            "passed_time": 69.16921751,
            "remaining_time": 27.57094684
           },
           {
            "iteration": 715,
            "learn": [
             0.08100982919
            ],
            "passed_time": 69.27182106,
            "remaining_time": 27.47653238
           },
           {
            "iteration": 716,
            "learn": [
             0.08093724847
            ],
            "passed_time": 69.3806102,
            "remaining_time": 27.38453652
           },
           {
            "iteration": 717,
            "learn": [
             0.08093420069
            ],
            "passed_time": 69.46360205,
            "remaining_time": 27.28236181
           },
           {
            "iteration": 718,
            "learn": [
             0.08091691889
            ],
            "passed_time": 69.55485309,
            "remaining_time": 27.18346831
           },
           {
            "iteration": 719,
            "learn": [
             0.08090182481
            ],
            "passed_time": 69.6526721,
            "remaining_time": 27.08715026
           },
           {
            "iteration": 720,
            "learn": [
             0.0808796074
            ],
            "passed_time": 69.75298386,
            "remaining_time": 26.99179264
           },
           {
            "iteration": 721,
            "learn": [
             0.08081102447
            ],
            "passed_time": 69.84687126,
            "remaining_time": 26.89394766
           },
           {
            "iteration": 722,
            "learn": [
             0.08078263403
            ],
            "passed_time": 70.06110963,
            "remaining_time": 26.84222319
           },
           {
            "iteration": 723,
            "learn": [
             0.08073152158
            ],
            "passed_time": 70.15745945,
            "remaining_time": 26.74510885
           },
           {
            "iteration": 724,
            "learn": [
             0.08072296514
            ],
            "passed_time": 70.26247027,
            "remaining_time": 26.65128183
           },
           {
            "iteration": 725,
            "learn": [
             0.08069412866
            ],
            "passed_time": 70.35778356,
            "remaining_time": 26.55376404
           },
           {
            "iteration": 726,
            "learn": [
             0.08067712739
            ],
            "passed_time": 70.45526453,
            "remaining_time": 26.45706632
           },
           {
            "iteration": 727,
            "learn": [
             0.08061802183
            ],
            "passed_time": 70.56732878,
            "remaining_time": 26.36581515
           },
           {
            "iteration": 728,
            "learn": [
             0.08060049299
            ],
            "passed_time": 70.6624268,
            "remaining_time": 26.26819981
           },
           {
            "iteration": 729,
            "learn": [
             0.08053318102
            ],
            "passed_time": 70.76160558,
            "remaining_time": 26.17210069
           },
           {
            "iteration": 730,
            "learn": [
             0.08041559894
            ],
            "passed_time": 70.85506989,
            "remaining_time": 26.07389029
           },
           {
            "iteration": 731,
            "learn": [
             0.08037488188
            ],
            "passed_time": 70.95287825,
            "remaining_time": 25.97728329
           },
           {
            "iteration": 732,
            "learn": [
             0.08032348455
            ],
            "passed_time": 71.10346916,
            "remaining_time": 25.89989941
           },
           {
            "iteration": 733,
            "learn": [
             0.08031716878
            ],
            "passed_time": 71.20542524,
            "remaining_time": 25.80469089
           },
           {
            "iteration": 734,
            "learn": [
             0.08027471049
            ],
            "passed_time": 71.30525511,
            "remaining_time": 25.70869742
           },
           {
            "iteration": 735,
            "learn": [
             0.08024025076
            ],
            "passed_time": 71.40242974,
            "remaining_time": 25.6117411
           },
           {
            "iteration": 736,
            "learn": [
             0.08021506111
            ],
            "passed_time": 71.50359078,
            "remaining_time": 25.51620675
           },
           {
            "iteration": 737,
            "learn": [
             0.08016812457
            ],
            "passed_time": 71.60243496,
            "remaining_time": 25.41983463
           },
           {
            "iteration": 738,
            "learn": [
             0.08013851126
            ],
            "passed_time": 71.69790978,
            "remaining_time": 25.32226583
           },
           {
            "iteration": 739,
            "learn": [
             0.08012460155
            ],
            "passed_time": 71.7810514,
            "remaining_time": 25.22036941
           },
           {
            "iteration": 740,
            "learn": [
             0.08010972151
            ],
            "passed_time": 71.87720573,
            "remaining_time": 25.12307191
           },
           {
            "iteration": 741,
            "learn": [
             0.08002840986
            ],
            "passed_time": 71.97742444,
            "remaining_time": 25.02719071
           },
           {
            "iteration": 742,
            "learn": [
             0.07996308264
            ],
            "passed_time": 72.09738487,
            "remaining_time": 24.9381264
           },
           {
            "iteration": 743,
            "learn": [
             0.07993551369
            ],
            "passed_time": 72.22422589,
            "remaining_time": 24.85134654
           },
           {
            "iteration": 744,
            "learn": [
             0.07989720655
            ],
            "passed_time": 72.3269358,
            "remaining_time": 24.7561995
           },
           {
            "iteration": 745,
            "learn": [
             0.07982912826
            ],
            "passed_time": 72.42416106,
            "remaining_time": 24.65916476
           },
           {
            "iteration": 746,
            "learn": [
             0.07982127584
            ],
            "passed_time": 72.52840011,
            "remaining_time": 24.56450499
           },
           {
            "iteration": 747,
            "learn": [
             0.0798008532
            ],
            "passed_time": 72.62911253,
            "remaining_time": 24.46863149
           },
           {
            "iteration": 748,
            "learn": [
             0.0797654686
            ],
            "passed_time": 72.72553261,
            "remaining_time": 24.37130665
           },
           {
            "iteration": 749,
            "learn": [
             0.07971593466
            ],
            "passed_time": 72.81615988,
            "remaining_time": 24.27205329
           },
           {
            "iteration": 750,
            "learn": [
             0.07967255615
            ],
            "passed_time": 72.91321037,
            "remaining_time": 24.17495257
           },
           {
            "iteration": 751,
            "learn": [
             0.07967094145
            ],
            "passed_time": 73.01362726,
            "remaining_time": 24.07896218
           },
           {
            "iteration": 752,
            "learn": [
             0.07960996918
            ],
            "passed_time": 73.12416739,
            "remaining_time": 23.98628067
           },
           {
            "iteration": 753,
            "learn": [
             0.07957992195
            ],
            "passed_time": 73.24952266,
            "remaining_time": 23.89838538
           },
           {
            "iteration": 754,
            "learn": [
             0.07956966101
            ],
            "passed_time": 73.3545029,
            "remaining_time": 23.80377909
           },
           {
            "iteration": 755,
            "learn": [
             0.07948211096
            ],
            "passed_time": 73.46622346,
            "remaining_time": 23.7113208
           },
           {
            "iteration": 756,
            "learn": [
             0.07945659392
            ],
            "passed_time": 73.55477044,
            "remaining_time": 23.61137281
           },
           {
            "iteration": 757,
            "learn": [
             0.07941127431
            ],
            "passed_time": 73.68107935,
            "remaining_time": 23.52351082
           },
           {
            "iteration": 758,
            "learn": [
             0.07940219363
            ],
            "passed_time": 73.77093189,
            "remaining_time": 23.42397179
           },
           {
            "iteration": 759,
            "learn": [
             0.07938897205
            ],
            "passed_time": 73.86736056,
            "remaining_time": 23.32653491
           },
           {
            "iteration": 760,
            "learn": [
             0.07933024873
            ],
            "passed_time": 73.97043304,
            "remaining_time": 23.23118725
           },
           {
            "iteration": 761,
            "learn": [
             0.07927816531
            ],
            "passed_time": 74.07307517,
            "remaining_time": 23.1356849
           },
           {
            "iteration": 762,
            "learn": [
             0.0791593658
            ],
            "passed_time": 74.2178149,
            "remaining_time": 23.05324002
           },
           {
            "iteration": 763,
            "learn": [
             0.07902689869
            ],
            "passed_time": 74.33125633,
            "remaining_time": 22.960964
           },
           {
            "iteration": 764,
            "learn": [
             0.07901639179
            ],
            "passed_time": 74.42390897,
            "remaining_time": 22.86224655
           },
           {
            "iteration": 765,
            "learn": [
             0.07898776005
            ],
            "passed_time": 74.51935134,
            "remaining_time": 22.76439714
           },
           {
            "iteration": 766,
            "learn": [
             0.07883334509
            ],
            "passed_time": 74.62503329,
            "remaining_time": 22.66966461
           },
           {
            "iteration": 767,
            "learn": [
             0.07882943849
            ],
            "passed_time": 74.72419168,
            "remaining_time": 22.5729329
           },
           {
            "iteration": 768,
            "learn": [
             0.07871686135
            ],
            "passed_time": 74.82195103,
            "remaining_time": 22.47577463
           },
           {
            "iteration": 769,
            "learn": [
             0.07857887602
            ],
            "passed_time": 74.93042786,
            "remaining_time": 22.38181611
           },
           {
            "iteration": 770,
            "learn": [
             0.07856845199
            ],
            "passed_time": 75.02356455,
            "remaining_time": 22.28326366
           },
           {
            "iteration": 771,
            "learn": [
             0.0785618679
            ],
            "passed_time": 75.11112369,
            "remaining_time": 22.18307798
           },
           {
            "iteration": 772,
            "learn": [
             0.07848938378
            ],
            "passed_time": 75.21308057,
            "remaining_time": 22.08715303
           },
           {
            "iteration": 773,
            "learn": [
             0.07846351411
            ],
            "passed_time": 75.35004035,
            "remaining_time": 22.00143297
           },
           {
            "iteration": 774,
            "learn": [
             0.07845280063
            ],
            "passed_time": 75.44196738,
            "remaining_time": 21.90250666
           },
           {
            "iteration": 775,
            "learn": [
             0.07844758142
            ],
            "passed_time": 75.53542589,
            "remaining_time": 21.80404046
           },
           {
            "iteration": 776,
            "learn": [
             0.07842913726
            ],
            "passed_time": 75.63165584,
            "remaining_time": 21.70638256
           },
           {
            "iteration": 777,
            "learn": [
             0.07838049421
            ],
            "passed_time": 75.74271017,
            "remaining_time": 21.61295843
           },
           {
            "iteration": 778,
            "learn": [
             0.07835152198
            ],
            "passed_time": 75.82987404,
            "remaining_time": 21.51271138
           },
           {
            "iteration": 779,
            "learn": [
             0.07831100874
            ],
            "passed_time": 75.92310273,
            "remaining_time": 21.41420846
           },
           {
            "iteration": 780,
            "learn": [
             0.07830399348
            ],
            "passed_time": 76.01132883,
            "remaining_time": 21.31431628
           },
           {
            "iteration": 781,
            "learn": [
             0.07829487062
            ],
            "passed_time": 76.10214507,
            "remaining_time": 21.21517599
           },
           {
            "iteration": 782,
            "learn": [
             0.07825087491
            ],
            "passed_time": 76.19426903,
            "remaining_time": 21.11641939
           },
           {
            "iteration": 783,
            "learn": [
             0.07821809016
            ],
            "passed_time": 76.35990731,
            "remaining_time": 21.03793365
           },
           {
            "iteration": 784,
            "learn": [
             0.07816359663
            ],
            "passed_time": 76.48620007,
            "remaining_time": 20.9484497
           },
           {
            "iteration": 785,
            "learn": [
             0.07813024274
            ],
            "passed_time": 76.58982794,
            "remaining_time": 20.85270125
           },
           {
            "iteration": 786,
            "learn": [
             0.07809135669
            ],
            "passed_time": 76.68671892,
            "remaining_time": 20.75510944
           },
           {
            "iteration": 787,
            "learn": [
             0.07804029093
            ],
            "passed_time": 76.7917046,
            "remaining_time": 20.65969718
           },
           {
            "iteration": 788,
            "learn": [
             0.07801931078
            ],
            "passed_time": 76.88780872,
            "remaining_time": 20.56188548
           },
           {
            "iteration": 789,
            "learn": [
             0.07801462375
            ],
            "passed_time": 76.97629359,
            "remaining_time": 20.46205273
           },
           {
            "iteration": 790,
            "learn": [
             0.07797839214
            ],
            "passed_time": 77.07218855,
            "remaining_time": 20.36420658
           },
           {
            "iteration": 791,
            "learn": [
             0.07793078597
            ],
            "passed_time": 77.1807854,
            "remaining_time": 20.26970122
           },
           {
            "iteration": 792,
            "learn": [
             0.0778863242
            ],
            "passed_time": 77.29972451,
            "remaining_time": 20.17785999
           },
           {
            "iteration": 793,
            "learn": [
             0.07781557978
            ],
            "passed_time": 77.44711055,
            "remaining_time": 20.09333095
           },
           {
            "iteration": 794,
            "learn": [
             0.07778396337
            ],
            "passed_time": 77.54657189,
            "remaining_time": 19.99628583
           },
           {
            "iteration": 795,
            "learn": [
             0.07775636155
            ],
            "passed_time": 77.63445202,
            "remaining_time": 19.8962666
           },
           {
            "iteration": 796,
            "learn": [
             0.07772692758
            ],
            "passed_time": 77.72523686,
            "remaining_time": 19.79701767
           },
           {
            "iteration": 797,
            "learn": [
             0.07768426753
            ],
            "passed_time": 77.81662978,
            "remaining_time": 19.69794388
           },
           {
            "iteration": 798,
            "learn": [
             0.07767227698
            ],
            "passed_time": 77.91514533,
            "remaining_time": 19.60068112
           },
           {
            "iteration": 799,
            "learn": [
             0.07765422228
            ],
            "passed_time": 78.0094503,
            "remaining_time": 19.50236257
           },
           {
            "iteration": 800,
            "learn": [
             0.07762699842
            ],
            "passed_time": 78.10518135,
            "remaining_time": 19.40440835
           },
           {
            "iteration": 801,
            "learn": [
             0.07759665674
            ],
            "passed_time": 78.20355329,
            "remaining_time": 19.30711166
           },
           {
            "iteration": 802,
            "learn": [
             0.07758283097
            ],
            "passed_time": 78.30397168,
            "remaining_time": 19.21031435
           },
           {
            "iteration": 803,
            "learn": [
             0.07756475712
            ],
            "passed_time": 78.45484488,
            "remaining_time": 19.12580796
           },
           {
            "iteration": 804,
            "learn": [
             0.07754169242
            ],
            "passed_time": 78.5540638,
            "remaining_time": 19.02862415
           },
           {
            "iteration": 805,
            "learn": [
             0.07752660692
            ],
            "passed_time": 78.6417908,
            "remaining_time": 18.92866925
           },
           {
            "iteration": 806,
            "learn": [
             0.07749548629
            ],
            "passed_time": 78.73321136,
            "remaining_time": 18.82962799
           },
           {
            "iteration": 807,
            "learn": [
             0.07744512159
            ],
            "passed_time": 78.84148282,
            "remaining_time": 18.73460978
           },
           {
            "iteration": 808,
            "learn": [
             0.0774066934
            ],
            "passed_time": 78.94325953,
            "remaining_time": 18.63802543
           },
           {
            "iteration": 809,
            "learn": [
             0.07726200202
            ],
            "passed_time": 79.04470695,
            "remaining_time": 18.54135101
           },
           {
            "iteration": 810,
            "learn": [
             0.07725549695
            ],
            "passed_time": 79.13042998,
            "remaining_time": 18.44100033
           },
           {
            "iteration": 811,
            "learn": [
             0.07720042592
            ],
            "passed_time": 79.23049323,
            "remaining_time": 18.34400582
           },
           {
            "iteration": 812,
            "learn": [
             0.07710774758
            ],
            "passed_time": 79.33551771,
            "remaining_time": 18.24814491
           },
           {
            "iteration": 813,
            "learn": [
             0.07709183003
            ],
            "passed_time": 79.4899144,
            "remaining_time": 18.16354309
           },
           {
            "iteration": 814,
            "learn": [
             0.07706780521
            ],
            "passed_time": 79.58482906,
            "remaining_time": 18.06526795
           },
           {
            "iteration": 815,
            "learn": [
             0.07702300812
            ],
            "passed_time": 79.67512109,
            "remaining_time": 17.96595868
           },
           {
            "iteration": 816,
            "learn": [
             0.07699657957
            ],
            "passed_time": 79.77070255,
            "remaining_time": 17.86785626
           },
           {
            "iteration": 817,
            "learn": [
             0.07694155853
            ],
            "passed_time": 79.87355599,
            "remaining_time": 17.77137798
           },
           {
            "iteration": 818,
            "learn": [
             0.07688809264
            ],
            "passed_time": 79.97186077,
            "remaining_time": 17.67387888
           },
           {
            "iteration": 819,
            "learn": [
             0.07683980438
            ],
            "passed_time": 80.07857836,
            "remaining_time": 17.57822452
           },
           {
            "iteration": 820,
            "learn": [
             0.07683146835
            ],
            "passed_time": 80.17298013,
            "remaining_time": 17.47985803
           },
           {
            "iteration": 821,
            "learn": [
             0.07681510128
            ],
            "passed_time": 80.26763853,
            "remaining_time": 17.38155676
           },
           {
            "iteration": 822,
            "learn": [
             0.07674962754
            ],
            "passed_time": 80.36593574,
            "remaining_time": 17.28404693
           },
           {
            "iteration": 823,
            "learn": [
             0.07672593489
            ],
            "passed_time": 80.49687042,
            "remaining_time": 17.1935063
           },
           {
            "iteration": 824,
            "learn": [
             0.07671495017
            ],
            "passed_time": 80.604753,
            "remaining_time": 17.09797791
           },
           {
            "iteration": 825,
            "learn": [
             0.07670671082
            ],
            "passed_time": 80.69887199,
            "remaining_time": 16.99952025
           },
           {
            "iteration": 826,
            "learn": [
             0.07669867014
            ],
            "passed_time": 80.79894196,
            "remaining_time": 16.90231797
           },
           {
            "iteration": 827,
            "learn": [
             0.07666550938
            ],
            "passed_time": 80.89112179,
            "remaining_time": 16.80346974
           },
           {
            "iteration": 828,
            "learn": [
             0.07665457023
            ],
            "passed_time": 80.98449703,
            "remaining_time": 16.70488419
           },
           {
            "iteration": 829,
            "learn": [
             0.07663622187
            ],
            "passed_time": 81.0781058,
            "remaining_time": 16.60635902
           },
           {
            "iteration": 830,
            "learn": [
             0.076604528
            ],
            "passed_time": 81.17643502,
            "remaining_time": 16.50880568
           },
           {
            "iteration": 831,
            "learn": [
             0.07655457877
            ],
            "passed_time": 81.27485865,
            "remaining_time": 16.41126953
           },
           {
            "iteration": 832,
            "learn": [
             0.07650919557
            ],
            "passed_time": 81.37318817,
            "remaining_time": 16.3137124
           },
           {
            "iteration": 833,
            "learn": [
             0.07649097562
            ],
            "passed_time": 81.47344307,
            "remaining_time": 16.21653663
           },
           {
            "iteration": 834,
            "learn": [
             0.07635827832
            ],
            "passed_time": 81.61993262,
            "remaining_time": 16.12848968
           },
           {
            "iteration": 835,
            "learn": [
             0.07627377381
            ],
            "passed_time": 81.71476356,
            "remaining_time": 16.03016893
           },
           {
            "iteration": 836,
            "learn": [
             0.07623465389
            ],
            "passed_time": 81.80903302,
            "remaining_time": 15.93174717
           },
           {
            "iteration": 837,
            "learn": [
             0.07622537814
            ],
            "passed_time": 81.9062744,
            "remaining_time": 15.83390985
           },
           {
            "iteration": 838,
            "learn": [
             0.0762220117
            ],
            "passed_time": 81.99920808,
            "remaining_time": 15.73524732
           },
           {
            "iteration": 839,
            "learn": [
             0.07621839526
            ],
            "passed_time": 82.09383854,
            "remaining_time": 15.63692163
           },
           {
            "iteration": 840,
            "learn": [
             0.07617224406
            ],
            "passed_time": 82.19472871,
            "remaining_time": 15.53978819
           },
           {
            "iteration": 841,
            "learn": [
             0.07615833269
            ],
            "passed_time": 82.29764262,
            "remaining_time": 15.44302558
           },
           {
            "iteration": 842,
            "learn": [
             0.07615574047
            ],
            "passed_time": 82.39407327,
            "remaining_time": 15.34504093
           },
           {
            "iteration": 843,
            "learn": [
             0.07613207722
            ],
            "passed_time": 82.5001384,
            "remaining_time": 15.24884075
           },
           {
            "iteration": 844,
            "learn": [
             0.07610176885
            ],
            "passed_time": 82.65179207,
            "remaining_time": 15.16097961
           },
           {
            "iteration": 845,
            "learn": [
             0.07600883484
            ],
            "passed_time": 82.76164983,
            "remaining_time": 15.06535943
           },
           {
            "iteration": 846,
            "learn": [
             0.07587846552
            ],
            "passed_time": 82.863674,
            "remaining_time": 14.96829058
           },
           {
            "iteration": 847,
            "learn": [
             0.07586471489
            ],
            "passed_time": 82.96214335,
            "remaining_time": 14.87057286
           },
           {
            "iteration": 848,
            "learn": [
             0.07581830698
            ],
            "passed_time": 83.05474119,
            "remaining_time": 14.77180909
           },
           {
            "iteration": 849,
            "learn": [
             0.07580334177
            ],
            "passed_time": 83.15418211,
            "remaining_time": 14.67426743
           },
           {
            "iteration": 850,
            "learn": [
             0.07580288966
            ],
            "passed_time": 83.25113087,
            "remaining_time": 14.57628496
           },
           {
            "iteration": 851,
            "learn": [
             0.07578999965
            ],
            "passed_time": 83.34654822,
            "remaining_time": 14.47803889
           },
           {
            "iteration": 852,
            "learn": [
             0.07576128399
            ],
            "passed_time": 83.45250169,
            "remaining_time": 14.38161518
           },
           {
            "iteration": 853,
            "learn": [
             0.07572566043
            ],
            "passed_time": 83.56223049,
            "remaining_time": 14.28581458
           },
           {
            "iteration": 854,
            "learn": [
             0.07571611612
            ],
            "passed_time": 83.7165404,
            "remaining_time": 14.19754194
           },
           {
            "iteration": 855,
            "learn": [
             0.07571095714
            ],
            "passed_time": 83.812111,
            "remaining_time": 14.09923363
           },
           {
            "iteration": 856,
            "learn": [
             0.07568113042
            ],
            "passed_time": 83.91055176,
            "remaining_time": 14.00141062
           },
           {
            "iteration": 857,
            "learn": [
             0.07562220203
            ],
            "passed_time": 84.00753,
            "remaining_time": 13.90334413
           },
           {
            "iteration": 858,
            "learn": [
             0.07560825546
            ],
            "passed_time": 84.11067508,
            "remaining_time": 13.80629242
           },
           {
            "iteration": 859,
            "learn": [
             0.07557951987
            ],
            "passed_time": 84.22321677,
            "remaining_time": 13.71075622
           },
           {
            "iteration": 860,
            "learn": [
             0.07543796444
            ],
            "passed_time": 84.3430002,
            "remaining_time": 13.61634963
           },
           {
            "iteration": 861,
            "learn": [
             0.07542638106
            ],
            "passed_time": 84.4411957,
            "remaining_time": 13.51842808
           },
           {
            "iteration": 862,
            "learn": [
             0.07539467719
            ],
            "passed_time": 84.55010512,
            "remaining_time": 13.42220672
           },
           {
            "iteration": 863,
            "learn": [
             0.07533345602
            ],
            "passed_time": 84.64850199,
            "remaining_time": 13.32430124
           },
           {
            "iteration": 864,
            "learn": [
             0.07532270214
            ],
            "passed_time": 84.80723091,
            "remaining_time": 13.2358106
           },
           {
            "iteration": 865,
            "learn": [
             0.07530350867
            ],
            "passed_time": 84.89918657,
            "remaining_time": 13.13682564
           },
           {
            "iteration": 866,
            "learn": [
             0.07528200715
            ],
            "passed_time": 84.9912777,
            "remaining_time": 13.03787766
           },
           {
            "iteration": 867,
            "learn": [
             0.07523552744
            ],
            "passed_time": 85.08995833,
            "remaining_time": 12.93994758
           },
           {
            "iteration": 868,
            "learn": [
             0.07520858877
            ],
            "passed_time": 85.18209455,
            "remaining_time": 12.84102921
           },
           {
            "iteration": 869,
            "learn": [
             0.07518068124
            ],
            "passed_time": 85.28400898,
            "remaining_time": 12.74358755
           },
           {
            "iteration": 870,
            "learn": [
             0.07516512948
            ],
            "passed_time": 85.37815774,
            "remaining_time": 12.64498547
           },
           {
            "iteration": 871,
            "learn": [
             0.07515583571
            ],
            "passed_time": 85.47108767,
            "remaining_time": 12.5462147
           },
           {
            "iteration": 872,
            "learn": [
             0.07513911521
            ],
            "passed_time": 85.56684505,
            "remaining_time": 12.44786864
           },
           {
            "iteration": 873,
            "learn": [
             0.07513289624
            ],
            "passed_time": 85.66362287,
            "remaining_time": 12.34967561
           },
           {
            "iteration": 874,
            "learn": [
             0.07509643582
            ],
            "passed_time": 85.80390344,
            "remaining_time": 12.25770049
           },
           {
            "iteration": 875,
            "learn": [
             0.07509024418
            ],
            "passed_time": 85.89902995,
            "remaining_time": 12.15922342
           },
           {
            "iteration": 876,
            "learn": [
             0.07504847551
            ],
            "passed_time": 85.99894535,
            "remaining_time": 12.06142563
           },
           {
            "iteration": 877,
            "learn": [
             0.07503489727
            ],
            "passed_time": 86.09108596,
            "remaining_time": 11.9625427
           },
           {
            "iteration": 878,
            "learn": [
             0.07490649122
            ],
            "passed_time": 86.19277242,
            "remaining_time": 11.86498915
           },
           {
            "iteration": 879,
            "learn": [
             0.07489388564
            ],
            "passed_time": 86.28899182,
            "remaining_time": 11.7666807
           },
           {
            "iteration": 880,
            "learn": [
             0.07488512985
            ],
            "passed_time": 86.38329958,
            "remaining_time": 11.66811879
           },
           {
            "iteration": 881,
            "learn": [
             0.0748709021
            ],
            "passed_time": 86.47542035,
            "remaining_time": 11.56927392
           },
           {
            "iteration": 882,
            "learn": [
             0.07480762775
            ],
            "passed_time": 86.58851241,
            "remaining_time": 11.47322305
           },
           {
            "iteration": 883,
            "learn": [
             0.07474101555
            ],
            "passed_time": 86.69437481,
            "remaining_time": 11.37618493
           },
           {
            "iteration": 884,
            "learn": [
             0.07472751314
            ],
            "passed_time": 86.83851312,
            "remaining_time": 11.28410057
           },
           {
            "iteration": 885,
            "learn": [
             0.07470216101
            ],
            "passed_time": 86.93580234,
            "remaining_time": 11.18587073
           },
           {
            "iteration": 886,
            "learn": [
             0.07469163797
            ],
            "passed_time": 87.03120912,
            "remaining_time": 11.08740319
           },
           {
            "iteration": 887,
            "learn": [
             0.07468653042
            ],
            "passed_time": 87.13815065,
            "remaining_time": 10.99039738
           },
           {
            "iteration": 888,
            "learn": [
             0.0746692886
            ],
            "passed_time": 87.24387647,
            "remaining_time": 10.89321742
           },
           {
            "iteration": 889,
            "learn": [
             0.07464581255
            ],
            "passed_time": 87.34850478,
            "remaining_time": 10.79588261
           },
           {
            "iteration": 890,
            "learn": [
             0.07461107514
            ],
            "passed_time": 87.46616596,
            "remaining_time": 10.7001258
           },
           {
            "iteration": 891,
            "learn": [
             0.07456490634
            ],
            "passed_time": 87.57969181,
            "remaining_time": 10.60381919
           },
           {
            "iteration": 892,
            "learn": [
             0.07454329616
            ],
            "passed_time": 87.67340275,
            "remaining_time": 10.50509977
           },
           {
            "iteration": 893,
            "learn": [
             0.07448705543
            ],
            "passed_time": 87.76832729,
            "remaining_time": 10.40653545
           },
           {
            "iteration": 894,
            "learn": [
             0.07440103718
            ],
            "passed_time": 87.91633905,
            "remaining_time": 10.31420738
           },
           {
            "iteration": 895,
            "learn": [
             0.0743404691
            ],
            "passed_time": 88.00927203,
            "remaining_time": 10.21536193
           },
           {
            "iteration": 896,
            "learn": [
             0.07431420124
            ],
            "passed_time": 88.11194641,
            "remaining_time": 10.11764825
           },
           {
            "iteration": 897,
            "learn": [
             0.07428169017
            ],
            "passed_time": 88.20601615,
            "remaining_time": 10.01894615
           },
           {
            "iteration": 898,
            "learn": [
             0.07426227158
            ],
            "passed_time": 88.31171185,
            "remaining_time": 9.921560509
           },
           {
            "iteration": 899,
            "learn": [
             0.0742541598
            ],
            "passed_time": 88.41174283,
            "remaining_time": 9.823526981
           },
           {
            "iteration": 900,
            "learn": [
             0.07425296089
            ],
            "passed_time": 88.51472203,
            "remaining_time": 9.725812965
           },
           {
            "iteration": 901,
            "learn": [
             0.0742515575
            ],
            "passed_time": 88.6263962,
            "remaining_time": 9.629031959
           },
           {
            "iteration": 902,
            "learn": [
             0.07413384395
            ],
            "passed_time": 88.7231207,
            "remaining_time": 9.53061208
           },
           {
            "iteration": 903,
            "learn": [
             0.0741175026
            ],
            "passed_time": 88.81420012,
            "remaining_time": 9.431596473
           },
           {
            "iteration": 904,
            "learn": [
             0.07406162849
            ],
            "passed_time": 88.95867301,
            "remaining_time": 9.338203245
           },
           {
            "iteration": 905,
            "learn": [
             0.07401942743
            ],
            "passed_time": 89.0668511,
            "remaining_time": 9.240931571
           },
           {
            "iteration": 906,
            "learn": [
             0.07397696638
            ],
            "passed_time": 89.1626736,
            "remaining_time": 9.142368958
           },
           {
            "iteration": 907,
            "learn": [
             0.07393276163
            ],
            "passed_time": 89.27055753,
            "remaining_time": 9.045034463
           },
           {
            "iteration": 908,
            "learn": [
             0.07389141729
            ],
            "passed_time": 89.37319161,
            "remaining_time": 8.947151196
           },
           {
            "iteration": 909,
            "learn": [
             0.0738569286
            ],
            "passed_time": 89.47659807,
            "remaining_time": 8.849333875
           },
           {
            "iteration": 910,
            "learn": [
             0.07382127947
            ],
            "passed_time": 89.5864975,
            "remaining_time": 8.752138614
           },
           {
            "iteration": 911,
            "learn": [
             0.07379697639
            ],
            "passed_time": 89.68173198,
            "remaining_time": 8.653500454
           },
           {
            "iteration": 912,
            "learn": [
             0.07378729139
            ],
            "passed_time": 89.7728867,
            "remaining_time": 8.554480989
           },
           {
            "iteration": 913,
            "learn": [
             0.07371620101
            ],
            "passed_time": 89.8620744,
            "remaining_time": 8.455293653
           },
           {
            "iteration": 914,
            "learn": [
             0.07369348497
            ],
            "passed_time": 90.00590168,
            "remaining_time": 8.361203981
           },
           {
            "iteration": 915,
            "learn": [
             0.07368379645
            ],
            "passed_time": 90.09811862,
            "remaining_time": 8.262272886
           },
           {
            "iteration": 916,
            "learn": [
             0.07368013916
            ],
            "passed_time": 90.18659883,
            "remaining_time": 8.163018215
           },
           {
            "iteration": 917,
            "learn": [
             0.07367155687
            ],
            "passed_time": 90.2740551,
            "remaining_time": 8.063695554
           },
           {
            "iteration": 918,
            "learn": [
             0.07357962227
            ],
            "passed_time": 90.37297502,
            "remaining_time": 7.965409115
           },
           {
            "iteration": 919,
            "learn": [
             0.0735476914
            ],
            "passed_time": 90.47101091,
            "remaining_time": 7.867044427
           },
           {
            "iteration": 920,
            "learn": [
             0.07348071312
            ],
            "passed_time": 90.58733392,
            "remaining_time": 7.770249055
           },
           {
            "iteration": 921,
            "learn": [
             0.07344285031
            ],
            "passed_time": 90.68165953,
            "remaining_time": 7.671550373
           },
           {
            "iteration": 922,
            "learn": [
             0.07341192888
            ],
            "passed_time": 90.77889846,
            "remaining_time": 7.573104205
           },
           {
            "iteration": 923,
            "learn": [
             0.07339229201
            ],
            "passed_time": 90.87803327,
            "remaining_time": 7.474816589
           },
           {
            "iteration": 924,
            "learn": [
             0.07338154224
            ],
            "passed_time": 90.98368119,
            "remaining_time": 7.377055232
           },
           {
            "iteration": 925,
            "learn": [
             0.07335815125
            ],
            "passed_time": 91.12935609,
            "remaining_time": 7.282475541
           },
           {
            "iteration": 926,
            "learn": [
             0.07334050277
            ],
            "passed_time": 91.22510964,
            "remaining_time": 7.183854373
           },
           {
            "iteration": 927,
            "learn": [
             0.07326721178
            ],
            "passed_time": 91.31708297,
            "remaining_time": 7.084946093
           },
           {
            "iteration": 928,
            "learn": [
             0.0732213672
            ],
            "passed_time": 91.41699864,
            "remaining_time": 6.986659746
           },
           {
            "iteration": 929,
            "learn": [
             0.07320371671
            ],
            "passed_time": 91.50856963,
            "remaining_time": 6.8877418
           },
           {
            "iteration": 930,
            "learn": [
             0.07319982364
            ],
            "passed_time": 91.61677595,
            "remaining_time": 6.790072546
           },
           {
            "iteration": 931,
            "learn": [
             0.07317977322
            ],
            "passed_time": 91.71442392,
            "remaining_time": 6.691610329
           },
           {
            "iteration": 932,
            "learn": [
             0.07312131903
            ],
            "passed_time": 91.80975866,
            "remaining_time": 6.592983741
           },
           {
            "iteration": 933,
            "learn": [
             0.07311168982
            ],
            "passed_time": 91.91196458,
            "remaining_time": 6.494849745
           },
           {
            "iteration": 934,
            "learn": [
             0.07309198891
            ],
            "passed_time": 92.00696667,
            "remaining_time": 6.396206239
           },
           {
            "iteration": 935,
            "learn": [
             0.07307876823
            ],
            "passed_time": 92.24825326,
            "remaining_time": 6.307572872
           },
           {
            "iteration": 936,
            "learn": [
             0.07303980851
            ],
            "passed_time": 92.34239218,
            "remaining_time": 6.208720072
           },
           {
            "iteration": 937,
            "learn": [
             0.07299694125
            ],
            "passed_time": 92.43773853,
            "remaining_time": 6.109957131
           },
           {
            "iteration": 938,
            "learn": [
             0.07295586749
            ],
            "passed_time": 92.54702394,
            "remaining_time": 6.012106987
           },
           {
            "iteration": 939,
            "learn": [
             0.07290229922
            ],
            "passed_time": 92.65455003,
            "remaining_time": 5.914120215
           },
           {
            "iteration": 940,
            "learn": [
             0.07288349983
            ],
            "passed_time": 92.75564705,
            "remaining_time": 5.81571007
           },
           {
            "iteration": 941,
            "learn": [
             0.07282709188
            ],
            "passed_time": 92.8580757,
            "remaining_time": 5.717376211
           },
           {
            "iteration": 942,
            "learn": [
             0.07280374912
            ],
            "passed_time": 92.96409758,
            "remaining_time": 5.619250861
           },
           {
            "iteration": 943,
            "learn": [
             0.0727871652
            ],
            "passed_time": 93.06488619,
            "remaining_time": 5.520798334
           },
           {
            "iteration": 944,
            "learn": [
             0.07271557054
            ],
            "passed_time": 93.1523694,
            "remaining_time": 5.421566473
           },
           {
            "iteration": 945,
            "learn": [
             0.07268375453
            ],
            "passed_time": 93.30998548,
            "remaining_time": 5.326362807
           },
           {
            "iteration": 946,
            "learn": [
             0.07266529116
            ],
            "passed_time": 93.40789493,
            "remaining_time": 5.227685777
           },
           {
            "iteration": 947,
            "learn": [
             0.07262929864
            ],
            "passed_time": 93.51626996,
            "remaining_time": 5.129584428
           },
           {
            "iteration": 948,
            "learn": [
             0.072607454
            ],
            "passed_time": 93.61076986,
            "remaining_time": 5.030715767
           },
           {
            "iteration": 949,
            "learn": [
             0.07259010015
            ],
            "passed_time": 93.71321071,
            "remaining_time": 4.932274248
           },
           {
            "iteration": 950,
            "learn": [
             0.07253266801
            ],
            "passed_time": 93.80697845,
            "remaining_time": 4.833377439
           },
           {
            "iteration": 951,
            "learn": [
             0.07251247869
            ],
            "passed_time": 93.90105396,
            "remaining_time": 4.734506922
           },
           {
            "iteration": 952,
            "learn": [
             0.07249899468
            ],
            "passed_time": 94.00194934,
            "remaining_time": 4.635982811
           },
           {
            "iteration": 953,
            "learn": [
             0.07244618852
            ],
            "passed_time": 94.10349488,
            "remaining_time": 4.537485078
           },
           {
            "iteration": 954,
            "learn": [
             0.07238422034
            ],
            "passed_time": 94.19508553,
            "remaining_time": 4.438511884
           },
           {
            "iteration": 955,
            "learn": [
             0.07233724802
            ],
            "passed_time": 94.35463501,
            "remaining_time": 4.342681946
           },
           {
            "iteration": 956,
            "learn": [
             0.07233524244
            ],
            "passed_time": 94.45612155,
            "remaining_time": 4.244109955
           },
           {
            "iteration": 957,
            "learn": [
             0.07229772503
            ],
            "passed_time": 94.58454469,
            "remaining_time": 4.146712815
           },
           {
            "iteration": 958,
            "learn": [
             0.07228649291
            ],
            "passed_time": 94.69158672,
            "remaining_time": 4.048336867
           },
           {
            "iteration": 959,
            "learn": [
             0.07227517712
            ],
            "passed_time": 94.79078684,
            "remaining_time": 3.949616118
           },
           {
            "iteration": 960,
            "learn": [
             0.07224000938
            ],
            "passed_time": 94.89695586,
            "remaining_time": 3.851177189
           },
           {
            "iteration": 961,
            "learn": [
             0.07221494935
            ],
            "passed_time": 94.99658367,
            "remaining_time": 3.752463804
           },
           {
            "iteration": 962,
            "learn": [
             0.07220980101
            ],
            "passed_time": 95.08982866,
            "remaining_time": 3.653503282
           },
           {
            "iteration": 963,
            "learn": [
             0.07219351896
            ],
            "passed_time": 95.18088081,
            "remaining_time": 3.554472727
           },
           {
            "iteration": 964,
            "learn": [
             0.07211539584
            ],
            "passed_time": 95.27136339,
            "remaining_time": 3.455438051
           },
           {
            "iteration": 965,
            "learn": [
             0.07208739885
            ],
            "passed_time": 95.42387494,
            "remaining_time": 3.358604294
           },
           {
            "iteration": 966,
            "learn": [
             0.07202869226
            ],
            "passed_time": 95.52910123,
            "remaining_time": 3.260041717
           },
           {
            "iteration": 967,
            "learn": [
             0.07201993579
            ],
            "passed_time": 95.61842261,
            "remaining_time": 3.16093959
           },
           {
            "iteration": 968,
            "learn": [
             0.07196816577
            ],
            "passed_time": 95.72017337,
            "remaining_time": 3.062255288
           },
           {
            "iteration": 969,
            "learn": [
             0.07194611384
            ],
            "passed_time": 95.82052086,
            "remaining_time": 2.963521264
           },
           {
            "iteration": 970,
            "learn": [
             0.07192719974
            ],
            "passed_time": 95.91785026,
            "remaining_time": 2.864693777
           },
           {
            "iteration": 971,
            "learn": [
             0.07191655702
            ],
            "passed_time": 96.01814552,
            "remaining_time": 2.765954809
           },
           {
            "iteration": 972,
            "learn": [
             0.07189612659
            ],
            "passed_time": 96.11738662,
            "remaining_time": 2.66718339
           },
           {
            "iteration": 973,
            "learn": [
             0.0718873129
            ],
            "passed_time": 96.21275193,
            "remaining_time": 2.568307546
           },
           {
            "iteration": 974,
            "learn": [
             0.07170900607
            ],
            "passed_time": 96.31238193,
            "remaining_time": 2.469548255
           },
           {
            "iteration": 975,
            "learn": [
             0.07168552042
            ],
            "passed_time": 96.47864478,
            "remaining_time": 2.372425691
           },
           {
            "iteration": 976,
            "learn": [
             0.07167995509
            ],
            "passed_time": 96.56888723,
            "remaining_time": 2.273371961
           },
           {
            "iteration": 977,
            "learn": [
             0.07167153985
            ],
            "passed_time": 96.67073304,
            "remaining_time": 2.174597267
           },
           {
            "iteration": 978,
            "learn": [
             0.0716436218
            ],
            "passed_time": 96.76419205,
            "remaining_time": 2.075636397
           },
           {
            "iteration": 979,
            "learn": [
             0.07154085051
            ],
            "passed_time": 96.88122169,
            "remaining_time": 1.97716779
           },
           {
            "iteration": 980,
            "learn": [
             0.07150801006
            ],
            "passed_time": 96.97675929,
            "remaining_time": 1.878245083
           },
           {
            "iteration": 981,
            "learn": [
             0.07149813259
            ],
            "passed_time": 97.07303825,
            "remaining_time": 1.77934286
           },
           {
            "iteration": 982,
            "learn": [
             0.07148267509
            ],
            "passed_time": 97.17582309,
            "remaining_time": 1.680558487
           },
           {
            "iteration": 983,
            "learn": [
             0.07145955443
            ],
            "passed_time": 97.27363566,
            "remaining_time": 1.581685133
           },
           {
            "iteration": 984,
            "learn": [
             0.07143371298
            ],
            "passed_time": 97.37141677,
            "remaining_time": 1.482813453
           },
           {
            "iteration": 985,
            "learn": [
             0.07141953001
            ],
            "passed_time": 97.52859886,
            "remaining_time": 1.384787408
           },
           {
            "iteration": 986,
            "learn": [
             0.0714083135
            ],
            "passed_time": 97.61536006,
            "remaining_time": 1.285713962
           },
           {
            "iteration": 987,
            "learn": [
             0.07131867307
            ],
            "passed_time": 97.74315723,
            "remaining_time": 1.187163853
           },
           {
            "iteration": 988,
            "learn": [
             0.07128760823
            ],
            "passed_time": 97.85183879,
            "remaining_time": 1.088341989
           },
           {
            "iteration": 989,
            "learn": [
             0.07126113096
            ],
            "passed_time": 97.94495764,
            "remaining_time": 0.9893430064
           },
           {
            "iteration": 990,
            "learn": [
             0.0712498042
            ],
            "passed_time": 98.03672325,
            "remaining_time": 0.8903436017
           },
           {
            "iteration": 991,
            "learn": [
             0.07118447634
            ],
            "passed_time": 98.14274873,
            "remaining_time": 0.7914737801
           },
           {
            "iteration": 992,
            "learn": [
             0.0711824572
            ],
            "passed_time": 98.23244849,
            "remaining_time": 0.6924744606
           },
           {
            "iteration": 993,
            "learn": [
             0.07116627281
            ],
            "passed_time": 98.33396063,
            "remaining_time": 0.5935651547
           },
           {
            "iteration": 994,
            "learn": [
             0.07112117263
            ],
            "passed_time": 98.4350073,
            "remaining_time": 0.4946482779
           },
           {
            "iteration": 995,
            "learn": [
             0.07108683069
            ],
            "passed_time": 98.60409276,
            "remaining_time": 0.3960003725
           },
           {
            "iteration": 996,
            "learn": [
             0.07104682215
            ],
            "passed_time": 98.71132174,
            "remaining_time": 0.2970250404
           },
           {
            "iteration": 997,
            "learn": [
             0.07102124685
            ],
            "passed_time": 98.80537555,
            "remaining_time": 0.1980067646
           },
           {
            "iteration": 998,
            "learn": [
             0.07099326213
            ],
            "passed_time": 98.90481027,
            "remaining_time": 0.09900381408
           },
           {
            "iteration": 999,
            "learn": [
             0.07096967441
            ],
            "passed_time": 99.00018767,
            "remaining_time": 0
           }
          ],
          "meta": {
           "iteration_count": 1000,
           "launch_mode": "Train",
           "learn_metrics": [
            {
             "best_value": "Min",
             "name": "Logloss"
            }
           ],
           "learn_sets": [
            "learn"
           ],
           "name": "experiment",
           "parameters": "",
           "test_metrics": [],
           "test_sets": []
          }
         },
         "passed_iterations": 999,
         "total_iterations": 1000
        },
        "name": "model-0",
        "path": "catboost_info/model-0"
       },
       "catboost_info/model-final": {
        "content": {
         "data": {
          "iterations": [
           {
            "iteration": 0,
            "learn": [
             0.6554437344
            ],
            "passed_time": 0.0278912115,
            "remaining_time": 27.86332029
           },
           {
            "iteration": 1,
            "learn": [
             0.6268760192
            ],
            "passed_time": 0.03776218415,
            "remaining_time": 18.84332989
           },
           {
            "iteration": 2,
            "learn": [
             0.5976089748
            ],
            "passed_time": 0.05377318296,
            "remaining_time": 17.87062114
           },
           {
            "iteration": 3,
            "learn": [
             0.5738461851
            ],
            "passed_time": 0.07337232105,
            "remaining_time": 18.26970794
           },
           {
            "iteration": 4,
            "learn": [
             0.5520224562
            ],
            "passed_time": 0.1048500931,
            "remaining_time": 20.86516853
           },
           {
            "iteration": 5,
            "learn": [
             0.532122691
            ],
            "passed_time": 0.1297104989,
            "remaining_time": 21.48870598
           },
           {
            "iteration": 6,
            "learn": [
             0.5131123243
            ],
            "passed_time": 0.1568091969,
            "remaining_time": 22.24450465
           },
           {
            "iteration": 7,
            "learn": [
             0.4917411163
            ],
            "passed_time": 0.1946745407,
            "remaining_time": 24.13964305
           },
           {
            "iteration": 8,
            "learn": [
             0.4743087309
            ],
            "passed_time": 0.2252793646,
            "remaining_time": 24.80576115
           },
           {
            "iteration": 9,
            "learn": [
             0.4607970921
            ],
            "passed_time": 0.2522694855,
            "remaining_time": 24.97467906
           },
           {
            "iteration": 10,
            "learn": [
             0.4483687851
            ],
            "passed_time": 0.282380522,
            "remaining_time": 25.38857602
           },
           {
            "iteration": 11,
            "learn": [
             0.4352828505
            ],
            "passed_time": 0.3082837282,
            "remaining_time": 25.38202696
           },
           {
            "iteration": 12,
            "learn": [
             0.4233739655
            ],
            "passed_time": 0.3306512912,
            "remaining_time": 25.10406341
           },
           {
            "iteration": 13,
            "learn": [
             0.413571152
            ],
            "passed_time": 0.3586767153,
            "remaining_time": 25.26108866
           },
           {
            "iteration": 14,
            "learn": [
             0.4050065937
            ],
            "passed_time": 0.3929660527,
            "remaining_time": 25.8047708
           },
           {
            "iteration": 15,
            "learn": [
             0.3971908535
            ],
            "passed_time": 0.4121329385,
            "remaining_time": 25.34617572
           },
           {
            "iteration": 16,
            "learn": [
             0.3900431522
            ],
            "passed_time": 0.4258379077,
            "remaining_time": 24.62345078
           },
           {
            "iteration": 17,
            "learn": [
             0.3834888043
            ],
            "passed_time": 0.4479483951,
            "remaining_time": 24.43807355
           },
           {
            "iteration": 18,
            "learn": [
             0.3624424923
            ],
            "passed_time": 0.4878551179,
            "remaining_time": 25.18873004
           },
           {
            "iteration": 19,
            "learn": [
             0.3565871988
            ],
            "passed_time": 0.5251602957,
            "remaining_time": 25.73285449
           },
           {
            "iteration": 20,
            "learn": [
             0.3456659474
            ],
            "passed_time": 0.5885831422,
            "remaining_time": 27.43918553
           },
           {
            "iteration": 21,
            "learn": [
             0.3303228837
            ],
            "passed_time": 0.6586507851,
            "remaining_time": 29.28002126
           },
           {
            "iteration": 22,
            "learn": [
             0.3269358135
            ],
            "passed_time": 0.6744623827,
            "remaining_time": 28.64998904
           },
           {
            "iteration": 23,
            "learn": [
             0.3233673749
            ],
            "passed_time": 0.7174478207,
            "remaining_time": 29.17621137
           },
           {
            "iteration": 24,
            "learn": [
             0.320510084
            ],
            "passed_time": 0.7377437057,
            "remaining_time": 28.77200452
           },
           {
            "iteration": 25,
            "learn": [
             0.3062318272
            ],
            "passed_time": 0.7782674648,
            "remaining_time": 29.15509657
           },
           {
            "iteration": 26,
            "learn": [
             0.2909742245
            ],
            "passed_time": 0.8128116595,
            "remaining_time": 29.29132388
           },
           {
            "iteration": 27,
            "learn": [
             0.2892182162
            ],
            "passed_time": 0.8237550633,
            "remaining_time": 28.59606863
           },
           {
            "iteration": 28,
            "learn": [
             0.2874009928
            ],
            "passed_time": 0.8390948657,
            "remaining_time": 28.09521085
           },
           {
            "iteration": 29,
            "learn": [
             0.2774459931
            ],
            "passed_time": 0.8755708681,
            "remaining_time": 28.31012474
           },
           {
            "iteration": 30,
            "learn": [
             0.2686599579
            ],
            "passed_time": 0.9114332458,
            "remaining_time": 28.4896392
           },
           {
            "iteration": 31,
            "learn": [
             0.2607192879
            ],
            "passed_time": 0.958346899,
            "remaining_time": 28.9899937
           },
           {
            "iteration": 32,
            "learn": [
             0.2522344517
            ],
            "passed_time": 1.000238721,
            "remaining_time": 29.31002554
           },
           {
            "iteration": 33,
            "learn": [
             0.24460704
            ],
            "passed_time": 1.038482342,
            "remaining_time": 29.50511595
           },
           {
            "iteration": 34,
            "learn": [
             0.2385496522
            ],
            "passed_time": 1.079462952,
            "remaining_time": 29.76233567
           },
           {
            "iteration": 35,
            "learn": [
             0.2332681845
            ],
            "passed_time": 1.118961126,
            "remaining_time": 29.96329236
           },
           {
            "iteration": 36,
            "learn": [
             0.2328026007
            ],
            "passed_time": 1.131996109,
            "remaining_time": 29.46249332
           },
           {
            "iteration": 37,
            "learn": [
             0.232307266
            ],
            "passed_time": 1.146592842,
            "remaining_time": 29.026903
           },
           {
            "iteration": 38,
            "learn": [
             0.2258355937
            ],
            "passed_time": 1.189531151,
            "remaining_time": 29.31126759
           },
           {
            "iteration": 39,
            "learn": [
             0.2200260882
            ],
            "passed_time": 1.231181669,
            "remaining_time": 29.54836007
           },
           {
            "iteration": 40,
            "learn": [
             0.2137032528
            ],
            "passed_time": 1.262424862,
            "remaining_time": 29.52842543
           },
           {
            "iteration": 41,
            "learn": [
             0.2115234656
            ],
            "passed_time": 1.305475226,
            "remaining_time": 29.77726825
           },
           {
            "iteration": 42,
            "learn": [
             0.2075239483
            ],
            "passed_time": 1.357125256,
            "remaining_time": 30.2039272
           },
           {
            "iteration": 43,
            "learn": [
             0.2042689622
            ],
            "passed_time": 1.395361352,
            "remaining_time": 30.31739664
           },
           {
            "iteration": 44,
            "learn": [
             0.1998342585
            ],
            "passed_time": 1.434986606,
            "remaining_time": 30.45360463
           },
           {
            "iteration": 45,
            "learn": [
             0.1967959833
            ],
            "passed_time": 1.475214654,
            "remaining_time": 30.59466913
           },
           {
            "iteration": 46,
            "learn": [
             0.1927634302
            ],
            "passed_time": 1.517214576,
            "remaining_time": 30.76394661
           },
           {
            "iteration": 47,
            "learn": [
             0.1886004562
            ],
            "passed_time": 1.557103606,
            "remaining_time": 30.88255486
           },
           {
            "iteration": 48,
            "learn": [
             0.1850609185
            ],
            "passed_time": 1.622538745,
            "remaining_time": 31.49049687
           },
           {
            "iteration": 49,
            "learn": [
             0.1822219322
            ],
            "passed_time": 1.695971649,
            "remaining_time": 32.22346133
           },
           {
            "iteration": 50,
            "learn": [
             0.1774985431
            ],
            "passed_time": 1.7453088,
            "remaining_time": 32.47643237
           },
           {
            "iteration": 51,
            "learn": [
             0.1739084857
            ],
            "passed_time": 1.780413726,
            "remaining_time": 32.45831177
           },
           {
            "iteration": 52,
            "learn": [
             0.1700627276
            ],
            "passed_time": 1.818973757,
            "remaining_time": 32.50128581
           },
           {
            "iteration": 53,
            "learn": [
             0.1666008557
            ],
            "passed_time": 1.855312784,
            "remaining_time": 32.50233136
           },
           {
            "iteration": 54,
            "learn": [
             0.1637387918
            ],
            "passed_time": 1.884944857,
            "remaining_time": 32.38677982
           },
           {
            "iteration": 55,
            "learn": [
             0.161312866
            ],
            "passed_time": 1.921723523,
            "remaining_time": 32.39476796
           },
           {
            "iteration": 56,
            "learn": [
             0.1584994568
            ],
            "passed_time": 1.949512879,
            "remaining_time": 32.25246746
           },
           {
            "iteration": 57,
            "learn": [
             0.1560160679
            ],
            "passed_time": 1.977114562,
            "remaining_time": 32.11106754
           },
           {
            "iteration": 58,
            "learn": [
             0.1547385052
            ],
            "passed_time": 2.019112776,
            "remaining_time": 32.20313766
           },
           {
            "iteration": 59,
            "learn": [
             0.1523694974
            ],
            "passed_time": 2.052034412,
            "remaining_time": 32.14853912
           },
           {
            "iteration": 60,
            "learn": [
             0.1503185235
            ],
            "passed_time": 2.079530192,
            "remaining_time": 32.0111287
           },
           {
            "iteration": 61,
            "learn": [
             0.1485069944
            ],
            "passed_time": 2.109904953,
            "remaining_time": 31.92082009
           },
           {
            "iteration": 62,
            "learn": [
             0.1469121268
            ],
            "passed_time": 2.1382129,
            "remaining_time": 31.8016744
           },
           {
            "iteration": 63,
            "learn": [
             0.1452200389
            ],
            "passed_time": 2.167790267,
            "remaining_time": 31.70393266
           },
           {
            "iteration": 64,
            "learn": [
             0.1442445474
            ],
            "passed_time": 2.215949055,
            "remaining_time": 31.87557487
           },
           {
            "iteration": 65,
            "learn": [
             0.143180673
            ],
            "passed_time": 2.257120596,
            "remaining_time": 31.94167631
           },
           {
            "iteration": 66,
            "learn": [
             0.1416971855
            ],
            "passed_time": 2.293457432,
            "remaining_time": 31.9372505
           },
           {
            "iteration": 67,
            "learn": [
             0.1400864174
            ],
            "passed_time": 2.323508646,
            "remaining_time": 31.84573615
           },
           {
            "iteration": 68,
            "learn": [
             0.138998048
            ],
            "passed_time": 2.358790393,
            "remaining_time": 31.82657763
           },
           {
            "iteration": 69,
            "learn": [
             0.1378198432
            ],
            "passed_time": 2.392116428,
            "remaining_time": 31.7809754
           },
           {
            "iteration": 70,
            "learn": [
             0.1367067724
            ],
            "passed_time": 2.422105714,
            "remaining_time": 31.69205928
           },
           {
            "iteration": 71,
            "learn": [
             0.1354033911
            ],
            "passed_time": 2.459134894,
            "remaining_time": 31.69551642
           },
           {
            "iteration": 72,
            "learn": [
             0.1338196009
            ],
            "passed_time": 2.497338305,
            "remaining_time": 31.71277546
           },
           {
            "iteration": 73,
            "learn": [
             0.1330866672
            ],
            "passed_time": 2.542616655,
            "remaining_time": 31.81706788
           },
           {
            "iteration": 74,
            "learn": [
             0.1324063697
            ],
            "passed_time": 2.580756671,
            "remaining_time": 31.82933228
           },
           {
            "iteration": 75,
            "learn": [
             0.1318670884
            ],
            "passed_time": 2.616945007,
            "remaining_time": 31.81654193
           },
           {
            "iteration": 76,
            "learn": [
             0.1307441189
            ],
            "passed_time": 2.657736718,
            "remaining_time": 31.85832455
           },
           {
            "iteration": 77,
            "learn": [
             0.1301388957
            ],
            "passed_time": 2.752215895,
            "remaining_time": 32.53260327
           },
           {
            "iteration": 78,
            "learn": [
             0.1292627167
            ],
            "passed_time": 2.79340959,
            "remaining_time": 32.56620547
           },
           {
            "iteration": 79,
            "learn": [
             0.1288460346
            ],
            "passed_time": 2.839158398,
            "remaining_time": 32.65032157
           },
           {
            "iteration": 80,
            "learn": [
             0.1284170403
            ],
            "passed_time": 2.881935381,
            "remaining_time": 32.69751377
           },
           {
            "iteration": 81,
            "learn": [
             0.1273195522
            ],
            "passed_time": 2.927255831,
            "remaining_time": 32.77098601
           },
           {
            "iteration": 82,
            "learn": [
             0.1267539979
            ],
            "passed_time": 2.969953941,
            "remaining_time": 32.81262366
           },
           {
            "iteration": 83,
            "learn": [
             0.1259563733
            ],
            "passed_time": 3.004574747,
            "remaining_time": 32.76417224
           },
           {
            "iteration": 84,
            "learn": [
             0.1255437676
            ],
            "passed_time": 3.042601146,
            "remaining_time": 32.75270645
           },
           {
            "iteration": 85,
            "learn": [
             0.1249052321
            ],
            "passed_time": 3.082598713,
            "remaining_time": 32.76157237
           },
           {
            "iteration": 86,
            "learn": [
             0.1245663245
            ],
            "passed_time": 3.123112808,
            "remaining_time": 32.77473556
           },
           {
            "iteration": 87,
            "learn": [
             0.1241007756
            ],
            "passed_time": 3.165538853,
            "remaining_time": 32.80649356
           },
           {
            "iteration": 88,
            "learn": [
             0.1238608642
            ],
            "passed_time": 3.211797346,
            "remaining_time": 32.87581328
           },
           {
            "iteration": 89,
            "learn": [
             0.1235118913
            ],
            "passed_time": 3.255986971,
            "remaining_time": 32.92164604
           },
           {
            "iteration": 90,
            "learn": [
             0.1231342786
            ],
            "passed_time": 3.292878933,
            "remaining_time": 32.89260385
           },
           {
            "iteration": 91,
            "learn": [
             0.1223199223
            ],
            "passed_time": 3.332263786,
            "remaining_time": 32.88799475
           },
           {
            "iteration": 92,
            "learn": [
             0.1219419609
            ],
            "passed_time": 3.368739534,
            "remaining_time": 32.85426621
           },
           {
            "iteration": 93,
            "learn": [
             0.1213858808
            ],
            "passed_time": 3.406138081,
            "remaining_time": 32.82937342
           },
           {
            "iteration": 94,
            "learn": [
             0.1206856098
            ],
            "passed_time": 3.440205498,
            "remaining_time": 32.77248395
           },
           {
            "iteration": 95,
            "learn": [
             0.1203057433
            ],
            "passed_time": 3.480199389,
            "remaining_time": 32.77187758
           },
           {
            "iteration": 96,
            "learn": [
             0.1197041058
            ],
            "passed_time": 3.521431918,
            "remaining_time": 32.78198992
           },
           {
            "iteration": 97,
            "learn": [
             0.1193319622
            ],
            "passed_time": 3.567833187,
            "remaining_time": 32.8386279
           },
           {
            "iteration": 98,
            "learn": [
             0.1189919473
            ],
            "passed_time": 3.611609107,
            "remaining_time": 32.86929097
           },
           {
            "iteration": 99,
            "learn": [
             0.1188104869
            ],
            "passed_time": 3.651316592,
            "remaining_time": 32.86184933
           },
           {
            "iteration": 100,
            "learn": [
             0.1185213039
            ],
            "passed_time": 3.701249893,
            "remaining_time": 32.94478865
           },
           {
            "iteration": 101,
            "learn": [
             0.1182928031
            ],
            "passed_time": 3.802367689,
            "remaining_time": 33.47574691
           },
           {
            "iteration": 102,
            "learn": [
             0.1181276434
            ],
            "passed_time": 3.845905098,
            "remaining_time": 33.49297935
           },
           {
            "iteration": 103,
            "learn": [
             0.1176818723
            ],
            "passed_time": 3.892682672,
            "remaining_time": 33.53695841
           },
           {
            "iteration": 104,
            "learn": [
             0.1174292312
            ],
            "passed_time": 3.936078456,
            "remaining_time": 33.55038303
           },
           {
            "iteration": 105,
            "learn": [
             0.1174208524
            ],
            "passed_time": 3.945500204,
            "remaining_time": 33.27619983
           },
           {
            "iteration": 106,
            "learn": [
             0.116624137
            ],
            "passed_time": 3.986736156,
            "remaining_time": 33.27248026
           },
           {
            "iteration": 107,
            "learn": [
             0.1164363534
            ],
            "passed_time": 4.023142052,
            "remaining_time": 33.22817325
           },
           {
            "iteration": 108,
            "learn": [
             0.1161998785
            ],
            "passed_time": 4.06212369,
            "remaining_time": 33.20506613
           },
           {
            "iteration": 109,
            "learn": [
             0.115825643
            ],
            "passed_time": 4.0980126,
            "remaining_time": 33.1566474
           },
           {
            "iteration": 110,
            "learn": [
             0.1154755508
            ],
            "passed_time": 4.14267517,
            "remaining_time": 33.17872276
           },
           {
            "iteration": 111,
            "learn": [
             0.1151885451
            ],
            "passed_time": 4.181219082,
            "remaining_time": 33.15109415
           },
           {
            "iteration": 112,
            "learn": [
             0.1149481807
            ],
            "passed_time": 4.213036307,
            "remaining_time": 33.07047084
           },
           {
            "iteration": 113,
            "learn": [
             0.114600104
            ],
            "passed_time": 4.251844753,
            "remaining_time": 33.04503904
           },
           {
            "iteration": 114,
            "learn": [
             0.1144385432
            ],
            "passed_time": 4.287777404,
            "remaining_time": 32.9972435
           },
           {
            "iteration": 115,
            "learn": [
             0.1142924273
            ],
            "passed_time": 4.327037746,
            "remaining_time": 32.97501179
           },
           {
            "iteration": 116,
            "learn": [
             0.1141484973
            ],
            "passed_time": 4.372951196,
            "remaining_time": 33.00270005
           },
           {
            "iteration": 117,
            "learn": [
             0.1140540728
            ],
            "passed_time": 4.412903202,
            "remaining_time": 32.98458156
           },
           {
            "iteration": 118,
            "learn": [
             0.1139001101
            ],
            "passed_time": 4.455138954,
            "remaining_time": 32.98300352
           },
           {
            "iteration": 119,
            "learn": [
             0.1138302332
            ],
            "passed_time": 4.490631936,
            "remaining_time": 32.93130086
           },
           {
            "iteration": 120,
            "learn": [
             0.1137091574
            ],
            "passed_time": 4.529271081,
            "remaining_time": 32.90272132
           },
           {
            "iteration": 121,
            "learn": [
             0.1134764316
            ],
            "passed_time": 4.562774413,
            "remaining_time": 32.83701586
           },
           {
            "iteration": 122,
            "learn": [
             0.1134198394
            ],
            "passed_time": 4.595762716,
            "remaining_time": 32.7681618
           },
           {
            "iteration": 123,
            "learn": [
             0.113356602
            ],
            "passed_time": 4.627549682,
            "remaining_time": 32.69139936
           },
           {
            "iteration": 124,
            "learn": [
             0.1130120378
            ],
            "passed_time": 4.666586441,
            "remaining_time": 32.66610509
           },
           {
            "iteration": 125,
            "learn": [
             0.1129223401
            ],
            "passed_time": 4.699061866,
            "remaining_time": 32.59507993
           },
           {
            "iteration": 126,
            "learn": [
             0.1127609139
            ],
            "passed_time": 4.734725895,
            "remaining_time": 32.54658037
           },
           {
            "iteration": 127,
            "learn": [
             0.1125503888
            ],
            "passed_time": 4.845133038,
            "remaining_time": 33.00746882
           },
           {
            "iteration": 128,
            "learn": [
             0.1123244643
            ],
            "passed_time": 4.8844129,
            "remaining_time": 32.97925299
           },
           {
            "iteration": 129,
            "learn": [
             0.1122311485
            ],
            "passed_time": 4.919547849,
            "remaining_time": 32.92312791
           },
           {
            "iteration": 130,
            "learn": [
             0.1121833098
            ],
            "passed_time": 4.954647612,
            "remaining_time": 32.86708989
           },
           {
            "iteration": 131,
            "learn": [
             0.1121133006
            ],
            "passed_time": 4.993126604,
            "remaining_time": 32.83359009
           },
           {
            "iteration": 132,
            "learn": [
             0.111870934
            ],
            "passed_time": 5.037048629,
            "remaining_time": 32.83549745
           },
           {
            "iteration": 133,
            "learn": [
             0.111826898
            ],
            "passed_time": 5.077468137,
            "remaining_time": 32.81408513
           },
           {
            "iteration": 134,
            "learn": [
             0.1115475915
            ],
            "passed_time": 5.121153763,
            "remaining_time": 32.81331856
           },
           {
            "iteration": 135,
            "learn": [
             0.1114691488
            ],
            "passed_time": 5.161377144,
            "remaining_time": 32.78992538
           },
           {
            "iteration": 136,
            "learn": [
             0.1113921528
            ],
            "passed_time": 5.197888549,
            "remaining_time": 32.74290378
           },
           {
            "iteration": 137,
            "learn": [
             0.1112219332
            ],
            "passed_time": 5.233838844,
            "remaining_time": 32.69252959
           },
           {
            "iteration": 138,
            "learn": [
             0.1110545645
            ],
            "passed_time": 5.2773627,
            "remaining_time": 32.68927543
           },
           {
            "iteration": 139,
            "learn": [
             0.1108729833
            ],
            "passed_time": 5.312458585,
            "remaining_time": 32.63367416
           },
           {
            "iteration": 140,
            "learn": [
             0.1106055704
            ],
            "passed_time": 5.346773219,
            "remaining_time": 32.57360422
           },
           {
            "iteration": 141,
            "learn": [
             0.1103957967
            ],
            "passed_time": 5.386757985,
            "remaining_time": 32.5481574
           },
           {
            "iteration": 142,
            "learn": [
             0.1103359728
            ],
            "passed_time": 5.419814688,
            "remaining_time": 32.48098733
           },
           {
            "iteration": 143,
            "learn": [
             0.1102734152
            ],
            "passed_time": 5.455312909,
            "remaining_time": 32.42880451
           },
           {
            "iteration": 144,
            "learn": [
             0.1100364268
            ],
            "passed_time": 5.494926012,
            "remaining_time": 32.40111545
           },
           {
            "iteration": 145,
            "learn": [
             0.1099371754
            ],
            "passed_time": 5.535707439,
            "remaining_time": 32.38009694
           },
           {
            "iteration": 146,
            "learn": [
             0.1098288518
            ],
            "passed_time": 5.573153832,
            "remaining_time": 32.33945727
           },
           {
            "iteration": 147,
            "learn": [
             0.1095646176
            ],
            "passed_time": 5.607494771,
            "remaining_time": 32.28098341
           },
           {
            "iteration": 148,
            "learn": [
             0.1095545753
            ],
            "passed_time": 5.637694157,
            "remaining_time": 32.19917938
           },
           {
            "iteration": 149,
            "learn": [
             0.1094167647
            ],
            "passed_time": 5.676610058,
            "remaining_time": 32.16745699
           },
           {
            "iteration": 150,
            "learn": [
             0.1093188093
            ],
            "passed_time": 5.706397135,
            "remaining_time": 32.08431237
           },
           {
            "iteration": 151,
            "learn": [
             0.1091641963
            ],
            "passed_time": 5.741372335,
            "remaining_time": 32.03081408
           },
           {
            "iteration": 152,
            "learn": [
             0.1090586317
            ],
            "passed_time": 5.7759442,
            "remaining_time": 31.97532508
           },
           {
            "iteration": 153,
            "learn": [
             0.1090014191
            ],
            "passed_time": 5.880285106,
            "remaining_time": 32.30338441
           },
           {
            "iteration": 154,
            "learn": [
             0.1088387454
            ],
            "passed_time": 5.931707417,
            "remaining_time": 32.33737269
           },
           {
            "iteration": 155,
            "learn": [
             0.1087191619
            ],
            "passed_time": 5.974799857,
            "remaining_time": 32.32519923
           },
           {
            "iteration": 156,
            "learn": [
             0.1087171824
            ],
            "passed_time": 5.998744113,
            "remaining_time": 32.20981712
           },
           {
            "iteration": 157,
            "learn": [
             0.1085598735
            ],
            "passed_time": 6.039979513,
            "remaining_time": 32.18773893
           },
           {
            "iteration": 158,
            "learn": [
             0.1084792531
            ],
            "passed_time": 6.079390278,
            "remaining_time": 32.1557687
           },
           {
            "iteration": 159,
            "learn": [
             0.1084095299
            ],
            "passed_time": 6.116918047,
            "remaining_time": 32.11381975
           },
           {
            "iteration": 160,
            "learn": [
             0.1083080289
            ],
            "passed_time": 6.160002682,
            "remaining_time": 32.10088354
           },
           {
            "iteration": 161,
            "learn": [
             0.1082953988
            ],
            "passed_time": 6.197888383,
            "remaining_time": 32.06068188
           },
           {
            "iteration": 162,
            "learn": [
             0.108131664
            ],
            "passed_time": 6.239437029,
            "remaining_time": 32.03931775
           },
           {
            "iteration": 163,
            "learn": [
             0.1080362234
            ],
            "passed_time": 6.275825505,
            "remaining_time": 31.99140318
           },
           {
            "iteration": 164,
            "learn": [
             0.1079226489
            ],
            "passed_time": 6.313361344,
            "remaining_time": 31.94943468
           },
           {
            "iteration": 165,
            "learn": [
             0.1078450617
            ],
            "passed_time": 6.344704215,
            "remaining_time": 31.87640551
           },
           {
            "iteration": 166,
            "learn": [
             0.1078370559
            ],
            "passed_time": 6.38412643,
            "remaining_time": 31.84417554
           },
           {
            "iteration": 167,
            "learn": [
             0.1077322393
            ],
            "passed_time": 6.419351786,
            "remaining_time": 31.79107551
           },
           {
            "iteration": 168,
            "learn": [
             0.1076928896
            ],
            "passed_time": 6.454218267,
            "remaining_time": 31.73642237
           },
           {
            "iteration": 169,
            "learn": [
             0.1076343899
            ],
            "passed_time": 6.497063838,
            "remaining_time": 31.72095874
           },
           {
            "iteration": 170,
            "learn": [
             0.1073406322
            ],
            "passed_time": 6.533885681,
            "remaining_time": 31.6759721
           },
           {
            "iteration": 171,
            "learn": [
             0.1071238079
            ],
            "passed_time": 6.571305458,
            "remaining_time": 31.63395883
           },
           {
            "iteration": 172,
            "learn": [
             0.1070211226
            ],
            "passed_time": 6.604648806,
            "remaining_time": 31.57251192
           },
           {
            "iteration": 173,
            "learn": [
             0.1069229049
            ],
            "passed_time": 6.642677391,
            "remaining_time": 31.53362945
           },
           {
            "iteration": 174,
            "learn": [
             0.1068287295
            ],
            "passed_time": 6.675220519,
            "remaining_time": 31.46889673
           },
           {
            "iteration": 175,
            "learn": [
             0.1067348994
            ],
            "passed_time": 6.707774845,
            "remaining_time": 31.40458223
           },
           {
            "iteration": 176,
            "learn": [
             0.1066834243
            ],
            "passed_time": 6.743381715,
            "remaining_time": 31.35482007
           },
           {
            "iteration": 177,
            "learn": [
             0.1066377108
            ],
            "passed_time": 6.778763681,
            "remaining_time": 31.30417835
           },
           {
            "iteration": 178,
            "learn": [
             0.106635771
            ],
            "passed_time": 6.799682768,
            "remaining_time": 31.1873718
           },
           {
            "iteration": 179,
            "learn": [
             0.1065728381
            ],
            "passed_time": 6.845010486,
            "remaining_time": 31.18282555
           },
           {
            "iteration": 180,
            "learn": [
             0.1064740467
            ],
            "passed_time": 7.047841371,
            "remaining_time": 31.89050875
           },
           {
            "iteration": 181,
            "learn": [
             0.1062302354
            ],
            "passed_time": 7.092146128,
            "remaining_time": 31.87568974
           },
           {
            "iteration": 182,
            "learn": [
             0.1062276028
            ],
            "passed_time": 7.111128235,
            "remaining_time": 31.747496
           },
           {
            "iteration": 183,
            "learn": [
             0.1062268548
            ],
            "passed_time": 7.120483453,
            "remaining_time": 31.57779618
           },
           {
            "iteration": 184,
            "learn": [
             0.1060640508
            ],
            "passed_time": 7.153690365,
            "remaining_time": 31.5149062
           },
           {
            "iteration": 185,
            "learn": [
             0.1060624696
            ],
            "passed_time": 7.178373152,
            "remaining_time": 31.41503089
           },
           {
            "iteration": 186,
            "learn": [
             0.1059208378
            ],
            "passed_time": 7.218714436,
            "remaining_time": 31.38403656
           },
           {
            "iteration": 187,
            "learn": [
             0.1058944904
            ],
            "passed_time": 7.255893648,
            "remaining_time": 31.33928533
           },
           {
            "iteration": 188,
            "learn": [
             0.1058054367
            ],
            "passed_time": 7.303279554,
            "remaining_time": 31.33841121
           },
           {
            "iteration": 189,
            "learn": [
             0.1056326713
            ],
            "passed_time": 7.339153994,
            "remaining_time": 31.28797229
           },
           {
            "iteration": 190,
            "learn": [
             0.105558111
            ],
            "passed_time": 7.383579035,
            "remaining_time": 31.27390282
           },
           {
            "iteration": 191,
            "learn": [
             0.105505108
            ],
            "passed_time": 7.428031935,
            "remaining_time": 31.25963439
           },
           {
            "iteration": 192,
            "learn": [
             0.105451566
            ],
            "passed_time": 7.466814418,
            "remaining_time": 31.22134319
           },
           {
            "iteration": 193,
            "learn": [
             0.1053981755
            ],
            "passed_time": 7.502373338,
            "remaining_time": 31.16965418
           },
           {
            "iteration": 194,
            "learn": [
             0.1053976848
            ],
            "passed_time": 7.512377742,
            "remaining_time": 31.01263632
           },
           {
            "iteration": 195,
            "learn": [
             0.1053635022
            ],
            "passed_time": 7.546378143,
            "remaining_time": 30.95555116
           },
           {
            "iteration": 196,
            "learn": [
             0.1053044847
            ],
            "passed_time": 7.581067346,
            "remaining_time": 30.90150801
           },
           {
            "iteration": 197,
            "learn": [
             0.1052221764
            ],
            "passed_time": 7.621440513,
            "remaining_time": 30.87068329
           },
           {
            "iteration": 198,
            "learn": [
             0.1051466879
            ],
            "passed_time": 7.649619355,
            "remaining_time": 30.79067891
           },
           {
            "iteration": 199,
            "learn": [
             0.1051233472
            ],
            "passed_time": 7.687633542,
            "remaining_time": 30.75053417
           },
           {
            "iteration": 200,
            "learn": [
             0.1050795168
            ],
            "passed_time": 7.729661315,
            "remaining_time": 30.72636513
           },
           {
            "iteration": 201,
            "learn": [
             0.1049397459
            ],
            "passed_time": 7.772362013,
            "remaining_time": 30.70467765
           },
           {
            "iteration": 202,
            "learn": [
             0.1048708675
            ],
            "passed_time": 7.809265154,
            "remaining_time": 30.66002132
           },
           {
            "iteration": 203,
            "learn": [
             0.1048499061
            ],
            "passed_time": 7.843275836,
            "remaining_time": 30.60415473
           },
           {
            "iteration": 204,
            "learn": [
             0.104836004
            ],
            "passed_time": 7.887097729,
            "remaining_time": 30.58654973
           },
           {
            "iteration": 205,
            "learn": [
             0.1047959197
            ],
            "passed_time": 7.92222509,
            "remaining_time": 30.53517826
           },
           {
            "iteration": 206,
            "learn": [
             0.1047588201
            ],
            "passed_time": 7.957150729,
            "remaining_time": 30.48319096
           },
           {
            "iteration": 207,
            "learn": [
             0.1047084337
            ],
            "passed_time": 8.019710904,
            "remaining_time": 30.53659152
           },
           {
            "iteration": 208,
            "learn": [
             0.1046655153
            ],
            "passed_time": 8.120740389,
            "remaining_time": 30.73447678
           },
           {
            "iteration": 209,
            "learn": [
             0.1046307687
            ],
            "passed_time": 8.184517438,
            "remaining_time": 30.78937512
           },
           {
            "iteration": 210,
            "learn": [
             0.1045670931
            ],
            "passed_time": 8.217876645,
            "remaining_time": 30.72940603
           },
           {
            "iteration": 211,
            "learn": [
             0.1043495588
            ],
            "passed_time": 8.256019458,
            "remaining_time": 30.68746855
           },
           {
            "iteration": 212,
            "learn": [
             0.1042963402
            ],
            "passed_time": 8.297625412,
            "remaining_time": 30.65836244
           },
           {
            "iteration": 213,
            "learn": [
             0.1042783425
            ],
            "passed_time": 8.331589166,
            "remaining_time": 30.60107049
           },
           {
            "iteration": 214,
            "learn": [
             0.1042245784
            ],
            "passed_time": 8.377922158,
            "remaining_time": 30.58915765
           },
           {
            "iteration": 215,
            "learn": [
             0.1042102649
            ],
            "passed_time": 8.415755859,
            "remaining_time": 30.54607682
           },
           {
            "iteration": 216,
            "learn": [
             0.1041805579
            ],
            "passed_time": 8.448327384,
            "remaining_time": 30.48405688
           },
           {
            "iteration": 217,
            "learn": [
             0.1041664624
            ],
            "passed_time": 8.480218197,
            "remaining_time": 30.41986527
           },
           {
            "iteration": 218,
            "learn": [
             0.1041060311
            ],
            "passed_time": 8.516433472,
            "remaining_time": 30.3713906
           },
           {
            "iteration": 219,
            "learn": [
             0.1040844381
            ],
            "passed_time": 8.555761041,
            "remaining_time": 30.33406187
           },
           {
            "iteration": 220,
            "learn": [
             0.1040418902
            ],
            "passed_time": 8.594272344,
            "remaining_time": 30.29383781
           },
           {
            "iteration": 221,
            "learn": [
             0.1038574429
            ],
            "passed_time": 8.63438894,
            "remaining_time": 30.25925494
           },
           {
            "iteration": 222,
            "learn": [
             0.1037269841
            ],
            "passed_time": 8.676230206,
            "remaining_time": 30.2306317
           },
           {
            "iteration": 223,
            "learn": [
             0.1035899247
            ],
            "passed_time": 8.731482098,
            "remaining_time": 30.2483487
           },
           {
            "iteration": 224,
            "learn": [
             0.1035675551
            ],
            "passed_time": 8.765940199,
            "remaining_time": 30.19379402
           },
           {
            "iteration": 225,
            "learn": [
             0.1034476676
            ],
            "passed_time": 8.799109067,
            "remaining_time": 30.13500185
           },
           {
            "iteration": 226,
            "learn": [
             0.1033960322
            ],
            "passed_time": 8.832948064,
            "remaining_time": 30.07871742
           },
           {
            "iteration": 227,
            "learn": [
             0.1033270711
            ],
            "passed_time": 8.873036171,
            "remaining_time": 30.04378914
           },
           {
            "iteration": 228,
            "learn": [
             0.1032737172
            ],
            "passed_time": 8.914503857,
            "remaining_time": 30.01346058
           },
           {
            "iteration": 229,
            "learn": [
             0.103232133
            ],
            "passed_time": 8.951579388,
            "remaining_time": 29.968331
           },
           {
            "iteration": 230,
            "learn": [
             0.1032316681
            ],
            "passed_time": 8.974976269,
            "remaining_time": 29.87773485
           },
           {
            "iteration": 231,
            "learn": [
             0.1031508809
            ],
            "passed_time": 9.021839033,
            "remaining_time": 29.86539818
           },
           {
            "iteration": 232,
            "learn": [
             0.10312052
            ],
            "passed_time": 9.073286996,
            "remaining_time": 29.86785891
           },
           {
            "iteration": 233,
            "learn": [
             0.103050338
            ],
            "passed_time": 9.161317339,
            "remaining_time": 29.98961146
           },
           {
            "iteration": 234,
            "learn": [
             0.1030474571
            ],
            "passed_time": 9.197530438,
            "remaining_time": 29.94089696
           },
           {
            "iteration": 235,
            "learn": [
             0.1029754331
            ],
            "passed_time": 9.240719485,
            "remaining_time": 29.91487155
           },
           {
            "iteration": 236,
            "learn": [
             0.1029263682
            ],
            "passed_time": 9.273296705,
            "remaining_time": 29.85453749
           },
           {
            "iteration": 237,
            "learn": [
             0.1028775027
            ],
            "passed_time": 9.31156181,
            "remaining_time": 29.81264748
           },
           {
            "iteration": 238,
            "learn": [
             0.1028414638
            ],
            "passed_time": 9.340776695,
            "remaining_time": 29.74197098
           },
           {
            "iteration": 239,
            "learn": [
             0.1027880025
            ],
            "passed_time": 9.384899492,
            "remaining_time": 29.71884839
           },
           {
            "iteration": 240,
            "learn": [
             0.1027652899
            ],
            "passed_time": 9.421240271,
            "remaining_time": 29.67104301
           },
           {
            "iteration": 241,
            "learn": [
             0.1027498489
            ],
            "passed_time": 9.453071794,
            "remaining_time": 29.60920834
           },
           {
            "iteration": 242,
            "learn": [
             0.1027016232
            ],
            "passed_time": 9.494827479,
            "remaining_time": 29.57853663
           },
           {
            "iteration": 243,
            "learn": [
             0.1026435777
            ],
            "passed_time": 9.531669387,
            "remaining_time": 29.53254941
           },
           {
            "iteration": 244,
            "learn": [
             0.1025933573
            ],
            "passed_time": 9.567536472,
            "remaining_time": 29.4836328
           },
           {
            "iteration": 245,
            "learn": [
             0.1025526221
            ],
            "passed_time": 9.601060848,
            "remaining_time": 29.42764179
           },
           {
            "iteration": 246,
            "learn": [
             0.1025114017
            ],
            "passed_time": 9.638612795,
            "remaining_time": 29.38411107
           },
           {
            "iteration": 247,
            "learn": [
             0.1024072929
            ],
            "passed_time": 9.675259431,
            "remaining_time": 29.33788344
           },
           {
            "iteration": 248,
            "learn": [
             0.1023182562
            ],
            "passed_time": 9.712974145,
            "remaining_time": 29.29495415
           },
           {
            "iteration": 249,
            "learn": [
             0.1022941288
            ],
            "passed_time": 9.745252932,
            "remaining_time": 29.23575879
           },
           {
            "iteration": 250,
            "learn": [
             0.1021969764
            ],
            "passed_time": 9.782661717,
            "remaining_time": 29.19208616
           },
           {
            "iteration": 251,
            "learn": [
             0.1021744064
            ],
            "passed_time": 9.822778197,
            "remaining_time": 29.15650036
           },
           {
            "iteration": 252,
            "learn": [
             0.1021191201
            ],
            "passed_time": 9.860529324,
            "remaining_time": 29.11389488
           },
           {
            "iteration": 253,
            "learn": [
             0.1019060657
            ],
            "passed_time": 9.907210475,
            "remaining_time": 29.09755518
           },
           {
            "iteration": 254,
            "learn": [
             0.1018912036
            ],
            "passed_time": 9.947989115,
            "remaining_time": 29.0637329
           },
           {
            "iteration": 255,
            "learn": [
             0.1018249056
            ],
            "passed_time": 9.981259438,
            "remaining_time": 29.00803524
           },
           {
            "iteration": 256,
            "learn": [
             0.1017795113
            ],
            "passed_time": 10.01795184,
            "remaining_time": 28.96240551
           },
           {
            "iteration": 257,
            "learn": [
             0.1017519684
            ],
            "passed_time": 10.05259319,
            "remaining_time": 28.9109463
           },
           {
            "iteration": 258,
            "learn": [
             0.1016575329
            ],
            "passed_time": 10.09515613,
            "remaining_time": 28.88228067
           },
           {
            "iteration": 259,
            "learn": [
             0.1016434939
            ],
            "passed_time": 10.19920737,
            "remaining_time": 29.0285133
           },
           {
            "iteration": 260,
            "learn": [
             0.1016376746
            ],
            "passed_time": 10.23063679,
            "remaining_time": 28.96720533
           },
           {
            "iteration": 261,
            "learn": [
             0.1014459669
            ],
            "passed_time": 10.27235345,
            "remaining_time": 28.93510248
           },
           {
            "iteration": 262,
            "learn": [
             0.1014397836
            ],
            "passed_time": 10.30703245,
            "remaining_time": 28.88320501
           },
           {
            "iteration": 263,
            "learn": [
             0.1014256127
            ],
            "passed_time": 10.34349069,
            "remaining_time": 28.83639828
           },
           {
            "iteration": 264,
            "learn": [
             0.1014148766
            ],
            "passed_time": 10.38062466,
            "remaining_time": 28.79154387
           },
           {
            "iteration": 265,
            "learn": [
             0.1013765126
            ],
            "passed_time": 10.44003401,
            "remaining_time": 28.80821414
           },
           {
            "iteration": 266,
            "learn": [
             0.1013408755
            ],
            "passed_time": 10.4798408,
            "remaining_time": 28.77049928
           },
           {
            "iteration": 267,
            "learn": [
             0.1013376186
            ],
            "passed_time": 10.51275403,
            "remaining_time": 28.71394011
           },
           {
            "iteration": 268,
            "learn": [
             0.1012664142
            ],
            "passed_time": 10.54808233,
            "remaining_time": 28.66411963
           },
           {
            "iteration": 269,
            "learn": [
             0.1012662641
            ],
            "passed_time": 10.56616646,
            "remaining_time": 28.56778338
           },
           {
            "iteration": 270,
            "learn": [
             0.1012448051
            ],
            "passed_time": 10.60227863,
            "remaining_time": 28.52052074
           },
           {
            "iteration": 271,
            "learn": [
             0.1011081308
            ],
            "passed_time": 10.64273794,
            "remaining_time": 28.48497508
           },
           {
            "iteration": 272,
            "learn": [
             0.1010827516
            ],
            "passed_time": 10.68261259,
            "remaining_time": 28.44783646
           },
           {
            "iteration": 273,
            "learn": [
             0.1010373187
            ],
            "passed_time": 10.72228617,
            "remaining_time": 28.41014512
           },
           {
            "iteration": 274,
            "learn": [
             0.1010218412
            ],
            "passed_time": 10.76620523,
            "remaining_time": 28.38363198
           },
           {
            "iteration": 275,
            "learn": [
             0.100948273
            ],
            "passed_time": 10.807075,
            "remaining_time": 28.34899384
           },
           {
            "iteration": 276,
            "learn": [
             0.1009029329
            ],
            "passed_time": 10.84553681,
            "remaining_time": 28.30802569
           },
           {
            "iteration": 277,
            "learn": [
             0.1008546225
            ],
            "passed_time": 10.88399885,
            "remaining_time": 28.26707616
           },
           {
            "iteration": 278,
            "learn": [
             0.1007912065
            ],
            "passed_time": 10.93152763,
            "remaining_time": 28.24957499
           },
           {
            "iteration": 279,
            "learn": [
             0.1006953892
            ],
            "passed_time": 10.96973373,
            "remaining_time": 28.20788673
           },
           {
            "iteration": 280,
            "learn": [
             0.1005862813
            ],
            "passed_time": 11.01266513,
            "remaining_time": 28.17831399
           },
           {
            "iteration": 281,
            "learn": [
             0.1005285816
            ],
            "passed_time": 11.04636998,
            "remaining_time": 28.12515476
           },
           {
            "iteration": 282,
            "learn": [
             0.1004753625
            ],
            "passed_time": 11.08285949,
            "remaining_time": 28.07918818
           },
           {
            "iteration": 283,
            "learn": [
             0.100428637
            ],
            "passed_time": 11.1234399,
            "remaining_time": 28.04360199
           },
           {
            "iteration": 284,
            "learn": [
             0.1003718145
            ],
            "passed_time": 11.2282325,
            "remaining_time": 28.16907453
           },
           {
            "iteration": 285,
            "learn": [
             0.1002675934
            ],
            "passed_time": 11.29278637,
            "remaining_time": 28.19248065
           },
           {
            "iteration": 286,
            "learn": [
             0.1000690072
            ],
            "passed_time": 11.33083938,
            "remaining_time": 28.14943721
           },
           {
            "iteration": 287,
            "learn": [
             0.100010843
            ],
            "passed_time": 11.3708437,
            "remaining_time": 28.11125249
           },
           {
            "iteration": 288,
            "learn": [
             0.09998848549
            ],
            "passed_time": 11.40261557,
            "remaining_time": 28.05280162
           },
           {
            "iteration": 289,
            "learn": [
             0.09997823005
            ],
            "passed_time": 11.43349647,
            "remaining_time": 27.99235342
           },
           {
            "iteration": 290,
            "learn": [
             0.09997630481
            ],
            "passed_time": 11.46832518,
            "remaining_time": 27.941727
           },
           {
            "iteration": 291,
            "learn": [
             0.09994654238
            ],
            "passed_time": 11.50965375,
            "remaining_time": 27.90696869
           },
           {
            "iteration": 292,
            "learn": [
             0.09993078878
            ],
            "passed_time": 11.54809019,
            "remaining_time": 27.86518692
           },
           {
            "iteration": 293,
            "learn": [
             0.09979428253
            ],
            "passed_time": 11.59489679,
            "remaining_time": 27.84352768
           },
           {
            "iteration": 294,
            "learn": [
             0.09977884039
            ],
            "passed_time": 11.63025237,
            "remaining_time": 27.79433194
           },
           {
            "iteration": 295,
            "learn": [
             0.09961053749
            ],
            "passed_time": 11.67114569,
            "remaining_time": 27.75840056
           },
           {
            "iteration": 296,
            "learn": [
             0.0995811558
            ],
            "passed_time": 11.70954126,
            "remaining_time": 27.71652358
           },
           {
            "iteration": 297,
            "learn": [
             0.09952359922
            ],
            "passed_time": 11.74970927,
            "remaining_time": 27.67884532
           },
           {
            "iteration": 298,
            "learn": [
             0.09937472125
            ],
            "passed_time": 11.79228917,
            "remaining_time": 27.64680504
           },
           {
            "iteration": 299,
            "learn": [
             0.09931801581
            ],
            "passed_time": 11.82200645,
            "remaining_time": 27.58468171
           },
           {
            "iteration": 300,
            "learn": [
             0.0993163638
            ],
            "passed_time": 11.85252746,
            "remaining_time": 27.52464018
           },
           {
            "iteration": 301,
            "learn": [
             0.09929978661
            ],
            "passed_time": 11.89253537,
            "remaining_time": 27.48672083
           },
           {
            "iteration": 302,
            "learn": [
             0.09927697518
            ],
            "passed_time": 11.94497666,
            "remaining_time": 27.47738856
           },
           {
            "iteration": 303,
            "learn": [
             0.0992437318
            ],
            "passed_time": 11.98091007,
            "remaining_time": 27.42997832
           },
           {
            "iteration": 304,
            "learn": [
             0.09920787196
            ],
            "passed_time": 12.02129719,
            "remaining_time": 27.39279195
           },
           {
            "iteration": 305,
            "learn": [
             0.09905672381
            ],
            "passed_time": 12.06087502,
            "remaining_time": 27.35374922
           },
           {
            "iteration": 306,
            "learn": [
             0.09895284927
            ],
            "passed_time": 12.09519132,
            "remaining_time": 27.302826
           },
           {
            "iteration": 307,
            "learn": [
             0.09888755833
            ],
            "passed_time": 12.13795425,
            "remaining_time": 27.27098811
           },
           {
            "iteration": 308,
            "learn": [
             0.09888079237
            ],
            "passed_time": 12.16746977,
            "remaining_time": 27.20945506
           },
           {
            "iteration": 309,
            "learn": [
             0.0988589188
            ],
            "passed_time": 12.23866794,
            "remaining_time": 27.24090607
           },
           {
            "iteration": 310,
            "learn": [
             0.09873838147
            ],
            "passed_time": 12.33097341,
            "remaining_time": 27.31845877
           },
           {
            "iteration": 311,
            "learn": [
             0.09864830952
            ],
            "passed_time": 12.37432112,
            "remaining_time": 27.28696453
           },
           {
            "iteration": 312,
            "learn": [
             0.0985394187
            ],
            "passed_time": 12.40733652,
            "remaining_time": 27.23271626
           },
           {
            "iteration": 313,
            "learn": [
             0.09853865616
            ],
            "passed_time": 12.43311693,
            "remaining_time": 27.16279685
           },
           {
            "iteration": 314,
            "learn": [
             0.09850016352
            ],
            "passed_time": 12.47352707,
            "remaining_time": 27.12497156
           },
           {
            "iteration": 315,
            "learn": [
             0.09847955389
            ],
            "passed_time": 12.51471424,
            "remaining_time": 27.08881183
           },
           {
            "iteration": 316,
            "learn": [
             0.09844471654
            ],
            "passed_time": 12.55119998,
            "remaining_time": 27.04249081
           },
           {
            "iteration": 317,
            "learn": [
             0.09836724557
            ],
            "passed_time": 12.59795982,
            "remaining_time": 27.01826604
           },
           {
            "iteration": 318,
            "learn": [
             0.09833759312
            ],
            "passed_time": 12.63721437,
            "remaining_time": 26.9778777
           },
           {
            "iteration": 319,
            "learn": [
             0.09826318099
            ],
            "passed_time": 12.68166953,
            "remaining_time": 26.94854775
           },
           {
            "iteration": 320,
            "learn": [
             0.09814216454
            ],
            "passed_time": 12.72191886,
            "remaining_time": 26.91022711
           },
           {
            "iteration": 321,
            "learn": [
             0.09814038139
            ],
            "passed_time": 12.75928305,
            "remaining_time": 26.86581959
           },
           {
            "iteration": 322,
            "learn": [
             0.09811583862
            ],
            "passed_time": 12.79664161,
            "remaining_time": 26.82144387
           },
           {
            "iteration": 323,
            "learn": [
             0.09807653273
            ],
            "passed_time": 12.83930656,
            "remaining_time": 26.78818282
           },
           {
            "iteration": 324,
            "learn": [
             0.09794024543
            ],
            "passed_time": 12.88050184,
            "remaining_time": 26.75181152
           },
           {
            "iteration": 325,
            "learn": [
             0.09785338331
            ],
            "passed_time": 12.92751765,
            "remaining_time": 26.72744446
           },
           {
            "iteration": 326,
            "learn": [
             0.09780618433
            ],
            "passed_time": 12.97891054,
            "remaining_time": 26.71194738
           },
           {
            "iteration": 327,
            "learn": [
             0.0977738513
            ],
            "passed_time": 13.01892628,
            "remaining_time": 26.67292214
           },
           {
            "iteration": 328,
            "learn": [
             0.09767146772
            ],
            "passed_time": 13.05500963,
            "remaining_time": 26.6258707
           },
           {
            "iteration": 329,
            "learn": [
             0.09764323262
            ],
            "passed_time": 13.09446508,
            "remaining_time": 26.58573214
           },
           {
            "iteration": 330,
            "learn": [
             0.09759454513
            ],
            "passed_time": 13.13555208,
            "remaining_time": 26.54889528
           },
           {
            "iteration": 331,
            "learn": [
             0.09757479088
            ],
            "passed_time": 13.16633611,
            "remaining_time": 26.49130278
           },
           {
            "iteration": 332,
            "learn": [
             0.09750095695
            ],
            "passed_time": 13.2009929,
            "remaining_time": 26.44162842
           },
           {
            "iteration": 333,
            "learn": [
             0.09747745163
            ],
            "passed_time": 13.23903225,
            "remaining_time": 26.39878886
           },
           {
            "iteration": 334,
            "learn": [
             0.09739798577
            ],
            "passed_time": 13.34839686,
            "remaining_time": 26.49756391
           },
           {
            "iteration": 335,
            "learn": [
             0.0973281929
            ],
            "passed_time": 13.41625234,
            "remaining_time": 26.51307011
           },
           {
            "iteration": 336,
            "learn": [
             0.09722733444
            ],
            "passed_time": 13.4606381,
            "remaining_time": 26.48190819
           },
           {
            "iteration": 337,
            "learn": [
             0.09715799642
            ],
            "passed_time": 13.49721949,
            "remaining_time": 26.43538255
           },
           {
            "iteration": 338,
            "learn": [
             0.09713261656
            ],
            "passed_time": 13.53922382,
            "remaining_time": 26.39948951
           },
           {
            "iteration": 339,
            "learn": [
             0.09708852357
            ],
            "passed_time": 13.58266995,
            "remaining_time": 26.36635932
           },
           {
            "iteration": 340,
            "learn": [
             0.09699122513
            ],
            "passed_time": 13.61267746,
            "remaining_time": 26.30719779
           },
           {
            "iteration": 341,
            "learn": [
             0.09695089095
            ],
            "passed_time": 13.64835737,
            "remaining_time": 26.25912032
           },
           {
            "iteration": 342,
            "learn": [
             0.09689638619
            ],
            "passed_time": 13.69166943,
            "remaining_time": 26.22573415
           },
           {
            "iteration": 343,
            "learn": [
             0.09684296182
            ],
            "passed_time": 13.73078594,
            "remaining_time": 26.18428947
           },
           {
            "iteration": 344,
            "learn": [
             0.096802845
            ],
            "passed_time": 13.77533283,
            "remaining_time": 26.15316813
           },
           {
            "iteration": 345,
            "learn": [
             0.09677322292
            ],
            "passed_time": 13.81696696,
            "remaining_time": 26.11646357
           },
           {
            "iteration": 346,
            "learn": [
             0.09660381488
            ],
            "passed_time": 13.85805031,
            "remaining_time": 26.0786941
           },
           {
            "iteration": 347,
            "learn": [
             0.09656840347
            ],
            "passed_time": 13.89535095,
            "remaining_time": 26.03381844
           },
           {
            "iteration": 348,
            "learn": [
             0.09654334572
            ],
            "passed_time": 13.94525791,
            "remaining_time": 26.01250114
           },
           {
            "iteration": 349,
            "learn": [
             0.09651492685
            ],
            "passed_time": 13.98948233,
            "remaining_time": 25.98046718
           },
           {
            "iteration": 350,
            "learn": [
             0.09648158949
            ],
            "passed_time": 14.02700108,
            "remaining_time": 25.93596496
           },
           {
            "iteration": 351,
            "learn": [
             0.09643660045
            ],
            "passed_time": 14.06698013,
            "remaining_time": 25.89603161
           },
           {
            "iteration": 352,
            "learn": [
             0.09632505272
            ],
            "passed_time": 14.11464419,
            "remaining_time": 25.87018354
           },
           {
            "iteration": 353,
            "learn": [
             0.09629972512
            ],
            "passed_time": 14.14574775,
            "remaining_time": 25.81399166
           },
           {
            "iteration": 354,
            "learn": [
             0.09614525898
            ],
            "passed_time": 14.18383014,
            "remaining_time": 25.77062096
           },
           {
            "iteration": 355,
            "learn": [
             0.09610219937
            ],
            "passed_time": 14.22591264,
            "remaining_time": 25.73451612
           },
           {
            "iteration": 356,
            "learn": [
             0.09609510887
            ],
            "passed_time": 14.25803962,
            "remaining_time": 25.68044672
           },
           {
            "iteration": 357,
            "learn": [
             0.09604281471
            ],
            "passed_time": 14.30191158,
            "remaining_time": 25.64756211
           },
           {
            "iteration": 358,
            "learn": [
             0.09590390859
            ],
            "passed_time": 14.37479525,
            "remaining_time": 25.66641715
           },
           {
            "iteration": 359,
            "learn": [
             0.09585315312
            ],
            "passed_time": 14.46259362,
            "remaining_time": 25.71127754
           },
           {
            "iteration": 360,
            "learn": [
             0.09577509733
            ],
            "passed_time": 14.5034677,
            "remaining_time": 25.67234309
           },
           {
            "iteration": 361,
            "learn": [
             0.09574014298
            ],
            "passed_time": 14.5497158,
            "remaining_time": 25.64286928
           },
           {
            "iteration": 362,
            "learn": [
             0.09564258195
            ],
            "passed_time": 14.59713361,
            "remaining_time": 25.61535568
           },
           {
            "iteration": 363,
            "learn": [
             0.09559271613
            ],
            "passed_time": 14.64321176,
            "remaining_time": 25.58539198
           },
           {
            "iteration": 364,
            "learn": [
             0.09552972868
            ],
            "passed_time": 14.68251593,
            "remaining_time": 25.54355512
           },
           {
            "iteration": 365,
            "learn": [
             0.09549169107
            ],
            "passed_time": 14.7233239,
            "remaining_time": 25.50433703
           },
           {
            "iteration": 366,
            "learn": [
             0.09544565582
            ],
            "passed_time": 14.76551552,
            "remaining_time": 25.4674968
           },
           {
            "iteration": 367,
            "learn": [
             0.09541855379
            ],
            "passed_time": 14.80278385,
            "remaining_time": 25.42217226
           },
           {
            "iteration": 368,
            "learn": [
             0.09537215363
            ],
            "passed_time": 14.84044247,
            "remaining_time": 25.3775588
           },
           {
            "iteration": 369,
            "learn": [
             0.0953081689
            ],
            "passed_time": 14.88596897,
            "remaining_time": 25.34637959
           },
           {
            "iteration": 370,
            "learn": [
             0.0952372091
            ],
            "passed_time": 14.92801491,
            "remaining_time": 25.30922205
           },
           {
            "iteration": 371,
            "learn": [
             0.09515808562
            ],
            "passed_time": 14.97544801,
            "remaining_time": 25.28113266
           },
           {
            "iteration": 372,
            "learn": [
             0.0951165532
            ],
            "passed_time": 15.0155975,
            "remaining_time": 25.24069607
           },
           {
            "iteration": 373,
            "learn": [
             0.09498345587
            ],
            "passed_time": 15.05004916,
            "remaining_time": 25.190724
           },
           {
            "iteration": 374,
            "learn": [
             0.09495866769
            ],
            "passed_time": 15.0919883,
            "remaining_time": 25.15331384
           },
           {
            "iteration": 375,
            "learn": [
             0.0948659763
            ],
            "passed_time": 15.13014944,
            "remaining_time": 25.10960971
           },
           {
            "iteration": 376,
            "learn": [
             0.09479044861
            ],
            "passed_time": 15.17284889,
            "remaining_time": 25.07343464
           },
           {
            "iteration": 377,
            "learn": [
             0.09474062183
            ],
            "passed_time": 15.20683647,
            "remaining_time": 25.02288963
           },
           {
            "iteration": 378,
            "learn": [
             0.09471108419
            ],
            "passed_time": 15.23736792,
            "remaining_time": 24.96676907
           },
           {
            "iteration": 379,
            "learn": [
             0.09470568441
            ],
            "passed_time": 15.27262432,
            "remaining_time": 24.91849232
           },
           {
            "iteration": 380,
            "learn": [
             0.09465172148
            ],
            "passed_time": 15.31228432,
            "remaining_time": 24.8774383
           },
           {
            "iteration": 381,
            "learn": [
             0.09456497783
            ],
            "passed_time": 15.35204496,
            "remaining_time": 24.83655441
           },
           {
            "iteration": 382,
            "learn": [
             0.09451423033
            ],
            "passed_time": 15.40849846,
            "remaining_time": 24.82256802
           },
           {
            "iteration": 383,
            "learn": [
             0.09447988673
            ],
            "passed_time": 15.5014768,
            "remaining_time": 24.86695236
           },
           {
            "iteration": 384,
            "learn": [
             0.09441350174
            ],
            "passed_time": 15.55693186,
            "remaining_time": 24.85068336
           },
           {
            "iteration": 385,
            "learn": [
             0.09439414905
            ],
            "passed_time": 15.59120878,
            "remaining_time": 24.80052382
           },
           {
            "iteration": 386,
            "learn": [
             0.0943320634
            ],
            "passed_time": 15.63135958,
            "remaining_time": 24.75975045
           },
           {
            "iteration": 387,
            "learn": [
             0.0942290518
            ],
            "passed_time": 15.67152863,
            "remaining_time": 24.71900908
           },
           {
            "iteration": 388,
            "learn": [
             0.09418980645
            ],
            "passed_time": 15.70930769,
            "remaining_time": 24.67451671
           },
           {
            "iteration": 389,
            "learn": [
             0.09415748322
            ],
            "passed_time": 15.73946396,
            "remaining_time": 24.61813593
           },
           {
            "iteration": 390,
            "learn": [
             0.09408781792
            ],
            "passed_time": 15.78049973,
            "remaining_time": 24.57883462
           },
           {
            "iteration": 391,
            "learn": [
             0.0940347063
            ],
            "passed_time": 15.81719047,
            "remaining_time": 24.53278521
           },
           {
            "iteration": 392,
            "learn": [
             0.09398000292
            ],
            "passed_time": 15.85850525,
            "remaining_time": 24.49392541
           },
           {
            "iteration": 393,
            "learn": [
             0.09393061149
            ],
            "passed_time": 15.89062181,
            "remaining_time": 24.44090563
           },
           {
            "iteration": 394,
            "learn": [
             0.09392507187
            ],
            "passed_time": 15.93223855,
            "remaining_time": 24.40254258
           },
           {
            "iteration": 395,
            "learn": [
             0.09390598137
            ],
            "passed_time": 15.97234321,
            "remaining_time": 24.36185681
           },
           {
            "iteration": 396,
            "learn": [
             0.09384815598
            ],
            "passed_time": 16.01306394,
            "remaining_time": 24.32210972
           },
           {
            "iteration": 397,
            "learn": [
             0.09380356022
            ],
            "passed_time": 16.05158544,
            "remaining_time": 24.27903124
           },
           {
            "iteration": 398,
            "learn": [
             0.0937676361
            ],
            "passed_time": 16.08869264,
            "remaining_time": 24.2338453
           },
           {
            "iteration": 399,
            "learn": [
             0.09369442567
            ],
            "passed_time": 16.13035153,
            "remaining_time": 24.1955273
           },
           {
            "iteration": 400,
            "learn": [
             0.09361647384
            ],
            "passed_time": 16.17570358,
            "remaining_time": 24.16270934
           },
           {
            "iteration": 401,
            "learn": [
             0.09359351664
            ],
            "passed_time": 16.21794465,
            "remaining_time": 24.12520125
           },
           {
            "iteration": 402,
            "learn": [
             0.09355368656
            ],
            "passed_time": 16.25673545,
            "remaining_time": 24.08255847
           },
           {
            "iteration": 403,
            "learn": [
             0.09352406401
            ],
            "passed_time": 16.29573746,
            "remaining_time": 24.04024634
           },
           {
            "iteration": 404,
            "learn": [
             0.09350913157
            ],
            "passed_time": 16.33255785,
            "remaining_time": 23.99474548
           },
           {
            "iteration": 405,
            "learn": [
             0.0934951961
            ],
            "passed_time": 16.37126638,
            "remaining_time": 23.95204983
           },
           {
            "iteration": 406,
            "learn": [
             0.09344684738
            ],
            "passed_time": 16.40544346,
            "remaining_time": 23.90277142
           },
           {
            "iteration": 407,
            "learn": [
             0.09341979531
            ],
            "passed_time": 16.44085163,
            "remaining_time": 23.85535335
           },
           {
            "iteration": 408,
            "learn": [
             0.09335520939
            ],
            "passed_time": 16.52471771,
            "remaining_time": 23.87801508
           },
           {
            "iteration": 409,
            "learn": [
             0.0932562673
            ],
            "passed_time": 16.59324411,
            "remaining_time": 23.87808299
           },
           {
            "iteration": 410,
            "learn": [
             0.09325576377
            ],
            "passed_time": 16.63318747,
            "remaining_time": 23.83685504
           },
           {
            "iteration": 411,
            "learn": [
             0.09318879206
            ],
            "passed_time": 16.67243704,
            "remaining_time": 23.79464315
           },
           {
            "iteration": 412,
            "learn": [
             0.09313020457
            ],
            "passed_time": 16.71510861,
            "remaining_time": 23.75730934
           },
           {
            "iteration": 413,
            "learn": [
             0.09309466628
            ],
            "passed_time": 16.75144447,
            "remaining_time": 23.71098179
           },
           {
            "iteration": 414,
            "learn": [
             0.09301069176
            ],
            "passed_time": 16.78771709,
            "remaining_time": 23.66461325
           },
           {
            "iteration": 415,
            "learn": [
             0.09297231559
            ],
            "passed_time": 16.82792127,
            "remaining_time": 23.62381255
           },
           {
            "iteration": 416,
            "learn": [
             0.092948571
            ],
            "passed_time": 16.86925914,
            "remaining_time": 23.58459971
           },
           {
            "iteration": 417,
            "learn": [
             0.09289820617
            ],
            "passed_time": 16.91169438,
            "remaining_time": 23.54690461
           },
           {
            "iteration": 418,
            "learn": [
             0.09289744558
            ],
            "passed_time": 16.95113431,
            "remaining_time": 23.5050335
           },
           {
            "iteration": 419,
            "learn": [
             0.09287672762
            ],
            "passed_time": 16.99816807,
            "remaining_time": 23.47366067
           },
           {
            "iteration": 420,
            "learn": [
             0.09275352276
            ],
            "passed_time": 17.0316721,
            "remaining_time": 23.42360605
           },
           {
            "iteration": 421,
            "learn": [
             0.09272859047
            ],
            "passed_time": 17.07018288,
            "remaining_time": 23.38048745
           },
           {
            "iteration": 422,
            "learn": [
             0.0926881242
            ],
            "passed_time": 17.11014333,
            "remaining_time": 23.33936809
           },
           {
            "iteration": 423,
            "learn": [
             0.09263727695
            ],
            "passed_time": 17.15413227,
            "remaining_time": 23.30372686
           },
           {
            "iteration": 424,
            "learn": [
             0.09258802818
            ],
            "passed_time": 17.18734646,
            "remaining_time": 23.25346874
           },
           {
            "iteration": 425,
            "learn": [
             0.09254601011
            ],
            "passed_time": 17.22294458,
            "remaining_time": 23.20650279
           },
           {
            "iteration": 426,
            "learn": [
             0.09250485767
            ],
            "passed_time": 17.26289173,
            "remaining_time": 23.16542614
           },
           {
            "iteration": 427,
            "learn": [
             0.09244653668
            ],
            "passed_time": 17.3128082,
            "remaining_time": 23.13767825
           },
           {
            "iteration": 428,
            "learn": [
             0.0923511143
            ],
            "passed_time": 17.35783079,
            "remaining_time": 23.10331324
           },
           {
            "iteration": 429,
            "learn": [
             0.09234538418
            ],
            "passed_time": 17.39130723,
            "remaining_time": 23.0535933
           },
           {
            "iteration": 430,
            "learn": [
             0.09234489495
            ],
            "passed_time": 17.42767746,
            "remaining_time": 23.00776908
           },
           {
            "iteration": 431,
            "learn": [
             0.09231528939
            ],
            "passed_time": 17.46967726,
            "remaining_time": 22.96939048
           },
           {
            "iteration": 432,
            "learn": [
             0.09226754413
            ],
            "passed_time": 17.51014416,
            "remaining_time": 22.92898785
           },
           {
            "iteration": 433,
            "learn": [
             0.09223146052
            ],
            "passed_time": 17.63036932,
            "remaining_time": 22.99260146
           },
           {
            "iteration": 434,
            "learn": [
             0.09219065138
            ],
            "passed_time": 17.68643506,
            "remaining_time": 22.97203634
           },
           {
            "iteration": 435,
            "learn": [
             0.09212898018
            ],
            "passed_time": 17.72848505,
            "remaining_time": 22.9331779
           },
           {
            "iteration": 436,
            "learn": [
             0.09210069055
            ],
            "passed_time": 17.77040311,
            "remaining_time": 22.8941349
           },
           {
            "iteration": 437,
            "learn": [
             0.09208324331
            ],
            "passed_time": 17.80743119,
            "remaining_time": 22.84880441
           },
           {
            "iteration": 438,
            "learn": [
             0.09205820749
            ],
            "passed_time": 17.84189057,
            "remaining_time": 22.80022918
           },
           {
            "iteration": 439,
            "learn": [
             0.09204346965
            ],
            "passed_time": 17.87714709,
            "remaining_time": 22.75273265
           },
           {
            "iteration": 440,
            "learn": [
             0.09197508788
            ],
            "passed_time": 17.91452704,
            "remaining_time": 22.70798325
           },
           {
            "iteration": 441,
            "learn": [
             0.09193346122
            ],
            "passed_time": 17.95083745,
            "remaining_time": 22.66191696
           },
           {
            "iteration": 442,
            "learn": [
             0.09177589003
            ],
            "passed_time": 18.00218092,
            "remaining_time": 22.63479633
           },
           {
            "iteration": 443,
            "learn": [
             0.09173963132
            ],
            "passed_time": 18.04479624,
            "remaining_time": 22.59663674
           },
           {
            "iteration": 444,
            "learn": [
             0.09171504642
            ],
            "passed_time": 18.08266385,
            "remaining_time": 22.55253582
           },
           {
            "iteration": 445,
            "learn": [
             0.09168008809
            ],
            "passed_time": 18.12164953,
            "remaining_time": 22.50985166
           },
           {
            "iteration": 446,
            "learn": [
             0.09163629607
            ],
            "passed_time": 18.15652839,
            "remaining_time": 22.46210336
           },
           {
            "iteration": 447,
            "learn": [
             0.09161281182
            ],
            "passed_time": 18.19419191,
            "remaining_time": 22.4178436
           },
           {
            "iteration": 448,
            "learn": [
             0.09157428599
            ],
            "passed_time": 18.23253036,
            "remaining_time": 22.37444149
           },
           {
            "iteration": 449,
            "learn": [
             0.09152416821
            ],
            "passed_time": 18.27462114,
            "remaining_time": 22.33564807
           },
           {
            "iteration": 450,
            "learn": [
             0.09149108739
            ],
            "passed_time": 18.31233134,
            "remaining_time": 22.29150755
           },
           {
            "iteration": 451,
            "learn": [
             0.09149036319
            ],
            "passed_time": 18.35501445,
            "remaining_time": 22.2534246
           },
           {
            "iteration": 452,
            "learn": [
             0.0914899088
            ],
            "passed_time": 18.38447484,
            "remaining_time": 22.19935483
           },
           {
            "iteration": 453,
            "learn": [
             0.09139982394
            ],
            "passed_time": 18.42224286,
            "remaining_time": 22.15538459
           },
           {
            "iteration": 454,
            "learn": [
             0.09132929766
            ],
            "passed_time": 18.45923735,
            "remaining_time": 22.11051507
           },
           {
            "iteration": 455,
            "learn": [
             0.09127904395
            ],
            "passed_time": 18.50387751,
            "remaining_time": 22.07480124
           },
           {
            "iteration": 456,
            "learn": [
             0.09116582997
            ],
            "passed_time": 18.54298635,
            "remaining_time": 22.03247612
           },
           {
            "iteration": 457,
            "learn": [
             0.09115204229
            ],
            "passed_time": 18.59260202,
            "remaining_time": 22.00259889
           },
           {
            "iteration": 458,
            "learn": [
             0.09114118802
            ],
            "passed_time": 18.70466418,
            "remaining_time": 22.04623818
           },
           {
            "iteration": 459,
            "learn": [
             0.09110440068
            ],
            "passed_time": 18.74876265,
            "remaining_time": 22.00941702
           },
           {
            "iteration": 460,
            "learn": [
             0.09105320686
            ],
            "passed_time": 18.79207604,
            "remaining_time": 21.97164639
           },
           {
            "iteration": 461,
            "learn": [
             0.09101119946
            ],
            "passed_time": 18.83339764,
            "remaining_time": 21.93153232
           },
           {
            "iteration": 462,
            "learn": [
             0.0909802293
            ],
            "passed_time": 18.87137881,
            "remaining_time": 21.88753871
           },
           {
            "iteration": 463,
            "learn": [
             0.09089845485
            ],
            "passed_time": 18.91515025,
            "remaining_time": 21.85025977
           },
           {
            "iteration": 464,
            "learn": [
             0.09085085105
            ],
            "passed_time": 18.95610202,
            "remaining_time": 21.80970878
           },
           {
            "iteration": 465,
            "learn": [
             0.09081057566
            ],
            "passed_time": 18.98543648,
            "remaining_time": 21.75584352
           },
           {
            "iteration": 466,
            "learn": [
             0.09080573978
            ],
            "passed_time": 19.03189741,
            "remaining_time": 21.72163023
           },
           {
            "iteration": 467,
            "learn": [
             0.09073170751
            ],
            "passed_time": 19.06698032,
            "remaining_time": 21.67443062
           },
           {
            "iteration": 468,
            "learn": [
             0.0906914881
            ],
            "passed_time": 19.10714207,
            "remaining_time": 21.63303292
           },
           {
            "iteration": 469,
            "learn": [
             0.09057606204
            ],
            "passed_time": 19.14640639,
            "remaining_time": 21.59062848
           },
           {
            "iteration": 470,
            "learn": [
             0.09052783019
            ],
            "passed_time": 19.18565845,
            "remaining_time": 21.54822361
           },
           {
            "iteration": 471,
            "learn": [
             0.09051729886
            ],
            "passed_time": 19.21909532,
            "remaining_time": 21.49932697
           },
           {
            "iteration": 472,
            "learn": [
             0.090471344
            ],
            "passed_time": 19.25591459,
            "remaining_time": 21.45426424
           },
           {
            "iteration": 473,
            "learn": [
             0.09045120464
            ],
            "passed_time": 19.29686344,
            "remaining_time": 21.41381892
           },
           {
            "iteration": 474,
            "learn": [
             0.090420419
            ],
            "passed_time": 19.33555626,
            "remaining_time": 21.37087797
           },
           {
            "iteration": 475,
            "learn": [
             0.09040805672
            ],
            "passed_time": 19.37286314,
            "remaining_time": 21.32642917
           },
           {
            "iteration": 476,
            "learn": [
             0.09034207824
            ],
            "passed_time": 19.41108535,
            "remaining_time": 21.28301391
           },
           {
            "iteration": 477,
            "learn": [
             0.09032094101
            ],
            "passed_time": 19.44920088,
            "remaining_time": 21.23950389
           },
           {
            "iteration": 478,
            "learn": [
             0.09026833411
            ],
            "passed_time": 19.49028721,
            "remaining_time": 21.19924768
           },
           {
            "iteration": 479,
            "learn": [
             0.09021209141
            ],
            "passed_time": 19.52985049,
            "remaining_time": 21.15733803
           },
           {
            "iteration": 480,
            "learn": [
             0.09017327397
            ],
            "passed_time": 19.57134976,
            "remaining_time": 21.11752708
           },
           {
            "iteration": 481,
            "learn": [
             0.09015126022
            ],
            "passed_time": 19.61103507,
            "remaining_time": 21.07575968
           },
           {
            "iteration": 482,
            "learn": [
             0.09009645371
            ],
            "passed_time": 19.80451973,
            "remaining_time": 21.19862671
           },
           {
            "iteration": 483,
            "learn": [
             0.09002798974
            ],
            "passed_time": 19.86601569,
            "remaining_time": 21.17947127
           },
           {
            "iteration": 484,
            "learn": [
             0.08992652304
            ],
            "passed_time": 19.90486687,
            "remaining_time": 21.13609575
           },
           {
            "iteration": 485,
            "learn": [
             0.08989017932
            ],
            "passed_time": 19.95013903,
            "remaining_time": 21.09952976
           },
           {
            "iteration": 486,
            "learn": [
             0.08986561362
            ],
            "passed_time": 19.99008634,
            "remaining_time": 21.05731887
           },
           {
            "iteration": 487,
            "learn": [
             0.08975914892
            ],
            "passed_time": 20.04014471,
            "remaining_time": 21.0257256
           },
           {
            "iteration": 488,
            "learn": [
             0.08975882913
            ],
            "passed_time": 20.07347956,
            "remaining_time": 20.97658089
           },
           {
            "iteration": 489,
            "learn": [
             0.08971920723
            ],
            "passed_time": 20.11254623,
            "remaining_time": 20.93346649
           },
           {
            "iteration": 490,
            "learn": [
             0.08968093374
            ],
            "passed_time": 20.15494766,
            "remaining_time": 20.89382558
           },
           {
            "iteration": 491,
            "learn": [
             0.08965893078
            ],
            "passed_time": 20.19372054,
            "remaining_time": 20.8504269
           },
           {
            "iteration": 492,
            "learn": [
             0.08964311865
            ],
            "passed_time": 20.22926751,
            "remaining_time": 20.80372947
           },
           {
            "iteration": 493,
            "learn": [
             0.08950445994
            ],
            "passed_time": 20.26827928,
            "remaining_time": 20.76062614
           },
           {
            "iteration": 494,
            "learn": [
             0.0894281044
            ],
            "passed_time": 20.30870371,
            "remaining_time": 20.71898055
           },
           {
            "iteration": 495,
            "learn": [
             0.08938295902
            ],
            "passed_time": 20.35335513,
            "remaining_time": 20.68163506
           },
           {
            "iteration": 496,
            "learn": [
             0.08936958682
            ],
            "passed_time": 20.40485742,
            "remaining_time": 20.65119373
           },
           {
            "iteration": 497,
            "learn": [
             0.08936096175
            ],
            "passed_time": 20.44356161,
            "remaining_time": 20.60776692
           },
           {
            "iteration": 498,
            "learn": [
             0.08934044565
            ],
            "passed_time": 20.48536315,
            "remaining_time": 20.56746881
           },
           {
            "iteration": 499,
            "learn": [
             0.08932631148
            ],
            "passed_time": 20.5146275,
            "remaining_time": 20.5146275
           },
           {
            "iteration": 500,
            "learn": [
             0.08930669472
            ],
            "passed_time": 20.56183497,
            "remaining_time": 20.4797518
           },
           {
            "iteration": 501,
            "learn": [
             0.08925712878
            ],
            "passed_time": 20.59932893,
            "remaining_time": 20.43519086
           },
           {
            "iteration": 502,
            "learn": [
             0.08920321121
            ],
            "passed_time": 20.64181701,
            "remaining_time": 20.39559255
           },
           {
            "iteration": 503,
            "learn": [
             0.08919205569
            ],
            "passed_time": 20.68009948,
            "remaining_time": 20.35184393
           },
           {
            "iteration": 504,
            "learn": [
             0.08915924807
            ],
            "passed_time": 20.71798059,
            "remaining_time": 20.30772355
           },
           {
            "iteration": 505,
            "learn": [
             0.08912523938
            ],
            "passed_time": 20.75397096,
            "remaining_time": 20.26178193
           },
           {
            "iteration": 506,
            "learn": [
             0.08911104745
            ],
            "passed_time": 20.85619895,
            "remaining_time": 20.28028813
           },
           {
            "iteration": 507,
            "learn": [
             0.08900128511
            ],
            "passed_time": 20.93290409,
            "remaining_time": 20.27360002
           },
           {
            "iteration": 508,
            "learn": [
             0.08896728817
            ],
            "passed_time": 20.97967401,
            "remaining_time": 20.23776019
           },
           {
            "iteration": 509,
            "learn": [
             0.08895626673
            ],
            "passed_time": 21.01892305,
            "remaining_time": 20.19465156
           },
           {
            "iteration": 510,
            "learn": [
             0.08891809973
            ],
            "passed_time": 21.074131,
            "remaining_time": 20.16682987
           },
           {
            "iteration": 511,
            "learn": [
             0.08891770362
            ],
            "passed_time": 21.1115586,
            "remaining_time": 20.1219543
           },
           {
            "iteration": 512,
            "learn": [
             0.08889476623
            ],
            "passed_time": 21.14696137,
            "remaining_time": 20.07518555
           },
           {
            "iteration": 513,
            "learn": [
             0.08885668266
            ],
            "passed_time": 21.18578772,
            "remaining_time": 20.03169812
           },
           {
            "iteration": 514,
            "learn": [
             0.08884213215
            ],
            "passed_time": 21.22029267,
            "remaining_time": 19.98415911
           },
           {
            "iteration": 515,
            "learn": [
             0.08880429104
            ],
            "passed_time": 21.26268792,
            "remaining_time": 19.94407162
           },
           {
            "iteration": 516,
            "learn": [
             0.08870792979
            ],
            "passed_time": 21.30683927,
            "remaining_time": 19.9056158
           },
           {
            "iteration": 517,
            "learn": [
             0.08867953082
            ],
            "passed_time": 21.34871183,
            "remaining_time": 19.86501757
           },
           {
            "iteration": 518,
            "learn": [
             0.08865668594
            ],
            "passed_time": 21.38391507,
            "remaining_time": 19.81823343
           },
           {
            "iteration": 519,
            "learn": [
             0.08865659053
            ],
            "passed_time": 21.41337874,
            "remaining_time": 19.76619576
           },
           {
            "iteration": 520,
            "learn": [
             0.08863412923
            ],
            "passed_time": 21.44624411,
            "remaining_time": 19.71737222
           },
           {
            "iteration": 521,
            "learn": [
             0.08854179166
            ],
            "passed_time": 21.48888569,
            "remaining_time": 19.67756199
           },
           {
            "iteration": 522,
            "learn": [
             0.08850889017
            ],
            "passed_time": 21.53159166,
            "remaining_time": 19.63779966
           },
           {
            "iteration": 523,
            "learn": [
             0.08849140473
            ],
            "passed_time": 21.57132928,
            "remaining_time": 19.59532965
           },
           {
            "iteration": 524,
            "learn": [
             0.08849100523
            ],
            "passed_time": 21.60824967,
            "remaining_time": 19.55032113
           },
           {
            "iteration": 525,
            "learn": [
             0.08845569618
            ],
            "passed_time": 21.64313259,
            "remaining_time": 19.50350731
           },
           {
            "iteration": 526,
            "learn": [
             0.0884223117
            ],
            "passed_time": 21.67726346,
            "remaining_time": 19.45606379
           },
           {
            "iteration": 527,
            "learn": [
             0.08836415243
            ],
            "passed_time": 21.72272334,
            "remaining_time": 19.41879814
           },
           {
            "iteration": 528,
            "learn": [
             0.08835084861
            ],
            "passed_time": 21.75915988,
            "remaining_time": 19.37346749
           },
           {
            "iteration": 529,
            "learn": [
             0.08827197923
            ],
            "passed_time": 21.79777903,
            "remaining_time": 19.33010594
           },
           {
            "iteration": 530,
            "learn": [
             0.08827185307
            ],
            "passed_time": 21.83360915,
            "remaining_time": 19.28429885
           },
           {
            "iteration": 531,
            "learn": [
             0.08821537676
            ],
            "passed_time": 21.88324376,
            "remaining_time": 19.25067308
           },
           {
            "iteration": 532,
            "learn": [
             0.08819713824
            ],
            "passed_time": 21.98191264,
            "remaining_time": 19.25994972
           },
           {
            "iteration": 533,
            "learn": [
             0.0881871881
            ],
            "passed_time": 22.03184357,
            "remaining_time": 19.22629046
           },
           {
            "iteration": 534,
            "learn": [
             0.0881334972
            ],
            "passed_time": 22.07936152,
            "remaining_time": 19.1904731
           },
           {
            "iteration": 535,
            "learn": [
             0.08811741394
            ],
            "passed_time": 22.11514299,
            "remaining_time": 19.14445214
           },
           {
            "iteration": 536,
            "learn": [
             0.08806915251
            ],
            "passed_time": 22.15799813,
            "remaining_time": 19.10456822
           },
           {
            "iteration": 537,
            "learn": [
             0.08805759858
            ],
            "passed_time": 22.20034326,
            "remaining_time": 19.06423529
           },
           {
            "iteration": 538,
            "learn": [
             0.08804220725
            ],
            "passed_time": 22.24247632,
            "remaining_time": 19.02371352
           },
           {
            "iteration": 539,
            "learn": [
             0.08802916471
            ],
            "passed_time": 22.27734311,
            "remaining_time": 18.97699598
           },
           {
            "iteration": 540,
            "learn": [
             0.08801971563
            ],
            "passed_time": 22.32153233,
            "remaining_time": 18.93823168
           },
           {
            "iteration": 541,
            "learn": [
             0.08798944504
            ],
            "passed_time": 22.36823113,
            "remaining_time": 18.901568
           },
           {
            "iteration": 542,
            "learn": [
             0.08795090576
            ],
            "passed_time": 22.41407299,
            "remaining_time": 18.86414614
           },
           {
            "iteration": 543,
            "learn": [
             0.08790735846
            ],
            "passed_time": 22.46197423,
            "remaining_time": 18.82841958
           },
           {
            "iteration": 544,
            "learn": [
             0.08789534547
            ],
            "passed_time": 22.50536344,
            "remaining_time": 18.7888814
           },
           {
            "iteration": 545,
            "learn": [
             0.08782803408
            ],
            "passed_time": 22.55827569,
            "remaining_time": 18.75724755
           },
           {
            "iteration": 546,
            "learn": [
             0.08776980372
            ],
            "passed_time": 22.5962746,
            "remaining_time": 18.71318536
           },
           {
            "iteration": 547,
            "learn": [
             0.08773754763
            ],
            "passed_time": 22.63533618,
            "remaining_time": 18.67002181
           },
           {
            "iteration": 548,
            "learn": [
             0.08768468602
            ],
            "passed_time": 22.67192009,
            "remaining_time": 18.62483782
           },
           {
            "iteration": 549,
            "learn": [
             0.08764227759
            ],
            "passed_time": 22.71142706,
            "remaining_time": 18.58207669
           },
           {
            "iteration": 550,
            "learn": [
             0.08761788738
            ],
            "passed_time": 22.75236507,
            "remaining_time": 18.5404935
           },
           {
            "iteration": 551,
            "learn": [
             0.08753381161
            ],
            "passed_time": 22.79592116,
            "remaining_time": 18.50103747
           },
           {
            "iteration": 552,
            "learn": [
             0.08751343528
            ],
            "passed_time": 22.83833693,
            "remaining_time": 18.46064486
           },
           {
            "iteration": 553,
            "learn": [
             0.08745418664
            ],
            "passed_time": 22.87792289,
            "remaining_time": 18.4179668
           },
           {
            "iteration": 554,
            "learn": [
             0.0874465817
            ],
            "passed_time": 22.92081874,
            "remaining_time": 18.37795376
           },
           {
            "iteration": 555,
            "learn": [
             0.08742115271
            ],
            "passed_time": 23.02181912,
            "remaining_time": 18.38433038
           },
           {
            "iteration": 556,
            "learn": [
             0.08733386319
            ],
            "passed_time": 23.09363588,
            "remaining_time": 18.36711076
           },
           {
            "iteration": 557,
            "learn": [
             0.08728472062
            ],
            "passed_time": 23.13228613,
            "remaining_time": 18.32342378
           },
           {
            "iteration": 558,
            "learn": [
             0.08720736581
            ],
            "passed_time": 23.17002817,
            "remaining_time": 18.27903833
           },
           {
            "iteration": 559,
            "learn": [
             0.0871674989
            ],
            "passed_time": 23.20963878,
            "remaining_time": 18.23614476
           },
           {
            "iteration": 560,
            "learn": [
             0.08712298098
            ],
            "passed_time": 23.24805444,
            "remaining_time": 18.19232781
           },
           {
            "iteration": 561,
            "learn": [
             0.08711527478
            ],
            "passed_time": 23.29061637,
            "remaining_time": 18.15176152
           },
           {
            "iteration": 562,
            "learn": [
             0.08707705481
            ],
            "passed_time": 23.33581809,
            "remaining_time": 18.11323713
           },
           {
            "iteration": 563,
            "learn": [
             0.08706440953
            ],
            "passed_time": 23.37003535,
            "remaining_time": 18.06619754
           },
           {
            "iteration": 564,
            "learn": [
             0.08702223588
            ],
            "passed_time": 23.41786539,
            "remaining_time": 18.02968397
           },
           {
            "iteration": 565,
            "learn": [
             0.08695270079
            ],
            "passed_time": 23.4604036,
            "remaining_time": 17.98907272
           },
           {
            "iteration": 566,
            "learn": [
             0.08690275501
            ],
            "passed_time": 23.50047589,
            "remaining_time": 17.94657154
           },
           {
            "iteration": 567,
            "learn": [
             0.08689831089
            ],
            "passed_time": 23.53794628,
            "remaining_time": 17.90209999
           },
           {
            "iteration": 568,
            "learn": [
             0.08684798096
            ],
            "passed_time": 23.57551669,
            "remaining_time": 17.85772881
           },
           {
            "iteration": 569,
            "learn": [
             0.08680935139
            ],
            "passed_time": 23.61934014,
            "remaining_time": 17.8180987
           },
           {
            "iteration": 570,
            "learn": [
             0.08672938909
            ],
            "passed_time": 23.660772,
            "remaining_time": 17.77665707
           },
           {
            "iteration": 571,
            "learn": [
             0.08668816075
            ],
            "passed_time": 23.7038901,
            "remaining_time": 17.73647721
           },
           {
            "iteration": 572,
            "learn": [
             0.08667715049
            ],
            "passed_time": 23.74245151,
            "remaining_time": 17.69289144
           },
           {
            "iteration": 573,
            "learn": [
             0.08664612152
            ],
            "passed_time": 23.77170473,
            "remaining_time": 17.64241501
           },
           {
            "iteration": 574,
            "learn": [
             0.08659144288
            ],
            "passed_time": 23.80826043,
            "remaining_time": 17.59740988
           },
           {
            "iteration": 575,
            "learn": [
             0.08656203579
            ],
            "passed_time": 23.84970688,
            "remaining_time": 17.55603423
           },
           {
            "iteration": 576,
            "learn": [
             0.086548512
            ],
            "passed_time": 23.89187336,
            "remaining_time": 17.51518619
           },
           {
            "iteration": 577,
            "learn": [
             0.08650822178
            ],
            "passed_time": 23.92963672,
            "remaining_time": 17.47111885
           },
           {
            "iteration": 578,
            "learn": [
             0.08648769082
            ],
            "passed_time": 23.96867279,
            "remaining_time": 17.4279987
           },
           {
            "iteration": 579,
            "learn": [
             0.08647444592
            ],
            "passed_time": 24.02126192,
            "remaining_time": 17.3947069
           },
           {
            "iteration": 580,
            "learn": [
             0.08641430463
            ],
            "passed_time": 24.14977371,
            "remaining_time": 17.41610187
           },
           {
            "iteration": 581,
            "learn": [
             0.08639795321
            ],
            "passed_time": 24.19329983,
            "remaining_time": 17.37594387
           },
           {
            "iteration": 582,
            "learn": [
             0.08633142576
            ],
            "passed_time": 24.22983248,
            "remaining_time": 17.33077211
           },
           {
            "iteration": 583,
            "learn": [
             0.08632093152
            ],
            "passed_time": 24.27070044,
            "remaining_time": 17.28871812
           },
           {
            "iteration": 584,
            "learn": [
             0.08630947793
            ],
            "passed_time": 24.32037286,
            "remaining_time": 17.25291408
           },
           {
            "iteration": 585,
            "learn": [
             0.08627049068
            ],
            "passed_time": 24.37085553,
            "remaining_time": 17.21763514
           },
           {
            "iteration": 586,
            "learn": [
             0.08625471733
            ],
            "passed_time": 24.41398627,
            "remaining_time": 17.17713174
           },
           {
            "iteration": 587,
            "learn": [
             0.08619446503
            ],
            "passed_time": 24.4531189,
            "remaining_time": 17.133818
           },
           {
            "iteration": 588,
            "learn": [
             0.08619409146
            ],
            "passed_time": 24.49043458,
            "remaining_time": 17.08925062
           },
           {
            "iteration": 589,
            "learn": [
             0.08614230455
            ],
            "passed_time": 24.53000355,
            "remaining_time": 17.04627365
           },
           {
            "iteration": 590,
            "learn": [
             0.08613050015
            ],
            "passed_time": 24.56707395,
            "remaining_time": 17.0015791
           },
           {
            "iteration": 591,
            "learn": [
             0.08611036177
            ],
            "passed_time": 24.60931928,
            "remaining_time": 16.9604768
           },
           {
            "iteration": 592,
            "learn": [
             0.08606439568
            ],
            "passed_time": 24.64973424,
            "remaining_time": 16.9181144
           },
           {
            "iteration": 593,
            "learn": [
             0.0860356152
            ],
            "passed_time": 24.69055244,
            "remaining_time": 16.87603416
           },
           {
            "iteration": 594,
            "learn": [
             0.08601522533
            ],
            "passed_time": 24.72720482,
            "remaining_time": 16.83112261
           },
           {
            "iteration": 595,
            "learn": [
             0.08599944454
            ],
            "passed_time": 24.75958628,
            "remaining_time": 16.78334372
           },
           {
            "iteration": 596,
            "learn": [
             0.08599939939
            ],
            "passed_time": 24.79123083,
            "remaining_time": 16.73511897
           },
           {
            "iteration": 597,
            "learn": [
             0.08598445079
            ],
            "passed_time": 24.83238392,
            "remaining_time": 16.6933417
           },
           {
            "iteration": 598,
            "learn": [
             0.08594462143
            ],
            "passed_time": 24.8763377,
            "remaining_time": 16.65344143
           },
           {
            "iteration": 599,
            "learn": [
             0.08592064147
            ],
            "passed_time": 24.91841162,
            "remaining_time": 16.61227441
           },
           {
            "iteration": 600,
            "learn": [
             0.08591350101
            ],
            "passed_time": 24.96059754,
            "remaining_time": 16.57117873
           },
           {
            "iteration": 601,
            "learn": [
             0.0858770743
            ],
            "passed_time": 25.00630318,
            "remaining_time": 16.53240642
           },
           {
            "iteration": 602,
            "learn": [
             0.0858515698
            ],
            "passed_time": 25.04662084,
            "remaining_time": 16.49006381
           },
           {
            "iteration": 603,
            "learn": [
             0.08579397479
            ],
            "passed_time": 25.10849795,
            "remaining_time": 16.4618629
           },
           {
            "iteration": 604,
            "learn": [
             0.08579056429
            ],
            "passed_time": 25.20372477,
            "remaining_time": 16.45532443
           },
           {
            "iteration": 605,
            "learn": [
             0.08574757725
            ],
            "passed_time": 25.2527483,
            "remaining_time": 16.41845351
           },
           {
            "iteration": 606,
            "learn": [
             0.0857213589
            ],
            "passed_time": 25.28585611,
            "remaining_time": 16.37123798
           },
           {
            "iteration": 607,
            "learn": [
             0.08571083997
            ],
            "passed_time": 25.32980624,
            "remaining_time": 16.33105928
           },
           {
            "iteration": 608,
            "learn": [
             0.08569623593
            ],
            "passed_time": 25.36511638,
            "remaining_time": 16.28532103
           },
           {
            "iteration": 609,
            "learn": [
             0.08565919228
            ],
            "passed_time": 25.40963874,
            "remaining_time": 16.24550674
           },
           {
            "iteration": 610,
            "learn": [
             0.08565065409
            ],
            "passed_time": 25.44112738,
            "remaining_time": 16.19737897
           },
           {
            "iteration": 611,
            "learn": [
             0.08559094322
            ],
            "passed_time": 25.47647702,
            "remaining_time": 16.15175341
           },
           {
            "iteration": 612,
            "learn": [
             0.08556984627
            ],
            "passed_time": 25.51038592,
            "remaining_time": 16.1052518
           },
           {
            "iteration": 613,
            "learn": [
             0.0855249757
            ],
            "passed_time": 25.55394162,
            "remaining_time": 16.06485581
           },
           {
            "iteration": 614,
            "learn": [
             0.08550375116
            ],
            "passed_time": 25.58605839,
            "remaining_time": 16.01728858
           },
           {
            "iteration": 615,
            "learn": [
             0.08548965611
            ],
            "passed_time": 25.62420816,
            "remaining_time": 15.97353236
           },
           {
            "iteration": 616,
            "learn": [
             0.085470394
            ],
            "passed_time": 25.66173751,
            "remaining_time": 15.92940919
           },
           {
            "iteration": 617,
            "learn": [
             0.08546375249
            ],
            "passed_time": 25.69773837,
            "remaining_time": 15.88436255
           },
           {
            "iteration": 618,
            "learn": [
             0.08542589032
            ],
            "passed_time": 25.73100805,
            "remaining_time": 15.83766408
           },
           {
            "iteration": 619,
            "learn": [
             0.08541629362
            ],
            "passed_time": 25.76781198,
            "remaining_time": 15.79317509
           },
           {
            "iteration": 620,
            "learn": [
             0.08535205425
            ],
            "passed_time": 25.80841409,
            "remaining_time": 15.75102889
           },
           {
            "iteration": 621,
            "learn": [
             0.08534006107
            ],
            "passed_time": 25.83854615,
            "remaining_time": 15.70252483
           },
           {
            "iteration": 622,
            "learn": [
             0.08533136513
            ],
            "passed_time": 25.87758332,
            "remaining_time": 15.65946856
           },
           {
            "iteration": 623,
            "learn": [
             0.08531512035
            ],
            "passed_time": 25.90923724,
            "remaining_time": 15.61197629
           },
           {
            "iteration": 624,
            "learn": [
             0.08528875341
            ],
            "passed_time": 25.94438646,
            "remaining_time": 15.56663188
           },
           {
            "iteration": 625,
            "learn": [
             0.0852618562
            ],
            "passed_time": 25.97406438,
            "remaining_time": 15.51805124
           },
           {
            "iteration": 626,
            "learn": [
             0.08524880461
            ],
            "passed_time": 26.01267706,
            "remaining_time": 15.47484616
           },
           {
            "iteration": 627,
            "learn": [
             0.08520758207
            ],
            "passed_time": 26.05008613,
            "remaining_time": 15.43094274
           },
           {
            "iteration": 628,
            "learn": [
             0.0851251162
            ],
            "passed_time": 26.09094144,
            "remaining_time": 15.38909265
           },
           {
            "iteration": 629,
            "learn": [
             0.08508808143
            ],
            "passed_time": 26.15064478,
            "remaining_time": 15.35831519
           },
           {
            "iteration": 630,
            "learn": [
             0.08508036607
            ],
            "passed_time": 26.25950003,
            "remaining_time": 15.3561894
           },
           {
            "iteration": 631,
            "learn": [
             0.08505376497
            ],
            "passed_time": 26.33156485,
            "remaining_time": 15.33230358
           },
           {
            "iteration": 632,
            "learn": [
             0.08502344911
            ],
            "passed_time": 26.36821727,
            "remaining_time": 15.28773418
           },
           {
            "iteration": 633,
            "learn": [
             0.08498920878
            ],
            "passed_time": 26.4127816,
            "remaining_time": 15.2477572
           },
           {
            "iteration": 634,
            "learn": [
             0.08495457934
            ],
            "passed_time": 26.45341537,
            "remaining_time": 15.20550647
           },
           {
            "iteration": 635,
            "learn": [
             0.08492637466
            ],
            "passed_time": 26.4926499,
            "remaining_time": 15.16246
           },
           {
            "iteration": 636,
            "learn": [
             0.08488445884
            ],
            "passed_time": 26.52850138,
            "remaining_time": 15.11749764
           },
           {
            "iteration": 637,
            "learn": [
             0.08486648982
            ],
            "passed_time": 26.55977321,
            "remaining_time": 15.06996536
           },
           {
            "iteration": 638,
            "learn": [
             0.08483432604
            ],
            "passed_time": 26.59933224,
            "remaining_time": 15.02716579
           },
           {
            "iteration": 639,
            "learn": [
             0.08477780942
            ],
            "passed_time": 26.6321069,
            "remaining_time": 14.98056013
           },
           {
            "iteration": 640,
            "learn": [
             0.08472533162
            ],
            "passed_time": 26.67444242,
            "remaining_time": 14.93935231
           },
           {
            "iteration": 641,
            "learn": [
             0.08469821192
            ],
            "passed_time": 26.71396559,
            "remaining_time": 14.89657271
           },
           {
            "iteration": 642,
            "learn": [
             0.08463085789
            ],
            "passed_time": 26.7534636,
            "remaining_time": 14.85378928
           },
           {
            "iteration": 643,
            "learn": [
             0.08461358964
            ],
            "passed_time": 26.7935725,
            "remaining_time": 14.81135374
           },
           {
            "iteration": 644,
            "learn": [
             0.08455740008
            ],
            "passed_time": 26.83918801,
            "remaining_time": 14.77195619
           },
           {
            "iteration": 645,
            "learn": [
             0.0845375756
            ],
            "passed_time": 26.87758376,
            "remaining_time": 14.72858305
           },
           {
            "iteration": 646,
            "learn": [
             0.08449608205
            ],
            "passed_time": 26.918591,
            "remaining_time": 14.68665011
           },
           {
            "iteration": 647,
            "learn": [
             0.08449087953
            ],
            "passed_time": 26.96454469,
            "remaining_time": 14.64740699
           },
           {
            "iteration": 648,
            "learn": [
             0.08448002606
            ],
            "passed_time": 27.00307265,
            "remaining_time": 14.60412712
           },
           {
            "iteration": 649,
            "learn": [
             0.08446364456
            ],
            "passed_time": 27.04406469,
            "remaining_time": 14.56218868
           },
           {
            "iteration": 650,
            "learn": [
             0.08444530766
            ],
            "passed_time": 27.08206468,
            "remaining_time": 14.51864911
           },
           {
            "iteration": 651,
            "learn": [
             0.08442894256
            ],
            "passed_time": 27.12132374,
            "remaining_time": 14.47579856
           },
           {
            "iteration": 652,
            "learn": [
             0.08435552408
            ],
            "passed_time": 27.16765755,
            "remaining_time": 14.43671848
           },
           {
            "iteration": 653,
            "learn": [
             0.08431579308
            ],
            "passed_time": 27.20241134,
            "remaining_time": 14.39148979
           },
           {
            "iteration": 654,
            "learn": [
             0.0842979053
            ],
            "passed_time": 27.25474026,
            "remaining_time": 14.35555021
           },
           {
            "iteration": 655,
            "learn": [
             0.08426609099
            ],
            "passed_time": 27.36551385,
            "remaining_time": 14.35020848
           },
           {
            "iteration": 656,
            "learn": [
             0.08426382217
            ],
            "passed_time": 27.41042969,
            "remaining_time": 14.31016345
           },
           {
            "iteration": 657,
            "learn": [
             0.08425290473
            ],
            "passed_time": 27.44449973,
            "remaining_time": 14.26446642
           },
           {
            "iteration": 658,
            "learn": [
             0.08423885205
            ],
            "passed_time": 27.47417992,
            "remaining_time": 14.21653316
           },
           {
            "iteration": 659,
            "learn": [
             0.08418800186
            ],
            "passed_time": 27.5109736,
            "remaining_time": 14.17231973
           },
           {
            "iteration": 660,
            "learn": [
             0.08417413752
            ],
            "passed_time": 27.54570676,
            "remaining_time": 14.127072
           },
           {
            "iteration": 661,
            "learn": [
             0.08414865667
            ],
            "passed_time": 27.5875818,
            "remaining_time": 14.08550249
           },
           {
            "iteration": 662,
            "learn": [
             0.08412885472
            ],
            "passed_time": 27.62392006,
            "remaining_time": 14.04111774
           },
           {
            "iteration": 663,
            "learn": [
             0.08411501449
            ],
            "passed_time": 27.66031256,
            "remaining_time": 13.99678467
           },
           {
            "iteration": 664,
            "learn": [
             0.08407668839
            ],
            "passed_time": 27.70176012,
            "remaining_time": 13.95502201
           },
           {
            "iteration": 665,
            "learn": [
             0.08404570041
            ],
            "passed_time": 27.73824359,
            "remaining_time": 13.91077081
           },
           {
            "iteration": 666,
            "learn": [
             0.0840220328
            ],
            "passed_time": 27.77179251,
            "remaining_time": 13.86507782
           },
           {
            "iteration": 667,
            "learn": [
             0.08399930407
            ],
            "passed_time": 27.80332165,
            "remaining_time": 13.81841735
           },
           {
            "iteration": 668,
            "learn": [
             0.08389996349
            ],
            "passed_time": 27.84264838,
            "remaining_time": 13.77566011
           },
           {
            "iteration": 669,
            "learn": [
             0.08389229422
            ],
            "passed_time": 27.87866972,
            "remaining_time": 13.73128509
           },
           {
            "iteration": 670,
            "learn": [
             0.08384044606
            ],
            "passed_time": 27.92260285,
            "remaining_time": 13.69081422
           },
           {
            "iteration": 671,
            "learn": [
             0.08381079943
            ],
            "passed_time": 27.95836648,
            "remaining_time": 13.64634555
           },
           {
            "iteration": 672,
            "learn": [
             0.08375850796
            ],
            "passed_time": 27.99695812,
            "remaining_time": 13.60327683
           },
           {
            "iteration": 673,
            "learn": [
             0.08370334421
            ],
            "passed_time": 28.03747076,
            "remaining_time": 13.56115055
           },
           {
            "iteration": 674,
            "learn": [
             0.08366166127
            ],
            "passed_time": 28.07945339,
            "remaining_time": 13.51973682
           },
           {
            "iteration": 675,
            "learn": [
             0.08364830859
            ],
            "passed_time": 28.11146765,
            "remaining_time": 13.47354367
           },
           {
            "iteration": 676,
            "learn": [
             0.08364568301
            ],
            "passed_time": 28.14809842,
            "remaining_time": 13.42959496
           },
           {
            "iteration": 677,
            "learn": [
             0.08360070373
            ],
            "passed_time": 28.19810148,
            "remaining_time": 13.3920187
           },
           {
            "iteration": 678,
            "learn": [
             0.0835291615
            ],
            "passed_time": 28.23510324,
            "remaining_time": 13.34825941
           },
           {
            "iteration": 679,
            "learn": [
             0.08351221054
            ],
            "passed_time": 28.26962786,
            "remaining_time": 13.30335429
           },
           {
            "iteration": 680,
            "learn": [
             0.08348513976
            ],
            "passed_time": 28.32168914,
            "remaining_time": 13.26669433
           },
           {
            "iteration": 681,
            "learn": [
             0.08346269702
            ],
            "passed_time": 28.42144099,
            "remaining_time": 13.25222615
           },
           {
            "iteration": 682,
            "learn": [
             0.08341434723
            ],
            "passed_time": 28.50066783,
            "remaining_time": 13.22798199
           },
           {
            "iteration": 683,
            "learn": [
             0.08337240701
            ],
            "passed_time": 28.55023501,
            "remaining_time": 13.18987465
           },
           {
            "iteration": 684,
            "learn": [
             0.08333997623
            ],
            "passed_time": 28.58740961,
            "remaining_time": 13.14603508
           },
           {
            "iteration": 685,
            "learn": [
             0.08330458728
            ],
            "passed_time": 28.63753328,
            "remaining_time": 13.10814206
           },
           {
            "iteration": 686,
            "learn": [
             0.08330088428
            ],
            "passed_time": 28.67719251,
            "remaining_time": 13.06544578
           },
           {
            "iteration": 687,
            "learn": [
             0.08329347567
            ],
            "passed_time": 28.71172551,
            "remaining_time": 13.02043366
           },
           {
            "iteration": 688,
            "learn": [
             0.08328969556
            ],
            "passed_time": 28.75139275,
            "remaining_time": 12.97776944
           },
           {
            "iteration": 689,
            "learn": [
             0.08327182386
            ],
            "passed_time": 28.78762092,
            "remaining_time": 12.93356882
           },
           {
            "iteration": 690,
            "learn": [
             0.08311834295
            ],
            "passed_time": 28.82974911,
            "remaining_time": 12.89202963
           },
           {
            "iteration": 691,
            "learn": [
             0.08309099893
            ],
            "passed_time": 28.87332725,
            "remaining_time": 12.85113409
           },
           {
            "iteration": 692,
            "learn": [
             0.0830525652
            ],
            "passed_time": 28.91365664,
            "remaining_time": 12.80879161
           },
           {
            "iteration": 693,
            "learn": [
             0.08301957964
            ],
            "passed_time": 28.95364209,
            "remaining_time": 12.76630329
           },
           {
            "iteration": 694,
            "learn": [
             0.0829975552
            ],
            "passed_time": 28.99276754,
            "remaining_time": 12.72344475
           },
           {
            "iteration": 695,
            "learn": [
             0.08297924419
            ],
            "passed_time": 29.03177006,
            "remaining_time": 12.68054325
           },
           {
            "iteration": 696,
            "learn": [
             0.08292082986
            ],
            "passed_time": 29.06402598,
            "remaining_time": 12.63472005
           },
           {
            "iteration": 697,
            "learn": [
             0.0829057512
            ],
            "passed_time": 29.09861107,
            "remaining_time": 12.58994347
           },
           {
            "iteration": 698,
            "learn": [
             0.08287309438
            ],
            "passed_time": 29.14605423,
            "remaining_time": 12.55073294
           },
           {
            "iteration": 699,
            "learn": [
             0.08283187404
            ],
            "passed_time": 29.19644324,
            "remaining_time": 12.51276139
           },
           {
            "iteration": 700,
            "learn": [
             0.08282280248
            ],
            "passed_time": 29.23389625,
            "remaining_time": 12.46923678
           },
           {
            "iteration": 701,
            "learn": [
             0.08281537394
            ],
            "passed_time": 29.27746366,
            "remaining_time": 12.42832503
           },
           {
            "iteration": 702,
            "learn": [
             0.08276457131
            ],
            "passed_time": 29.31467612,
            "remaining_time": 12.38472092
           },
           {
            "iteration": 703,
            "learn": [
             0.08273017361
            ],
            "passed_time": 29.34993859,
            "remaining_time": 12.34031509
           },
           {
            "iteration": 704,
            "learn": [
             0.08263072454
            ],
            "passed_time": 29.3985179,
            "remaining_time": 12.30150749
           },
           {
            "iteration": 705,
            "learn": [
             0.08259589874
            ],
            "passed_time": 29.50904467,
            "remaining_time": 12.28846903
           },
           {
            "iteration": 706,
            "learn": [
             0.08256058897
            ],
            "passed_time": 29.56894896,
            "remaining_time": 12.25417545
           },
           {
            "iteration": 707,
            "learn": [
             0.0825364889
            ],
            "passed_time": 29.60302972,
            "remaining_time": 12.20915915
           },
           {
            "iteration": 708,
            "learn": [
             0.08248130765
            ],
            "passed_time": 29.64684725,
            "remaining_time": 12.16817003
           },
           {
            "iteration": 709,
            "learn": [
             0.08242514766
            ],
            "passed_time": 29.68035438,
            "remaining_time": 12.12296165
           },
           {
            "iteration": 710,
            "learn": [
             0.08241633888
            ],
            "passed_time": 29.71851342,
            "remaining_time": 12.07967704
           },
           {
            "iteration": 711,
            "learn": [
             0.08239465718
            ],
            "passed_time": 29.75972385,
            "remaining_time": 12.03764111
           },
           {
            "iteration": 712,
            "learn": [
             0.08237829886
            ],
            "passed_time": 29.79069651,
            "remaining_time": 11.99148653
           },
           {
            "iteration": 713,
            "learn": [
             0.08235067806
            ],
            "passed_time": 29.82806408,
            "remaining_time": 11.94793603
           },
           {
            "iteration": 714,
            "learn": [
             0.08230656027
            ],
            "passed_time": 29.86360709,
            "remaining_time": 11.90367555
           },
           {
            "iteration": 715,
            "learn": [
             0.08227754785
            ],
            "passed_time": 29.90214836,
            "remaining_time": 11.86062868
           },
           {
            "iteration": 716,
            "learn": [
             0.08227324049
            ],
            "passed_time": 29.94033243,
            "remaining_time": 11.81745339
           },
           {
            "iteration": 717,
            "learn": [
             0.08226167891
            ],
            "passed_time": 29.97748286,
            "remaining_time": 11.77388603
           },
           {
            "iteration": 718,
            "learn": [
             0.08221437469
            ],
            "passed_time": 30.0211026,
            "remaining_time": 11.73286486
           },
           {
            "iteration": 719,
            "learn": [
             0.08211607392
            ],
            "passed_time": 30.06149197,
            "remaining_time": 11.69058021
           },
           {
            "iteration": 720,
            "learn": [
             0.08210052477
            ],
            "passed_time": 30.10768805,
            "remaining_time": 11.6505478
           },
           {
            "iteration": 721,
            "learn": [
             0.08199061839
            ],
            "passed_time": 30.14345623,
            "remaining_time": 11.60648315
           },
           {
            "iteration": 722,
            "learn": [
             0.08195328607
            ],
            "passed_time": 30.203318,
            "remaining_time": 11.57167232
           },
           {
            "iteration": 723,
            "learn": [
             0.0819438019
            ],
            "passed_time": 30.23664038,
            "remaining_time": 11.52667506
           },
           {
            "iteration": 724,
            "learn": [
             0.08192562731
            ],
            "passed_time": 30.27915989,
            "remaining_time": 11.48519858
           },
           {
            "iteration": 725,
            "learn": [
             0.0818243757
            ],
            "passed_time": 30.31800938,
            "remaining_time": 11.44233412
           },
           {
            "iteration": 726,
            "learn": [
             0.08171559736
            ],
            "passed_time": 30.35109829,
            "remaining_time": 11.39731752
           },
           {
            "iteration": 727,
            "learn": [
             0.08168720381
            ],
            "passed_time": 30.38634498,
            "remaining_time": 11.35313988
           },
           {
            "iteration": 728,
            "learn": [
             0.08166645262
            ],
            "passed_time": 30.42689634,
            "remaining_time": 11.31095872
           },
           {
            "iteration": 729,
            "learn": [
             0.08165160807
            ],
            "passed_time": 30.45983542,
            "remaining_time": 11.26596652
           },
           {
            "iteration": 730,
            "learn": [
             0.08163062235
            ],
            "passed_time": 30.6201716,
            "remaining_time": 11.26788805
           },
           {
            "iteration": 731,
            "learn": [
             0.08162641703
            ],
            "passed_time": 30.71361184,
            "remaining_time": 11.24487428
           },
           {
            "iteration": 732,
            "learn": [
             0.08152592453
            ],
            "passed_time": 30.76111212,
            "remaining_time": 11.20493443
           },
           {
            "iteration": 733,
            "learn": [
             0.08144654373
            ],
            "passed_time": 30.79994407,
            "remaining_time": 11.16183259
           },
           {
            "iteration": 734,
            "learn": [
             0.08140617858
            ],
            "passed_time": 30.83632156,
            "remaining_time": 11.11785743
           },
           {
            "iteration": 735,
            "learn": [
             0.08135574999
            ],
            "passed_time": 30.87904341,
            "remaining_time": 11.07617862
           },
           {
            "iteration": 736,
            "learn": [
             0.08134725177
            ],
            "passed_time": 30.92176987,
            "remaining_time": 11.03449861
           },
           {
            "iteration": 737,
            "learn": [
             0.08129596527
            ],
            "passed_time": 30.96079346,
            "remaining_time": 10.9915012
           },
           {
            "iteration": 738,
            "learn": [
             0.08124969552
            ],
            "passed_time": 30.99968493,
            "remaining_time": 10.94846789
           },
           {
            "iteration": 739,
            "learn": [
             0.08117387692
            ],
            "passed_time": 31.04012753,
            "remaining_time": 10.90599075
           },
           {
            "iteration": 740,
            "learn": [
             0.08115006746
            ],
            "passed_time": 31.0843263,
            "remaining_time": 10.864832
           },
           {
            "iteration": 741,
            "learn": [
             0.08112792352
            ],
            "passed_time": 31.11442506,
            "remaining_time": 10.81876235
           },
           {
            "iteration": 742,
            "learn": [
             0.08109731037
            ],
            "passed_time": 31.15314486,
            "remaining_time": 10.77571767
           },
           {
            "iteration": 743,
            "learn": [
             0.08098316776
            ],
            "passed_time": 31.19945135,
            "remaining_time": 10.73529509
           },
           {
            "iteration": 744,
            "learn": [
             0.08085104012
            ],
            "passed_time": 31.23908788,
            "remaining_time": 10.6925737
           },
           {
            "iteration": 745,
            "learn": [
             0.08081471039
            ],
            "passed_time": 31.28016766,
            "remaining_time": 10.65035199
           },
           {
            "iteration": 746,
            "learn": [
             0.08079101927
            ],
            "passed_time": 31.31526777,
            "remaining_time": 10.60610809
           },
           {
            "iteration": 747,
            "learn": [
             0.08072061301
            ],
            "passed_time": 31.34871482,
            "remaining_time": 10.56133173
           },
           {
            "iteration": 748,
            "learn": [
             0.08071848356
            ],
            "passed_time": 31.38412549,
            "remaining_time": 10.51724365
           },
           {
            "iteration": 749,
            "learn": [
             0.0806976724
            ],
            "passed_time": 31.4243812,
            "remaining_time": 10.47479373
           },
           {
            "iteration": 750,
            "learn": [
             0.08065369953
            ],
            "passed_time": 31.4605444,
            "remaining_time": 10.43099275
           },
           {
            "iteration": 751,
            "learn": [
             0.0806377054
            ],
            "passed_time": 31.49459336,
            "remaining_time": 10.38651483
           },
           {
            "iteration": 752,
            "learn": [
             0.08061586187
            ],
            "passed_time": 31.53545256,
            "remaining_time": 10.34429851
           },
           {
            "iteration": 753,
            "learn": [
             0.0805856562
            ],
            "passed_time": 31.57047277,
            "remaining_time": 10.30018077
           },
           {
            "iteration": 754,
            "learn": [
             0.08056652254
            ],
            "passed_time": 31.62297672,
            "remaining_time": 10.26176066
           },
           {
            "iteration": 755,
            "learn": [
             0.08055760561
            ],
            "passed_time": 31.73173527,
            "remaining_time": 10.24145953
           },
           {
            "iteration": 756,
            "learn": [
             0.08050702317
            ],
            "passed_time": 31.80795476,
            "remaining_time": 10.21047953
           },
           {
            "iteration": 757,
            "learn": [
             0.08046249771
            ],
            "passed_time": 31.84994869,
            "remaining_time": 10.16845328
           },
           {
            "iteration": 758,
            "learn": [
             0.08042629539
            ],
            "passed_time": 31.88137648,
            "remaining_time": 10.12307211
           },
           {
            "iteration": 759,
            "learn": [
             0.08039377136
            ],
            "passed_time": 31.91365932,
            "remaining_time": 10.07799768
           },
           {
            "iteration": 760,
            "learn": [
             0.08033984494
            ],
            "passed_time": 31.9551275,
            "remaining_time": 10.03584162
           },
           {
            "iteration": 761,
            "learn": [
             0.08028948654
            ],
            "passed_time": 31.99406431,
            "remaining_time": 9.992896727
           },
           {
            "iteration": 762,
            "learn": [
             0.08025992578
            ],
            "passed_time": 32.02536077,
            "remaining_time": 9.947589124
           },
           {
            "iteration": 763,
            "learn": [
             0.08022130278
            ],
            "passed_time": 32.06544048,
            "remaining_time": 9.905031352
           },
           {
            "iteration": 764,
            "learn": [
             0.08019511598
            ],
            "passed_time": 32.10176177,
            "remaining_time": 9.861325512
           },
           {
            "iteration": 765,
            "learn": [
             0.08015328424
            ],
            "passed_time": 32.14938588,
            "remaining_time": 9.821091769
           },
           {
            "iteration": 766,
            "learn": [
             0.08011130791
            ],
            "passed_time": 32.19801794,
            "remaining_time": 9.781144955
           },
           {
            "iteration": 767,
            "learn": [
             0.08008971854
            ],
            "passed_time": 32.24425531,
            "remaining_time": 9.740452125
           },
           {
            "iteration": 768,
            "learn": [
             0.08002919778
            ],
            "passed_time": 32.2839018,
            "remaining_time": 9.697765041
           },
           {
            "iteration": 769,
            "learn": [
             0.08002715848
            ],
            "passed_time": 32.32194807,
            "remaining_time": 9.654607866
           },
           {
            "iteration": 770,
            "learn": [
             0.07999936176
            ],
            "passed_time": 32.3612373,
            "remaining_time": 9.611833128
           },
           {
            "iteration": 771,
            "learn": [
             0.07996866182
            ],
            "passed_time": 32.40110989,
            "remaining_time": 9.569239708
           },
           {
            "iteration": 772,
            "learn": [
             0.07991761539
            ],
            "passed_time": 32.43975907,
            "remaining_time": 9.526294061
           },
           {
            "iteration": 773,
            "learn": [
             0.07990368446
            ],
            "passed_time": 32.4804139,
            "remaining_time": 9.483945143
           },
           {
            "iteration": 774,
            "learn": [
             0.07985857095
            ],
            "passed_time": 32.51782432,
            "remaining_time": 9.440658675
           },
           {
            "iteration": 775,
            "learn": [
             0.07983247912
            ],
            "passed_time": 32.55744486,
            "remaining_time": 9.398025319
           },
           {
            "iteration": 776,
            "learn": [
             0.07979848087
            ],
            "passed_time": 32.59656846,
            "remaining_time": 9.355257101
           },
           {
            "iteration": 777,
            "learn": [
             0.0797798261
            ],
            "passed_time": 32.63018133,
            "remaining_time": 9.310925777
           },
           {
            "iteration": 778,
            "learn": [
             0.07975560412
            ],
            "passed_time": 32.66746259,
            "remaining_time": 9.267662686
           },
           {
            "iteration": 779,
            "learn": [
             0.07974240178
            ],
            "passed_time": 32.70551456,
            "remaining_time": 9.224632313
           },
           {
            "iteration": 780,
            "learn": [
             0.07973385731
            ],
            "passed_time": 32.80439625,
            "remaining_time": 9.198671932
           },
           {
            "iteration": 781,
            "learn": [
             0.0796572527
            ],
            "passed_time": 32.88098739,
            "remaining_time": 9.166311062
           },
           {
            "iteration": 782,
            "learn": [
             0.07963223388
            ],
            "passed_time": 32.92168227,
            "remaining_time": 9.123888956
           },
           {
            "iteration": 783,
            "learn": [
             0.07957490575
            ],
            "passed_time": 32.95247403,
            "remaining_time": 9.078742844
           },
           {
            "iteration": 784,
            "learn": [
             0.07957298805
            ],
            "passed_time": 32.98557521,
            "remaining_time": 9.034265821
           },
           {
            "iteration": 785,
            "learn": [
             0.07956048827
            ],
            "passed_time": 33.0286682,
            "remaining_time": 8.992538162
           },
           {
            "iteration": 786,
            "learn": [
             0.07954102848
            ],
            "passed_time": 33.07338782,
            "remaining_time": 8.951247276
           },
           {
            "iteration": 787,
            "learn": [
             0.07949170626
            ],
            "passed_time": 33.11095294,
            "remaining_time": 8.908022871
           },
           {
            "iteration": 788,
            "learn": [
             0.0794798332
            ],
            "passed_time": 33.14929538,
            "remaining_time": 8.865020691
           },
           {
            "iteration": 789,
            "learn": [
             0.07945872047
            ],
            "passed_time": 33.18114599,
            "remaining_time": 8.82030463
           },
           {
            "iteration": 790,
            "learn": [
             0.07944079644
            ],
            "passed_time": 33.22217217,
            "remaining_time": 8.778045491
           },
           {
            "iteration": 791,
            "learn": [
             0.07941607931
            ],
            "passed_time": 33.26982018,
            "remaining_time": 8.737528532
           },
           {
            "iteration": 792,
            "learn": [
             0.07935259177
            ],
            "passed_time": 33.30886074,
            "remaining_time": 8.694746751
           },
           {
            "iteration": 793,
            "learn": [
             0.07932004314
            ],
            "passed_time": 33.34695531,
            "remaining_time": 8.651728958
           },
           {
            "iteration": 794,
            "learn": [
             0.07930011194
            ],
            "passed_time": 33.37840659,
            "remaining_time": 8.607010505
           },
           {
            "iteration": 795,
            "learn": [
             0.07928503281
            ],
            "passed_time": 33.41829465,
            "remaining_time": 8.564487575
           },
           {
            "iteration": 796,
            "learn": [
             0.07927144045
            ],
            "passed_time": 33.44823494,
            "remaining_time": 8.519437506
           },
           {
            "iteration": 797,
            "learn": [
             0.07925252753
            ],
            "passed_time": 33.48866637,
            "remaining_time": 8.47708096
           },
           {
            "iteration": 798,
            "learn": [
             0.07923572677
            ],
            "passed_time": 33.52194971,
            "remaining_time": 8.432931028
           },
           {
            "iteration": 799,
            "learn": [
             0.07920794814
            ],
            "passed_time": 33.56466513,
            "remaining_time": 8.391166282
           },
           {
            "iteration": 800,
            "learn": [
             0.07915177482
            ],
            "passed_time": 33.60035418,
            "remaining_time": 8.347653535
           },
           {
            "iteration": 801,
            "learn": [
             0.07912369923
            ],
            "passed_time": 33.65001335,
            "remaining_time": 8.307609282
           },
           {
            "iteration": 802,
            "learn": [
             0.07909732212
            ],
            "passed_time": 33.68485957,
            "remaining_time": 8.263907017
           },
           {
            "iteration": 803,
            "learn": [
             0.07909419178
            ],
            "passed_time": 33.71624233,
            "remaining_time": 8.219382458
           },
           {
            "iteration": 804,
            "learn": [
             0.07904792128
            ],
            "passed_time": 33.75558579,
            "remaining_time": 8.176818919
           },
           {
            "iteration": 805,
            "learn": [
             0.07901494294
            ],
            "passed_time": 33.79064997,
            "remaining_time": 8.133233368
           },
           {
            "iteration": 806,
            "learn": [
             0.07901220653
            ],
            "passed_time": 33.87271444,
            "remaining_time": 8.100909402
           },
           {
            "iteration": 807,
            "learn": [
             0.07896776387
            ],
            "passed_time": 33.96400852,
            "remaining_time": 8.07065549
           },
           {
            "iteration": 808,
            "learn": [
             0.07896602382
            ],
            "passed_time": 34.00351854,
            "remaining_time": 8.028024772
           },
           {
            "iteration": 809,
            "learn": [
             0.07893976449
            ],
            "passed_time": 34.04004046,
            "remaining_time": 7.984700848
           },
           {
            "iteration": 810,
            "learn": [
             0.07893208339
            ],
            "passed_time": 34.08307345,
            "remaining_time": 7.942911075
           },
           {
            "iteration": 811,
            "learn": [
             0.07888322159
            ],
            "passed_time": 34.12366511,
            "remaining_time": 7.900553006
           },
           {
            "iteration": 812,
            "learn": [
             0.07887091176
            ],
            "passed_time": 34.15799667,
            "remaining_time": 7.856759382
           },
           {
            "iteration": 813,
            "learn": [
             0.07883166405
            ],
            "passed_time": 34.20041463,
            "remaining_time": 7.814836757
           },
           {
            "iteration": 814,
            "learn": [
             0.07875657361
            ],
            "passed_time": 34.23969637,
            "remaining_time": 7.772201016
           },
           {
            "iteration": 815,
            "learn": [
             0.0787373848
            ],
            "passed_time": 34.28267394,
            "remaining_time": 7.730406869
           },
           {
            "iteration": 816,
            "learn": [
             0.07871546922
            ],
            "passed_time": 34.31922721,
            "remaining_time": 7.687170844
           },
           {
            "iteration": 817,
            "learn": [
             0.07866341428
            ],
            "passed_time": 34.35436217,
            "remaining_time": 7.643635592
           },
           {
            "iteration": 818,
            "learn": [
             0.07865552698
            ],
            "passed_time": 34.39885572,
            "remaining_time": 7.602189114
           },
           {
            "iteration": 819,
            "learn": [
             0.07862687846
            ],
            "passed_time": 34.43525015,
            "remaining_time": 7.558957351
           },
           {
            "iteration": 820,
            "learn": [
             0.07861289675
            ],
            "passed_time": 34.47434023,
            "remaining_time": 7.516329965
           },
           {
            "iteration": 821,
            "learn": [
             0.07857555631
            ],
            "passed_time": 34.50555515,
            "remaining_time": 7.47200586
           },
           {
            "iteration": 822,
            "learn": [
             0.07856494548
            ],
            "passed_time": 34.5429889,
            "remaining_time": 7.429051075
           },
           {
            "iteration": 823,
            "learn": [
             0.07853153022
            ],
            "passed_time": 34.59130813,
            "remaining_time": 7.388434746
           },
           {
            "iteration": 824,
            "learn": [
             0.07848665322
            ],
            "passed_time": 34.62648961,
            "remaining_time": 7.345012947
           },
           {
            "iteration": 825,
            "learn": [
             0.0784601594
            ],
            "passed_time": 34.66963685,
            "remaining_time": 7.303289119
           },
           {
            "iteration": 826,
            "learn": [
             0.07845263472
            ],
            "passed_time": 34.70685443,
            "remaining_time": 7.260321422
           },
           {
            "iteration": 827,
            "learn": [
             0.07842659255
            ],
            "passed_time": 34.75088766,
            "remaining_time": 7.218783427
           },
           {
            "iteration": 828,
            "learn": [
             0.07841158834
            ],
            "passed_time": 34.79012624,
            "remaining_time": 7.176250406
           },
           {
            "iteration": 829,
            "learn": [
             0.07835502392
            ],
            "passed_time": 34.83356256,
            "remaining_time": 7.134585103
           },
           {
            "iteration": 830,
            "learn": [
             0.07831127716
            ],
            "passed_time": 34.86687292,
            "remaining_time": 7.090856226
           },
           {
            "iteration": 831,
            "learn": [
             0.0782940972
            ],
            "passed_time": 34.92581144,
            "remaining_time": 7.05232731
           },
           {
            "iteration": 832,
            "learn": [
             0.07827543007
            ],
            "passed_time": 35.04266219,
            "remaining_time": 7.025359647
           },
           {
            "iteration": 833,
            "learn": [
             0.07826389927
            ],
            "passed_time": 35.08661978,
            "remaining_time": 6.983667725
           },
           {
            "iteration": 834,
            "learn": [
             0.07824409969
            ],
            "passed_time": 35.12496643,
            "remaining_time": 6.94086163
           },
           {
            "iteration": 835,
            "learn": [
             0.07823448957
            ],
            "passed_time": 35.16374093,
            "remaining_time": 6.898150135
           },
           {
            "iteration": 836,
            "learn": [
             0.078205431
            ],
            "passed_time": 35.20122375,
            "remaining_time": 6.855196501
           },
           {
            "iteration": 837,
            "learn": [
             0.07818146013
            ],
            "passed_time": 35.25150057,
            "remaining_time": 6.814729227
           },
           {
            "iteration": 838,
            "learn": [
             0.07816912387
            ],
            "passed_time": 35.28975049,
            "remaining_time": 6.771930666
           },
           {
            "iteration": 839,
            "learn": [
             0.07810505994
            ],
            "passed_time": 35.32954232,
            "remaining_time": 6.729436632
           },
           {
            "iteration": 840,
            "learn": [
             0.07802228849
            ],
            "passed_time": 35.36963878,
            "remaining_time": 6.687006619
           },
           {
            "iteration": 841,
            "learn": [
             0.07798071957
            ],
            "passed_time": 35.41050129,
            "remaining_time": 6.644725895
           },
           {
            "iteration": 842,
            "learn": [
             0.07793600474
            ],
            "passed_time": 35.44681279,
            "remaining_time": 6.601600959
           },
           {
            "iteration": 843,
            "learn": [
             0.07791917958
            ],
            "passed_time": 35.48926644,
            "remaining_time": 6.559627446
           },
           {
            "iteration": 844,
            "learn": [
             0.07790541144
            ],
            "passed_time": 35.52767578,
            "remaining_time": 6.516910942
           },
           {
            "iteration": 845,
            "learn": [
             0.07787478093
            ],
            "passed_time": 35.56469473,
            "remaining_time": 6.473951523
           },
           {
            "iteration": 846,
            "learn": [
             0.07785315865
            ],
            "passed_time": 35.60679259,
            "remaining_time": 6.431923574
           },
           {
            "iteration": 847,
            "learn": [
             0.0778424034
            ],
            "passed_time": 35.6500798,
            "remaining_time": 6.390108643
           },
           {
            "iteration": 848,
            "learn": [
             0.07774717775
            ],
            "passed_time": 35.69141781,
            "remaining_time": 6.347943569
           },
           {
            "iteration": 849,
            "learn": [
             0.07773435481
            ],
            "passed_time": 35.72811211,
            "remaining_time": 6.304960961
           },
           {
            "iteration": 850,
            "learn": [
             0.07770380391
            ],
            "passed_time": 35.77120696,
            "remaining_time": 6.263113792
           },
           {
            "iteration": 851,
            "learn": [
             0.07770187206
            ],
            "passed_time": 35.803253,
            "remaining_time": 6.219344418
           },
           {
            "iteration": 852,
            "learn": [
             0.07767992238
            ],
            "passed_time": 35.84042643,
            "remaining_time": 6.176486149
           },
           {
            "iteration": 853,
            "learn": [
             0.07767417506
            ],
            "passed_time": 35.87792626,
            "remaining_time": 6.133696996
           },
           {
            "iteration": 854,
            "learn": [
             0.07765055587
            ],
            "passed_time": 35.90857852,
            "remaining_time": 6.08975893
           },
           {
            "iteration": 855,
            "learn": [
             0.07762048834
            ],
            "passed_time": 35.9500896,
            "remaining_time": 6.047678624
           },
           {
            "iteration": 856,
            "learn": [
             0.0775993941
            ],
            "passed_time": 36.04036525,
            "remaining_time": 6.013736558
           },
           {
            "iteration": 857,
            "learn": [
             0.07758357555
            ],
            "passed_time": 36.12008,
            "remaining_time": 5.977915339
           },
           {
            "iteration": 858,
            "learn": [
             0.07753076417
            ],
            "passed_time": 36.18079494,
            "remaining_time": 5.938873209
           },
           {
            "iteration": 859,
            "learn": [
             0.0775027183
            ],
            "passed_time": 36.22448458,
            "remaining_time": 5.897009118
           },
           {
            "iteration": 860,
            "learn": [
             0.07747635095
            ],
            "passed_time": 36.27808524,
            "remaining_time": 5.856740823
           },
           {
            "iteration": 861,
            "learn": [
             0.07744466912
            ],
            "passed_time": 36.31706601,
            "remaining_time": 5.814101055
           },
           {
            "iteration": 862,
            "learn": [
             0.07742306188
            ],
            "passed_time": 36.35217128,
            "remaining_time": 5.770854537
           },
           {
            "iteration": 863,
            "learn": [
             0.07740982806
            ],
            "passed_time": 36.38781978,
            "remaining_time": 5.727712372
           },
           {
            "iteration": 864,
            "learn": [
             0.07735260991
            ],
            "passed_time": 36.42746376,
            "remaining_time": 5.685211106
           },
           {
            "iteration": 865,
            "learn": [
             0.07733049675
            ],
            "passed_time": 36.46515811,
            "remaining_time": 5.642414765
           },
           {
            "iteration": 866,
            "learn": [
             0.07731369669
            ],
            "passed_time": 36.50965944,
            "remaining_time": 5.600674401
           },
           {
            "iteration": 867,
            "learn": [
             0.07729680382
            ],
            "passed_time": 36.5510784,
            "remaining_time": 5.558458927
           },
           {
            "iteration": 868,
            "learn": [
             0.07728471764
            ],
            "passed_time": 36.58668071,
            "remaining_time": 5.515368438
           },
           {
            "iteration": 869,
            "learn": [
             0.07726055675
            ],
            "passed_time": 36.62519837,
            "remaining_time": 5.472730791
           },
           {
            "iteration": 870,
            "learn": [
             0.07725308393
            ],
            "passed_time": 36.66025857,
            "remaining_time": 5.429590535
           },
           {
            "iteration": 871,
            "learn": [
             0.07722830027
            ],
            "passed_time": 36.69570867,
            "remaining_time": 5.386526044
           },
           {
            "iteration": 872,
            "learn": [
             0.07719721946
            ],
            "passed_time": 36.73809551,
            "remaining_time": 5.344488121
           },
           {
            "iteration": 873,
            "learn": [
             0.07718326244
            ],
            "passed_time": 36.76890551,
            "remaining_time": 5.300780429
           },
           {
            "iteration": 874,
            "learn": [
             0.07714834468
            ],
            "passed_time": 36.81176974,
            "remaining_time": 5.258824249
           },
           {
            "iteration": 875,
            "learn": [
             0.07711959328
            ],
            "passed_time": 36.84748088,
            "remaining_time": 5.215853457
           },
           {
            "iteration": 876,
            "learn": [
             0.07710522836
            ],
            "passed_time": 36.88977634,
            "remaining_time": 5.173822679
           },
           {
            "iteration": 877,
            "learn": [
             0.07708784871
            ],
            "passed_time": 36.93554607,
            "remaining_time": 5.132274056
           },
           {
            "iteration": 878,
            "learn": [
             0.07706021293
            ],
            "passed_time": 36.97364342,
            "remaining_time": 5.089659674
           },
           {
            "iteration": 879,
            "learn": [
             0.07705011478
            ],
            "passed_time": 37.01212991,
            "remaining_time": 5.047108624
           },
           {
            "iteration": 880,
            "learn": [
             0.07698106874
            ],
            "passed_time": 37.07431758,
            "remaining_time": 5.007768209
           },
           {
            "iteration": 881,
            "learn": [
             0.07693557656
            ],
            "passed_time": 37.18539319,
            "remaining_time": 4.97491655
           },
           {
            "iteration": 882,
            "learn": [
             0.07692765994
            ],
            "passed_time": 37.24615353,
            "remaining_time": 4.935220796
           },
           {
            "iteration": 883,
            "learn": [
             0.07691890972
            ],
            "passed_time": 37.29270335,
            "remaining_time": 4.893612656
           },
           {
            "iteration": 884,
            "learn": [
             0.07688106347
            ],
            "passed_time": 37.3290988,
            "remaining_time": 4.850673855
           },
           {
            "iteration": 885,
            "learn": [
             0.07685404604
            ],
            "passed_time": 37.36950717,
            "remaining_time": 4.80826616
           },
           {
            "iteration": 886,
            "learn": [
             0.07679328632
            ],
            "passed_time": 37.4107682,
            "remaining_time": 4.765971597
           },
           {
            "iteration": 887,
            "learn": [
             0.07676170054
            ],
            "passed_time": 37.44663996,
            "remaining_time": 4.722999635
           },
           {
            "iteration": 888,
            "learn": [
             0.07674846523
            ],
            "passed_time": 37.48712879,
            "remaining_time": 4.68062013
           },
           {
            "iteration": 889,
            "learn": [
             0.07669183852
            ],
            "passed_time": 37.52925747,
            "remaining_time": 4.638447553
           },
           {
            "iteration": 890,
            "learn": [
             0.07667585324
            ],
            "passed_time": 37.55802263,
            "remaining_time": 4.594640255
           },
           {
            "iteration": 891,
            "learn": [
             0.0766489614
            ],
            "passed_time": 37.59188753,
            "remaining_time": 4.55148414
           },
           {
            "iteration": 892,
            "learn": [
             0.07657262217
            ],
            "passed_time": 37.63587856,
            "remaining_time": 4.509562157
           },
           {
            "iteration": 893,
            "learn": [
             0.0765631338
            ],
            "passed_time": 37.6748402,
            "remaining_time": 4.467039219
           },
           {
            "iteration": 894,
            "learn": [
             0.07655569588
            ],
            "passed_time": 37.71458096,
            "remaining_time": 4.424615643
           },
           {
            "iteration": 895,
            "learn": [
             0.07654758139
            ],
            "passed_time": 37.75044631,
            "remaining_time": 4.381748233
           },
           {
            "iteration": 896,
            "learn": [
             0.0765417767
            ],
            "passed_time": 37.78305709,
            "remaining_time": 4.33852272
           },
           {
            "iteration": 897,
            "learn": [
             0.0765377843
            ],
            "passed_time": 37.82289145,
            "remaining_time": 4.296141345
           },
           {
            "iteration": 898,
            "learn": [
             0.07651007486
            ],
            "passed_time": 37.85983992,
            "remaining_time": 4.253441414
           },
           {
            "iteration": 899,
            "learn": [
             0.07650022776
            ],
            "passed_time": 37.89709248,
            "remaining_time": 4.210788053
           },
           {
            "iteration": 900,
            "learn": [
             0.07644732577
            ],
            "passed_time": 37.94068292,
            "remaining_time": 4.168843073
           },
           {
            "iteration": 901,
            "learn": [
             0.07643709213
            ],
            "passed_time": 37.97838355,
            "remaining_time": 4.126254532
           },
           {
            "iteration": 902,
            "learn": [
             0.07642600963
            ],
            "passed_time": 38.01520127,
            "remaining_time": 4.083581975
           },
           {
            "iteration": 903,
            "learn": [
             0.07641216096
            ],
            "passed_time": 38.06005617,
            "remaining_time": 4.041775876
           },
           {
            "iteration": 904,
            "learn": [
             0.0763918391
            ],
            "passed_time": 38.09637021,
            "remaining_time": 3.999066486
           },
           {
            "iteration": 905,
            "learn": [
             0.07634356915
            ],
            "passed_time": 38.1544964,
            "remaining_time": 3.958634284
           },
           {
            "iteration": 906,
            "learn": [
             0.07631725815
            ],
            "passed_time": 38.2789406,
            "remaining_time": 3.924963038
           },
           {
            "iteration": 907,
            "learn": [
             0.076305575
            ],
            "passed_time": 38.35049133,
            "remaining_time": 3.885732601
           },
           {
            "iteration": 908,
            "learn": [
             0.07625876397
            ],
            "passed_time": 38.39277254,
            "remaining_time": 3.843500881
           },
           {
            "iteration": 909,
            "learn": [
             0.07624994202
            ],
            "passed_time": 38.42895086,
            "remaining_time": 3.800665469
           },
           {
            "iteration": 910,
            "learn": [
             0.07624109082
            ],
            "passed_time": 38.46378685,
            "remaining_time": 3.757713534
           },
           {
            "iteration": 911,
            "learn": [
             0.07620656451
            ],
            "passed_time": 38.50228793,
            "remaining_time": 3.715133046
           },
           {
            "iteration": 912,
            "learn": [
             0.07615390788
            ],
            "passed_time": 38.54891427,
            "remaining_time": 3.673335752
           },
           {
            "iteration": 913,
            "learn": [
             0.07614373147
            ],
            "passed_time": 38.58139943,
            "remaining_time": 3.630197321
           },
           {
            "iteration": 914,
            "learn": [
             0.07606132431
            ],
            "passed_time": 38.62605834,
            "remaining_time": 3.58821307
           },
           {
            "iteration": 915,
            "learn": [
             0.07602961039
            ],
            "passed_time": 38.66565702,
            "remaining_time": 3.54575894
           },
           {
            "iteration": 916,
            "learn": [
             0.07599893276
            ],
            "passed_time": 38.70678012,
            "remaining_time": 3.503449018
           },
           {
            "iteration": 917,
            "learn": [
             0.07599134972
            ],
            "passed_time": 38.74644555,
            "remaining_time": 3.461011477
           },
           {
            "iteration": 918,
            "learn": [
             0.07595939436
            ],
            "passed_time": 38.78813756,
            "remaining_time": 3.418758588
           },
           {
            "iteration": 919,
            "learn": [
             0.07592289969
            ],
            "passed_time": 38.82652113,
            "remaining_time": 3.376219229
           },
           {
            "iteration": 920,
            "learn": [
             0.07590433278
            ],
            "passed_time": 38.86605238,
            "remaining_time": 3.333787338
           },
           {
            "iteration": 921,
            "learn": [
             0.07588003804
            ],
            "passed_time": 38.90711849,
            "remaining_time": 3.291491586
           },
           {
            "iteration": 922,
            "learn": [
             0.07583730584
            ],
            "passed_time": 38.94523325,
            "remaining_time": 3.248952286
           },
           {
            "iteration": 923,
            "learn": [
             0.07581939705
            ],
            "passed_time": 38.97873578,
            "remaining_time": 3.206043203
           },
           {
            "iteration": 924,
            "learn": [
             0.07578940031
            ],
            "passed_time": 39.02256075,
            "remaining_time": 3.163991412
           },
           {
            "iteration": 925,
            "learn": [
             0.07574494145
            ],
            "passed_time": 39.06944139,
            "remaining_time": 3.122179982
           },
           {
            "iteration": 926,
            "learn": [
             0.07573919374
            ],
            "passed_time": 39.11371007,
            "remaining_time": 3.080151926
           },
           {
            "iteration": 927,
            "learn": [
             0.0756810219
            ],
            "passed_time": 39.15254646,
            "remaining_time": 3.03769757
           },
           {
            "iteration": 928,
            "learn": [
             0.07563960856
            ],
            "passed_time": 39.18619853,
            "remaining_time": 2.994854786
           },
           {
            "iteration": 929,
            "learn": [
             0.07561667882
            ],
            "passed_time": 39.27917023,
            "remaining_time": 2.956496684
           },
           {
            "iteration": 930,
            "learn": [
             0.07556988167
            ],
            "passed_time": 39.37761921,
            "remaining_time": 2.918427203
           },
           {
            "iteration": 931,
            "learn": [
             0.07552680211
            ],
            "passed_time": 39.42775513,
            "remaining_time": 2.876703164
           },
           {
            "iteration": 932,
            "learn": [
             0.07552369096
            ],
            "passed_time": 39.46505912,
            "remaining_time": 2.834039616
           },
           {
            "iteration": 933,
            "learn": [
             0.07551544595
            ],
            "passed_time": 39.50699685,
            "remaining_time": 2.791714981
           },
           {
            "iteration": 934,
            "learn": [
             0.07548184575
            ],
            "passed_time": 39.54294896,
            "remaining_time": 2.748975061
           },
           {
            "iteration": 935,
            "learn": [
             0.07545745492
            ],
            "passed_time": 39.58148141,
            "remaining_time": 2.706426079
           },
           {
            "iteration": 936,
            "learn": [
             0.0754471095
            ],
            "passed_time": 39.62081215,
            "remaining_time": 2.663939344
           },
           {
            "iteration": 937,
            "learn": [
             0.07541807495
            ],
            "passed_time": 39.66202592,
            "remaining_time": 2.621583803
           },
           {
            "iteration": 938,
            "learn": [
             0.07540376749
            ],
            "passed_time": 39.69769867,
            "remaining_time": 2.578870734
           },
           {
            "iteration": 939,
            "learn": [
             0.0753813143
            ],
            "passed_time": 39.74057888,
            "remaining_time": 2.536632694
           },
           {
            "iteration": 940,
            "learn": [
             0.0753706616
            ],
            "passed_time": 39.7784707,
            "remaining_time": 2.494080522
           },
           {
            "iteration": 941,
            "learn": [
             0.075355658
            ],
            "passed_time": 39.81769741,
            "remaining_time": 2.451620435
           },
           {
            "iteration": 942,
            "learn": [
             0.07533422554
            ],
            "passed_time": 39.85281907,
            "remaining_time": 2.408919074
           },
           {
            "iteration": 943,
            "learn": [
             0.07531217513
            ],
            "passed_time": 39.88691329,
            "remaining_time": 2.366172822
           },
           {
            "iteration": 944,
            "learn": [
             0.07530001291
            ],
            "passed_time": 39.92497402,
            "remaining_time": 2.323675736
           },
           {
            "iteration": 945,
            "learn": [
             0.0752724919
            ],
            "passed_time": 39.97176185,
            "remaining_time": 2.281686194
           },
           {
            "iteration": 946,
            "learn": [
             0.07527140137
            ],
            "passed_time": 40.00508756,
            "remaining_time": 2.238933095
           },
           {
            "iteration": 947,
            "learn": [
             0.07524115918
            ],
            "passed_time": 40.04323734,
            "remaining_time": 2.196464496
           },
           {
            "iteration": 948,
            "learn": [
             0.0752030031
            ],
            "passed_time": 40.08771383,
            "remaining_time": 2.154345
           },
           {
            "iteration": 949,
            "learn": [
             0.07519855542
            ],
            "passed_time": 40.12719559,
            "remaining_time": 2.111957663
           },
           {
            "iteration": 950,
            "learn": [
             0.07515242621
            ],
            "passed_time": 40.17001195,
            "remaining_time": 2.06974825
           },
           {
            "iteration": 951,
            "learn": [
             0.07511306698
            ],
            "passed_time": 40.20859949,
            "remaining_time": 2.027324344
           },
           {
            "iteration": 952,
            "learn": [
             0.07506792929
            ],
            "passed_time": 40.25048339,
            "remaining_time": 1.985071059
           },
           {
            "iteration": 953,
            "learn": [
             0.07506172821
            ],
            "passed_time": 40.28626973,
            "remaining_time": 1.942524536
           },
           {
            "iteration": 954,
            "learn": [
             0.07503666308
            ],
            "passed_time": 40.51186553,
            "remaining_time": 1.908936072
           },
           {
            "iteration": 955,
            "learn": [
             0.07499681512
            ],
            "passed_time": 40.56623496,
            "remaining_time": 1.867065207
           },
           {
            "iteration": 956,
            "learn": [
             0.07496257717
            ],
            "passed_time": 40.61275871,
            "remaining_time": 1.824815699
           },
           {
            "iteration": 957,
            "learn": [
             0.07493733827
            ],
            "passed_time": 40.65411439,
            "remaining_time": 1.782330693
           },
           {
            "iteration": 958,
            "learn": [
             0.07492500459
            ],
            "passed_time": 40.69556143,
            "remaining_time": 1.739851948
           },
           {
            "iteration": 959,
            "learn": [
             0.07491121161
            ],
            "passed_time": 40.73665534,
            "remaining_time": 1.697360639
           },
           {
            "iteration": 960,
            "learn": [
             0.07488270423
            ],
            "passed_time": 40.77490395,
            "remaining_time": 1.654756768
           },
           {
            "iteration": 961,
            "learn": [
             0.07484768943
            ],
            "passed_time": 40.81681015,
            "remaining_time": 1.61230643
           },
           {
            "iteration": 962,
            "learn": [
             0.07482764953
            ],
            "passed_time": 40.85342112,
            "remaining_time": 1.569653771
           },
           {
            "iteration": 963,
            "learn": [
             0.07482035762
            ],
            "passed_time": 40.88315366,
            "remaining_time": 1.526756776
           },
           {
            "iteration": 964,
            "learn": [
             0.07480823225
            ],
            "passed_time": 40.92247632,
            "remaining_time": 1.484234893
           },
           {
            "iteration": 965,
            "learn": [
             0.07478417267
            ],
            "passed_time": 40.9619643,
            "remaining_time": 1.441725452
           },
           {
            "iteration": 966,
            "learn": [
             0.07473462847
            ],
            "passed_time": 41.00290119,
            "remaining_time": 1.399271706
           },
           {
            "iteration": 967,
            "learn": [
             0.07471683562
            ],
            "passed_time": 41.03626298,
            "remaining_time": 1.356570677
           },
           {
            "iteration": 968,
            "learn": [
             0.07471365619
            ],
            "passed_time": 41.08021047,
            "remaining_time": 1.31422758
           },
           {
            "iteration": 969,
            "learn": [
             0.07469016561
            ],
            "passed_time": 41.12124931,
            "remaining_time": 1.271791216
           },
           {
            "iteration": 970,
            "learn": [
             0.07465340166
            ],
            "passed_time": 41.16017335,
            "remaining_time": 1.22929457
           },
           {
            "iteration": 971,
            "learn": [
             0.07463084236
            ],
            "passed_time": 41.19806713,
            "remaining_time": 1.186775596
           },
           {
            "iteration": 972,
            "learn": [
             0.0746280461
            ],
            "passed_time": 41.23342622,
            "remaining_time": 1.144195794
           },
           {
            "iteration": 973,
            "learn": [
             0.07460957112
            ],
            "passed_time": 41.27332821,
            "remaining_time": 1.101752088
           },
           {
            "iteration": 974,
            "learn": [
             0.07458184266
            ],
            "passed_time": 41.31210339,
            "remaining_time": 1.059284702
           },
           {
            "iteration": 975,
            "learn": [
             0.07456086033
            ],
            "passed_time": 41.36293945,
            "remaining_time": 1.017121462
           },
           {
            "iteration": 976,
            "learn": [
             0.07455507102
            ],
            "passed_time": 41.40271445,
            "remaining_time": 0.9746800741
           },
           {
            "iteration": 977,
            "learn": [
             0.07451735349
            ],
            "passed_time": 41.44662893,
            "remaining_time": 0.9323372561
           },
           {
            "iteration": 978,
            "learn": [
             0.07447388692
            ],
            "passed_time": 41.55953296,
            "remaining_time": 0.891471085
           },
           {
            "iteration": 979,
            "learn": [
             0.07442481619
            ],
            "passed_time": 41.6379723,
            "remaining_time": 0.8497545368
           },
           {
            "iteration": 980,
            "learn": [
             0.07440356169
            ],
            "passed_time": 41.67631931,
            "remaining_time": 0.8071866125
           },
           {
            "iteration": 981,
            "learn": [
             0.07438487819
            ],
            "passed_time": 41.71344385,
            "remaining_time": 0.764604877
           },
           {
            "iteration": 982,
            "learn": [
             0.07436122258
            ],
            "passed_time": 41.74984053,
            "remaining_time": 0.7220216572
           },
           {
            "iteration": 983,
            "learn": [
             0.07434840139
            ],
            "passed_time": 41.78312721,
            "remaining_time": 0.6794004424
           },
           {
            "iteration": 984,
            "learn": [
             0.07430505141
            ],
            "passed_time": 41.82310988,
            "remaining_time": 0.6369001505
           },
           {
            "iteration": 985,
            "learn": [
             0.07428650594
            ],
            "passed_time": 41.85969259,
            "remaining_time": 0.5943566899
           },
           {
            "iteration": 986,
            "learn": [
             0.07425776683
            ],
            "passed_time": 41.89405587,
            "remaining_time": 0.5517960753
           },
           {
            "iteration": 987,
            "learn": [
             0.07424006664
            ],
            "passed_time": 41.94942841,
            "remaining_time": 0.5095072276
           },
           {
            "iteration": 988,
            "learn": [
             0.07418609403
            ],
            "passed_time": 41.99885568,
            "remaining_time": 0.4671257963
           },
           {
            "iteration": 989,
            "learn": [
             0.07413568771
            ],
            "passed_time": 42.03552185,
            "remaining_time": 0.4246012308
           },
           {
            "iteration": 990,
            "learn": [
             0.07412185496
            ],
            "passed_time": 42.07094918,
            "remaining_time": 0.3820772377
           },
           {
            "iteration": 991,
            "learn": [
             0.07411885457
            ],
            "passed_time": 42.11453281,
            "remaining_time": 0.3396333291
           },
           {
            "iteration": 992,
            "learn": [
             0.07407342241
            ],
            "passed_time": 42.15394093,
            "remaining_time": 0.2971576904
           },
           {
            "iteration": 993,
            "learn": [
             0.0740626137
            ],
            "passed_time": 42.19678045,
            "remaining_time": 0.2547089363
           },
           {
            "iteration": 994,
            "learn": [
             0.07404869704
            ],
            "passed_time": 42.24057839,
            "remaining_time": 0.212264213
           },
           {
            "iteration": 995,
            "learn": [
             0.07401237407
            ],
            "passed_time": 42.29366315,
            "remaining_time": 0.1698540689
           },
           {
            "iteration": 996,
            "learn": [
             0.07400719071
            ],
            "passed_time": 42.33193692,
            "remaining_time": 0.1273779446
           },
           {
            "iteration": 997,
            "learn": [
             0.07397087593
            ],
            "passed_time": 42.38453974,
            "remaining_time": 0.08493895739
           },
           {
            "iteration": 998,
            "learn": [
             0.07390262851
            ],
            "passed_time": 42.42669003,
            "remaining_time": 0.04246915918
           },
           {
            "iteration": 999,
            "learn": [
             0.07387975823
            ],
            "passed_time": 42.46144969,
            "remaining_time": 0
           }
          ],
          "meta": {
           "iteration_count": 1000,
           "launch_mode": "Train",
           "learn_metrics": [
            {
             "best_value": "Min",
             "name": "Logloss"
            }
           ],
           "learn_sets": [
            "learn"
           ],
           "name": "experiment",
           "parameters": "",
           "test_metrics": [],
           "test_sets": []
          }
         },
         "passed_iterations": 999,
         "total_iterations": 1000
        },
        "name": "model-final",
        "path": "catboost_info/model-final"
       }
      },
      "layout": "IPY_MODEL_99a290556fb44b03ab9d4e16a2cbe2a9"
     }
    }
   }
  }
 },
 "nbformat": 4,
 "nbformat_minor": 4
}
