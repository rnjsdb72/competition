{
 "cells": [
  {
   "cell_type": "code",
   "execution_count": null,
   "id": "6bc53cd8",
   "metadata": {},
   "outputs": [],
   "source": [
    "import pandas as pd\n",
    "import numpy as np\n",
    "import matplotlib.pylab as plt\n",
    "%matplotlib inline\n",
    "plt.rc('font', family='malgun gothic')\n",
    "plt.rc('axes', unicode_minus=False)\n",
    "import seaborn as sns\n",
    "import os\n",
    "import missingno as msno\n",
    "import pickle\n",
    "from glob import glob\n",
    "from tqdm import tqdm\n",
    "import warnings\n",
    "warnings.filterwarnings(\"ignore\")"
   ]
  },
  {
   "cell_type": "markdown",
   "id": "868352a9",
   "metadata": {},
   "source": [
    "## Import Data"
   ]
  },
  {
   "cell_type": "code",
   "execution_count": null,
   "id": "d62644c9",
   "metadata": {},
   "outputs": [],
   "source": [
    "order_files = glob(f'{os.path.abspath(\"1. 이커머스 FC주문 데이터\")}/1-*')\n",
    "delivery_files = glob(f'{os.path.abspath(\"2. 택배 배송 데이터\")}/2-*.xlsx')"
   ]
  },
  {
   "cell_type": "code",
   "execution_count": null,
   "id": "20264ac9",
   "metadata": {},
   "outputs": [],
   "source": [
    "order_raw = []\n",
    "for file in tqdm(order_files):\n",
    "    try:\n",
    "        order = pd.read_excel(file, sheet_name=0)\n",
    "        order_raw.append(order)\n",
    "    except:\n",
    "        order = pd.read_csv(file)\n",
    "        order_raw.append(order)\n",
    "orders = pd.concat(order_raw)"
   ]
  },
  {
   "cell_type": "code",
   "execution_count": null,
   "id": "10e65503",
   "metadata": {},
   "outputs": [],
   "source": [
    "delivery_raw = []\n",
    "for file in tqdm(delivery_files):\n",
    "    delivery = pd.read_excel(file, index_col=0)\n",
    "    delivery_raw.append(delivery)\n",
    "deliveries = pd.concat(delivery_raw)"
   ]
  },
  {
   "cell_type": "code",
   "execution_count": null,
   "id": "3cd3cbd0",
   "metadata": {},
   "outputs": [],
   "source": [
    "orders.to_csv('orders.csv', index=False)\n",
    "deliveries.to_csv('deliveries.csv', index=False)"
   ]
  },
  {
   "cell_type": "markdown",
   "id": "a6aca340",
   "metadata": {},
   "source": [
    "## Preprocessing"
   ]
  },
  {
   "cell_type": "code",
   "execution_count": null,
   "id": "04afc369",
   "metadata": {},
   "outputs": [],
   "source": [
    "orders.BKG_DATE = pd.to_datetime(orders.BKG_DATE, format='%Y%m%d')\n",
    "orders.INS_DATE = pd.to_datetime(orders.INS_DATE, format='%Y%m%d')\n",
    "orders[\"BKG_TIME\"] = pd.to_datetime(orders[\"BKG_TIME\"].apply(lambda x : str(x).zfill(6)), format='%H%M%S')"
   ]
  },
  {
   "cell_type": "code",
   "execution_count": null,
   "id": "d30169f5",
   "metadata": {},
   "outputs": [],
   "source": [
    "# 주문 날짜 분류\n",
    "orders['BKG_MONTH'] = orders.BKG_DATE.dt.month\n",
    "orders['BKG_DAY'] = orders.BKG_DATE.dt.day\n",
    "orders['BKG_DAYNAME'] = orders.BKG_DATE.dt.day_name()\n",
    "\n",
    "orders['BKG_HOUR'] = orders['BKG_TIME'].dt.hour"
   ]
  },
  {
   "cell_type": "code",
   "execution_count": null,
   "id": "98c8112f",
   "metadata": {},
   "outputs": [],
   "source": [
    "orders['BKG_HOUR'] = orders['BKG_TIME'].dt.hour"
   ]
  },
  {
   "cell_type": "code",
   "execution_count": null,
   "id": "cb472c92",
   "metadata": {},
   "outputs": [],
   "source": [
    "# 송화인 주소 전처리\n",
    "orders.loc[orders.SHPR_ADDR_1=='서울시','SHPR_ADDR_1'] = '서울특별시'\n",
    "orders.loc[orders.SHPR_ADDR_1=='경기','SHPR_ADDR_1'] = '경기도'"
   ]
  },
  {
   "cell_type": "code",
   "execution_count": null,
   "id": "c19cb09d",
   "metadata": {},
   "outputs": [],
   "source": [
    "# 수화인 주소 전처리\n",
    "orders.loc[orders.CNEE_ADDR_1=='전남목포시',['CNEE_ADDR_1','CNEE_ADDR_2']] = ['전라남도','목포시']\n",
    "orders.loc[orders.CNEE_ADDR_1=='경기도수원시',['CNEE_ADDR_1','CNEE_ADDR_2']] = ['경기도','수원시']\n",
    "orders.loc[orders.CNEE_ADDR_1=='경기도시흥시',['CNEE_ADDR_1','CNEE_ADDR_2']] = ['경기도','시흥시']\n",
    "orders.loc[orders.CNEE_ADDR_1=='충남금산군',['CNEE_ADDR_1','CNEE_ADDR_2']] = ['충청남도','금산군']\n",
    "orders.loc[orders.CNEE_ADDR_1=='인천광역시미추홀구',['CNEE_ADDR_1','CNEE_ADDR_2']] = ['인천광역시','미추홀구']\n",
    "orders.loc[orders.CNEE_ADDR_1=='청주시',['CNEE_ADDR_1','CNEE_ADDR_2']] = ['충청북도','청주시']\n",
    "orders.loc[orders.CNEE_ADDR_1=='경기도수원시',['CNEE_ADDR_1','CNEE_ADDR_2']] = ['경기도','수원시']\n",
    "orders.loc[orders.CNEE_ADDR_1=='경기도시흥시',['CNEE_ADDR_1','CNEE_ADDR_2']] = ['경기도','시흥시']\n",
    "orders.loc[orders.CNEE_ADDR_1=='충남금산군',['CNEE_ADDR_1','CNEE_ADDR_2']] = ['충청남도','금산군']\n",
    "orders.loc[orders.CNEE_ADDR_1=='인천광역시미추홀구',['CNEE_ADDR_1','CNEE_ADDR_2']] = ['인천광역시','미추홀구']\n",
    "orders.loc[orders.CNEE_ADDR_1=='영천시',['CNEE_ADDR_1','CNEE_ADDR_2']] = ['경상북도','영천시']\n",
    "orders.loc[orders.CNEE_ADDR_1=='청주시',['CNEE_ADDR_1','CNEE_ADDR_2']] = ['충청북도','청주시']\n",
    "orders.loc[orders.CNEE_ADDR_1=='태종로711번길',['CNEE_ADDR_1','CNEE_ADDR_2']] = ['경상북도','경주시']\n",
    "orders.loc[orders.CNEE_ADDR_1=='道路名稱首爾特別市中區麻將路1街22號（STUDIO',['CNEE_ADDR_1','CNEE_ADDR_2']] = ['서울특별시','중구']\n",
    "orders.loc[orders.CNEE_ADDR_1=='강서구',['CNEE_ADDR_1','CNEE_ADDR_2']] = ['서울특별시', '강서구']\n",
    "orders.loc[orders.CNEE_ADDR_1=='마포구',['CNEE_ADDR_1','CNEE_ADDR_2']] = ['서울특별시','마포구']\n",
    "orders.loc[orders.CNEE_ADDR_1=='영등포구',['CNEE_ADDR_1','CNEE_ADDR_2']] = ['서울특별시','영등포구']\n",
    "\n",
    "orders.loc[orders.CNEE_ADDR_1=='울특별시','CNEE_ADDR_1'] = '서울특별시'\n",
    "orders.loc[orders.CNEE_ADDR_1=='강원','CNEE_ADDR_1'] = '강원도'\n",
    "orders.loc[orders.CNEE_ADDR_1=='서울','CNEE_ADDR_1'] = '서울특별시'\n",
    "orders.loc[orders.CNEE_ADDR_1=='경북','CNEE_ADDR_1'] = '경상북도'\n",
    "orders.loc[orders.CNEE_ADDR_1=='대전','CNEE_ADDR_1'] = '대전광역시'\n",
    "orders.loc[orders.CNEE_ADDR_1=='광주','CNEE_ADDR_1'] = '광주광역시'\n",
    "orders.loc[orders.CNEE_ADDR_1=='전북','CNEE_ADDR_1'] = '전라북도'\n",
    "orders.loc[orders.CNEE_ADDR_1=='경남','CNEE_ADDR_1'] = '경상남도'\n",
    "orders.loc[orders.CNEE_ADDR_1=='대구','CNEE_ADDR_1'] = '대구광역시'\n",
    "orders.loc[orders.CNEE_ADDR_1=='세종','CNEE_ADDR_1'] = '세종특별자치시'\n",
    "orders.loc[orders.CNEE_ADDR_1=='\\u200b서울시','CNEE_ADDR_1'] = '서울특별시'\n",
    "orders.loc[orders.CNEE_ADDR_1=='대구시','CNEE_ADDR_1'] = '대구광역시'\n",
    "orders.loc[orders.CNEE_ADDR_1=='\\t경기도','CNEE_ADDR_1'] = '경기도'\n",
    "orders.loc[orders.CNEE_ADDR_1=='경기','CNEE_ADDR_1'] = '경기도'\n",
    "orders.loc[orders.CNEE_ADDR_1=='인천','CNEE_ADDR_1'] = '인천광역시'\n",
    "orders.loc[orders.CNEE_ADDR_1=='전남','CNEE_ADDR_1'] = '전라남도'\n",
    "orders.loc[orders.CNEE_ADDR_1=='부산','CNEE_ADDR_1'] = '부산광역시'\n",
    "orders.loc[orders.CNEE_ADDR_1=='충남','CNEE_ADDR_1'] = '충청남도'\n",
    "orders.loc[orders.CNEE_ADDR_1=='충북','CNEE_ADDR_1'] = '충청북도'\n",
    "orders.loc[orders.CNEE_ADDR_1=='울산','CNEE_ADDR_1'] = '울산광역시'\n",
    "orders.loc[orders.CNEE_ADDR_1=='부산시','CNEE_ADDR_1'] = '부산광역시'\n",
    "orders.loc[orders.CNEE_ADDR_1=='인천시','CNEE_ADDR_1'] = '인천광역시'\n",
    "orders.loc[orders.CNEE_ADDR_1=='서울시','CNEE_ADDR_1'] = '서울특별시'\n",
    "orders.loc[orders.CNEE_ADDR_1=='제주','CNEE_ADDR_1'] = '제주특별자치도'\n",
    "orders.loc[orders.CNEE_ADDR_1=='세종시','CNEE_ADDR_1'] = '세종특별자치시'\n",
    "orders.loc[orders.CNEE_ADDR_1=='화성시','CNEE_ADDR_1'] = '경기도'\n",
    "orders.loc[orders.CNEE_ADDR_1=='전남','CNEE_ADDR_1'] = '전라남도'\n",
    "orders.loc[orders.CNEE_ADDR_1=='울특별시','CNEE_ADDR_1'] = '서울특별시'\n",
    "orders.loc[orders.CNEE_ADDR_1=='강원','CNEE_ADDR_1'] = '강원도'\n",
    "orders.loc[orders.CNEE_ADDR_1=='서울','CNEE_ADDR_1'] = '서울특별시'\n",
    "orders.loc[orders.CNEE_ADDR_1=='경북','CNEE_ADDR_1'] = '경상북도'\n",
    "orders.loc[orders.CNEE_ADDR_1=='대전','CNEE_ADDR_1'] = '대전광역시'\n",
    "orders.loc[orders.CNEE_ADDR_1=='광주','CNEE_ADDR_1'] = '광주광역시'\n",
    "orders.loc[orders.CNEE_ADDR_1=='전북','CNEE_ADDR_1'] = '전라북도'\n",
    "orders.loc[orders.CNEE_ADDR_1=='경남','CNEE_ADDR_1'] = '경상남도'\n",
    "orders.loc[orders.CNEE_ADDR_1=='대구','CNEE_ADDR_1'] = '대구광역시'\n",
    "orders.loc[orders.CNEE_ADDR_1=='세종','CNEE_ADDR_1'] = '세종특별자치시'\n",
    "orders.loc[orders.CNEE_ADDR_1=='\\u200b서울시','CNEE_ADDR_1'] = '서울특별시'\n",
    "orders.loc[orders.CNEE_ADDR_1=='대구시','CNEE_ADDR_1'] = '대구광역시'\n",
    "orders.loc[orders.CNEE_ADDR_1=='\\t경기도','CNEE_ADDR_1'] = '경기도'\n",
    "orders.loc[orders.CNEE_ADDR_1=='경기','CNEE_ADDR_1'] = '경기도'\n",
    "orders.loc[orders.CNEE_ADDR_1=='인천','CNEE_ADDR_1'] = '인천광역시'\n",
    "orders.loc[orders.CNEE_ADDR_1=='전남','CNEE_ADDR_1'] = '전라남도'\n",
    "orders.loc[orders.CNEE_ADDR_1=='부산','CNEE_ADDR_1'] = '부산광역시'\n",
    "orders.loc[orders.CNEE_ADDR_1=='충남','CNEE_ADDR_1'] = '충청남도'\n",
    "orders.loc[orders.CNEE_ADDR_1=='충북','CNEE_ADDR_1'] = '충청북도'\n",
    "orders.loc[orders.CNEE_ADDR_1=='울산','CNEE_ADDR_1'] = '울산광역시'\n",
    "orders.loc[orders.CNEE_ADDR_1=='부산시','CNEE_ADDR_1'] = '부산광역시'\n",
    "orders.loc[orders.CNEE_ADDR_1=='인천시','CNEE_ADDR_1'] = '인천광역시'\n",
    "orders.loc[orders.CNEE_ADDR_1=='서울시','CNEE_ADDR_1'] = '서울특별시'\n",
    "orders.loc[orders.CNEE_ADDR_1=='제주','CNEE_ADDR_1'] = '제주특별자치도'\n",
    "orders.loc[orders.CNEE_ADDR_1=='세종시','CNEE_ADDR_1'] = '세종특별자치시'\n",
    "orders.loc[orders.CNEE_ADDR_1=='화성시','CNEE_ADDR_1'] = '경기도'\n",
    "orders.loc[orders.CNEE_ADDR_1=='전남','CNEE_ADDR_1'] = '전라남도'\n",
    "orders.loc[orders.CNEE_ADDR_1=='경삼남도','CNEE_ADDR_1'] = '경상남도'\n",
    "orders.loc[orders.CNEE_ADDR_1=='종시','CNEE_ADDR_1'] = '세종특별자치시'\n",
    "orders.loc[orders.CNEE_ADDR_1=='청남도','CNEE_ADDR_1'] = '충청남도'\n",
    "\n",
    "orders.loc[orders.CNEE_ADDR_1=='[16817]',['CNEE_ADDR_1','CNEE_ADDR_2']] = ['경기도', '용인시']\n",
    "orders.loc[orders.CNEE_ADDR_1=='(14782)',['CNEE_ADDR_1','CNEE_ADDR_2']] = ['경기도', '부천시']\n",
    "orders.loc[orders.CNEE_ADDR_1=='(30100)',['CNEE_ADDR_1','CNEE_ADDR_2']] = ['세종특별자치시', '세종로']\n",
    "orders.loc[orders.CNEE_ADDR_1=='(22738)',['CNEE_ADDR_1','CNEE_ADDR_2']] = ['인천광역시', '서구']\n",
    "orders.loc[orders.CNEE_ADDR_1=='(53298)',['CNEE_ADDR_1','CNEE_ADDR_2']] = ['경상남도', '거제시']\n",
    "orders.loc[orders.CNEE_ADDR_1=='(13279)',['CNEE_ADDR_1','CNEE_ADDR_2']] = ['경기도', '성남시']\n",
    "orders.loc[orders.CNEE_ADDR_1=='(13499)',['CNEE_ADDR_1','CNEE_ADDR_2']] = ['경기도', '성남시']\n",
    "orders.loc[orders.CNEE_ADDR_1=='(12730)', ['CNEE_ADDR_1','CNEE_ADDR_2']] = ['인천광역시','서구']\n",
    "orders.loc[orders.CNEE_ADDR_1=='인천광역시\\xa0서구\\xa0정서진로\\xa047',['CNEE_ADDR_1','CNEE_ADDR_2']] = ['인천광역시','서구']\n",
    "orders.loc[orders.CNEE_ADDR_1=='평택시',['CNEE_ADDR_1','CNEE_ADDR_2']] = ['경기도','평택시']\n",
    "orders.loc[orders.CNEE_ADDR_1=='곤지암',['CNEE_ADDR_1','CNEE_ADDR_2']] = ['경기도','광주시']\n",
    "orders.loc[orders.CNEE_ADDR_1=='상주시',['CNEE_ADDR_1','CNEE_ADDR_2']] = ['경상북도','상주시']\n",
    "\n",
    "orders.loc[orders.CNEE_ADDR_2=='충남공주시',['CNEE_ADDR_1','CNEE_ADDR_2']] = ['충청남도','공주시']\n",
    "orders.loc[orders.CNEE_ADDR_2=='경상남도',['CNEE_ADDR_1','CNEE_ADDR_2']] = ['경상남도',np.nan]"
   ]
  },
  {
   "cell_type": "code",
   "execution_count": null,
   "id": "58a507f2",
   "metadata": {},
   "outputs": [],
   "source": [
    "orders.to_csv('orders.csv', index=False)"
   ]
  },
  {
   "cell_type": "code",
   "execution_count": null,
   "id": "9280016c",
   "metadata": {},
   "outputs": [],
   "source": [
    "orders = pd.read_csv('orders.csv')\n",
    "deliveries = pd.read_csv('deliveries.csv')"
   ]
  },
  {
   "cell_type": "code",
   "execution_count": null,
   "id": "98d03170",
   "metadata": {},
   "outputs": [],
   "source": [
    "orders.BKG_DATE = pd.to_datetime(orders.BKG_DATE, format='%Y-%m-%d')\n",
    "orders.INS_DATE = pd.to_datetime(orders.INS_DATE, format='%Y-%m-%d')"
   ]
  },
  {
   "cell_type": "markdown",
   "id": "e500045d",
   "metadata": {},
   "source": [
    "## EDA"
   ]
  },
  {
   "cell_type": "markdown",
   "id": "151b2d44",
   "metadata": {},
   "source": [
    "### Orders"
   ]
  },
  {
   "cell_type": "markdown",
   "id": "964ae029",
   "metadata": {},
   "source": [
    "#### column 설명\n",
    "- CORP_ID: 창고코드(KX007: 곤지암, GP001: 군포)\n",
    "- REF_ORD_NO: 고객 주문번호, 해당 테이블 key값, 네이버 채번\n",
    "- BKG_NO: CJ대한통운 주문번호\n",
    "- BKG_TYP: 주문유형(7: B2C출고, 8: 정상반출, 9: 불량반출) \n",
    "- BKG_DATE: 주문날짜\n",
    "- BKG_TIME: 주문시간\n",
    "- SHPR_CD: 고객사 코드\n",
    "- INV_AMT: 주문금액\n",
    "- ITEM_SEQ: 품목순번\n",
    "- ITEM_CD: 품목코드\n",
    "- BRAND_NM: 브랜드\n",
    "- ITEM_QTY: 품목수량\n",
    "- ITEM_AMT: 품목금액\n",
    "- IF_YN: 수신여부\n",
    "- ORDER_CRT_DATETIME: 주문생성시간\n",
    "- DLV_DV: 택배구분\n",
    "- REF_ITEM_SEQ: 상품주문번호\n",
    "- ORDER_IDX: 중개업체 주문번호\n",
    "- ORDER_YN: 접수여부\n",
    "- DLVPREARRBRANCD: 배달예정점소코드\n",
    "- DLVPREARREMPNICKNM: 배달예정사원분류코드\n",
    "- DLVCLSFCD: 배달터미널코드\n",
    "- DLVSUBCLSFCD: 배달터미널 소분류코드\n",
    "- INS_ID: 입력자ID\n",
    "- INS_DATE: 입력일자(인터페이스시간)\n",
    "- INS_TIME: 입력시간(인터페이스시간)\n",
    "- POST_ZONE: 권역구분\n",
    "- SPLIT_EXEC_YN: 배송처별 주문분할여부\n",
    "- SHPR_ADDR_1: 송화인 주소1(시도)\n",
    "- SHPR_ADDR_2: 송화인 주소2(시군구)\n",
    "- CNEE_ADDR_1: 수화인 주소1(시도)\n",
    "- CNEE_ADDR_2: 수화인 주소2(시군구)"
   ]
  },
  {
   "cell_type": "code",
   "execution_count": null,
   "id": "056c1a07",
   "metadata": {},
   "outputs": [],
   "source": [
    "orders.head()"
   ]
  },
  {
   "cell_type": "code",
   "execution_count": null,
   "id": "fac75034",
   "metadata": {},
   "outputs": [],
   "source": [
    "msno.bar(orders)\n",
    "plt.show()"
   ]
  },
  {
   "cell_type": "code",
   "execution_count": null,
   "id": "3f1ca9c8",
   "metadata": {
    "scrolled": true
   },
   "outputs": [],
   "source": [
    "# 창고코드\n",
    "orders.CORP_ID.value_counts()"
   ]
  },
  {
   "cell_type": "code",
   "execution_count": null,
   "id": "f77ae9fd",
   "metadata": {},
   "outputs": [],
   "source": [
    "# 주문유형\n",
    "orders.BKG_TYP.value_counts()"
   ]
  },
  {
   "cell_type": "code",
   "execution_count": null,
   "id": "ce712be6",
   "metadata": {
    "scrolled": true
   },
   "outputs": [],
   "source": [
    "# 고객사 번호\n",
    "print(f'nunique: {orders.SHPR_CD.nunique()}')\n",
    "print(orders.SHPR_CD.value_counts())"
   ]
  },
  {
   "cell_type": "code",
   "execution_count": null,
   "id": "dc0d2d55",
   "metadata": {},
   "outputs": [],
   "source": [
    "# 품목순번\n",
    "orders.ITEM_SEQ.nunique()"
   ]
  },
  {
   "cell_type": "code",
   "execution_count": null,
   "id": "b3264bbc",
   "metadata": {},
   "outputs": [],
   "source": [
    "# 품목코드\n",
    "orders.ITEM_CD.nunique()"
   ]
  },
  {
   "cell_type": "code",
   "execution_count": null,
   "id": "8b8d1c13",
   "metadata": {},
   "outputs": [],
   "source": [
    "# 브랜드명\n",
    "orders.BRAND_NM.value_counts()"
   ]
  },
  {
   "cell_type": "code",
   "execution_count": null,
   "id": "4db733bd",
   "metadata": {},
   "outputs": [],
   "source": [
    "# 수신여부\n",
    "orders.IF_YN.value_counts()"
   ]
  },
  {
   "cell_type": "code",
   "execution_count": null,
   "id": "7cc5bc81",
   "metadata": {},
   "outputs": [],
   "source": [
    "# 택배 구분\n",
    "orders.DLV_DV.value_counts()"
   ]
  },
  {
   "cell_type": "code",
   "execution_count": null,
   "id": "7f1f9db5",
   "metadata": {},
   "outputs": [],
   "source": [
    "# 접수여부\n",
    "orders.ORDER_YN.value_counts()"
   ]
  },
  {
   "cell_type": "code",
   "execution_count": null,
   "id": "a97a3a0b",
   "metadata": {},
   "outputs": [],
   "source": [
    "# 배달예정점소코드\n",
    "orders.DLVPREARRBRANCD.nunique()"
   ]
  },
  {
   "cell_type": "code",
   "execution_count": null,
   "id": "d5e46e25",
   "metadata": {},
   "outputs": [],
   "source": [
    "# 배달예정사원분류코드\n",
    "orders.DLVPREARREMPNICKNM.nunique()"
   ]
  },
  {
   "cell_type": "code",
   "execution_count": null,
   "id": "dc8ad4ab",
   "metadata": {},
   "outputs": [],
   "source": [
    "# 배달터미널코드\n",
    "orders.DLVCLSFCD.nunique()"
   ]
  },
  {
   "cell_type": "code",
   "execution_count": null,
   "id": "632038f1",
   "metadata": {},
   "outputs": [],
   "source": [
    "# 배달터미널소분류코드\n",
    "orders.DLVSUBCLSFCD.nunique()"
   ]
  },
  {
   "cell_type": "code",
   "execution_count": null,
   "id": "33e7ffa5",
   "metadata": {
    "scrolled": true
   },
   "outputs": [],
   "source": [
    "orders.DLVSUBCLSFCD.value_counts()"
   ]
  },
  {
   "cell_type": "code",
   "execution_count": null,
   "id": "2f906093",
   "metadata": {
    "scrolled": true
   },
   "outputs": [],
   "source": [
    "# 입력자 ID\n",
    "print(f'nunique: {orders.INS_ID.nunique()}')\n",
    "orders.INS_ID.value_counts()"
   ]
  },
  {
   "cell_type": "code",
   "execution_count": null,
   "id": "21bcf96b",
   "metadata": {},
   "outputs": [],
   "source": [
    "# 권역구분\n",
    "orders.POST_ZONE.nunique()"
   ]
  },
  {
   "cell_type": "code",
   "execution_count": null,
   "id": "c713ad20",
   "metadata": {
    "scrolled": true
   },
   "outputs": [],
   "source": [
    "orders.POST_ZONE.value_counts()"
   ]
  },
  {
   "cell_type": "code",
   "execution_count": null,
   "id": "8e7f6379",
   "metadata": {},
   "outputs": [],
   "source": [
    "# 배송처별 주문분할여부\n",
    "orders.SPLIT_EXEC_YN.value_counts()"
   ]
  },
  {
   "cell_type": "code",
   "execution_count": null,
   "id": "b56f2bbb",
   "metadata": {
    "scrolled": true
   },
   "outputs": [],
   "source": [
    "orders.SHPR_ADDR_1.value_counts()"
   ]
  },
  {
   "cell_type": "code",
   "execution_count": null,
   "id": "51321756",
   "metadata": {},
   "outputs": [],
   "source": [
    "orders.SHPR_ADDR_2.value_counts()"
   ]
  },
  {
   "cell_type": "code",
   "execution_count": null,
   "id": "78c915c3",
   "metadata": {},
   "outputs": [],
   "source": [
    "orders.CNEE_ADDR_1.value_counts()"
   ]
  },
  {
   "cell_type": "code",
   "execution_count": null,
   "id": "2c024b23",
   "metadata": {},
   "outputs": [],
   "source": [
    "orders.CNEE_ADDR_2.value_counts()"
   ]
  },
  {
   "cell_type": "markdown",
   "id": "5425e0a7",
   "metadata": {},
   "source": [
    "### Delivery"
   ]
  },
  {
   "cell_type": "markdown",
   "id": "5869982e",
   "metadata": {},
   "source": [
    "#### column 설명\n",
    "- 구분명: 배달/집하\n",
    "- 집화일자: 집화(화물이나 상품 따위가 한곳에 모여들거나 모이게 함)\n",
    "- 집배일자: 집배(우편물이나 화물 따위를 모아서 주소지로 배달하는 따위를 이른다.)\n",
    "- 운임명: 선불/신용/착불\n",
    "- 수량: box\n",
    "- 운임: 원\n",
    "- 집화여부: 여부(Y/N)\n",
    "- 집배시간: \n",
    "- 배달일자: 배달/집하 완료 일자\n",
    "- 장비구분: 화면/스마트폰\n",
    "- 품목: 배송상품 품목 분류\n",
    "- SM명: 택배기사 성명\n",
    "- 받는분 주소"
   ]
  },
  {
   "cell_type": "code",
   "execution_count": null,
   "id": "fb361d43",
   "metadata": {},
   "outputs": [],
   "source": [
    "msno.bar(deliveries)\n",
    "plt.show()"
   ]
  },
  {
   "cell_type": "code",
   "execution_count": null,
   "id": "fa8afe9c",
   "metadata": {},
   "outputs": [],
   "source": [
    "deliveries.isna().sum()[deliveries.isna().sum()!=0]"
   ]
  },
  {
   "cell_type": "code",
   "execution_count": null,
   "id": "fc248bd2",
   "metadata": {},
   "outputs": [],
   "source": [
    "deliveries.head()"
   ]
  },
  {
   "cell_type": "code",
   "execution_count": null,
   "id": "e9699164",
   "metadata": {},
   "outputs": [],
   "source": [
    "deliveries.구분명.value_counts()"
   ]
  },
  {
   "cell_type": "code",
   "execution_count": null,
   "id": "19d69119",
   "metadata": {},
   "outputs": [],
   "source": [
    "deliveries.운임명.value_counts()"
   ]
  },
  {
   "cell_type": "code",
   "execution_count": null,
   "id": "a3264b03",
   "metadata": {},
   "outputs": [],
   "source": [
    "deliveries.집화여부.value_counts()"
   ]
  },
  {
   "cell_type": "code",
   "execution_count": null,
   "id": "ccf43c4d",
   "metadata": {},
   "outputs": [],
   "source": [
    "deliveries.장비구분.value_counts()"
   ]
  },
  {
   "cell_type": "code",
   "execution_count": null,
   "id": "79fdecb8",
   "metadata": {},
   "outputs": [],
   "source": [
    "deliveries.품목.value_counts()"
   ]
  },
  {
   "cell_type": "code",
   "execution_count": null,
   "id": "76f5ff9a",
   "metadata": {},
   "outputs": [],
   "source": [
    "deliveries.SM명.nunique()"
   ]
  }
 ],
 "metadata": {
  "kernelspec": {
   "display_name": "Python 3 (ipykernel)",
   "language": "python",
   "name": "python3"
  },
  "language_info": {
   "codemirror_mode": {
    "name": "ipython",
    "version": 3
   },
   "file_extension": ".py",
   "mimetype": "text/x-python",
   "name": "python",
   "nbconvert_exporter": "python",
   "pygments_lexer": "ipython3",
   "version": "3.9.7"
  }
 },
 "nbformat": 4,
 "nbformat_minor": 5
}
