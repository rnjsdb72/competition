{
 "cells": [
  {
   "cell_type": "code",
   "execution_count": null,
   "metadata": {
    "executionInfo": {
     "elapsed": 244,
     "status": "ok",
     "timestamp": 1634192377331,
     "user": {
      "displayName": "권유진",
      "photoUrl": "https://lh3.googleusercontent.com/a/default-user=s64",
      "userId": "17694849594474805342"
     },
     "user_tz": -540
    },
    "id": "we50_EKQHWpz"
   },
   "outputs": [],
   "source": [
    "import pandas as pd\n",
    "import numpy as np\n",
    "import matplotlib.pyplot as plt\n",
    "%matplotlib inline\n",
    "plt.rc('font', family='malgun gothic')\n",
    "plt.rc('axes', unicode_minus=False)\n",
    "import seaborn as sns\n",
    "import plotly.express as px\n",
    "import os\n",
    "import missingno as msno\n",
    "import pickle\n",
    "from glob import glob\n",
    "from tqdm import tqdm\n",
    "import warnings\n",
    "warnings.filterwarnings(\"ignore\")\n",
    "import matplotlib\n",
    "\n",
    "import tensorflow as tf\n",
    "from keras.layers import *\n",
    "from keras import *\n",
    "import kerastuner as kt\n",
    "\n",
    "from sklearn.metrics import mean_squared_error, mean_absolute_error\n",
    "\n",
    "from fbprophet import Prophet"
   ]
  },
  {
   "cell_type": "code",
   "execution_count": null,
   "metadata": {
    "executionInfo": {
     "elapsed": 26040,
     "status": "ok",
     "timestamp": 1634188229687,
     "user": {
      "displayName": "권유진",
      "photoUrl": "https://lh3.googleusercontent.com/a/default-user=s64",
      "userId": "17694849594474805342"
     },
     "user_tz": -540
    },
    "id": "0aJdRa57HdR1"
   },
   "outputs": [],
   "source": [
    "orders = pd.read_csv('orders.csv')\n",
    "deliveries = pd.read_csv('deliveries.csv')\n",
    "\n",
    "def beg_end_month(x):\n",
    "    if x<=10:\n",
    "        return '월초'\n",
    "    elif 10<x<=20:\n",
    "        return '월중'\n",
    "    elif 20<x<=31:\n",
    "        return '월말'\n",
    "orders.BKG_DATE = pd.to_datetime(orders.BKG_DATE, format='%Y-%m-%d')\n",
    "orders.INS_DATE = pd.to_datetime(orders.INS_DATE, format='%Y-%m-%d')\n",
    "orders[\"BKG_TIME\"] = pd.to_datetime(orders[\"BKG_TIME\"], format='%Y-%m-%d %H:%M:%S')\n",
    "orders['BKG_WEEK'] = orders.BKG_DATE.dt.week\n",
    "orders['BKG_MONTH2'] = orders.BKG_DATE.dt.day.map(beg_end_month)"
   ]
  },
  {
   "cell_type": "code",
   "execution_count": null,
   "metadata": {
    "executionInfo": {
     "elapsed": 2796,
     "status": "ok",
     "timestamp": 1634188232469,
     "user": {
      "displayName": "권유진",
      "photoUrl": "https://lh3.googleusercontent.com/a/default-user=s64",
      "userId": "17694849594474805342"
     },
     "user_tz": -540
    },
    "id": "fhJaNQ7qHeoK"
   },
   "outputs": [],
   "source": [
    "data = orders[orders.BKG_TYP==7][orders.CORP_ID=='KX007'].groupby(['BKG_DATE','BKG_HOUR'])['ITEM_QTY'].sum().reset_index()\n",
    "data = data.append(pd.DataFrame(dict(zip(['BKG_DATE','BKG_HOUR','ITEM_QTY'],[(pd.to_datetime('2021-06-28'),pd.to_datetime('2021-06-28')), (4,5), (0,0)]))))\n",
    "data = data.sort_values(['BKG_DATE','BKG_HOUR'])\n",
    "\n",
    "comb_date = []\n",
    "for date, hour, _ in data.values:\n",
    "    comb_date.append(pd.to_datetime(f'{date.year}-{date.month}-{date.day} {hour}:00:00'))\n",
    "data['DATE'] = comb_date\n",
    "data = data.set_index('DATE').drop(columns=['BKG_DATE', 'BKG_HOUR'])\n",
    "\n",
    "train = data.iloc[:-720].values.reshape(-1,1)\n",
    "test = data.iloc[-720:].values.reshape(-1,1)"
   ]
  },
  {
   "cell_type": "code",
   "execution_count": null,
   "metadata": {
    "colab": {
     "base_uri": "https://localhost:8080/",
     "height": 247
    },
    "executionInfo": {
     "elapsed": 645,
     "status": "ok",
     "timestamp": 1634188233109,
     "user": {
      "displayName": "권유진",
      "photoUrl": "https://lh3.googleusercontent.com/a/default-user=s64",
      "userId": "17694849594474805342"
     },
     "user_tz": -540
    },
    "id": "vbnIiDLZHxRT",
    "outputId": "38018953-bd3c-44ed-d3a6-7d1995190f34"
   },
   "outputs": [],
   "source": [
    "fig, ax = plt.subplots(figsize=(20,4))\n",
    "data.iloc[:-720].plot(label='train', ax=ax)\n",
    "data.iloc[-720:].plot(label='test', ax=ax)\n",
    "plt.legend()\n",
    "plt.show()"
   ]
  },
  {
   "cell_type": "markdown",
   "metadata": {
    "id": "F1EEDD3OIljG"
   },
   "source": [
    "## Preprocessing"
   ]
  },
  {
   "cell_type": "markdown",
   "metadata": {
    "id": "FdgmDye7JCLw"
   },
   "source": [
    "window_size 결정"
   ]
  },
  {
   "cell_type": "code",
   "execution_count": null,
   "metadata": {
    "colab": {
     "base_uri": "https://localhost:8080/",
     "height": 296
    },
    "executionInfo": {
     "elapsed": 466,
     "status": "ok",
     "timestamp": 1634188233572,
     "user": {
      "displayName": "권유진",
      "photoUrl": "https://lh3.googleusercontent.com/a/default-user=s64",
      "userId": "17694849594474805342"
     },
     "user_tz": -540
    },
    "id": "58k41fgiInSU",
    "outputId": "17edead6-bad3-4088-b916-554c5cc37310"
   },
   "outputs": [],
   "source": [
    "fig, ax = plt.subplots(1,2, figsize=(10,4))\n",
    "data.plot.box(ax=ax[0])\n",
    "sns.kdeplot(data.values.flatten(), ax=ax[1])\n",
    "plt.tight_layout()\n",
    "plt.show()"
   ]
  },
  {
   "cell_type": "code",
   "execution_count": null,
   "metadata": {
    "colab": {
     "base_uri": "https://localhost:8080/"
    },
    "executionInfo": {
     "elapsed": 8916383,
     "status": "ok",
     "timestamp": 1634203451866,
     "user": {
      "displayName": "권유진",
      "photoUrl": "https://lh3.googleusercontent.com/a/default-user=s64",
      "userId": "17694849594474805342"
     },
     "user_tz": -540
    },
    "id": "q4WmZJjHIqS7",
    "outputId": "fb56f584-30c4-4038-b79d-4a866901905b"
   },
   "outputs": [],
   "source": [
    "input_window_list = []\n",
    "for std_day in tqdm(range(1,30)):\n",
    "    input_window = 24*std_day\n",
    "    output_window = 1\n",
    "    window = 1\n",
    "    num_features = 1\n",
    "\n",
    "    train_window_x = np.zeros((((train.shape[0]-(input_window+output_window))//window)-24, input_window, num_features)) # batch_size, input, feature\n",
    "    train_window_y = np.zeros((((train.shape[0]-(input_window+output_window))//window)-24, output_window, num_features))\n",
    "    for start in range(0,(train.shape[0]-(input_window+output_window))-24, window):\n",
    "        end = start+input_window\n",
    "        train_window_x[start//window,:] = train[start:end,:]\n",
    "        train_window_y[start//window,:] = train[end+24:end+output_window+24,:]\n",
    "\n",
    "    tf.random.set_seed(0)\n",
    "\n",
    "    model = Sequential()\n",
    "    model.add(LSTM(64))\n",
    "    model.add(Dense(1))\n",
    "\n",
    "    model.compile(optimizer='adam', loss='mse', metrics=['mse'])\n",
    "\n",
    "    early_stop = tf.keras.callbacks.EarlyStopping(monitor='val_loss', patience=50)\n",
    "    model.fit(train_window_x, train_window_y, epochs=2000, batch_size=128, validation_split = 0.2, callbacks=[early_stop], verbose=0)\n",
    "\n",
    "    val_window_x = np.zeros((((test.shape[0], input_window, num_features)))) # batch_size, input, feature\n",
    "    for start in range(0, test.shape[0], window):\n",
    "        end = start+input_window\n",
    "        val_window_x[start//window,:] = np.concatenate([train[-24*std_day:],test])[start:end,:]\n",
    "\n",
    "    prediction = model.predict(val_window_x)\n",
    "\n",
    "    score = np.sqrt(mean_squared_error(prediction,test))\n",
    "\n",
    "    input_window_list.append((std_day, score))"
   ]
  },
  {
   "cell_type": "code",
   "execution_count": null,
   "metadata": {
    "colab": {
     "base_uri": "https://localhost:8080/"
    },
    "executionInfo": {
     "elapsed": 245,
     "status": "ok",
     "timestamp": 1634203475565,
     "user": {
      "displayName": "권유진",
      "photoUrl": "https://lh3.googleusercontent.com/a/default-user=s64",
      "userId": "17694849594474805342"
     },
     "user_tz": -540
    },
    "id": "ep0bBVAxHghk",
    "outputId": "e9f299c2-7023-43a3-eccc-696fcf661b56"
   },
   "outputs": [],
   "source": [
    "input_window_list"
   ]
  },
  {
   "cell_type": "code",
   "execution_count": null,
   "metadata": {},
   "outputs": [],
   "source": [
    "input_window_list = [(1, 630.3565918627247),\n",
    " (2, 618.2917720901166),\n",
    " (3, 644.753539938296),\n",
    " (4, 664.6092032459469),\n",
    " (5, 609.4356420500078),\n",
    " (6, 668.0701105989732),\n",
    " (7, 641.4371841531075),\n",
    " (8, 615.6381031873751),\n",
    " (9, 603.866006126268),\n",
    " (10, 592.8493443090897),\n",
    " (11, 635.9251034120703),\n",
    " (12, 591.6505388969802),\n",
    " (13, 603.0845910478097),\n",
    " (14, 628.9154092555275),\n",
    " (15, 661.7995279027178),\n",
    " (16, 713.4078110345258),\n",
    " (17, 678.7557748251144),\n",
    " (18, 599.0965027009323),\n",
    " (19, 614.0482555371441),\n",
    " (20, 758.2445137053238),\n",
    " (21, 583.3052620637433),\n",
    " (22, 603.5257562730226),\n",
    " (23, 607.9563339463683),\n",
    " (24, 628.5450493109005),\n",
    " (25, 600.843458871021),\n",
    " (26, 630.531406379209),\n",
    " (27, 697.6566132646157),\n",
    " (28, 613.8002691149866),\n",
    " (29, 583.7368838752573)]"
   ]
  },
  {
   "cell_type": "code",
   "execution_count": null,
   "metadata": {},
   "outputs": [],
   "source": [
    "idx = [i for i, score in input_window_list]\n",
    "loss = [score for i, score in input_window_list]"
   ]
  },
  {
   "cell_type": "code",
   "execution_count": null,
   "metadata": {
    "colab": {
     "base_uri": "https://localhost:8080/",
     "height": 264
    },
    "executionInfo": {
     "elapsed": 487,
     "status": "ok",
     "timestamp": 1634203522007,
     "user": {
      "displayName": "권유진",
      "photoUrl": "https://lh3.googleusercontent.com/a/default-user=s64",
      "userId": "17694849594474805342"
     },
     "user_tz": -540
    },
    "id": "r2SAvEq9HhoT",
    "outputId": "5b68822e-eebf-4a01-a92e-43c9ff411e1b"
   },
   "outputs": [],
   "source": [
    "plt.figure(figsize=(10,5))\n",
    "plt.bar(idx,loss, color='skyblue')\n",
    "plt.plot(idx,loss, color='k')\n",
    "plt.xticks(idx)\n",
    "plt.ylim((500,800))\n",
    "plt.text(*input_window_list[np.argmin([score for i, score in input_window_list])],input_window_list[np.argmin([score for i, score in input_window_list])][1],\n",
    "        ha='center', va='top')\n",
    "plt.show()"
   ]
  },
  {
   "cell_type": "code",
   "execution_count": null,
   "metadata": {
    "colab": {
     "base_uri": "https://localhost:8080/"
    },
    "executionInfo": {
     "elapsed": 319,
     "status": "ok",
     "timestamp": 1634203564257,
     "user": {
      "displayName": "권유진",
      "photoUrl": "https://lh3.googleusercontent.com/a/default-user=s64",
      "userId": "17694849594474805342"
     },
     "user_tz": -540
    },
    "id": "ktZxIftcHryP",
    "outputId": "3eafd0f9-61d9-45d5-dad7-4720183ee7f0"
   },
   "outputs": [],
   "source": [
    "input_window_list[np.argmin([score for i, score in input_window_list])]"
   ]
  },
  {
   "cell_type": "markdown",
   "metadata": {
    "id": "gKZ5UJX-H-J-"
   },
   "source": [
    "이상치 처리"
   ]
  },
  {
   "cell_type": "code",
   "execution_count": null,
   "metadata": {
    "executionInfo": {
     "elapsed": 238,
     "status": "ok",
     "timestamp": 1634206851419,
     "user": {
      "displayName": "권유진",
      "photoUrl": "https://lh3.googleusercontent.com/a/default-user=s64",
      "userId": "17694849594474805342"
     },
     "user_tz": -540
    },
    "id": "CJQsV_tpIjR5"
   },
   "outputs": [],
   "source": [
    "data2 = data.copy()\n",
    "data2.loc[data2.ITEM_QTY > data.ITEM_QTY.mean() + 3*data.ITEM_QTY.std(),'ITEM_QTY'] = np.ceil(data.ITEM_QTY.mean() + 3*data.ITEM_QTY.std())\n",
    "data2.loc[data2.ITEM_QTY < data.ITEM_QTY.mean() - 3*data.ITEM_QTY.std(),'ITEM_QTY'] = np.ceil(data.ITEM_QTY.mean() - 3*data.ITEM_QTY.std())\n",
    "\n",
    "train = data2.iloc[:-720].values.reshape(-1,1)\n",
    "test = data.iloc[-720:].values.reshape(-1,1)"
   ]
  },
  {
   "cell_type": "code",
   "execution_count": null,
   "metadata": {
    "colab": {
     "base_uri": "https://localhost:8080/",
     "height": 296
    },
    "executionInfo": {
     "elapsed": 451,
     "status": "ok",
     "timestamp": 1634206858269,
     "user": {
      "displayName": "권유진",
      "photoUrl": "https://lh3.googleusercontent.com/a/default-user=s64",
      "userId": "17694849594474805342"
     },
     "user_tz": -540
    },
    "id": "boGneey6QPG2",
    "outputId": "c118b2ef-d3d5-4712-fc9b-dbbecadd004d"
   },
   "outputs": [],
   "source": [
    "fig, ax = plt.subplots(1,2, figsize=(10,4))\n",
    "data2.plot.box(ax=ax[0])\n",
    "sns.kdeplot(data2.ITEM_QTY, ax=ax[1])\n",
    "plt.tight_layout()\n",
    "plt.show()"
   ]
  },
  {
   "cell_type": "code",
   "execution_count": null,
   "metadata": {
    "colab": {
     "base_uri": "https://localhost:8080/"
    },
    "executionInfo": {
     "elapsed": 420340,
     "status": "ok",
     "timestamp": 1634207279663,
     "user": {
      "displayName": "권유진",
      "photoUrl": "https://lh3.googleusercontent.com/a/default-user=s64",
      "userId": "17694849594474805342"
     },
     "user_tz": -540
    },
    "id": "RzvPa6u7Kxkx",
    "outputId": "b8cf50ef-658c-4f38-a4af-60667a22086e"
   },
   "outputs": [],
   "source": [
    "std_day = 21\n",
    "input_window = 24*std_day\n",
    "output_window = 1\n",
    "window = 1\n",
    "num_features = 1\n",
    "\n",
    "train_window_x = np.zeros((((train.shape[0]-(input_window+output_window))//window)-24, input_window, num_features)) # batch_size, input, feature\n",
    "train_window_y = np.zeros((((train.shape[0]-(input_window+output_window))//window)-24, output_window, num_features))\n",
    "for start in range(0,(train.shape[0]-(input_window+output_window))-24, window):\n",
    "    end = start+input_window\n",
    "    train_window_x[start//window,:] = train[start:end,:]\n",
    "    train_window_y[start//window,:] = train[end+24:end+output_window+24,:]\n",
    "\n",
    "tf.random.set_seed(0)\n",
    "\n",
    "model = Sequential()\n",
    "model.add(LSTM(64))\n",
    "model.add(Dense(1))\n",
    "\n",
    "model.compile(optimizer='adam', loss='mse', metrics=['mse'])\n",
    "\n",
    "early_stop = tf.keras.callbacks.EarlyStopping(monitor='val_loss', patience=50)\n",
    "model.fit(train_window_x, train_window_y, epochs=3000, batch_size=128, validation_split = 0.2, callbacks=[early_stop])"
   ]
  },
  {
   "cell_type": "code",
   "execution_count": null,
   "metadata": {
    "colab": {
     "base_uri": "https://localhost:8080/"
    },
    "executionInfo": {
     "elapsed": 641,
     "status": "ok",
     "timestamp": 1634207281421,
     "user": {
      "displayName": "권유진",
      "photoUrl": "https://lh3.googleusercontent.com/a/default-user=s64",
      "userId": "17694849594474805342"
     },
     "user_tz": -540
    },
    "id": "va5IMq7kH3Nu",
    "outputId": "1d594906-caba-4091-d091-a3e796fe26dd"
   },
   "outputs": [],
   "source": [
    "val_window_x = np.zeros((((test.shape[0], input_window, num_features)))) # batch_size, input, feature\n",
    "for start in range(0, test.shape[0], window):\n",
    "    end = start+input_window\n",
    "    val_window_x[start//window,:] = np.concatenate([data[-720-24*std_day:],test])[start:end,:]\n",
    "\n",
    "prediction = model.predict(val_window_x)\n",
    "\n",
    "score = np.sqrt(mean_squared_error(prediction,test))\n",
    "score"
   ]
  },
  {
   "cell_type": "code",
   "execution_count": null,
   "metadata": {
    "colab": {
     "base_uri": "https://localhost:8080/",
     "height": 264
    },
    "executionInfo": {
     "elapsed": 323,
     "status": "ok",
     "timestamp": 1634207360527,
     "user": {
      "displayName": "권유진",
      "photoUrl": "https://lh3.googleusercontent.com/a/default-user=s64",
      "userId": "17694849594474805342"
     },
     "user_tz": -540
    },
    "id": "u4U5J4icWEu2",
    "outputId": "38cb89c7-443b-4b66-bf1e-a41703acc9fd"
   },
   "outputs": [],
   "source": [
    "plt.plot(test,label='true', color='pink')\n",
    "plt.plot(prediction, label='pred', color='k')\n",
    "plt.legend()\n",
    "plt.show()"
   ]
  },
  {
   "cell_type": "markdown",
   "metadata": {
    "id": "cu6MvH6XICP9"
   },
   "source": [
    "로그 변환"
   ]
  },
  {
   "cell_type": "code",
   "execution_count": null,
   "metadata": {
    "executionInfo": {
     "elapsed": 274,
     "status": "ok",
     "timestamp": 1634207371594,
     "user": {
      "displayName": "권유진",
      "photoUrl": "https://lh3.googleusercontent.com/a/default-user=s64",
      "userId": "17694849594474805342"
     },
     "user_tz": -540
    },
    "id": "DIuAOcm-LDbk"
   },
   "outputs": [],
   "source": [
    "data2 = data.copy()\n",
    "data2 = np.log1p(data2)\n",
    "\n",
    "train = data2.iloc[:-720].values.reshape(-1,1)\n",
    "test = data2.iloc[-720:].values.reshape(-1,1)"
   ]
  },
  {
   "cell_type": "code",
   "execution_count": null,
   "metadata": {
    "colab": {
     "base_uri": "https://localhost:8080/"
    },
    "executionInfo": {
     "elapsed": 84066,
     "status": "ok",
     "timestamp": 1634207455909,
     "user": {
      "displayName": "권유진",
      "photoUrl": "https://lh3.googleusercontent.com/a/default-user=s64",
      "userId": "17694849594474805342"
     },
     "user_tz": -540
    },
    "id": "oZBC52TELHgD",
    "outputId": "4936b448-d19d-4cf9-d90b-ad998e9dacee"
   },
   "outputs": [],
   "source": [
    "std_day = 21\n",
    "input_window = 24*std_day\n",
    "output_window = 1\n",
    "window = 1\n",
    "num_features = 1\n",
    "\n",
    "train_window_x = np.zeros((((train.shape[0]-(input_window+output_window))//window)-24, input_window, num_features)) # batch_size, input, feature\n",
    "train_window_y = np.zeros((((train.shape[0]-(input_window+output_window))//window)-24, output_window, num_features))\n",
    "for start in range(0,(train.shape[0]-(input_window+output_window))-24, window):\n",
    "    end = start+input_window\n",
    "    train_window_x[start//window,:] = train[start:end,:]\n",
    "    train_window_y[start//window,:] = train[end+24:end+output_window+24,:]\n",
    "\n",
    "tf.random.set_seed(0)\n",
    "\n",
    "model = Sequential()\n",
    "model.add(LSTM(64))\n",
    "model.add(Dense(1))\n",
    "\n",
    "model.compile(optimizer='adam', loss='mse', metrics=['mse'])\n",
    "\n",
    "early_stop = tf.keras.callbacks.EarlyStopping(monitor='val_loss', patience=50)\n",
    "model.fit(train_window_x, train_window_y, epochs=2000, batch_size=128, validation_split = 0.2, callbacks=[early_stop])"
   ]
  },
  {
   "cell_type": "code",
   "execution_count": null,
   "metadata": {
    "colab": {
     "base_uri": "https://localhost:8080/"
    },
    "executionInfo": {
     "elapsed": 642,
     "status": "ok",
     "timestamp": 1634207457487,
     "user": {
      "displayName": "권유진",
      "photoUrl": "https://lh3.googleusercontent.com/a/default-user=s64",
      "userId": "17694849594474805342"
     },
     "user_tz": -540
    },
    "id": "-vRzdGIfLKLU",
    "outputId": "9932fcd3-814a-4f85-f11e-7c2410c30460"
   },
   "outputs": [],
   "source": [
    "val_window_x = np.zeros((((test.shape[0], input_window, num_features)))) # batch_size, input, feature\n",
    "for start in range(0, test.shape[0], window):\n",
    "    end = start+input_window\n",
    "    val_window_x[start//window,:] = np.concatenate([train[-24*std_day:],test])[start:end,:]\n",
    "\n",
    "prediction = model.predict(val_window_x)\n",
    "\n",
    "score = np.sqrt(mean_squared_error(np.expm1(prediction),np.expm1(test)))\n",
    "score"
   ]
  },
  {
   "cell_type": "markdown",
   "metadata": {
    "id": "t6i0mSE6IDju"
   },
   "source": [
    "이상치 처리 + 로그변환"
   ]
  },
  {
   "cell_type": "code",
   "execution_count": null,
   "metadata": {
    "executionInfo": {
     "elapsed": 3,
     "status": "ok",
     "timestamp": 1634207457487,
     "user": {
      "displayName": "권유진",
      "photoUrl": "https://lh3.googleusercontent.com/a/default-user=s64",
      "userId": "17694849594474805342"
     },
     "user_tz": -540
    },
    "id": "6tP7zL04LDBi"
   },
   "outputs": [],
   "source": [
    "data2 = data.copy()\n",
    "data2.loc[data2.ITEM_QTY > data.ITEM_QTY.mean() + 3*data.ITEM_QTY.std(),'ITEM_QTY'] = np.ceil(data.ITEM_QTY.mean() + 3*data.ITEM_QTY.std())\n",
    "data2.loc[data2.ITEM_QTY < data.ITEM_QTY.mean() - 3*data.ITEM_QTY.std(),'ITEM_QTY'] = np.ceil(data.ITEM_QTY.mean() - 3*data.ITEM_QTY.std())\n",
    "data2 = np.log1p(data2)\n",
    "\n",
    "train = data2.iloc[:-720].values.reshape(-1,1)\n",
    "test = np.log1p(data.iloc[-720:].values).reshape(-1,1)"
   ]
  },
  {
   "cell_type": "code",
   "execution_count": null,
   "metadata": {
    "colab": {
     "base_uri": "https://localhost:8080/"
    },
    "executionInfo": {
     "elapsed": 72452,
     "status": "ok",
     "timestamp": 1634207529937,
     "user": {
      "displayName": "권유진",
      "photoUrl": "https://lh3.googleusercontent.com/a/default-user=s64",
      "userId": "17694849594474805342"
     },
     "user_tz": -540
    },
    "id": "qRQ2DOFmLIKS",
    "outputId": "842ee188-6b11-4f37-94e2-4ac30a0239ea"
   },
   "outputs": [],
   "source": [
    "std_day = 21\n",
    "input_window = 24*std_day\n",
    "output_window = 1\n",
    "window = 1\n",
    "num_features = 1\n",
    "\n",
    "train_window_x = np.zeros((((train.shape[0]-(input_window+output_window))//window)-24, input_window, num_features)) # batch_size, input, feature\n",
    "train_window_y = np.zeros((((train.shape[0]-(input_window+output_window))//window)-24, output_window, num_features))\n",
    "for start in range(0,(train.shape[0]-(input_window+output_window))-24, window):\n",
    "    end = start+input_window\n",
    "    train_window_x[start//window,:] = train[start:end,:]\n",
    "    train_window_y[start//window,:] = train[end+24:end+output_window+24,:]\n",
    "\n",
    "tf.random.set_seed(0)\n",
    "\n",
    "model = Sequential()\n",
    "model.add(LSTM(64))\n",
    "model.add(Dense(1))\n",
    "\n",
    "model.compile(optimizer='adam', loss='mse', metrics=['mse'])\n",
    "\n",
    "early_stop = tf.keras.callbacks.EarlyStopping(monitor='val_loss', patience=50)\n",
    "model.fit(train_window_x, train_window_y, epochs=2000, batch_size=128, validation_split = 0.2, callbacks=[early_stop])"
   ]
  },
  {
   "cell_type": "code",
   "execution_count": null,
   "metadata": {
    "colab": {
     "base_uri": "https://localhost:8080/"
    },
    "executionInfo": {
     "elapsed": 679,
     "status": "ok",
     "timestamp": 1634207530606,
     "user": {
      "displayName": "권유진",
      "photoUrl": "https://lh3.googleusercontent.com/a/default-user=s64",
      "userId": "17694849594474805342"
     },
     "user_tz": -540
    },
    "id": "fpcz5IiULKxb",
    "outputId": "f5e08720-a09a-4c7c-d866-3e227faafe8e"
   },
   "outputs": [],
   "source": [
    "val_window_x = np.zeros((((test.shape[0], input_window, num_features)))) # batch_size, input, feature\n",
    "for start in range(0, test.shape[0], window):\n",
    "    end = start+input_window\n",
    "    val_window_x[start//window,:] = np.concatenate([train[-24*std_day:],test])[start:end,:]\n",
    "\n",
    "prediction = model.predict(val_window_x)\n",
    "\n",
    "score = np.sqrt(mean_squared_error(np.expm1(prediction),np.expm1(test)))\n",
    "score"
   ]
  },
  {
   "cell_type": "markdown",
   "metadata": {
    "id": "pNYZl5jEIFsd"
   },
   "source": [
    "스케일링"
   ]
  },
  {
   "cell_type": "code",
   "execution_count": null,
   "metadata": {
    "executionInfo": {
     "elapsed": 254,
     "status": "ok",
     "timestamp": 1634207693966,
     "user": {
      "displayName": "권유진",
      "photoUrl": "https://lh3.googleusercontent.com/a/default-user=s64",
      "userId": "17694849594474805342"
     },
     "user_tz": -540
    },
    "id": "AlPJMtvWXmHp"
   },
   "outputs": [],
   "source": [
    "from sklearn.preprocessing import StandardScaler, MinMaxScaler, MaxAbsScaler, RobustScaler, PowerTransformer"
   ]
  },
  {
   "cell_type": "code",
   "execution_count": null,
   "metadata": {
    "colab": {
     "base_uri": "https://localhost:8080/",
     "height": 1000
    },
    "executionInfo": {
     "elapsed": 2500140,
     "status": "ok",
     "timestamp": 1634214544569,
     "user": {
      "displayName": "권유진",
      "photoUrl": "https://lh3.googleusercontent.com/a/default-user=s64",
      "userId": "17694849594474805342"
     },
     "user_tz": -540
    },
    "id": "bfiY1mObXnnz",
    "outputId": "3114484a-f17e-4847-d9bd-cc626c113212"
   },
   "outputs": [],
   "source": [
    "ss = StandardScaler()\n",
    "mm = MinMaxScaler()\n",
    "ma = MaxAbsScaler()\n",
    "rb = RobustScaler()\n",
    "pt = PowerTransformer()\n",
    "scalers = [ss, mm, ma, rb, pt]\n",
    "scaler_results = []\n",
    "for scaler in tqdm(scalers):\n",
    "    data2 = data.copy()\n",
    "\n",
    "    train = data2.iloc[:-720].values.reshape(-1,1)\n",
    "    test = data2.iloc[-720:].values.reshape(-1,1)\n",
    "\n",
    "    train_scaled = scaler.fit_transform(train)\n",
    "    test_scaled = scaler.transform(test)\n",
    "\n",
    "    fig, ax = plt.subplots(1,2, figsize=(10,4))\n",
    "    pd.DataFrame(train_scaled).plot.box(ax=ax[0])\n",
    "    sns.kdeplot(train_scaled.flatten(), ax=ax[1])\n",
    "    plt.tight_layout()\n",
    "    plt.show()\n",
    "\n",
    "    std_day = 21\n",
    "    input_window = 24*std_day\n",
    "    output_window = 1\n",
    "    window = 1\n",
    "    num_features = 1\n",
    "\n",
    "    train_window_x = np.zeros((((train.shape[0]-(input_window+output_window))//window)-24, input_window, num_features)) # batch_size, input, feature\n",
    "    train_window_y = np.zeros((((train.shape[0]-(input_window+output_window))//window)-24, output_window, num_features))\n",
    "    for start in range(0,(train.shape[0]-(input_window+output_window))-24, window):\n",
    "        end = start+input_window\n",
    "        train_window_x[start//window,:] = train_scaled[start:end,:]\n",
    "        train_window_y[start//window,:] = train[end+24:end+output_window+24,:]\n",
    "\n",
    "    tf.random.set_seed(0)\n",
    "\n",
    "    model = Sequential()\n",
    "    model.add(LSTM(64))\n",
    "    model.add(Dense(1))\n",
    "\n",
    "    model.compile(optimizer='adam', loss='mse', metrics=['mse'])\n",
    "\n",
    "    early_stop = tf.keras.callbacks.EarlyStopping(monitor='val_loss', patience=50)\n",
    "    model.fit(train_window_x, train_window_y, epochs=2000, batch_size=128, validation_split = 0.2, callbacks=[early_stop], verbose=0)\n",
    "\n",
    "    val_window_x = np.zeros((((test.shape[0], input_window, num_features)))) # batch_size, input, feature\n",
    "    for start in range(0, test.shape[0], window):\n",
    "        end = start+input_window\n",
    "        val_window_x[start//window,:] = np.concatenate([train_scaled[-24*std_day:],test_scaled])[start:end,:]\n",
    "\n",
    "    prediction = model.predict(val_window_x)\n",
    "\n",
    "    score = np.sqrt(mean_squared_error(prediction,test))\n",
    "\n",
    "    scaler_results.append((scaler,score))"
   ]
  },
  {
   "cell_type": "code",
   "execution_count": null,
   "metadata": {
    "colab": {
     "base_uri": "https://localhost:8080/"
    },
    "executionInfo": {
     "elapsed": 15,
     "status": "ok",
     "timestamp": 1634214544570,
     "user": {
      "displayName": "권유진",
      "photoUrl": "https://lh3.googleusercontent.com/a/default-user=s64",
      "userId": "17694849594474805342"
     },
     "user_tz": -540
    },
    "id": "WEX1PfSzYB2d",
    "outputId": "6beb039f-68dc-4b96-a25c-97842abd13cc"
   },
   "outputs": [],
   "source": [
    "scaler_results"
   ]
  },
  {
   "cell_type": "markdown",
   "metadata": {
    "id": "MNU_AfjXx8Lb"
   },
   "source": [
    "최종적으로 input_window_size는 $21*24 = 504$로 설정. 전처리는 미 시행하며 scaling만 robustscaler을 사용해 시행"
   ]
  }
 ],
 "metadata": {
  "accelerator": "GPU",
  "colab": {
   "authorship_tag": "ABX9TyO6D/rmIZLMMTJ67emOJ8D5",
   "machine_shape": "hm",
   "mount_file_id": "17LOnf0vsJQonTKArAlZk8m6vJvuKr40j",
   "name": "Ready_for_DL.ipynb",
   "provenance": []
  },
  "kernelspec": {
   "display_name": "Python 3 (ipykernel)",
   "language": "python",
   "name": "python3"
  },
  "language_info": {
   "codemirror_mode": {
    "name": "ipython",
    "version": 3
   },
   "file_extension": ".py",
   "mimetype": "text/x-python",
   "name": "python",
   "nbconvert_exporter": "python",
   "pygments_lexer": "ipython3",
   "version": "3.9.7"
  }
 },
 "nbformat": 4,
 "nbformat_minor": 1
}
