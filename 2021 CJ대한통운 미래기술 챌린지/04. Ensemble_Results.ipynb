{
 "cells": [
  {
   "cell_type": "code",
   "execution_count": null,
   "metadata": {
    "executionInfo": {
     "elapsed": 4597,
     "status": "ok",
     "timestamp": 1635436231451,
     "user": {
      "displayName": "권유진",
      "photoUrl": "https://lh3.googleusercontent.com/a/default-user=s64",
      "userId": "17694849594474805342"
     },
     "user_tz": -540
    },
    "id": "198gwzu5oR_9"
   },
   "outputs": [],
   "source": [
    "import pandas as pd\n",
    "import numpy as np\n",
    "import matplotlib.pylab as plt\n",
    "%matplotlib inline\n",
    "import seaborn as sns\n",
    "import plotly.express as px\n",
    "import os\n",
    "import missingno as msno\n",
    "import pickle\n",
    "from glob import glob\n",
    "from tqdm import tqdm\n",
    "import warnings\n",
    "warnings.filterwarnings(\"ignore\")\n",
    "import matplotlib\n",
    "import random\n",
    "\n",
    "from sklearn.metrics import mean_squared_error, mean_absolute_error\n",
    "from sklearn.preprocessing import RobustScaler\n",
    "\n",
    "from statsmodels.tsa.seasonal import seasonal_decompose\n",
    "from statsmodels.graphics.tsaplots import plot_acf, plot_pacf\n",
    "from statsmodels.tsa.arima_model import ARIMA\n",
    "from statsmodels.tsa.statespace.sarimax import SARIMAX\n",
    "import itertools\n",
    "\n",
    "from fbprophet import Prophet\n",
    "\n",
    "import tensorflow as tf\n",
    "from keras.layers import *\n",
    "from keras import *\n",
    "import keras"
   ]
  },
  {
   "cell_type": "code",
   "execution_count": null,
   "metadata": {
    "executionInfo": {
     "elapsed": 34731,
     "status": "ok",
     "timestamp": 1635436272584,
     "user": {
      "displayName": "권유진",
      "photoUrl": "https://lh3.googleusercontent.com/a/default-user=s64",
      "userId": "17694849594474805342"
     },
     "user_tz": -540
    },
    "id": "CehHt2SuogyV"
   },
   "outputs": [],
   "source": [
    "orders = pd.read_csv('/content/drive/MyDrive/CJ_AI빅데이터_미래기술_챌린지/orders.csv')\n",
    "deliveries = pd.read_csv('/content/drive/MyDrive/CJ_AI빅데이터_미래기술_챌린지/deliveries.csv')\n",
    "\n",
    "def beg_end_month(x):\n",
    "    if x<=10:\n",
    "        return '월초'\n",
    "    elif 10<x<=20:\n",
    "        return '월중'\n",
    "    elif 20<x<=31:\n",
    "        return '월말'\n",
    "orders.BKG_DATE = pd.to_datetime(orders.BKG_DATE, format='%Y-%m-%d')\n",
    "orders.INS_DATE = pd.to_datetime(orders.INS_DATE, format='%Y-%m-%d')\n",
    "orders[\"BKG_TIME\"] = pd.to_datetime(orders[\"BKG_TIME\"], format='%Y-%m-%d %H:%M:%S')\n",
    "orders['BKG_WEEK'] = orders.BKG_DATE.dt.week\n",
    "orders['BKG_MONTH2'] = orders.BKG_DATE.dt.day.map(beg_end_month)"
   ]
  },
  {
   "cell_type": "code",
   "execution_count": null,
   "metadata": {
    "executionInfo": {
     "elapsed": 2746,
     "status": "ok",
     "timestamp": 1635436275324,
     "user": {
      "displayName": "권유진",
      "photoUrl": "https://lh3.googleusercontent.com/a/default-user=s64",
      "userId": "17694849594474805342"
     },
     "user_tz": -540
    },
    "id": "rT6v1rGeoijl"
   },
   "outputs": [],
   "source": [
    "data = orders[orders.BKG_TYP==7][orders.CORP_ID=='KX007'].groupby(['BKG_DATE','BKG_HOUR'])['ITEM_QTY'].sum().reset_index()\n",
    "data = data.append(pd.DataFrame(dict(zip(['BKG_DATE','BKG_HOUR','ITEM_QTY'],[(pd.to_datetime('2021-06-28'),pd.to_datetime('2021-06-28')), (4,5), (0,0)]))))\n",
    "data = data.sort_values(['BKG_DATE','BKG_HOUR'])\n",
    "\n",
    "comb_date = []\n",
    "for date, hour, _ in data.values:\n",
    "    comb_date.append(pd.to_datetime(f'{date.year}-{date.month}-{date.day} {hour}:00:00'))\n",
    "data['DATE'] = comb_date\n",
    "data = data.set_index('DATE').drop(columns=['BKG_DATE', 'BKG_HOUR']).rename(columns={'ITEM_QTY':'TARGET'})"
   ]
  },
  {
   "cell_type": "code",
   "execution_count": null,
   "metadata": {
    "executionInfo": {
     "elapsed": 21,
     "status": "ok",
     "timestamp": 1635436275325,
     "user": {
      "displayName": "권유진",
      "photoUrl": "https://lh3.googleusercontent.com/a/default-user=s64",
      "userId": "17694849594474805342"
     },
     "user_tz": -540
    },
    "id": "B2yAKHgmonQO"
   },
   "outputs": [],
   "source": [
    "train_y = data.iloc[:-720].values\n",
    "val_y = data.iloc[-720:-360].values\n",
    "test_y = data.iloc[-360:].values\n",
    "\n",
    "val_index = data.iloc[-720:-360].index\n",
    "test_index = data.iloc[-360:].index"
   ]
  },
  {
   "cell_type": "code",
   "execution_count": null,
   "metadata": {
    "executionInfo": {
     "elapsed": 20,
     "status": "ok",
     "timestamp": 1635436275326,
     "user": {
      "displayName": "권유진",
      "photoUrl": "https://lh3.googleusercontent.com/a/default-user=s64",
      "userId": "17694849594474805342"
     },
     "user_tz": -540
    },
    "id": "315L1MgwsBWN"
   },
   "outputs": [],
   "source": [
    "real_ = data.iloc[-720:]"
   ]
  },
  {
   "cell_type": "code",
   "execution_count": null,
   "metadata": {
    "executionInfo": {
     "elapsed": 503,
     "status": "ok",
     "timestamp": 1635437022537,
     "user": {
      "displayName": "권유진",
      "photoUrl": "https://lh3.googleusercontent.com/a/default-user=s64",
      "userId": "17694849594474805342"
     },
     "user_tz": -540
    },
    "id": "4lO3CbHao9iA"
   },
   "outputs": [],
   "source": [
    "res_p = pd.read_csv('restults_prophet_hol.csv')\n",
    "res_s = pd.read_csv('results_sarima.csv')\n",
    "res_d = pd.read_csv('results_dnn.csv')\n",
    "res_m = pd.read_csv('results_ml.csv')\n",
    "\n",
    "res_p['ds'] = pd.to_datetime(res_p['ds'])\n",
    "res_s['DATE'] = pd.to_datetime(res_s['DATE'])\n",
    "res_d['DATE'] = pd.to_datetime(res_d['DATE'])\n",
    "res_m = res_m.set_index(res_p.ds).rename(columns={'0':'TARGET'})"
   ]
  },
  {
   "cell_type": "code",
   "execution_count": null,
   "metadata": {
    "executionInfo": {
     "elapsed": 370,
     "status": "ok",
     "timestamp": 1635437024447,
     "user": {
      "displayName": "권유진",
      "photoUrl": "https://lh3.googleusercontent.com/a/default-user=s64",
      "userId": "17694849594474805342"
     },
     "user_tz": -540
    },
    "id": "ETMWrfjQpYRt"
   },
   "outputs": [],
   "source": [
    "res_p.set_index('ds', inplace=True)\n",
    "res_s.set_index('DATE', inplace=True)\n",
    "res_d.set_index('DATE', inplace=True)"
   ]
  },
  {
   "cell_type": "code",
   "execution_count": null,
   "metadata": {
    "colab": {
     "base_uri": "https://localhost:8080/",
     "height": 368
    },
    "executionInfo": {
     "elapsed": 1350,
     "status": "ok",
     "timestamp": 1635437061013,
     "user": {
      "displayName": "권유진",
      "photoUrl": "https://lh3.googleusercontent.com/a/default-user=s64",
      "userId": "17694849594474805342"
     },
     "user_tz": -540
    },
    "id": "Hi2XO_L8r7ZD",
    "outputId": "dd279cea-e139-489c-a5bb-e9adb55a2cee"
   },
   "outputs": [],
   "source": [
    "fig, ax = plt.subplots(figsize=(20,5))\n",
    "res_p.yhat.plot(ax=ax, color='blue', label='Prophet', alpha=.5)\n",
    "res_s.preds.plot(ax=ax, color='yellow', label='SARIMA', alpha=.5)\n",
    "res_d['ensemble'].plot(ax=ax, color='red', label='DNN', alpha=.5)\n",
    "res_m['TARGET'].plot(ax=ax, color='purple', label='ML', alpha=.5)\n",
    "real_.plot(ax=ax, color='k', label='real')\n",
    "plt.legend(bbox_to_anchor=[1,1])\n",
    "plt.grid()\n",
    "plt.show()"
   ]
  },
  {
   "cell_type": "code",
   "execution_count": null,
   "metadata": {
    "colab": {
     "base_uri": "https://localhost:8080/"
    },
    "executionInfo": {
     "elapsed": 356,
     "status": "ok",
     "timestamp": 1635437185222,
     "user": {
      "displayName": "권유진",
      "photoUrl": "https://lh3.googleusercontent.com/a/default-user=s64",
      "userId": "17694849594474805342"
     },
     "user_tz": -540
    },
    "id": "u3YuaPjepwMs",
    "outputId": "a351ff3b-5414-4a74-f26c-f12726c5193b"
   },
   "outputs": [],
   "source": [
    "res_m.iloc[360:]['TARGET']"
   ]
  },
  {
   "cell_type": "code",
   "execution_count": null,
   "metadata": {
    "colab": {
     "base_uri": "https://localhost:8080/",
     "height": 728
    },
    "executionInfo": {
     "elapsed": 1619,
     "status": "ok",
     "timestamp": 1635437206730,
     "user": {
      "displayName": "권유진",
      "photoUrl": "https://lh3.googleusercontent.com/a/default-user=s64",
      "userId": "17694849594474805342"
     },
     "user_tz": -540
    },
    "id": "ZATH-I7ZwpBY",
    "outputId": "c2951326-1c40-4edf-e737-3dc70f68ae2d"
   },
   "outputs": [],
   "source": [
    "fig, ax = plt.subplots(2,1,figsize=(10,10))\n",
    "res_p.iloc[:360].yhat.plot(ax=ax[0], color='blue', label='Prophet', alpha=.5)\n",
    "res_s.iloc[:360].preds.plot(ax=ax[0], color='yellow', label='SARIMA', alpha=.5)\n",
    "res_d.iloc[:360]['ensemble'].plot(ax=ax[0], color='red', label='DNN', alpha=.5)\n",
    "res_m.iloc[:360]['TARGET'].plot(ax=ax[0], color='purple', label='ML', alpha=.5)\n",
    "real_.iloc[:360].plot(ax=ax[0], color='k', label='real')\n",
    "ax[0].set_title('Validation Set')\n",
    "ax[0].legend()\n",
    "ax[0].grid()\n",
    "res_p.iloc[360:].yhat.plot(ax=ax[1], color='blue', label='Prophet', alpha=.5)\n",
    "res_s.iloc[360:].preds.plot(ax=ax[1], color='yellow', label='SARIMA', alpha=.5)\n",
    "res_d.iloc[360:]['ensemble'].plot(ax=ax[1], color='red', label='DNN', alpha=.5)\n",
    "res_m.iloc[360:]['TARGET'].plot(ax=ax[1], color='purple', label='ML', alpha=.5)\n",
    "real_.iloc[360:].plot(ax=ax[1], color='k', label='real')\n",
    "ax[1].set_title('Test Set')\n",
    "ax[1].legend()\n",
    "ax[1].grid()\n",
    "plt.tight_layout()\n",
    "plt.show()"
   ]
  },
  {
   "cell_type": "code",
   "execution_count": null,
   "metadata": {
    "colab": {
     "base_uri": "https://localhost:8080/"
    },
    "executionInfo": {
     "elapsed": 422,
     "status": "ok",
     "timestamp": 1635437216198,
     "user": {
      "displayName": "권유진",
      "photoUrl": "https://lh3.googleusercontent.com/a/default-user=s64",
      "userId": "17694849594474805342"
     },
     "user_tz": -540
    },
    "id": "Q2RCpZDXz08v",
    "outputId": "38abfe2a-b06a-4ce6-db43-a31fef61e0ee"
   },
   "outputs": [],
   "source": [
    "data.mean() + data.std()*3"
   ]
  },
  {
   "cell_type": "code",
   "execution_count": null,
   "metadata": {
    "executionInfo": {
     "elapsed": 932,
     "status": "ok",
     "timestamp": 1635436280740,
     "user": {
      "displayName": "권유진",
      "photoUrl": "https://lh3.googleusercontent.com/a/default-user=s64",
      "userId": "17694849594474805342"
     },
     "user_tz": -540
    },
    "id": "D-A_H5eGyroS"
   },
   "outputs": [],
   "source": [
    "def ensemble(p, s, d):\n",
    "    if str(type(p)).startswith('<class \\'numpy'):\n",
    "    p = pd.Series(p.flatten(), columns=['p'])\n",
    "    if str(type(s)).startswith('<class \\'numpy'):\n",
    "    s = pd.Series(s.flatten(), columns=['s'])\n",
    "    if str(type(d)).startswith('<class \\'numpy'):\n",
    "    d = pd.Series(d.flatten(), columns=['d'])\n",
    "    x = pd.concat([p.reset_index(drop=True),s.reset_index(drop=True),d.reset_index(drop=True)], axis=1)\n",
    "    x = x.rename(columns=dict(zip(x.columns, ['p','s','d'])))\n",
    "    x2 = []\n",
    "    for data in x.values:\n",
    "    if data[2] >= 2500:\n",
    "        x2.append(data[2])\n",
    "    else:\n",
    "        x2.append(data.mean())\n",
    "    return x2"
   ]
  },
  {
   "cell_type": "code",
   "execution_count": null,
   "metadata": {
    "colab": {
     "base_uri": "https://localhost:8080/",
     "height": 368
    },
    "executionInfo": {
     "elapsed": 9,
     "status": "ok",
     "timestamp": 1635436280741,
     "user": {
      "displayName": "권유진",
      "photoUrl": "https://lh3.googleusercontent.com/a/default-user=s64",
      "userId": "17694849594474805342"
     },
     "user_tz": -540
    },
    "id": "YK6xJvUBzaZc",
    "outputId": "620939fb-ae11-4db2-aa7a-1b7d7e57a3dd"
   },
   "outputs": [],
   "source": [
    "res_e = pd.DataFrame(ensemble(res_p.yhat, res_s.preds, res_d.ensemble),columns=['preds']).set_index(real_.index)\n",
    "\n",
    "fig, ax = plt.subplots(figsize=(20,5))\n",
    "res_e['preds'].plot(ax=ax, color='red', label='DNN')\n",
    "real_.plot(ax=ax, color='k', label='real')\n",
    "plt.legend(bbox_to_anchor=[1,1])\n",
    "plt.grid()\n",
    "plt.show()"
   ]
  },
  {
   "cell_type": "code",
   "execution_count": null,
   "metadata": {
    "colab": {
     "base_uri": "https://localhost:8080/",
     "height": 728
    },
    "executionInfo": {
     "elapsed": 1183,
     "status": "ok",
     "timestamp": 1635436281919,
     "user": {
      "displayName": "권유진",
      "photoUrl": "https://lh3.googleusercontent.com/a/default-user=s64",
      "userId": "17694849594474805342"
     },
     "user_tz": -540
    },
    "id": "aN4IDJjZ3Z6M",
    "outputId": "b0841ef2-349f-4ec7-b1f9-a17785eabfab"
   },
   "outputs": [],
   "source": [
    "fig, ax = plt.subplots(2,1,figsize=(10,10))\n",
    "res_e.iloc[:360]['preds'].plot(ax=ax[0], color='red', label='DNN')\n",
    "real_.iloc[:360].plot(ax=ax[0], color='k', label='real')\n",
    "ax[0].set_title('Validation Set')\n",
    "ax[0].legend()\n",
    "ax[0].grid()\n",
    "res_e.iloc[360:]['preds'].plot(ax=ax[1], color='red', label='DNN')\n",
    "real_.iloc[360:].plot(ax=ax[1], color='k', label='real')\n",
    "ax[1].set_title('Validation Set')\n",
    "ax[1].legend()\n",
    "ax[1].grid()\n",
    "plt.tight_layout()\n",
    "plt.show()"
   ]
  },
  {
   "cell_type": "code",
   "execution_count": null,
   "metadata": {
    "colab": {
     "base_uri": "https://localhost:8080/",
     "height": 301
    },
    "executionInfo": {
     "elapsed": 57,
     "status": "ok",
     "timestamp": 1635436281920,
     "user": {
      "displayName": "권유진",
      "photoUrl": "https://lh3.googleusercontent.com/a/default-user=s64",
      "userId": "17694849594474805342"
     },
     "user_tz": -540
    },
    "id": "Y12zd4XvPPyv",
    "outputId": "8e5572a6-f2ea-4007-c6f1-e4c53189a69c"
   },
   "outputs": [],
   "source": [
    "res_s.iloc[360:]['preds'].plot(color='k', label='pred', figsize=(10,4))\n",
    "real_.TARGET.iloc[360:].plot(color='pink', label='real')\n",
    "plt.legend()\n",
    "plt.show()"
   ]
  },
  {
   "cell_type": "markdown",
   "metadata": {
    "id": "4mrwtkWm6k62"
   },
   "source": [
    "### Test Score"
   ]
  },
  {
   "cell_type": "code",
   "execution_count": null,
   "metadata": {
    "colab": {
     "base_uri": "https://localhost:8080/"
    },
    "executionInfo": {
     "elapsed": 478,
     "status": "ok",
     "timestamp": 1635437690820,
     "user": {
      "displayName": "권유진",
      "photoUrl": "https://lh3.googleusercontent.com/a/default-user=s64",
      "userId": "17694849594474805342"
     },
     "user_tz": -540
    },
    "id": "6sdcftLvrETK",
    "outputId": "587c1dd6-025c-44ca-9c62-a5084998e21e"
   },
   "outputs": [],
   "source": [
    "mean_squared_error(res_p.iloc[360:], real_.iloc[360:], squared=False)"
   ]
  },
  {
   "cell_type": "code",
   "execution_count": null,
   "metadata": {
    "colab": {
     "base_uri": "https://localhost:8080/"
    },
    "executionInfo": {
     "elapsed": 6,
     "status": "ok",
     "timestamp": 1635437691626,
     "user": {
      "displayName": "권유진",
      "photoUrl": "https://lh3.googleusercontent.com/a/default-user=s64",
      "userId": "17694849594474805342"
     },
     "user_tz": -540
    },
    "id": "y8uEW90mrETL",
    "outputId": "b117d988-f8f1-497c-b2e6-07d056b8a7f4"
   },
   "outputs": [],
   "source": [
    "mean_squared_error(res_s.iloc[360:], real_.iloc[360:], squared=False)"
   ]
  },
  {
   "cell_type": "code",
   "execution_count": null,
   "metadata": {
    "colab": {
     "base_uri": "https://localhost:8080/"
    },
    "executionInfo": {
     "elapsed": 8,
     "status": "ok",
     "timestamp": 1635437693338,
     "user": {
      "displayName": "권유진",
      "photoUrl": "https://lh3.googleusercontent.com/a/default-user=s64",
      "userId": "17694849594474805342"
     },
     "user_tz": -540
    },
    "id": "vDY7n4xNrETL",
    "outputId": "c43e2cf0-a26e-4694-e44c-05a78abeac05"
   },
   "outputs": [],
   "source": [
    "mean_squared_error(res_d.ensemble.iloc[360:], real_.iloc[360:], squared=False)"
   ]
  },
  {
   "cell_type": "code",
   "execution_count": null,
   "metadata": {
    "colab": {
     "base_uri": "https://localhost:8080/"
    },
    "executionInfo": {
     "elapsed": 7,
     "status": "ok",
     "timestamp": 1635437695997,
     "user": {
      "displayName": "권유진",
      "photoUrl": "https://lh3.googleusercontent.com/a/default-user=s64",
      "userId": "17694849594474805342"
     },
     "user_tz": -540
    },
    "id": "n7Q4zlBkrETL",
    "outputId": "e5cf487d-c647-4082-8826-c6d4b88707c5"
   },
   "outputs": [],
   "source": [
    "mean_squared_error((res_p.yhat.iloc[360:] + res_s.preds.iloc[360:])/2, real_.iloc[360:], squared=False)"
   ]
  },
  {
   "cell_type": "code",
   "execution_count": null,
   "metadata": {
    "colab": {
     "base_uri": "https://localhost:8080/"
    },
    "executionInfo": {
     "elapsed": 5,
     "status": "ok",
     "timestamp": 1635437697363,
     "user": {
      "displayName": "권유진",
      "photoUrl": "https://lh3.googleusercontent.com/a/default-user=s64",
      "userId": "17694849594474805342"
     },
     "user_tz": -540
    },
    "id": "1jP7Xj7frETL",
    "outputId": "f767d616-c8e9-4881-f565-927b5e862b53"
   },
   "outputs": [],
   "source": [
    "mean_squared_error((res_p.yhat.iloc[360:] + res_d.ensemble.iloc[360:])/2, real_.iloc[360:], squared=False)"
   ]
  },
  {
   "cell_type": "code",
   "execution_count": null,
   "metadata": {
    "colab": {
     "base_uri": "https://localhost:8080/"
    },
    "executionInfo": {
     "elapsed": 519,
     "status": "ok",
     "timestamp": 1635437700487,
     "user": {
      "displayName": "권유진",
      "photoUrl": "https://lh3.googleusercontent.com/a/default-user=s64",
      "userId": "17694849594474805342"
     },
     "user_tz": -540
    },
    "id": "x8HI95m-rETL",
    "outputId": "27ea4feb-bc41-4ce3-8400-1a8d7ed59385"
   },
   "outputs": [],
   "source": [
    "mean_squared_error((res_d.ensemble.iloc[360:] + res_s.preds.iloc[360:])/2, real_.iloc[360:], squared=False)"
   ]
  },
  {
   "cell_type": "code",
   "execution_count": null,
   "metadata": {
    "colab": {
     "base_uri": "https://localhost:8080/"
    },
    "executionInfo": {
     "elapsed": 16,
     "status": "ok",
     "timestamp": 1635437701077,
     "user": {
      "displayName": "권유진",
      "photoUrl": "https://lh3.googleusercontent.com/a/default-user=s64",
      "userId": "17694849594474805342"
     },
     "user_tz": -540
    },
    "id": "rnD-7-TMrETM",
    "outputId": "17664ae1-385e-4e59-fd9e-f020debb20c6"
   },
   "outputs": [],
   "source": [
    "mean_squared_error((res_p.yhat.iloc[360:] + res_m.TARGET.iloc[360:])/2, real_.iloc[360:], squared=False)"
   ]
  },
  {
   "cell_type": "code",
   "execution_count": null,
   "metadata": {
    "colab": {
     "base_uri": "https://localhost:8080/"
    },
    "executionInfo": {
     "elapsed": 9,
     "status": "ok",
     "timestamp": 1635437701078,
     "user": {
      "displayName": "권유진",
      "photoUrl": "https://lh3.googleusercontent.com/a/default-user=s64",
      "userId": "17694849594474805342"
     },
     "user_tz": -540
    },
    "id": "UtzlXrWwrETM",
    "outputId": "c32868f5-56de-4548-faf2-76e5cc564e05"
   },
   "outputs": [],
   "source": [
    "mean_squared_error((res_s.preds.iloc[360:] + res_m.TARGET.iloc[360:])/2, real_.iloc[360:], squared=False)"
   ]
  },
  {
   "cell_type": "code",
   "execution_count": null,
   "metadata": {
    "colab": {
     "base_uri": "https://localhost:8080/"
    },
    "executionInfo": {
     "elapsed": 7,
     "status": "ok",
     "timestamp": 1635437701458,
     "user": {
      "displayName": "권유진",
      "photoUrl": "https://lh3.googleusercontent.com/a/default-user=s64",
      "userId": "17694849594474805342"
     },
     "user_tz": -540
    },
    "id": "wA1R-bw5rETM",
    "outputId": "45e440e8-fff6-44a7-bcd0-60610dbd2836"
   },
   "outputs": [],
   "source": [
    "mean_squared_error((res_d.ensemble.iloc[360:] + res_m.TARGET.iloc[360:])/2, real_.iloc[360:], squared=False)"
   ]
  },
  {
   "cell_type": "code",
   "execution_count": null,
   "metadata": {
    "colab": {
     "base_uri": "https://localhost:8080/"
    },
    "executionInfo": {
     "elapsed": 7,
     "status": "ok",
     "timestamp": 1635437702213,
     "user": {
      "displayName": "권유진",
      "photoUrl": "https://lh3.googleusercontent.com/a/default-user=s64",
      "userId": "17694849594474805342"
     },
     "user_tz": -540
    },
    "id": "LoCBUU6HrETM",
    "outputId": "cef4b8c9-a315-43b4-f0c4-3ffc4f660627"
   },
   "outputs": [],
   "source": [
    "mean_squared_error((res_p.yhat.iloc[360:] + res_s.preds.iloc[360:] + res_m.TARGET.iloc[360:])/3, real_.iloc[360:], squared=False)"
   ]
  },
  {
   "cell_type": "code",
   "execution_count": null,
   "metadata": {
    "colab": {
     "base_uri": "https://localhost:8080/"
    },
    "executionInfo": {
     "elapsed": 10,
     "status": "ok",
     "timestamp": 1635437702591,
     "user": {
      "displayName": "권유진",
      "photoUrl": "https://lh3.googleusercontent.com/a/default-user=s64",
      "userId": "17694849594474805342"
     },
     "user_tz": -540
    },
    "id": "qK2JOxGArETM",
    "outputId": "1a058b33-1fad-4e07-f0c2-51c71c345ba1"
   },
   "outputs": [],
   "source": [
    "mean_squared_error((res_p.yhat.iloc[360:] + res_d.ensemble.iloc[360:] + res_m.TARGET.iloc[360:])/3, real_.iloc[360:], squared=False)"
   ]
  },
  {
   "cell_type": "code",
   "execution_count": null,
   "metadata": {
    "colab": {
     "base_uri": "https://localhost:8080/"
    },
    "executionInfo": {
     "elapsed": 6,
     "status": "ok",
     "timestamp": 1635437703246,
     "user": {
      "displayName": "권유진",
      "photoUrl": "https://lh3.googleusercontent.com/a/default-user=s64",
      "userId": "17694849594474805342"
     },
     "user_tz": -540
    },
    "id": "VU-DzfV3rETM",
    "outputId": "3dfca949-bc14-470a-84f7-47fce4819a29"
   },
   "outputs": [],
   "source": [
    "mean_squared_error((res_d.ensemble.iloc[360:] + res_s.preds.iloc[360:] + res_m.TARGET.iloc[360:])/3, real_.iloc[360:], squared=False)"
   ]
  },
  {
   "cell_type": "code",
   "execution_count": null,
   "metadata": {
    "colab": {
     "base_uri": "https://localhost:8080/"
    },
    "executionInfo": {
     "elapsed": 436,
     "status": "ok",
     "timestamp": 1635438622381,
     "user": {
      "displayName": "권유진",
      "photoUrl": "https://lh3.googleusercontent.com/a/default-user=s64",
      "userId": "17694849594474805342"
     },
     "user_tz": -540
    },
    "id": "6n-ZRKrIrETM",
    "outputId": "86542623-0e9c-436a-a237-627ba9cf67ec"
   },
   "outputs": [],
   "source": [
    "mean_squared_error((res_d.ensemble.iloc[360:] + res_s.preds.iloc[360:] + res_p.yhat.iloc[360:] + res_p.yhat.iloc[360:])/4, real_.iloc[360:], squared=False)"
   ]
  },
  {
   "cell_type": "code",
   "execution_count": null,
   "metadata": {
    "colab": {
     "base_uri": "https://localhost:8080/"
    },
    "executionInfo": {
     "elapsed": 586,
     "status": "ok",
     "timestamp": 1635437708052,
     "user": {
      "displayName": "권유진",
      "photoUrl": "https://lh3.googleusercontent.com/a/default-user=s64",
      "userId": "17694849594474805342"
     },
     "user_tz": -540
    },
    "id": "gCcwISywrETN",
    "outputId": "9231e79e-eb5c-4756-fa0c-0f8716854418"
   },
   "outputs": [],
   "source": [
    "mean_squared_error(res_e['preds'].iloc[360:], real_.iloc[360:], squared=False)"
   ]
  },
  {
   "cell_type": "markdown",
   "metadata": {
    "id": "bY8120DV-CMx"
   },
   "source": [
    "## Results_Labor"
   ]
  },
  {
   "cell_type": "code",
   "execution_count": null,
   "metadata": {
    "executionInfo": {
     "elapsed": 425,
     "status": "ok",
     "timestamp": 1635442666204,
     "user": {
      "displayName": "권유진",
      "photoUrl": "https://lh3.googleusercontent.com/a/default-user=s64",
      "userId": "17694849594474805342"
     },
     "user_tz": -540
    },
    "id": "Q57vFNeJxOLi"
   },
   "outputs": [],
   "source": [
    "def cal_labor(x):\n",
    "    a= x[:8]\n",
    "    b = x[8:17]    \n",
    "    c = x[17:25]\n",
    "    labor_a = (a.sum())/800 + (a.sum())/800 + (a.sum())/1600\n",
    "    labor_b = (b.sum())/800 + (b.sum())/800 + (b.sum())/1600\n",
    "    labor_c = (c.sum())/800 + (c.sum())/800 + (c.sum())/1600\n",
    "    return labor_a, labor_b, labor_c"
   ]
  },
  {
   "cell_type": "code",
   "execution_count": null,
   "metadata": {
    "executionInfo": {
     "elapsed": 580,
     "status": "ok",
     "timestamp": 1635443119188,
     "user": {
      "displayName": "권유진",
      "photoUrl": "https://lh3.googleusercontent.com/a/default-user=s64",
      "userId": "17694849594474805342"
     },
     "user_tz": -540
    },
    "id": "c-wsigvg78vo"
   },
   "outputs": [],
   "source": [
    "preds_x = []\n",
    "for i in range(15):\n",
    "    preds_x.append(res_d['ensemble'][-377:-17][24*i:24+24*i])"
   ]
  },
  {
   "cell_type": "code",
   "execution_count": null,
   "metadata": {
    "executionInfo": {
     "elapsed": 4,
     "status": "ok",
     "timestamp": 1635443119684,
     "user": {
      "displayName": "권유진",
      "photoUrl": "https://lh3.googleusercontent.com/a/default-user=s64",
      "userId": "17694849594474805342"
     },
     "user_tz": -540
    },
    "id": "em5vViQM74ao"
   },
   "outputs": [],
   "source": [
    "labors = []\n",
    "for labor in preds_x:\n",
    "    labors.append(cal_labor(labor))"
   ]
  },
  {
   "cell_type": "code",
   "execution_count": null,
   "metadata": {
    "colab": {
     "base_uri": "https://localhost:8080/"
    },
    "executionInfo": {
     "elapsed": 423,
     "status": "ok",
     "timestamp": 1635443522042,
     "user": {
      "displayName": "권유진",
      "photoUrl": "https://lh3.googleusercontent.com/a/default-user=s64",
      "userId": "17694849594474805342"
     },
     "user_tz": -540
    },
    "id": "lCepk4j-Bz_a",
    "outputId": "1dc67e38-b2c5-43cf-f62e-30bd52021236"
   },
   "outputs": [],
   "source": [
    "res_labor.iloc[0].cumsum()"
   ]
  },
  {
   "cell_type": "code",
   "execution_count": null,
   "metadata": {
    "colab": {
     "base_uri": "https://localhost:8080/",
     "height": 358
    },
    "executionInfo": {
     "elapsed": 1180,
     "status": "ok",
     "timestamp": 1635443938724,
     "user": {
      "displayName": "권유진",
      "photoUrl": "https://lh3.googleusercontent.com/a/default-user=s64",
      "userId": "17694849594474805342"
     },
     "user_tz": -540
    },
    "id": "Q3goXNzH-YPa",
    "outputId": "1294cea4-9d00-4d0f-8646-1615b643c72a"
   },
   "outputs": [],
   "source": [
    "res_labor = pd.DataFrame(labors, columns=['오전조','오후조','야간조'], index=[pd.to_datetime(f'2021-06-{i}') for i in range(15,30)]).round()\n",
    "res_labor.plot.bar(figsize=(10,4) ,stacked=True)\n",
    "for i,x in enumerate(res_labor.values):\n",
    "    a,b,c = x.cumsum()\n",
    "    plt.text(i, a, a, ha='center', va='top')\n",
    "    plt.text(i, b, b-a, ha='center', va='top')\n",
    "    plt.text(i, c, c-a, ha='center', va='top')\n",
    "plt.show()"
   ]
  }
 ],
 "metadata": {
  "colab": {
   "authorship_tag": "ABX9TyO+vZCjRx/J3eyEI/C57Dof",
   "mount_file_id": "15OCvKE5-i2Ho_7w-pwpzQNEd4LrqMQ84",
   "name": "Ensemble&Results.ipynb",
   "provenance": []
  },
  "kernelspec": {
   "display_name": "Python 3 (ipykernel)",
   "language": "python",
   "name": "python3"
  },
  "language_info": {
   "codemirror_mode": {
    "name": "ipython",
    "version": 3
   },
   "file_extension": ".py",
   "mimetype": "text/x-python",
   "name": "python",
   "nbconvert_exporter": "python",
   "pygments_lexer": "ipython3",
   "version": "3.9.7"
  }
 },
 "nbformat": 4,
 "nbformat_minor": 1
}
