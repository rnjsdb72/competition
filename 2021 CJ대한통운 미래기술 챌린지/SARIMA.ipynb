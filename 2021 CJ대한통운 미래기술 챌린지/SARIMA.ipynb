{
 "cells": [
  {
   "cell_type": "code",
   "execution_count": null,
   "metadata": {
    "executionInfo": {
     "elapsed": 2400,
     "status": "ok",
     "timestamp": 1635069215926,
     "user": {
      "displayName": "권유진",
      "photoUrl": "https://lh3.googleusercontent.com/a/default-user=s64",
      "userId": "17694849594474805342"
     },
     "user_tz": -540
    },
    "id": "1DeEww1iO2B3"
   },
   "outputs": [],
   "source": [
    "import pandas as pd\n",
    "import numpy as np\n",
    "import matplotlib.pylab as plt\n",
    "%matplotlib inline\n",
    "plt.rc('font', family='malgun gothic')\n",
    "plt.rc('axes', unicode_minus=False)\n",
    "import seaborn as sns\n",
    "import plotly.express as px\n",
    "import os\n",
    "import missingno as msno\n",
    "import pickle\n",
    "from glob import glob\n",
    "from tqdm import tqdm\n",
    "import warnings\n",
    "warnings.filterwarnings(\"ignore\")\n",
    "import matplotlib\n",
    "\n",
    "from statsmodels.tsa.seasonal import seasonal_decompose\n",
    "from statsmodels.graphics.tsaplots import plot_acf, plot_pacf\n",
    "from statsmodels.tsa.arima_model import ARIMA\n",
    "from statsmodels.tsa.statespace.sarimax import SARIMAX\n",
    "import itertools\n",
    "\n",
    "from sklearn.metrics import mean_squared_error, mean_absolute_error\n",
    "from sklearn.preprocessing import RobustScaler"
   ]
  },
  {
   "cell_type": "code",
   "execution_count": null,
   "metadata": {
    "executionInfo": {
     "elapsed": 32874,
     "status": "ok",
     "timestamp": 1635069248798,
     "user": {
      "displayName": "권유진",
      "photoUrl": "https://lh3.googleusercontent.com/a/default-user=s64",
      "userId": "17694849594474805342"
     },
     "user_tz": -540
    },
    "id": "PDB4kXHbO9Bq"
   },
   "outputs": [],
   "source": [
    "orders = pd.read_csv('orders.csv')\n",
    "deliveries = pd.read_csv('deliveries.csv')\n",
    "\n",
    "def beg_end_month(x):\n",
    "    if x<=10:\n",
    "        return '월초'\n",
    "    elif 10<x<=20:\n",
    "        return '월중'\n",
    "    elif 20<x<=31:\n",
    "        return '월말'\n",
    "orders.BKG_DATE = pd.to_datetime(orders.BKG_DATE, format='%Y-%m-%d')\n",
    "orders.INS_DATE = pd.to_datetime(orders.INS_DATE, format='%Y-%m-%d')\n",
    "orders[\"BKG_TIME\"] = pd.to_datetime(orders[\"BKG_TIME\"], format='%Y-%m-%d %H:%M:%S')\n",
    "orders['BKG_WEEK'] = orders.BKG_DATE.dt.week\n",
    "orders['BKG_MONTH2'] = orders.BKG_DATE.dt.day.map(beg_end_month)"
   ]
  },
  {
   "cell_type": "code",
   "execution_count": null,
   "metadata": {
    "executionInfo": {
     "elapsed": 2992,
     "status": "ok",
     "timestamp": 1635069251779,
     "user": {
      "displayName": "권유진",
      "photoUrl": "https://lh3.googleusercontent.com/a/default-user=s64",
      "userId": "17694849594474805342"
     },
     "user_tz": -540
    },
    "id": "4dMkGBxbPCSw"
   },
   "outputs": [],
   "source": [
    "data = orders[orders.BKG_TYP==7][orders.CORP_ID=='KX007'].groupby(['BKG_DATE','BKG_HOUR'])['ITEM_QTY'].sum().reset_index()\n",
    "data = data.append(pd.DataFrame(dict(zip(['BKG_DATE','BKG_HOUR','ITEM_QTY'],[(pd.to_datetime('2021-06-28'),pd.to_datetime('2021-06-28')), (4,5), (0,0)]))))\n",
    "data = data.sort_values(['BKG_DATE','BKG_HOUR'])\n",
    "\n",
    "comb_date = []\n",
    "for date, hour, _ in data.values:\n",
    "    comb_date.append(pd.to_datetime(f'{date.year}-{date.month}-{date.day} {hour}:00:00'))\n",
    "data['DATE'] = comb_date\n",
    "data = data.set_index('DATE').drop(columns=['BKG_DATE', 'BKG_HOUR']).rename(columns={'ITEM_QTY':'TARGET'})"
   ]
  },
  {
   "cell_type": "markdown",
   "metadata": {
    "id": "L3pvXVVuhSz2"
   },
   "source": [
    "1. ACF, PACF가 stationary하도록 전처리\n",
    "2. seasonality 있다면 SARIMA P,D,Q,M을 정해\n",
    "3. seasonality를 제외한 ACF, PACF살펴보고 이를 통해 ARIMA p,d,q 결정"
   ]
  },
  {
   "cell_type": "markdown",
   "metadata": {
    "id": "STgO7Xo3gYcO"
   },
   "source": [
    "Raw Data"
   ]
  },
  {
   "cell_type": "code",
   "execution_count": null,
   "metadata": {
    "colab": {
     "base_uri": "https://localhost:8080/",
     "height": 632
    },
    "executionInfo": {
     "elapsed": 1832,
     "status": "ok",
     "timestamp": 1635069253608,
     "user": {
      "displayName": "권유진",
      "photoUrl": "https://lh3.googleusercontent.com/a/default-user=s64",
      "userId": "17694849594474805342"
     },
     "user_tz": -540
    },
    "id": "3zUQaC5ZrmdI",
    "outputId": "940db453-5acc-47d2-96e5-6bed66d10acd"
   },
   "outputs": [],
   "source": [
    "decomposition = seasonal_decompose(data, model='additive')\n",
    "fig = decomposition.plot()\n",
    "fig.set_size_inches(20,10)\n",
    "plt.show()"
   ]
  },
  {
   "cell_type": "markdown",
   "metadata": {
    "id": "r-yw9UA2rjTl"
   },
   "source": [
    "Log Transform"
   ]
  },
  {
   "cell_type": "code",
   "execution_count": null,
   "metadata": {
    "executionInfo": {
     "elapsed": 6,
     "status": "ok",
     "timestamp": 1635069253609,
     "user": {
      "displayName": "권유진",
      "photoUrl": "https://lh3.googleusercontent.com/a/default-user=s64",
      "userId": "17694849594474805342"
     },
     "user_tz": -540
    },
    "id": "j-GCx3dvQfd0"
   },
   "outputs": [],
   "source": [
    "data = np.log1p(data)\n",
    "\n",
    "train = data.iloc[:-720]\n",
    "val = data.iloc[-720:-360]\n",
    "test = data.iloc[-360:]"
   ]
  },
  {
   "cell_type": "code",
   "execution_count": null,
   "metadata": {
    "colab": {
     "base_uri": "https://localhost:8080/",
     "height": 291
    },
    "executionInfo": {
     "elapsed": 617,
     "status": "ok",
     "timestamp": 1635069254220,
     "user": {
      "displayName": "권유진",
      "photoUrl": "https://lh3.googleusercontent.com/a/default-user=s64",
      "userId": "17694849594474805342"
     },
     "user_tz": -540
    },
    "id": "Tfnzw0wnekcr",
    "outputId": "a4ba5c8b-783f-49c7-9fb5-b4c1b932dd20"
   },
   "outputs": [],
   "source": [
    "data.plot(figsize=(10,4))\n",
    "plt.show()"
   ]
  },
  {
   "cell_type": "code",
   "execution_count": null,
   "metadata": {
    "colab": {
     "base_uri": "https://localhost:8080/",
     "height": 632
    },
    "executionInfo": {
     "elapsed": 742,
     "status": "ok",
     "timestamp": 1635069254958,
     "user": {
      "displayName": "권유진",
      "photoUrl": "https://lh3.googleusercontent.com/a/default-user=s64",
      "userId": "17694849594474805342"
     },
     "user_tz": -540
    },
    "id": "Ah3WT_CCW-uT",
    "outputId": "0b031c6f-8e51-44cf-c1fa-f52347433a0e"
   },
   "outputs": [],
   "source": [
    "decomposition = seasonal_decompose(data, model='additive')\n",
    "fig = decomposition.plot()\n",
    "fig.set_size_inches(20,10)\n",
    "plt.show()"
   ]
  },
  {
   "cell_type": "code",
   "execution_count": null,
   "metadata": {
    "colab": {
     "base_uri": "https://localhost:8080/",
     "height": 356
    },
    "executionInfo": {
     "elapsed": 614,
     "status": "ok",
     "timestamp": 1635069255568,
     "user": {
      "displayName": "권유진",
      "photoUrl": "https://lh3.googleusercontent.com/a/default-user=s64",
      "userId": "17694849594474805342"
     },
     "user_tz": -540
    },
    "id": "2lkWwanEetJG",
    "outputId": "155a237b-3fd1-47aa-c974-15b5714129b0"
   },
   "outputs": [],
   "source": [
    "fig, ax = plt.subplots(1,2,figsize=(20,5))\n",
    "fig.suptitle('Differenced Data')\n",
    "plot_acf(data, lags=100, ax=ax[0])\n",
    "plot_pacf(data, lags=100, ax=ax[1])\n",
    "plt.show()\n",
    "# 24차수마다 acf 반복 -> 24 계절 차분"
   ]
  },
  {
   "cell_type": "markdown",
   "metadata": {
    "id": "72HNLKBrga4d"
   },
   "source": [
    "Seasonal Differenced"
   ]
  },
  {
   "cell_type": "code",
   "execution_count": null,
   "metadata": {
    "executionInfo": {
     "elapsed": 7,
     "status": "ok",
     "timestamp": 1635069255569,
     "user": {
      "displayName": "권유진",
      "photoUrl": "https://lh3.googleusercontent.com/a/default-user=s64",
      "userId": "17694849594474805342"
     },
     "user_tz": -540
    },
    "id": "ca_bzVheYEAo"
   },
   "outputs": [],
   "source": [
    "data_sdiff = data.diff(24).dropna()"
   ]
  },
  {
   "cell_type": "code",
   "execution_count": null,
   "metadata": {
    "colab": {
     "base_uri": "https://localhost:8080/",
     "height": 291
    },
    "executionInfo": {
     "elapsed": 7,
     "status": "ok",
     "timestamp": 1635069255569,
     "user": {
      "displayName": "권유진",
      "photoUrl": "https://lh3.googleusercontent.com/a/default-user=s64",
      "userId": "17694849594474805342"
     },
     "user_tz": -540
    },
    "id": "IL1mOGoweevF",
    "outputId": "434a3c2e-c485-4888-dba2-8ca48f07dc62"
   },
   "outputs": [],
   "source": [
    "data_sdiff.plot(figsize=(10,4))\n",
    "plt.show()"
   ]
  },
  {
   "cell_type": "code",
   "execution_count": null,
   "metadata": {
    "colab": {
     "base_uri": "https://localhost:8080/",
     "height": 629
    },
    "executionInfo": {
     "elapsed": 1302,
     "status": "ok",
     "timestamp": 1635069256865,
     "user": {
      "displayName": "권유진",
      "photoUrl": "https://lh3.googleusercontent.com/a/default-user=s64",
      "userId": "17694849594474805342"
     },
     "user_tz": -540
    },
    "id": "X5OIgWxaYHb2",
    "outputId": "96633ea9-d25b-42da-f5d9-dc12cec2f294"
   },
   "outputs": [],
   "source": [
    "decomposition = seasonal_decompose(data_sdiff, model='additive')\n",
    "fig = decomposition.plot()\n",
    "fig.set_size_inches(20,10)\n",
    "plt.show()"
   ]
  },
  {
   "cell_type": "code",
   "execution_count": null,
   "metadata": {
    "colab": {
     "base_uri": "https://localhost:8080/",
     "height": 356
    },
    "executionInfo": {
     "elapsed": 6,
     "status": "ok",
     "timestamp": 1635069256866,
     "user": {
      "displayName": "권유진",
      "photoUrl": "https://lh3.googleusercontent.com/a/default-user=s64",
      "userId": "17694849594474805342"
     },
     "user_tz": -540
    },
    "id": "C5b7jyUcYOKh",
    "outputId": "c193f126-dde3-4018-d0da-c7935037c237"
   },
   "outputs": [],
   "source": [
    "fig, ax = plt.subplots(1,2,figsize=(20,5))\n",
    "fig.suptitle('Differenced Data')\n",
    "plot_acf(data_sdiff, lags=100, ax=ax[0])\n",
    "plot_pacf(data_sdiff, lags=100, ax=ax[1])\n",
    "plt.show()"
   ]
  },
  {
   "cell_type": "markdown",
   "metadata": {
    "id": "pparqD2Hgdw1"
   },
   "source": [
    "Seasonal+Trend Differenced"
   ]
  },
  {
   "cell_type": "code",
   "execution_count": null,
   "metadata": {
    "executionInfo": {
     "elapsed": 6,
     "status": "ok",
     "timestamp": 1635069256867,
     "user": {
      "displayName": "권유진",
      "photoUrl": "https://lh3.googleusercontent.com/a/default-user=s64",
      "userId": "17694849594474805342"
     },
     "user_tz": -540
    },
    "id": "HVacj_Q_fq6Q"
   },
   "outputs": [],
   "source": [
    "data_sdiff2 = data.diff(24).diff().dropna()"
   ]
  },
  {
   "cell_type": "code",
   "execution_count": null,
   "metadata": {
    "colab": {
     "base_uri": "https://localhost:8080/",
     "height": 291
    },
    "executionInfo": {
     "elapsed": 515,
     "status": "ok",
     "timestamp": 1635069257377,
     "user": {
      "displayName": "권유진",
      "photoUrl": "https://lh3.googleusercontent.com/a/default-user=s64",
      "userId": "17694849594474805342"
     },
     "user_tz": -540
    },
    "id": "PSvHPh2Wfw8t",
    "outputId": "6f751168-79c2-444f-ae07-579693d0d92d"
   },
   "outputs": [],
   "source": [
    "data_sdiff2.plot(figsize=(10,4))\n",
    "plt.show()"
   ]
  },
  {
   "cell_type": "code",
   "execution_count": null,
   "metadata": {
    "colab": {
     "base_uri": "https://localhost:8080/",
     "height": 632
    },
    "executionInfo": {
     "elapsed": 1414,
     "status": "ok",
     "timestamp": 1635069258788,
     "user": {
      "displayName": "권유진",
      "photoUrl": "https://lh3.googleusercontent.com/a/default-user=s64",
      "userId": "17694849594474805342"
     },
     "user_tz": -540
    },
    "id": "3pXepyNdfwyv",
    "outputId": "3491d135-8625-416e-8499-43eb55398fc2"
   },
   "outputs": [],
   "source": [
    "decomposition = seasonal_decompose(data_sdiff2, model='additive')\n",
    "fig = decomposition.plot()\n",
    "fig.set_size_inches(20,10)\n",
    "plt.show()"
   ]
  },
  {
   "cell_type": "code",
   "execution_count": null,
   "metadata": {
    "colab": {
     "base_uri": "https://localhost:8080/",
     "height": 356
    },
    "executionInfo": {
     "elapsed": 366,
     "status": "ok",
     "timestamp": 1635069259151,
     "user": {
      "displayName": "권유진",
      "photoUrl": "https://lh3.googleusercontent.com/a/default-user=s64",
      "userId": "17694849594474805342"
     },
     "user_tz": -540
    },
    "id": "WVTHvzrHfwtY",
    "outputId": "67ce324c-b9c1-4cb2-94c3-70e45d15fec1"
   },
   "outputs": [],
   "source": [
    "fig, ax = plt.subplots(1,2,figsize=(20,5))\n",
    "fig.suptitle('Differenced Data')\n",
    "plot_acf(data_sdiff2, lags=100, ax=ax[0])\n",
    "plot_pacf(data_sdiff2, lags=100, ax=ax[1])\n",
    "plt.show()\n",
    "\n",
    "# p = 2, q = 1, P = 1, Q = 1"
   ]
  },
  {
   "cell_type": "markdown",
   "metadata": {
    "id": "bpPDbOEmYAIG"
   },
   "source": [
    "## Modeling"
   ]
  },
  {
   "cell_type": "code",
   "execution_count": null,
   "metadata": {
    "colab": {
     "base_uri": "https://localhost:8080/"
    },
    "executionInfo": {
     "elapsed": 425504,
     "status": "ok",
     "timestamp": 1635069684648,
     "user": {
      "displayName": "권유진",
      "photoUrl": "https://lh3.googleusercontent.com/a/default-user=s64",
      "userId": "17694849594474805342"
     },
     "user_tz": -540
    },
    "id": "w4D9G2OIPQKM",
    "outputId": "42cd0dd5-c911-465d-f9ca-ec92cca93db5"
   },
   "outputs": [],
   "source": [
    "model = SARIMAX(data, order=(2,1,1), seasonal_order=(2,1,1,24))\n",
    "model = model.fit()"
   ]
  },
  {
   "cell_type": "code",
   "execution_count": null,
   "metadata": {
    "colab": {
     "base_uri": "https://localhost:8080/",
     "height": 488
    },
    "executionInfo": {
     "elapsed": 13,
     "status": "ok",
     "timestamp": 1635069684658,
     "user": {
      "displayName": "권유진",
      "photoUrl": "https://lh3.googleusercontent.com/a/default-user=s64",
      "userId": "17694849594474805342"
     },
     "user_tz": -540
    },
    "id": "O2K_qukcPgjJ",
    "outputId": "e8ea35a9-7988-4045-fbd3-5943ecf15525"
   },
   "outputs": [],
   "source": [
    "model.summary()"
   ]
  },
  {
   "cell_type": "code",
   "execution_count": null,
   "metadata": {
    "colab": {
     "base_uri": "https://localhost:8080/",
     "height": 620
    },
    "executionInfo": {
     "elapsed": 1040,
     "status": "ok",
     "timestamp": 1635069685687,
     "user": {
      "displayName": "권유진",
      "photoUrl": "https://lh3.googleusercontent.com/a/default-user=s64",
      "userId": "17694849594474805342"
     },
     "user_tz": -540
    },
    "id": "Y4lkB3cMSxE9",
    "outputId": "7d83daca-5d04-4801-9b41-7c04b7fc9f62"
   },
   "outputs": [],
   "source": [
    "model.plot_diagnostics(figsize=(16,10))\n",
    "plt.show()"
   ]
  },
  {
   "cell_type": "code",
   "execution_count": null,
   "metadata": {
    "colab": {
     "base_uri": "https://localhost:8080/"
    },
    "executionInfo": {
     "elapsed": 31703,
     "status": "ok",
     "timestamp": 1635069717385,
     "user": {
      "displayName": "권유진",
      "photoUrl": "https://lh3.googleusercontent.com/a/default-user=s64",
      "userId": "17694849594474805342"
     },
     "user_tz": -540
    },
    "id": "LM2S79UnXeuC",
    "outputId": "eb8efe88-aebd-4506-86f2-9395e0d2bb4b"
   },
   "outputs": [],
   "source": [
    "pred_list = []\n",
    "for i in tqdm(range(0,30)):\n",
    "    date = [pd.to_datetime('2021-05-31 00:00:00') + pd.Timedelta(hours=h) for h in range(744)][0+24*i:48+24*i]\n",
    "    pred = model.get_prediction(start = date[0], end = date[-1], dynamic=True)\n",
    "    pred_value = pred.predicted_mean[-24:]\n",
    "    pred_ci = pred.conf_int()\n",
    "    pred_list.append((pred_value, pred_ci))"
   ]
  },
  {
   "cell_type": "code",
   "execution_count": null,
   "metadata": {
    "executionInfo": {
     "elapsed": 15,
     "status": "ok",
     "timestamp": 1635069717385,
     "user": {
      "displayName": "권유진",
      "photoUrl": "https://lh3.googleusercontent.com/a/default-user=s64",
      "userId": "17694849594474805342"
     },
     "user_tz": -540
    },
    "id": "AORY7G2rZB2R"
   },
   "outputs": [],
   "source": [
    "pred_values = []\n",
    "pred_cis = []\n",
    "for value, ci in pred_list:\n",
    "    pred_values.append(value)\n",
    "    pred_cis.append(ci)"
   ]
  },
  {
   "cell_type": "code",
   "execution_count": null,
   "metadata": {
    "executionInfo": {
     "elapsed": 15,
     "status": "ok",
     "timestamp": 1635069717386,
     "user": {
      "displayName": "권유진",
      "photoUrl": "https://lh3.googleusercontent.com/a/default-user=s64",
      "userId": "17694849594474805342"
     },
     "user_tz": -540
    },
    "id": "1J3ztEgoZrd6"
   },
   "outputs": [],
   "source": [
    "pred_value = pd.concat(pred_values)\n",
    "pred_ci = pd.concat(pred_cis)"
   ]
  },
  {
   "cell_type": "code",
   "execution_count": null,
   "metadata": {
    "colab": {
     "base_uri": "https://localhost:8080/"
    },
    "executionInfo": {
     "elapsed": 14,
     "status": "ok",
     "timestamp": 1635069717386,
     "user": {
      "displayName": "권유진",
      "photoUrl": "https://lh3.googleusercontent.com/a/default-user=s64",
      "userId": "17694849594474805342"
     },
     "user_tz": -540
    },
    "id": "vofhac6uTQI_",
    "outputId": "f2234eec-ce14-448d-ab7a-2f771c2d6a8c"
   },
   "outputs": [],
   "source": [
    "mean_squared_error(np.expm1(pred_value), np.expm1(pd.concat([val,test])), squared=False)"
   ]
  },
  {
   "cell_type": "code",
   "execution_count": null,
   "metadata": {
    "colab": {
     "base_uri": "https://localhost:8080/",
     "height": 329
    },
    "executionInfo": {
     "elapsed": 855,
     "status": "ok",
     "timestamp": 1635069718229,
     "user": {
      "displayName": "권유진",
      "photoUrl": "https://lh3.googleusercontent.com/a/default-user=s64",
      "userId": "17694849594474805342"
     },
     "user_tz": -540
    },
    "id": "BhEaWld2Wm7X",
    "outputId": "3eca2c7e-38fb-4270-ee3c-4d3f5bc8a0d6"
   },
   "outputs": [],
   "source": [
    "fig, ax = plt.subplots(figsize=(10,4))\n",
    "np.expm1(pred_value).plot(ax=ax, label='pred', color='k')\n",
    "np.expm1(pd.concat([val,test])).plot(ax=ax, label='real', color='pink')\n",
    "\n",
    "ax.fill_between(pred_ci.index, np.expm1(pred_ci.iloc[:,0]), np.expm1(pred_ci.iloc[:,1]),\n",
    "                color='gray', alpha=0.25, label='ci')\n",
    "plt.title('SARIMA Prediction')\n",
    "plt.legend()\n",
    "plt.show()"
   ]
  },
  {
   "cell_type": "code",
   "execution_count": null,
   "metadata": {
    "executionInfo": {
     "elapsed": 23947,
     "status": "ok",
     "timestamp": 1635069742171,
     "user": {
      "displayName": "권유진",
      "photoUrl": "https://lh3.googleusercontent.com/a/default-user=s64",
      "userId": "17694849594474805342"
     },
     "user_tz": -540
    },
    "id": "SkdfDapBacff"
   },
   "outputs": [],
   "source": [
    "model.save('sarima24.pkl')"
   ]
  },
  {
   "cell_type": "code",
   "execution_count": null,
   "metadata": {
    "executionInfo": {
     "elapsed": 272,
     "status": "ok",
     "timestamp": 1635069822003,
     "user": {
      "displayName": "권유진",
      "photoUrl": "https://lh3.googleusercontent.com/a/default-user=s64",
      "userId": "17694849594474805342"
     },
     "user_tz": -540
    },
    "id": "XCyx1T8Bhz6g"
   },
   "outputs": [],
   "source": [
    "np.expm1(pred_value).reset_index().rename(columns={'index':'DATE',0:'preds'}).to_csv('results_sarima.csv', index=False)"
   ]
  }
 ],
 "metadata": {
  "colab": {
   "authorship_tag": "ABX9TyPeGe4b+8Z/qY5avM8T1DE9",
   "collapsed_sections": [],
   "machine_shape": "hm",
   "mount_file_id": "1PVpraXlrDYomgs5lj9BQLlJQ8_emPxMW",
   "name": "SARIMA.ipynb",
   "provenance": []
  },
  "kernelspec": {
   "display_name": "Python 3 (ipykernel)",
   "language": "python",
   "name": "python3"
  },
  "language_info": {
   "codemirror_mode": {
    "name": "ipython",
    "version": 3
   },
   "file_extension": ".py",
   "mimetype": "text/x-python",
   "name": "python",
   "nbconvert_exporter": "python",
   "pygments_lexer": "ipython3",
   "version": "3.9.7"
  }
 },
 "nbformat": 4,
 "nbformat_minor": 1
}
