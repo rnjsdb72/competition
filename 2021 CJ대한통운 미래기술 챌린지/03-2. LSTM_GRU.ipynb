{
 "cells": [
  {
   "cell_type": "code",
   "execution_count": null,
   "metadata": {
    "executionInfo": {
     "elapsed": 2740,
     "status": "ok",
     "timestamp": 1635434395841,
     "user": {
      "displayName": "권유진",
      "photoUrl": "https://lh3.googleusercontent.com/a/default-user=s64",
      "userId": "17694849594474805342"
     },
     "user_tz": -540
    },
    "id": "bfqmqdlzsVT2"
   },
   "outputs": [],
   "source": [
    "import pandas as pd\n",
    "import numpy as np\n",
    "import matplotlib.pylab as plt\n",
    "%matplotlib inline\n",
    "import seaborn as sns\n",
    "import plotly.express as px\n",
    "import os\n",
    "import missingno as msno\n",
    "import pickle\n",
    "from glob import glob\n",
    "from tqdm import tqdm\n",
    "import warnings\n",
    "warnings.filterwarnings(\"ignore\")\n",
    "import matplotlib\n",
    "import random\n",
    "\n",
    "from sklearn.metrics import mean_squared_error, mean_absolute_error\n",
    "from sklearn.preprocessing import RobustScaler\n",
    "\n",
    "import tensorflow as tf\n",
    "from keras.layers import *\n",
    "from keras import *\n",
    "import keras"
   ]
  },
  {
   "cell_type": "code",
   "execution_count": null,
   "metadata": {
    "executionInfo": {
     "elapsed": 23364,
     "status": "ok",
     "timestamp": 1635434419199,
     "user": {
      "displayName": "권유진",
      "photoUrl": "https://lh3.googleusercontent.com/a/default-user=s64",
      "userId": "17694849594474805342"
     },
     "user_tz": -540
    },
    "id": "aY_SAwsGscIu",
    "scrolled": true
   },
   "outputs": [],
   "source": [
    "orders = pd.read_csv('orders.csv')\n",
    "\n",
    "def beg_end_month(x):\n",
    "    if x<=10:\n",
    "        return '월초'\n",
    "    elif 10<x<=20:\n",
    "        return '월중'\n",
    "    elif 20<x<=31:\n",
    "        return '월말'\n",
    "orders.BKG_DATE = pd.to_datetime(orders.BKG_DATE, format='%Y-%m-%d')\n",
    "orders.INS_DATE = pd.to_datetime(orders.INS_DATE, format='%Y-%m-%d')\n",
    "orders[\"BKG_TIME\"] = pd.to_datetime(orders[\"BKG_TIME\"], format='%Y-%m-%d %H:%M:%S')\n",
    "orders['BKG_WEEK'] = orders.BKG_DATE.dt.week\n",
    "orders['BKG_MONTH2'] = orders.BKG_DATE.dt.day.map(beg_end_month)"
   ]
  },
  {
   "cell_type": "code",
   "execution_count": null,
   "metadata": {
    "executionInfo": {
     "elapsed": 2501,
     "status": "ok",
     "timestamp": 1635434423028,
     "user": {
      "displayName": "권유진",
      "photoUrl": "https://lh3.googleusercontent.com/a/default-user=s64",
      "userId": "17694849594474805342"
     },
     "user_tz": -540
    },
    "id": "Mzz0zPkrt1vr"
   },
   "outputs": [],
   "source": [
    "data = orders[orders.BKG_TYP==7][orders.CORP_ID=='KX007'].groupby(['BKG_DATE','BKG_HOUR'])['ITEM_QTY'].sum().reset_index()\n",
    "data = data.append(pd.DataFrame(dict(zip(['BKG_DATE','BKG_HOUR','ITEM_QTY'],[(pd.to_datetime('2021-06-28'),pd.to_datetime('2021-06-28')), (4,5), (0,0)]))))\n",
    "data = data.sort_values(['BKG_DATE','BKG_HOUR'])\n",
    "\n",
    "comb_date = []\n",
    "for date, hour, _ in data.values:\n",
    "    comb_date.append(pd.to_datetime(f'{date.year}-{date.month}-{date.day} {hour}:00:00'))\n",
    "data['DATE'] = comb_date\n",
    "data = data.set_index('DATE').drop(columns=['BKG_DATE', 'BKG_HOUR']).rename(columns={'ITEM_QTY':'TARGET'})"
   ]
  },
  {
   "cell_type": "code",
   "execution_count": null,
   "metadata": {
    "executionInfo": {
     "elapsed": 8,
     "status": "ok",
     "timestamp": 1635434423031,
     "user": {
      "displayName": "권유진",
      "photoUrl": "https://lh3.googleusercontent.com/a/default-user=s64",
      "userId": "17694849594474805342"
     },
     "user_tz": -540
    },
    "id": "se_gK_AKt1vr"
   },
   "outputs": [],
   "source": [
    "nestle = ['2021-03-22', '2021-04-15', '2021-05-17', '2021-06-17']\n",
    "nut_one = ['2021-04-25', '2021-04-30','2021-05-16','2021-05-31',\n",
    "           '2021-06-13', '2021-06-27']\n",
    "\n",
    "lg3 = [f'2021-03-{i}' for i in range(22,29)]\n",
    "lg6 = [f'2021-06-{i}' for i in range(7,16)]\n",
    "lg_brand = ['2021-04-20','2021-05-17']\n",
    "lg = lg3 + lg_brand + lg6\n",
    "\n",
    "data['nestle'] = np.zeros((data.shape[0],1))\n",
    "data['nut_one'] = np.zeros((data.shape[0],1))\n",
    "data['lg'] = np.zeros((data.shape[0],1))\n",
    "for day in nestle:\n",
    "    data.loc[day,'nestle'] = 1\n",
    "for day in nut_one:\n",
    "    data.loc[day,'nut_one'] = 1\n",
    "for day in lg:\n",
    "    data.loc[day,'lg'] = 1"
   ]
  },
  {
   "cell_type": "code",
   "execution_count": null,
   "metadata": {},
   "outputs": [],
   "source": [
    "21*24+17"
   ]
  },
  {
   "cell_type": "code",
   "execution_count": null,
   "metadata": {},
   "outputs": [],
   "source": [
    "data = data2.TARGET[-521-25:-17]"
   ]
  },
  {
   "cell_type": "code",
   "execution_count": null,
   "metadata": {},
   "outputs": [],
   "source": [
    "((data.shape[0]-(input_window+output_window))//window)-24"
   ]
  },
  {
   "cell_type": "code",
   "execution_count": null,
   "metadata": {},
   "outputs": [],
   "source": [
    "std_day = 21\n",
    "input_window = 24*std_day\n",
    "output_window = 1\n",
    "window = 1\n",
    "num_features = 4\n",
    "\n",
    "test_window_x = np.zeros((((data.shape[0]-(input_window+output_window))//window)-24, input_window, num_features)) # batch_size, input, feature\n",
    "for start in range(0,(data.shape[0]-(input_window+output_window))-24, window):\n",
    "    end = start+input_window\n",
    "    test_window_x[start//window,:,:] = data[start:end,:]"
   ]
  },
  {
   "cell_type": "code",
   "execution_count": null,
   "metadata": {},
   "outputs": [],
   "source": [
    "data.TARGET[-545:-17].reset_index().to_csv('data.csv', index=False)"
   ]
  },
  {
   "cell_type": "code",
   "execution_count": null,
   "metadata": {},
   "outputs": [],
   "source": [
    "np.save('data.npy', .values)"
   ]
  },
  {
   "cell_type": "code",
   "execution_count": null,
   "metadata": {},
   "outputs": [],
   "source": [
    "scaler = RobustScaler()\n",
    "train = scaler.fit_transform(data2.TARGET.values.reshape(-1,1))"
   ]
  },
  {
   "cell_type": "code",
   "execution_count": null,
   "metadata": {},
   "outputs": [],
   "source": [
    "data2 = data.copy()\n",
    "\n",
    "train_y = data2.iloc[:-720].values\n",
    "val_y = data2.iloc[-720:-360].values\n",
    "test_y = data2.iloc[-360:].values\n",
    "\n",
    "val_index = data2.iloc[-720:-360].index\n",
    "test_index = data2.iloc[-360:].index\n",
    "\n"
   ]
  },
  {
   "cell_type": "code",
   "execution_count": null,
   "metadata": {},
   "outputs": [],
   "source": [
    "data2.TARGET.values.reshape(-1,1)"
   ]
  },
  {
   "cell_type": "code",
   "execution_count": null,
   "metadata": {},
   "outputs": [],
   "source": [
    "with open('robust_scaler.pickle','wb') as f:\n",
    "    pickle.dump(scaler, f)"
   ]
  },
  {
   "cell_type": "code",
   "execution_count": null,
   "metadata": {},
   "outputs": [],
   "source": [
    "data2[-24:]"
   ]
  },
  {
   "cell_type": "code",
   "execution_count": null,
   "metadata": {},
   "outputs": [],
   "source": []
  },
  {
   "cell_type": "code",
   "execution_count": null,
   "metadata": {
    "executionInfo": {
     "elapsed": 481,
     "status": "ok",
     "timestamp": 1635434450199,
     "user": {
      "displayName": "권유진",
      "photoUrl": "https://lh3.googleusercontent.com/a/default-user=s64",
      "userId": "17694849594474805342"
     },
     "user_tz": -540
    },
    "id": "AS9VUOL9t1vr"
   },
   "outputs": [],
   "source": [
    "data2 = data.copy()\n",
    "\n",
    "train_y = data2.iloc[:-720].values\n",
    "val_y = data2.iloc[-720:-360].values\n",
    "test_y = data2.iloc[-360:].values\n",
    "\n",
    "val_index = data2.iloc[-720:-360].index\n",
    "test_index = data2.iloc[-360:].index\n",
    "\n",
    "scaler = RobustScaler()\n",
    "train = scaler.fit_transform(train_y)\n",
    "val = scaler.transform(val_y)\n",
    "test = scaler.transform(test_y)\n",
    "\n",
    "train_y = data2.iloc[:-720,0].values.reshape(-1,1)\n",
    "val_y = data2.iloc[-720:-360,0].values.reshape(-1,1)\n",
    "test_y = data2.iloc[-360:,0].values.reshape(-1,1)"
   ]
  },
  {
   "cell_type": "code",
   "execution_count": null,
   "metadata": {
    "executionInfo": {
     "elapsed": 485,
     "status": "ok",
     "timestamp": 1635434456731,
     "user": {
      "displayName": "권유진",
      "photoUrl": "https://lh3.googleusercontent.com/a/default-user=s64",
      "userId": "17694849594474805342"
     },
     "user_tz": -540
    },
    "id": "TjyG3_eyt1vr"
   },
   "outputs": [],
   "source": [
    "std_day = 21\n",
    "input_window = 24*std_day\n",
    "output_window = 1\n",
    "window = 1\n",
    "num_features = 4\n",
    "\n",
    "train_window_x = np.zeros((((train.shape[0]-(input_window+output_window))//window)-24, input_window, num_features)) # batch_size, input, feature\n",
    "train_window_y = np.zeros((((train.shape[0]-(input_window+output_window))//window)-24, output_window, 1))\n",
    "for start in range(0,(train.shape[0]-(input_window+output_window))-24, window):\n",
    "    end = start+input_window\n",
    "    train_window_x[start//window,:,:] = train[start:end,:]\n",
    "    train_window_y[start//window,:] = train_y[end+24:end+output_window+24,:]\n",
    "\n",
    "val_window_x = np.zeros((val.shape[0], input_window, num_features)) # batch_size, input, feature\n",
    "for start in range(0,val.shape[0], window):\n",
    "    end = start+input_window\n",
    "    val_window_x[start//window,:,:] = np.concatenate([train[-24*std_day:],val])[start:end,:]\n",
    "\n",
    "test_window_x = np.zeros((((test.shape[0], input_window, num_features)))) # batch_size, input, feature\n",
    "for start in range(0, test.shape[0], window):\n",
    "    end = start+input_window\n",
    "    test_window_x[start//window,:,:] = np.concatenate([np.concatenate([train[(15-24)*std_day:],val])[-24*std_day:],test])[start:end,:]"
   ]
  },
  {
   "cell_type": "code",
   "execution_count": null,
   "metadata": {
    "colab": {
     "base_uri": "https://localhost:8080/"
    },
    "executionInfo": {
     "elapsed": 729680,
     "status": "ok",
     "timestamp": 1635435202654,
     "user": {
      "displayName": "권유진",
      "photoUrl": "https://lh3.googleusercontent.com/a/default-user=s64",
      "userId": "17694849594474805342"
     },
     "user_tz": -540
    },
    "id": "U9_2rkrYXolR",
    "outputId": "b820b5ba-756e-4fa1-ccdd-46af6e1da891"
   },
   "outputs": [],
   "source": [
    "tf.random.set_seed(99)\n",
    "np.random.seed(11)\n",
    "random.seed(12)\n",
    "\n",
    "model = Sequential(\n",
    "    [LSTM(96, return_sequences=True),\n",
    "    LayerNormalization(),\n",
    "    LSTM(96, return_sequences=False),\n",
    "    LayerNormalization(),\n",
    "    Dense(1)]\n",
    "    )\n",
    "\n",
    "model.compile(optimizer='adam', loss='mse', metrics=[keras.metrics.RootMeanSquaredError()])\n",
    "\n",
    "early_stop = tf.keras.callbacks.EarlyStopping(monitor='val_loss', patience=50)\n",
    "history = model.fit(train_window_x, train_window_y, epochs=500, batch_size=64, validation_data = (val_window_x,val_y), callbacks=[tf.keras.callbacks.ModelCheckpoint(filepath='model.keras',monitor='val_loss',mode='min',save_best_only=True)])"
   ]
  },
  {
   "cell_type": "code",
   "execution_count": null,
   "metadata": {
    "colab": {
     "base_uri": "https://localhost:8080/",
     "height": 264
    },
    "executionInfo": {
     "elapsed": 10,
     "status": "ok",
     "timestamp": 1635435205262,
     "user": {
      "displayName": "권유진",
      "photoUrl": "https://lh3.googleusercontent.com/a/default-user=s64",
      "userId": "17694849594474805342"
     },
     "user_tz": -540
    },
    "id": "bqJf6mqoqDqP",
    "outputId": "296bc05e-2547-415a-97a3-74e28201bc8c"
   },
   "outputs": [],
   "source": [
    "plt.figure(figsize=(10,4))\n",
    "plt.plot(history.history['root_mean_squared_error'], label='train_loss')\n",
    "plt.plot(history.history['val_root_mean_squared_error'], label='test_loss')\n",
    "plt.vlines(np.argmin(history.history['root_mean_squared_error']),0,1200, colors='red')\n",
    "plt.vlines(np.argmin(history.history['val_root_mean_squared_error']),0,1200, colors='red')\n",
    "plt.text(np.argmin(history.history['root_mean_squared_error']),0, 'train'+str(np.argmin(history.history['root_mean_squared_error'])+1), horizontalalignment='center')\n",
    "plt.text(np.argmin(history.history['val_root_mean_squared_error']),0, 'val'+str(np.argmin(history.history['val_root_mean_squared_error'])+1), horizontalalignment='center')\n",
    "plt.legend()\n",
    "plt.show()"
   ]
  },
  {
   "cell_type": "code",
   "execution_count": null,
   "metadata": {
    "colab": {
     "base_uri": "https://localhost:8080/"
    },
    "executionInfo": {
     "elapsed": 544,
     "status": "ok",
     "timestamp": 1635435205800,
     "user": {
      "displayName": "권유진",
      "photoUrl": "https://lh3.googleusercontent.com/a/default-user=s64",
      "userId": "17694849594474805342"
     },
     "user_tz": -540
    },
    "id": "CL-RVuuTCZXd",
    "outputId": "8d5c8a5b-ba6d-4b52-af27-70b4dd39ed75"
   },
   "outputs": [],
   "source": [
    "test_window_x = np.zeros((((test.shape[0], input_window, num_features)))) # batch_size, input, feature\n",
    "for start in range(0, test.shape[0], window):\n",
    "    end = start+input_window\n",
    "    test_window_x[start//window,:,:] = np.concatenate([np.concatenate([train[(15-24)*std_day:],val])[-24*std_day:],test])[start:end,:]\n",
    "\n",
    "prediction = model.predict(test_window_x)\n",
    "\n",
    "np.sqrt(mean_squared_error(prediction,test_y))"
   ]
  },
  {
   "cell_type": "code",
   "execution_count": null,
   "metadata": {
    "colab": {
     "base_uri": "https://localhost:8080/",
     "height": 172
    },
    "executionInfo": {
     "elapsed": 9380,
     "status": "ok",
     "timestamp": 1635435215178,
     "user": {
      "displayName": "권유진",
      "photoUrl": "https://lh3.googleusercontent.com/a/default-user=s64",
      "userId": "17694849594474805342"
     },
     "user_tz": -540
    },
    "id": "zYqNLA8NCf3H",
    "outputId": "29177bbc-5c19-4bc9-8d21-01d262506402"
   },
   "outputs": [],
   "source": [
    "fig, ax = plt.subplots(2,1,figsize=(40,10))\n",
    "ax[0].plot(val_index, val_y, 'pink', label='real')\n",
    "ax[0].plot(val_index, model.predict(val_window_x), 'k', label='pred')\n",
    "ax[0].set_title('Validation Set')\n",
    "ax[0].set_xticks(val_index)\n",
    "ax[0].set_xticklabels(val_index,rotation=90, fontsize=7)\n",
    "ax[0].set_xlim(val_index.min(),val_index.max())\n",
    "ax[0].grid()\n",
    "ax[0].legend()\n",
    "ax[1].plot(test_index, test_y, 'pink', label='real')\n",
    "ax[1].plot(test_index, prediction, 'k', label='pred')\n",
    "ax[1].set_title('Test Set')\n",
    "ax[1].set_xticks(test_index)\n",
    "ax[1].set_xticklabels(test_index,rotation=90, fontsize=7)\n",
    "ax[1].set_xlim(test_index.min(),test_index.max())\n",
    "ax[1].grid()\n",
    "ax[1].legend()\n",
    "plt.tight_layout()\n",
    "plt.show()"
   ]
  },
  {
   "cell_type": "code",
   "execution_count": null,
   "metadata": {
    "executionInfo": {
     "elapsed": 1390,
     "status": "ok",
     "timestamp": 1635435278564,
     "user": {
      "displayName": "권유진",
      "photoUrl": "https://lh3.googleusercontent.com/a/default-user=s64",
      "userId": "17694849594474805342"
     },
     "user_tz": -540
    },
    "id": "89adrWb1uQie"
   },
   "outputs": [],
   "source": [
    "model.save('lstm_9696.keras')"
   ]
  },
  {
   "cell_type": "code",
   "execution_count": null,
   "metadata": {
    "colab": {
     "base_uri": "https://localhost:8080/"
    },
    "executionInfo": {
     "elapsed": 601481,
     "status": "ok",
     "timestamp": 1635435882237,
     "user": {
      "displayName": "권유진",
      "photoUrl": "https://lh3.googleusercontent.com/a/default-user=s64",
      "userId": "17694849594474805342"
     },
     "user_tz": -540
    },
    "id": "6tVpI_qBCZXc",
    "outputId": "f4ab9f7a-edc5-44c8-9476-b9634b887a5d"
   },
   "outputs": [],
   "source": [
    "tf.random.set_seed(99)\n",
    "np.random.seed(11)\n",
    "random.seed(12)\n",
    "\n",
    "model = Sequential(\n",
    "    [GRU(64, return_sequences=True),\n",
    "    LayerNormalization(),\n",
    "    GRU(96, return_sequences=False),\n",
    "    LayerNormalization(),\n",
    "    Dense(1)]\n",
    "    )\n",
    "\n",
    "model.compile(optimizer='adam', loss='mse', metrics=[keras.metrics.RootMeanSquaredError()])\n",
    "\n",
    "early_stop = tf.keras.callbacks.EarlyStopping(monitor='val_loss', patience=50)\n",
    "history = model.fit(train_window_x, train_window_y, epochs=500, batch_size=64, validation_data = (val_window_x,val_y), callbacks=[tf.keras.callbacks.ModelCheckpoint(filepath='model.keras',monitor='val_loss',mode='min',save_best_only=True)])"
   ]
  },
  {
   "cell_type": "code",
   "execution_count": null,
   "metadata": {
    "colab": {
     "base_uri": "https://localhost:8080/",
     "height": 264
    },
    "executionInfo": {
     "elapsed": 782,
     "status": "ok",
     "timestamp": 1635435883013,
     "user": {
      "displayName": "권유진",
      "photoUrl": "https://lh3.googleusercontent.com/a/default-user=s64",
      "userId": "17694849594474805342"
     },
     "user_tz": -540
    },
    "id": "us-0kpzP1kbw",
    "outputId": "11f1584a-6ad4-41f7-a127-ca4611d595c8"
   },
   "outputs": [],
   "source": [
    "plt.figure(figsize=(10,4))\n",
    "plt.plot(history.history['root_mean_squared_error'], label='train_loss')\n",
    "plt.plot(history.history['val_root_mean_squared_error'], label='test_loss')\n",
    "plt.vlines(np.argmin(history.history['root_mean_squared_error']),0,1200, colors='red')\n",
    "plt.vlines(np.argmin(history.history['val_root_mean_squared_error']),0,1200, colors='red')\n",
    "plt.text(np.argmin(history.history['root_mean_squared_error']),0, 'train'+str(np.argmin(history.history['root_mean_squared_error'])+1), horizontalalignment='center')\n",
    "plt.text(np.argmin(history.history['val_root_mean_squared_error']),0, 'val'+str(np.argmin(history.history['val_root_mean_squared_error'])+1), horizontalalignment='center')\n",
    "plt.legend()\n",
    "plt.show()"
   ]
  },
  {
   "cell_type": "code",
   "execution_count": null,
   "metadata": {
    "colab": {
     "base_uri": "https://localhost:8080/"
    },
    "executionInfo": {
     "elapsed": 752,
     "status": "ok",
     "timestamp": 1635435883758,
     "user": {
      "displayName": "권유진",
      "photoUrl": "https://lh3.googleusercontent.com/a/default-user=s64",
      "userId": "17694849594474805342"
     },
     "user_tz": -540
    },
    "id": "ZhoXToZZdOTl",
    "outputId": "8fd4b29f-cfda-49b1-c7e9-a7774ff1d0c5"
   },
   "outputs": [],
   "source": [
    "test_window_x = np.zeros((((test.shape[0], input_window, num_features)))) # batch_size, input, feature\n",
    "for start in range(0, test.shape[0], window):\n",
    "    end = start+input_window\n",
    "    test_window_x[start//window,:,:] = np.concatenate([np.concatenate([train[(15-24)*std_day:],val])[-24*std_day:],test])[start:end,:]\n",
    "\n",
    "prediction = model.predict(test_window_x)\n",
    "\n",
    "np.sqrt(mean_squared_error(prediction,test_y))"
   ]
  },
  {
   "cell_type": "code",
   "execution_count": null,
   "metadata": {
    "colab": {
     "base_uri": "https://localhost:8080/",
     "height": 172
    },
    "executionInfo": {
     "elapsed": 9384,
     "status": "ok",
     "timestamp": 1635435893139,
     "user": {
      "displayName": "권유진",
      "photoUrl": "https://lh3.googleusercontent.com/a/default-user=s64",
      "userId": "17694849594474805342"
     },
     "user_tz": -540
    },
    "id": "HULbNmgDdOTm",
    "outputId": "3cc069fa-3d5e-453b-abd2-9aa6cf663208"
   },
   "outputs": [],
   "source": [
    "fig, ax = plt.subplots(2,1,figsize=(40,10))\n",
    "ax[0].plot(val_index, val_y, 'pink', label='real')\n",
    "ax[0].plot(val_index, model.predict(val_window_x), 'k', label='pred')\n",
    "ax[0].set_title('Validation Set')\n",
    "ax[0].set_xticks(val_index)\n",
    "ax[0].set_xticklabels(val_index,rotation=90, fontsize=7)\n",
    "ax[0].set_xlim(val_index.min(),val_index.max())\n",
    "ax[0].grid()\n",
    "ax[0].legend()\n",
    "ax[1].plot(test_index, test_y, 'pink', label='real')\n",
    "ax[1].plot(test_index, prediction, 'k', label='pred')\n",
    "ax[1].set_title('Test Set')\n",
    "ax[1].set_xticks(test_index)\n",
    "ax[1].set_xticklabels(test_index,rotation=90, fontsize=7)\n",
    "ax[1].set_xlim(test_index.min(),test_index.max())\n",
    "ax[1].grid()\n",
    "ax[1].legend()\n",
    "plt.tight_layout()\n",
    "plt.show()"
   ]
  },
  {
   "cell_type": "code",
   "execution_count": null,
   "metadata": {
    "executionInfo": {
     "elapsed": 1427,
     "status": "ok",
     "timestamp": 1635435998259,
     "user": {
      "displayName": "권유진",
      "photoUrl": "https://lh3.googleusercontent.com/a/default-user=s64",
      "userId": "17694849594474805342"
     },
     "user_tz": -540
    },
    "id": "XyTrRchNpQ8b"
   },
   "outputs": [],
   "source": [
    "model.save('gru_6496.keras')"
   ]
  },
  {
   "cell_type": "markdown",
   "metadata": {
    "id": "7oDy8KZU2ygy"
   },
   "source": [
    "----------------------------------------------------------------"
   ]
  },
  {
   "cell_type": "code",
   "execution_count": null,
   "metadata": {
    "executionInfo": {
     "elapsed": 2530,
     "status": "ok",
     "timestamp": 1635436004177,
     "user": {
      "displayName": "권유진",
      "photoUrl": "https://lh3.googleusercontent.com/a/default-user=s64",
      "userId": "17694849594474805342"
     },
     "user_tz": -540
    },
    "id": "UQRXzFYN2yO9"
   },
   "outputs": [],
   "source": [
    "model_lstm = keras.models.load_model('lstm_9696.keras')\n",
    "model_gru = keras.models.load_model('gru_6496.keras')"
   ]
  },
  {
   "cell_type": "code",
   "execution_count": null,
   "metadata": {
    "colab": {
     "base_uri": "https://localhost:8080/"
    },
    "executionInfo": {
     "elapsed": 802,
     "status": "ok",
     "timestamp": 1635436011085,
     "user": {
      "displayName": "권유진",
      "photoUrl": "https://lh3.googleusercontent.com/a/default-user=s64",
      "userId": "17694849594474805342"
     },
     "user_tz": -540
    },
    "id": "JLSupAhR29Qz",
    "outputId": "dd05fdb7-037c-4e8b-b5a8-d6947277cdf3"
   },
   "outputs": [],
   "source": [
    "prediction_test_lstm = model_lstm.predict(test_window_x)\n",
    "\n",
    "np.sqrt(mean_squared_error(prediction_test_lstm,test_y))"
   ]
  },
  {
   "cell_type": "code",
   "execution_count": null,
   "metadata": {
    "colab": {
     "base_uri": "https://localhost:8080/"
    },
    "executionInfo": {
     "elapsed": 623,
     "status": "ok",
     "timestamp": 1635436016912,
     "user": {
      "displayName": "권유진",
      "photoUrl": "https://lh3.googleusercontent.com/a/default-user=s64",
      "userId": "17694849594474805342"
     },
     "user_tz": -540
    },
    "id": "bM0Hg3tc3JJv",
    "outputId": "37dc17d4-194c-4887-bc90-ce4aa2f6dff1"
   },
   "outputs": [],
   "source": [
    "prediction_test_gru = model_gru.predict(test_window_x)\n",
    "\n",
    "np.sqrt(mean_squared_error(prediction_test_gru,test_y))"
   ]
  },
  {
   "cell_type": "code",
   "execution_count": null,
   "metadata": {
    "colab": {
     "base_uri": "https://localhost:8080/"
    },
    "executionInfo": {
     "elapsed": 5,
     "status": "ok",
     "timestamp": 1635436018026,
     "user": {
      "displayName": "권유진",
      "photoUrl": "https://lh3.googleusercontent.com/a/default-user=s64",
      "userId": "17694849594474805342"
     },
     "user_tz": -540
    },
    "id": "_U5d96WG3NpL",
    "outputId": "f773048d-a7cd-4ffe-ee4a-0b3c7c78800f"
   },
   "outputs": [],
   "source": [
    "prediction_test_ensemble = (prediction_test_lstm +  prediction_test_gru)/2\n",
    "\n",
    "np.sqrt(mean_squared_error(prediction_test_ensemble, test_y))"
   ]
  },
  {
   "cell_type": "code",
   "execution_count": null,
   "metadata": {
    "colab": {
     "base_uri": "https://localhost:8080/",
     "height": 251
    },
    "executionInfo": {
     "elapsed": 14515,
     "status": "ok",
     "timestamp": 1635436098304,
     "user": {
      "displayName": "권유진",
      "photoUrl": "https://lh3.googleusercontent.com/a/default-user=s64",
      "userId": "17694849594474805342"
     },
     "user_tz": -540
    },
    "id": "OjVc3Zw33dGN",
    "outputId": "68acde9e-c016-4957-ce44-645105a70458"
   },
   "outputs": [],
   "source": [
    "fig, ax = plt.subplots(3,1,figsize=(40,15))\n",
    "ax[0].plot(test_index, test_y, 'pink', label='real')\n",
    "ax[0].plot(test_index, prediction_test_lstm, 'k', label='pred')\n",
    "ax[0].set_title('LSTM-Test Set')\n",
    "ax[0].set_xticks(test_index)\n",
    "ax[0].set_xticklabels(test_index,rotation=90, fontsize=7)\n",
    "ax[0].set_xlim(test_index.min(),test_index.max())\n",
    "ax[0].grid()\n",
    "ax[0].legend()\n",
    "ax[1].plot(test_index, test_y, 'pink', label='real')\n",
    "ax[1].plot(test_index, prediction_test_gru, 'k', label='pred')\n",
    "ax[1].set_title('GRU-Test Set')\n",
    "ax[1].set_xticks(test_index)\n",
    "ax[1].set_xticklabels(test_index,rotation=90, fontsize=7)\n",
    "ax[1].set_xlim(test_index.min(),test_index.max())\n",
    "ax[1].grid()\n",
    "ax[1].legend()\n",
    "ax[2].plot(test_index, test_y, 'pink', label='real')\n",
    "ax[2].plot(test_index, prediction_test_ensemble, 'k', label='pred')\n",
    "ax[2].set_title('Ensemble LSTM&GRU-Test Set')\n",
    "ax[2].set_xticks(test_index)\n",
    "ax[2].set_xticklabels(test_index,rotation=90, fontsize=7)\n",
    "ax[2].set_xlim(test_index.min(),test_index.max())\n",
    "ax[2].grid()\n",
    "ax[2].legend()\n",
    "plt.tight_layout()\n",
    "plt.show()"
   ]
  },
  {
   "cell_type": "code",
   "execution_count": null,
   "metadata": {
    "executionInfo": {
     "elapsed": 607,
     "status": "ok",
     "timestamp": 1635436135195,
     "user": {
      "displayName": "권유진",
      "photoUrl": "https://lh3.googleusercontent.com/a/default-user=s64",
      "userId": "17694849594474805342"
     },
     "user_tz": -540
    },
    "id": "8Uuc4s_VkzOZ"
   },
   "outputs": [],
   "source": [
    "pred_val = np.concatenate([prediction_val_lstm, prediction_val_gru, prediction_val_ensemble], axis=1)\n",
    "pred_test = np.concatenate([prediction_test_lstm, prediction_test_gru, prediction_test_ensemble], axis=1)\n",
    "pred_val = pd.DataFrame(pred_val, columns=['lstm','gru','ensemble']).set_index(val_index.values).reset_index()\n",
    "pred_test = pd.DataFrame(pred_test, columns=['lstm','gru','ensemble']).set_index(test_index.values).reset_index()\n",
    "results = pd.concat([pred_val, pred_test]).reset_index(drop=True).rename(columns={'index':'DATE'})"
   ]
  },
  {
   "cell_type": "code",
   "execution_count": null,
   "metadata": {
    "executionInfo": {
     "elapsed": 1250,
     "status": "ok",
     "timestamp": 1635436139922,
     "user": {
      "displayName": "권유진",
      "photoUrl": "https://lh3.googleusercontent.com/a/default-user=s64",
      "userId": "17694849594474805342"
     },
     "user_tz": -540
    },
    "id": "r43S1WW9mT7I"
   },
   "outputs": [],
   "source": [
    "results.to_csv('results_dnn.csv', index=False)"
   ]
  }
 ],
 "metadata": {
  "accelerator": "GPU",
  "colab": {
   "authorship_tag": "ABX9TyPbFmno8jV4bSFvSXbdBr/f",
   "machine_shape": "hm",
   "mount_file_id": "1BXQASLbvi73dVSXD6DmXd9ah2TX3AJO6",
   "name": "LSTM&GRU.ipynb",
   "provenance": []
  },
  "kernelspec": {
   "display_name": "Python 3 (ipykernel)",
   "language": "python",
   "name": "python3"
  },
  "language_info": {
   "codemirror_mode": {
    "name": "ipython",
    "version": 3
   },
   "file_extension": ".py",
   "mimetype": "text/x-python",
   "name": "python",
   "nbconvert_exporter": "python",
   "pygments_lexer": "ipython3",
   "version": "3.9.7"
  }
 },
 "nbformat": 4,
 "nbformat_minor": 1
}
