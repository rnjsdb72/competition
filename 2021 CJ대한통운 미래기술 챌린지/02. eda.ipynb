{
 "cells": [
  {
   "cell_type": "markdown",
   "metadata": {},
   "source": [
    "# *EDA*"
   ]
  },
  {
   "cell_type": "code",
   "execution_count": null,
   "metadata": {
    "scrolled": true
   },
   "outputs": [],
   "source": [
    "import pandas as pd\n",
    "import numpy as np\n",
    "import matplotlib.pylab as plt\n",
    "%matplotlib inline\n",
    "plt.rc('font', family='malgun gothic')\n",
    "plt.rc('axes', unicode_minus=False)\n",
    "import seaborn as sns\n",
    "import os\n",
    "import warnings\n",
    "warnings.filterwarnings(\"ignore\")\n",
    "\n",
    "od_raw = pd.read_csv(r\"orders.csv\")\n",
    "display(od_raw.head(), od_raw.info(), od_raw.isnull().sum())"
   ]
  },
  {
   "cell_type": "code",
   "execution_count": null,
   "metadata": {},
   "outputs": [],
   "source": [
    "od = od_raw.copy()\n",
    "\n",
    "\n",
    "\n",
    "od.columns = [\"창고\", \"고객주문번호\", \"CJ주문번호\", \"주문유형\", \"주문날짜\", \"주문시간\", \"고객사코드\", \"주문금액\", \"품목순번\",\n",
    "             \"품목코드\", \"브랜드\", \"품목수량\", \"품목금액\", \"수신여부\", \"주문생성시간\", \"택배구분\", \"상품주문번호\", \"중개업체주문번호\",\n",
    "             \"접수여부\", \"배달예정점소코드\", \"배달예정사원코드\", \"터미널코드\", \"터미널소분류코드\", \"입력자ID\", \"입력일자\",\n",
    "             \"입력시간\", \"권역구분\", \"배송처별주문분할여부\", \"송화인 광역주소\", \"송화인 지역주소\", \"수화인 광역주소\", \"수화인 지역주소\",\n",
    "             \"주문월\", \"주문일\", \"주문요일\", \"주문시간대\"]\n",
    "\n",
    "od.주문날짜 = od.주문날짜.astype(\"datetime64\")"
   ]
  },
  {
   "cell_type": "markdown",
   "metadata": {},
   "source": [
    "# 1.F/C 별 탐색"
   ]
  },
  {
   "cell_type": "markdown",
   "metadata": {},
   "source": [
    "##  1 - 1) F/C별 데이터 크기"
   ]
  },
  {
   "cell_type": "code",
   "execution_count": null,
   "metadata": {},
   "outputs": [],
   "source": [
    "# 창고별 데이터 크기 확인\n",
    "od_kx = od[od.창고 == \"KX007\"]     # 곤지암\n",
    "od_gp = od[od.창고 == 'GP001']  # 군포\n",
    "\n",
    "print(\"곤지암fc 데이터 주문날짜 :\", od_kx.주문날짜.min(), \"~\", od_kx.주문날짜.max())\n",
    "print(\"곤지암fc 데이터 크기 : \", od_kx.shape[0])\n",
    "print(\"군포fc 데이터 주문날짜 :\", od_gp.주문날짜.min(), \"~\", od_gp.주문날짜.max())\n",
    "print(\"군포fc 데이터 크기 : \", od_gp.shape[0])"
   ]
  },
  {
   "cell_type": "code",
   "execution_count": null,
   "metadata": {
    "scrolled": false
   },
   "outputs": [],
   "source": [
    "plt.figure(figsize = (20, 12))\n",
    "plt.plot(od_kx.groupby(\"주문날짜\")[\"품목수량\"].count(), marker = \"o\", c = \"r\", label = \"곤지암\")\n",
    "plt.plot(od_gp.groupby(\"주문날짜\")[\"품목수량\"].count(), marker = \"o\", c = \"b\", label = \"군포\")\n",
    "plt.title(\"F/C별 날짜에 따른 주문수\", fontsize = 20)\n",
    "plt.xticks(rotation = 45, fontsize = 15)\n",
    "plt.legend()\n",
    "plt.grid()\n",
    "plt.show()"
   ]
  },
  {
   "cell_type": "markdown",
   "metadata": {},
   "source": [
    "## 1 - 2) F/C별 고객사 총 품목수량 비율"
   ]
  },
  {
   "cell_type": "code",
   "execution_count": null,
   "metadata": {
    "scrolled": false
   },
   "outputs": [],
   "source": [
    "fig, ax = plt.subplots(1,2, figsize=(16,12))\n",
    "od_kx.groupby(\"고객사코드\")[\"품목수량\"].sum().plot.pie(colors=sns.color_palette('pastel'), \n",
    "                                                                  ax=ax[0], autopct='%.2f%%', textprops = {\"size\" : 12})\n",
    "od_gp.groupby(\"고객사코드\")[\"품목수량\"].sum().plot.pie(colors=sns.color_palette('pastel'), \n",
    "                                                                  ax=ax[1], autopct='%.2f%%', textprops = {\"size\" : 12})\n",
    "\n",
    "ax[0].set_title(\"곤지암FC 고객사별 총 품목수량\", fontsize = 15)\n",
    "ax[1].set_title(\"군포FC 고객사별 총 품목수량\", fontsize = 15)\n",
    "plt.tight_layout()\n",
    "plt.show()"
   ]
  },
  {
   "cell_type": "markdown",
   "metadata": {},
   "source": [
    "# 2.주문유형 탐색"
   ]
  },
  {
   "cell_type": "code",
   "execution_count": null,
   "metadata": {},
   "outputs": [],
   "source": [
    "od.groupby(\"주문유형\")[\"품목수량\"].describe()"
   ]
  },
  {
   "cell_type": "code",
   "execution_count": null,
   "metadata": {},
   "outputs": [],
   "source": [
    "figure, ax = plt.subplots(1, 2, figsize = (12, 6))\n",
    "ax[0].set_title(\"B2C출고\")\n",
    "ax[1].set_title(\"정상반출\")\n",
    "sns.boxplot(od[od.주문유형 == 7].품목수량.sort_values(ascending = False), ax = ax[0])\n",
    "sns.boxplot(od[od.주문유형 == 8].품목수량.sort_values(ascending = False), ax = ax[1])\n",
    "ax[0].set_xlim(0, 160000)\n",
    "plt.show()"
   ]
  },
  {
   "cell_type": "markdown",
   "metadata": {},
   "source": [
    "# 3. 곤지암 창고 B2C출고 품목수량 탐색"
   ]
  },
  {
   "cell_type": "code",
   "execution_count": null,
   "metadata": {},
   "outputs": [],
   "source": [
    "data = od_kx[od_kx.주문유형 == 7].groupby(['주문날짜'])['품목수량'].sum().reset_index()\n",
    "data = data.append(pd.DataFrame(dict(zip(['주문날짜','품목수량'],[(pd.to_datetime('2021-06-28'),pd.to_datetime('2021-06-28')), (0,0)]))))\n",
    "data = data.sort_values(['주문날짜'])\n",
    "data.set_index(\"주문날짜\", inplace = True)\n",
    "\n",
    "data_top10 = data.sort_values(\"품목수량\", ascending = False).head(10)\n",
    "data_min = data.sort_values(\"품목수량\", ascending = True).head(1)\n",
    "\n",
    "plt.figure(figsize=(20,8))\n",
    "plt.title(\"곤지암창고 주문날짜 별 총품목수량\", fontsize = 17)\n",
    "plt.plot(data.index, data.values, color='gray')\n",
    "plt.scatter(data_top10.index, data_top10.values, color='red', s=40)\n",
    "plt.scatter(data_min.index, data_min.values, color='red', s=40)\n",
    "plt.grid()\n",
    "plt.show()"
   ]
  },
  {
   "cell_type": "code",
   "execution_count": null,
   "metadata": {
    "scrolled": false
   },
   "outputs": [],
   "source": [
    "data = od_kx[od_kx.주문유형 == 7].groupby(['주문날짜','주문시간대'])['품목수량'].sum().reset_index()\n",
    "data = data.append(pd.DataFrame(dict(zip(['주문날짜','주문시간대','품목수량'],[(pd.to_datetime('2021-06-28'),pd.to_datetime('2021-06-28')), (4,5), (0,0)]))))\n",
    "data = data.sort_values(['주문날짜','주문시간대'])\n",
    "\n",
    "comb_date = []\n",
    "for date, hour, _ in data.values:\n",
    "    comb_date.append(pd.to_datetime(f'{date.year}-{date.month}-{date.day} {hour}:00:00'))\n",
    "data['일자&시간대'] = comb_date\n",
    "data = data.set_index('일자&시간대').drop(columns=[\"주문날짜\", \"주문시간대\"]).rename(columns={'품목수량':'TARGET'})\n",
    "data_top10 = data.sort_values('TARGET',ascending=False).head(10)\n",
    "\n",
    "plt.figure(figsize=(20,8))\n",
    "plt.title('곤지암 창고 시간대 별 총 품목수량', fontsize = 17)\n",
    "plt.plot(data.index, data.values, color='gray')\n",
    "plt.scatter(data_top10.index, data_top10.values, color='red', s=40)\n",
    "plt.grid()\n",
    "plt.show()"
   ]
  },
  {
   "cell_type": "markdown",
   "metadata": {},
   "source": [
    "# 이상치 탐색"
   ]
  },
  {
   "cell_type": "code",
   "execution_count": null,
   "metadata": {},
   "outputs": [],
   "source": [
    "dd = od_kx[od_kx.창고 == \"KX007\"].groupby(\"고객사코드\").품목수량.sum().sort_values(ascending = False)\n",
    "\n",
    "plt.figure(figsize = (12, 12))\n",
    "plt.title(\"고객사코드별 총 품목수량\", fontsize = 15)\n",
    "dd.plot.pie(autopct='%.2f%%', colors = sns.color_palette('pastel'))\n",
    "plt.show()"
   ]
  },
  {
   "cell_type": "code",
   "execution_count": null,
   "metadata": {},
   "outputs": [],
   "source": [
    "data_f = od_kx[od_kx.창고 == \"KX007\"][od_kx.주문유형 == 7]\n",
    "\n",
    "figure, ax = plt.subplots(figsize = (20, 8))\n",
    "data_f.groupby(\"주문날짜\").품목수량.sum().plot(ax = ax, label = \"total\", c = \"black\", lw = 3)\n",
    "data_f[od_kx.고객사코드 == 90001302].groupby(\"주문날짜\").품목수량.sum().plot(ax = ax, label = \"90001302\")\n",
    "data_f[od_kx.고객사코드 == 90001542].groupby(\"주문날짜\").품목수량.sum().plot(ax = ax, label = \"90001542\")\n",
    "data_f[od_kx.고객사코드 == 90001541].groupby(\"주문날짜\").품목수량.sum().plot(ax = ax, label = \"90001541\")\n",
    "plt.legend(fontsize = 20)\n",
    "plt.show()"
   ]
  },
  {
   "cell_type": "code",
   "execution_count": null,
   "metadata": {},
   "outputs": [],
   "source": [
    "figure, ax = plt.subplots(5, 2, figsize = (10, 25))\n",
    "date_idx = data_f.groupby(\"주문날짜\").품목수량.sum().sort_values(ascending = False)[:10].index\n",
    "for i, date in enumerate(date_idx):\n",
    "    ax[i%5, i//5].set_title(f\"{date.year}-{date.month}-{date.day} 고객사코드별 총 품목수량\")\n",
    "    data_f[data_f.주문날짜 == date].groupby(\"고객사코드\").품목수량.sum().plot.pie(autopct='%.2f%%', \n",
    "                                                                     colors = sns.color_palette('pastel'), ax = ax[i%5, i//5])\n",
    "plt.tight_layout()\n",
    "plt.show()"
   ]
  },
  {
   "cell_type": "code",
   "execution_count": null,
   "metadata": {},
   "outputs": [],
   "source": [
    "figure, ax = plt.subplots(5, 2, figsize = (10, 25))\n",
    "date_idx = data_f.groupby(\"주문날짜\").품목수량.sum().sort_values(ascending = False)[:10].index\n",
    "for i, date in enumerate(date_idx):\n",
    "    ax[i%5, i//5].set_title(f\"{date.year}-{date.month}-{date.day} 고객사코드별 총 품목수량\")\n",
    "    data_f[data_f.주문날짜 == date][data_f.고객사코드 != 90001302].groupby(\"고객사코드\").품목수량.sum().plot.pie(autopct='%.2f%%', \n",
    "                                                                     colors = sns.color_palette('pastel'), ax = ax[i%5, i//5])\n",
    "    ax[i%5, i//5].set_ylabel(\"\")\n",
    "plt.tight_layout()\n",
    "plt.show()"
   ]
  },
  {
   "cell_type": "code",
   "execution_count": null,
   "metadata": {
    "scrolled": false
   },
   "outputs": [],
   "source": [
    "cus_com_id = [90001302, 90001541, 90001542]\n",
    "for i in cus_com_id:\n",
    "    print(i)\n",
    "    print(data_f[data_f.고객사코드 == i].입력자ID.unique())\n",
    "    print(\"\\n\")"
   ]
  },
  {
   "cell_type": "markdown",
   "metadata": {},
   "source": [
    "## 90001302"
   ]
  },
  {
   "cell_type": "code",
   "execution_count": null,
   "metadata": {},
   "outputs": [],
   "source": [
    "r1 = [pd.to_datetime(f'2021-03-{i}') for i in range(22,29)]\n",
    "r2 = [pd.to_datetime(f'2021-06-{i}') for i in range(7,16)]\n",
    "r3 = [pd.to_datetime(f'2021-04-20'), pd.to_datetime(f'2021-05-17')]\n",
    "lg = r1 + r2 + r3\n",
    "dflg = data_f[data_f.고객사코드 == 90001302].groupby(\"주문날짜\")[\"품목수량\"].sum().reset_index().set_index(\"주문날짜\")\n",
    "dflg['lg'] = np.zeros((dflg.shape[0],1))\n",
    "for day in lg:\n",
    "    dflg.loc[day,'lg'] = \"행사O\"\n",
    "\n",
    "dflg.loc[dflg[\"lg\"] == 0,\"lg\"] = \"행사X\""
   ]
  },
  {
   "cell_type": "code",
   "execution_count": null,
   "metadata": {
    "scrolled": false
   },
   "outputs": [],
   "source": [
    "plt.figure(figsize = (20, 8))\n",
    "sns.barplot(data = dflg.reset_index(), x = \"주문날짜\",y = \"품목수량\", hue = \"lg\", dodge = False)\n",
    "plt.title(\"90001302\", fontsize = 15)\n",
    "plt.xticks(rotation = 90)\n",
    "plt.legend(fontsize = 15)\n",
    "plt.show()"
   ]
  },
  {
   "cell_type": "markdown",
   "metadata": {},
   "source": [
    "## 90001541"
   ]
  },
  {
   "cell_type": "code",
   "execution_count": null,
   "metadata": {},
   "outputs": [],
   "source": [
    "ne= [pd.to_datetime(\"2021-03-22\"), pd.to_datetime(\"2021-04-15\"), \n",
    "         pd.to_datetime(\"2021-05-17\"), pd.to_datetime(\"2021-06-17\")]\n",
    "dfne = data_f[data_f.고객사코드 == 90001541].groupby(\"주문날짜\")[\"품목수량\"].sum().reset_index().set_index(\"주문날짜\")\n",
    "dfne['ne'] = np.zeros((dfne.shape[0],1))\n",
    "for day in ne:\n",
    "    dfne.loc[day,'ne'] = \"행사O\"\n",
    "\n",
    "dfne.loc[dfne[\"ne\"] == 0,\"ne\"] = \"행사X\""
   ]
  },
  {
   "cell_type": "code",
   "execution_count": null,
   "metadata": {},
   "outputs": [],
   "source": [
    "plt.figure(figsize = (20, 8))\n",
    "sns.barplot(data = dfne.reset_index(), x = \"주문날짜\",y = \"품목수량\", hue = \"ne\", dodge = False)\n",
    "plt.title(\"90001541\", fontsize = 15)\n",
    "plt.xticks(rotation = 90)\n",
    "plt.legend(fontsize = 15)\n",
    "plt.show()"
   ]
  },
  {
   "cell_type": "markdown",
   "metadata": {},
   "source": [
    "## 90001542"
   ]
  },
  {
   "cell_type": "code",
   "execution_count": null,
   "metadata": {},
   "outputs": [],
   "source": [
    "nu = [pd.to_datetime(\"2021-04-25\"), pd.to_datetime(\"2021-04-30\"), \n",
    "         pd.to_datetime(\"2021-05-16\"), pd.to_datetime(\"2021-05-31\"), \n",
    "         pd.to_datetime(\"2021-06-13\"), pd.to_datetime(\"2021-06-27\")]\n",
    "dfnu = data_f[data_f.고객사코드 == 90001542].groupby(\"주문날짜\")[\"품목수량\"].sum().reset_index().set_index(\"주문날짜\")\n",
    "dfnu['nu'] = np.zeros((dfnu.shape[0],1))\n",
    "for day in nu:\n",
    "    dfnu.loc[day,'nu'] = \"행사O\"\n",
    "\n",
    "dfnu.loc[dfnu[\"nu\"] == 0,\"nu\"] = \"행사X\""
   ]
  },
  {
   "cell_type": "code",
   "execution_count": null,
   "metadata": {
    "scrolled": false
   },
   "outputs": [],
   "source": [
    "plt.figure(figsize = (20, 8))\n",
    "sns.barplot(data = dfnu.reset_index(), x = \"주문날짜\",y = \"품목수량\", hue = \"nu\", dodge = False)\n",
    "plt.title(\"90001542\", fontsize = 15)\n",
    "plt.xticks(rotation = 90)\n",
    "plt.legend(fontsize = 15)\n",
    "plt.show()"
   ]
  },
  {
   "cell_type": "markdown",
   "metadata": {},
   "source": [
    "## ANOVA Test"
   ]
  },
  {
   "cell_type": "code",
   "execution_count": null,
   "metadata": {},
   "outputs": [],
   "source": [
    "from statsmodels.formula.api import ols\n",
    "from statsmodels.stats.anova import anova_lm\n",
    "\n",
    "data = data_f.groupby([\"주문날짜\", \"주문시간대\"]\n",
    "                     ).품목수량.sum().reset_index()\n",
    "data = data.append(pd.DataFrame(dict(zip(['주문날짜','주문시간대','품목수량'],\n",
    "                                       [(pd.to_datetime('2021-06-28'),pd.to_datetime('2021-06-28')), \n",
    "                                        (4,5), (0,0)])))).sort_values(by = [\"주문날짜\", \"주문시간대\"]).reset_index(drop = True)\n",
    "data = data.set_index(\"주문날짜\").drop(\"주문시간대\", axis = 1).rename(columns = {\"품목수량\":\"TARGET\"})\n",
    "\n",
    "#\n",
    "# LG생건X네이버 레드위크\n",
    "r1 = [pd.to_datetime(f'2021-03-{i}') for i in range(22,29)]\n",
    "r2 = [pd.to_datetime(f'2021-06-{i}') for i in range(7,16)]\n",
    "r3 = [pd.to_datetime(f'2021-04-20'), pd.to_datetime(f'2021-05-17')]\n",
    "lg = r1 + r2 + r3\n",
    "data['lg'] = np.zeros((data.shape[0],1))\n",
    "for day in lg:\n",
    "    data.loc[day,'lg'] = 1\n",
    "\n",
    "# 네슬레 브랜드데이&구매왕 이벤트\n",
    "n = [pd.to_datetime(\"2021-03-22\"), pd.to_datetime(\"2021-04-15\"), \n",
    "         pd.to_datetime(\"2021-05-17\"), pd.to_datetime(\"2021-06-17\")]\n",
    "\n",
    "data['nestle'] = np.zeros((data.shape[0],1))\n",
    "for day in n:\n",
    "    data.loc[day,'nestle'] = 1\n",
    "\n",
    "\n",
    "\n",
    "# 뉴트리원 쇼핑라이브 경품 이벤트\n",
    "n = [pd.to_datetime(\"2021-04-25\"), pd.to_datetime(\"2021-04-30\"), \n",
    "         pd.to_datetime(\"2021-05-16\"), pd.to_datetime(\"2021-05-31\"), \n",
    "         pd.to_datetime(\"2021-06-13\"), pd.to_datetime(\"2021-06-27\")]\n",
    "\n",
    "data['nut_one'] = np.zeros((data.shape[0],1))\n",
    "for day in n:\n",
    "    data.loc[day,'nut_one'] = 1\n",
    "\n",
    "df = data\n",
    "model = ols('TARGET ~ nestle+nut_one+lg', df).fit()\n",
    "\n",
    "print(anova_lm(model))"
   ]
  },
  {
   "cell_type": "markdown",
   "metadata": {},
   "source": [
    "# Seasonal_Decompose"
   ]
  },
  {
   "cell_type": "code",
   "execution_count": null,
   "metadata": {},
   "outputs": [],
   "source": [
    "from statsmodels.tsa.seasonal import seasonal_decompose\n",
    "\n",
    "data = od_kx[od_kx.주문유형 == 7].groupby('주문날짜')['품목수량'].sum()\n",
    "\n",
    "decomposition = seasonal_decompose(data, model='additive')\n",
    "fig = decomposition.plot()\n",
    "fig.set_size_inches(10,10)\n",
    "plt.show()"
   ]
  }
 ],
 "metadata": {
  "kernelspec": {
   "display_name": "Python 3 (ipykernel)",
   "language": "python",
   "name": "python3"
  },
  "language_info": {
   "codemirror_mode": {
    "name": "ipython",
    "version": 3
   },
   "file_extension": ".py",
   "mimetype": "text/x-python",
   "name": "python",
   "nbconvert_exporter": "python",
   "pygments_lexer": "ipython3",
   "version": "3.9.7"
  }
 },
 "nbformat": 4,
 "nbformat_minor": 4
}
