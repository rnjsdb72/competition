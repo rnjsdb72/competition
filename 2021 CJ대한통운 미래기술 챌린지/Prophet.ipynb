{
 "cells": [
  {
   "cell_type": "code",
   "execution_count": null,
   "metadata": {
    "executionInfo": {
     "elapsed": 1339,
     "status": "ok",
     "timestamp": 1635064559282,
     "user": {
      "displayName": "권유진",
      "photoUrl": "https://lh3.googleusercontent.com/a/default-user=s64",
      "userId": "17694849594474805342"
     },
     "user_tz": -540
    },
    "id": "AcpFJLjDveX2"
   },
   "outputs": [],
   "source": [
    "import pandas as pd\n",
    "import numpy as np\n",
    "import matplotlib.pylab as plt\n",
    "%matplotlib inline\n",
    "plt.rc('font', family='malgun gothic')\n",
    "plt.rc('axes', unicode_minus=False)\n",
    "import seaborn as sns\n",
    "import plotly.express as px\n",
    "import os\n",
    "import missingno as msno\n",
    "import pickle\n",
    "from glob import glob\n",
    "from tqdm import tqdm\n",
    "import warnings\n",
    "warnings.filterwarnings(\"ignore\")\n",
    "import matplotlib\n",
    "import random\n",
    "\n",
    "\n",
    "from sklearn.metrics import mean_squared_error, mean_absolute_error\n",
    "from sklearn.preprocessing import RobustScaler\n",
    "\n",
    "from fbprophet import Prophet"
   ]
  },
  {
   "cell_type": "code",
   "execution_count": null,
   "metadata": {
    "executionInfo": {
     "elapsed": 35875,
     "status": "ok",
     "timestamp": 1635064595155,
     "user": {
      "displayName": "권유진",
      "photoUrl": "https://lh3.googleusercontent.com/a/default-user=s64",
      "userId": "17694849594474805342"
     },
     "user_tz": -540
    },
    "id": "DCoKWB81vlg_"
   },
   "outputs": [],
   "source": [
    "orders = pd.read_csv('orders.csv')\n",
    "deliveries = pd.read_csv('deliveries.csv')\n",
    "\n",
    "def beg_end_month(x):\n",
    "    if x<=10:\n",
    "        return '월초'\n",
    "    elif 10<x<=20:\n",
    "        return '월중'\n",
    "    elif 20<x<=31:\n",
    "        return '월말'\n",
    "orders.BKG_DATE = pd.to_datetime(orders.BKG_DATE, format='%Y-%m-%d')\n",
    "orders.INS_DATE = pd.to_datetime(orders.INS_DATE, format='%Y-%m-%d')\n",
    "orders[\"BKG_TIME\"] = pd.to_datetime(orders[\"BKG_TIME\"], format='%Y-%m-%d %H:%M:%S')\n",
    "orders['BKG_WEEK'] = orders.BKG_DATE.dt.week\n",
    "orders['BKG_MONTH2'] = orders.BKG_DATE.dt.day.map(beg_end_month)"
   ]
  },
  {
   "cell_type": "code",
   "execution_count": null,
   "metadata": {
    "executionInfo": {
     "elapsed": 2991,
     "status": "ok",
     "timestamp": 1635064598137,
     "user": {
      "displayName": "권유진",
      "photoUrl": "https://lh3.googleusercontent.com/a/default-user=s64",
      "userId": "17694849594474805342"
     },
     "user_tz": -540
    },
    "id": "KqVtpDDivp7n"
   },
   "outputs": [],
   "source": [
    "data = orders[orders.BKG_TYP==7][orders.CORP_ID=='KX007'].groupby(['BKG_DATE','BKG_HOUR'])['ITEM_QTY'].sum().reset_index()\n",
    "data = data.append(pd.DataFrame(dict(zip(['BKG_DATE','BKG_HOUR','ITEM_QTY'],[(pd.to_datetime('2021-06-28'),pd.to_datetime('2021-06-28')), (4,5), (0,0)]))))\n",
    "data = data.sort_values(['BKG_DATE','BKG_HOUR'])\n",
    "\n",
    "comb_date = []\n",
    "for date, hour, _ in data.values:\n",
    "    comb_date.append(pd.to_datetime(f'{date.year}-{date.month}-{date.day} {hour}:00:00'))\n",
    "data['DATE'] = comb_date\n",
    "data = data.set_index('DATE').drop(columns=['BKG_DATE', 'BKG_HOUR']).rename(columns={'ITEM_QTY':'TARGET'})"
   ]
  },
  {
   "cell_type": "markdown",
   "metadata": {
    "id": "aG_qSd7kv36C"
   },
   "source": [
    "## Prophet not holiday"
   ]
  },
  {
   "cell_type": "code",
   "execution_count": null,
   "metadata": {
    "colab": {
     "base_uri": "https://localhost:8080/"
    },
    "executionInfo": {
     "elapsed": 74513,
     "status": "ok",
     "timestamp": 1635064702023,
     "user": {
      "displayName": "권유진",
      "photoUrl": "https://lh3.googleusercontent.com/a/default-user=s64",
      "userId": "17694849594474805342"
     },
     "user_tz": -540
    },
    "id": "HAKpeDyuv2zV",
    "outputId": "a229275a-2d00-4551-ce8f-66aa8c887f2a"
   },
   "outputs": [],
   "source": [
    "np.random.seed(1234)\n",
    "random.seed(1234)\n",
    "\n",
    "\n",
    "pred_list = []\n",
    "for i in tqdm(range(30)):\n",
    "    split_date = pd.to_datetime('2021-05-31') + pd.Timedelta(days=i)\n",
    "    train_set = data.loc[data.index < split_date].copy()\n",
    "    test_set = data.loc[split_date:split_date+pd.Timedelta(days=2)].copy()\n",
    "    model = Prophet(yearly_seasonality=False)\n",
    "    model.fit(train_set.reset_index().rename(columns={'DATE':'ds', 'TARGET':'y'}),) # 데이터프레임에 무조건 ds, y컬럼 있어야 함\n",
    "    prediction = model.predict(test_set.reset_index().rename(columns={'DATE':'ds', 'TARGET':'y'}))\n",
    "    pred_list.append(prediction[-25:])"
   ]
  },
  {
   "cell_type": "code",
   "execution_count": null,
   "metadata": {
    "executionInfo": {
     "elapsed": 14,
     "status": "ok",
     "timestamp": 1635064702024,
     "user": {
      "displayName": "권유진",
      "photoUrl": "https://lh3.googleusercontent.com/a/default-user=s64",
      "userId": "17694849594474805342"
     },
     "user_tz": -540
    },
    "id": "-F_xxU0Yxh6z"
   },
   "outputs": [],
   "source": [
    "preds = pd.concat(pred_list).drop_duplicates('ds', keep='last')"
   ]
  },
  {
   "cell_type": "code",
   "execution_count": null,
   "metadata": {
    "colab": {
     "base_uri": "https://localhost:8080/",
     "height": 369
    },
    "executionInfo": {
     "elapsed": 665,
     "status": "ok",
     "timestamp": 1635064702684,
     "user": {
      "displayName": "권유진",
      "photoUrl": "https://lh3.googleusercontent.com/a/default-user=s64",
      "userId": "17694849594474805342"
     },
     "user_tz": -540
    },
    "id": "Ovh5Fbwwv6RQ",
    "outputId": "1e850451-d120-44b9-ea4c-398ccf9e2b64"
   },
   "outputs": [],
   "source": [
    "f, ax = plt.subplots(figsize=(15,5))\n",
    "model.plot(preds, ax=ax)\n",
    "plt.show()"
   ]
  },
  {
   "cell_type": "code",
   "execution_count": null,
   "metadata": {
    "colab": {
     "base_uri": "https://localhost:8080/",
     "height": 285
    },
    "executionInfo": {
     "elapsed": 731,
     "status": "ok",
     "timestamp": 1635064703412,
     "user": {
      "displayName": "권유진",
      "photoUrl": "https://lh3.googleusercontent.com/a/default-user=s64",
      "userId": "17694849594474805342"
     },
     "user_tz": -540
    },
    "id": "cRwq81mmyZ6_",
    "outputId": "b0c5bf7d-25be-4d2a-89ed-9a6fe86b95de"
   },
   "outputs": [],
   "source": [
    "fig, ax = plt.subplots(figsize=(10,4))\n",
    "ax.plot(data.iloc[-720:].index, preds['yhat'], label='preds', color='k')\n",
    "data.iloc[-720:].plot(ax=ax, label='real', color='pink')\n",
    "plt.legend()\n",
    "plt.show()"
   ]
  },
  {
   "cell_type": "code",
   "execution_count": null,
   "metadata": {
    "colab": {
     "base_uri": "https://localhost:8080/",
     "height": 595
    },
    "executionInfo": {
     "elapsed": 17,
     "status": "ok",
     "timestamp": 1635064703413,
     "user": {
      "displayName": "권유진",
      "photoUrl": "https://lh3.googleusercontent.com/a/default-user=s64",
      "userId": "17694849594474805342"
     },
     "user_tz": -540
    },
    "id": "aMU6kGWcbWpW",
    "outputId": "cfaf3d62-fc54-4688-f19e-51ce0bf491e5"
   },
   "outputs": [],
   "source": [
    "fig, ax = plt.subplots(2,1, figsize=(10,10))\n",
    "ax[0].plot(data.iloc[-720:-360].index, preds['yhat'].iloc[:360], label='preds', color='k')\n",
    "data.iloc[-720:-360].plot(ax=ax[0], label='real', color='pink')\n",
    "ax[0].set_title('Validation Set')\n",
    "ax[0].legend()\n",
    "ax[1].plot(data.iloc[-360:].index, preds['yhat'].iloc[360:], label='preds', color='k')\n",
    "data.iloc[-360:].plot(ax=ax[1], label='real', color='pink')\n",
    "ax[1].set_title('Validation Set')\n",
    "ax[1].legend()\n",
    "plt.show()"
   ]
  },
  {
   "cell_type": "code",
   "execution_count": null,
   "metadata": {
    "colab": {
     "base_uri": "https://localhost:8080/"
    },
    "executionInfo": {
     "elapsed": 16,
     "status": "ok",
     "timestamp": 1635064703414,
     "user": {
      "displayName": "권유진",
      "photoUrl": "https://lh3.googleusercontent.com/a/default-user=s64",
      "userId": "17694849594474805342"
     },
     "user_tz": -540
    },
    "id": "cyD9xWlov_1R",
    "outputId": "69b95ad2-0e40-4180-b797-1a60d5d2c7de"
   },
   "outputs": [],
   "source": [
    "mean_squared_error(preds['yhat'].values, data.iloc[-720:].values, squared=False)"
   ]
  },
  {
   "cell_type": "code",
   "execution_count": null,
   "metadata": {
    "colab": {
     "base_uri": "https://localhost:8080/"
    },
    "executionInfo": {
     "elapsed": 15,
     "status": "ok",
     "timestamp": 1635064703415,
     "user": {
      "displayName": "권유진",
      "photoUrl": "https://lh3.googleusercontent.com/a/default-user=s64",
      "userId": "17694849594474805342"
     },
     "user_tz": -540
    },
    "id": "Agp7TVQUa2qe",
    "outputId": "4ba6db46-a1ef-4932-a6e8-960ddc980432"
   },
   "outputs": [],
   "source": [
    "mean_squared_error(preds['yhat'].iloc[-15*24:].values, data.iloc[-15*24:].values, squared=False)"
   ]
  },
  {
   "cell_type": "markdown",
   "metadata": {
    "id": "-30HFls11Mnl"
   },
   "source": [
    "## Prophet with holiday"
   ]
  },
  {
   "cell_type": "code",
   "execution_count": null,
   "metadata": {
    "colab": {
     "base_uri": "https://localhost:8080/",
     "height": 204
    },
    "executionInfo": {
     "elapsed": 13,
     "status": "ok",
     "timestamp": 1635064703415,
     "user": {
      "displayName": "권유진",
      "photoUrl": "https://lh3.googleusercontent.com/a/default-user=s64",
      "userId": "17694849594474805342"
     },
     "user_tz": -540
    },
    "id": "qbD0__n21PX9",
    "outputId": "61c341f3-250e-445c-f737-97ab85b058f9"
   },
   "outputs": [],
   "source": [
    "nestle = ['2021-03-22', '2021-04-15', '2021-05-17', '2021-06-17']\n",
    "nut_one = ['2021-04-25', '2021-04-30','2021-05-16','2021-05-31',\n",
    "           '2021-06-13', '2021-06-27']\n",
    "\n",
    "lg3 = [f'2021-03-{i}' for i in range(22,29)]\n",
    "lg6 = [f'2021-06-{i}' for i in range(7,16)]\n",
    "lg_brand = ['2021-04-20','2021-05-17']\n",
    "lg = lg3 + lg_brand + lg6\n",
    "\n",
    "events = nestle + nut_one + lg\n",
    "\n",
    "holiday_df = data.loc[events].reset_index().rename(columns={'DATE':'ds'}).drop(columns=['TARGET'])\n",
    "holiday_df['holiday'] = 'eventday'\n",
    "holiday_df.head()"
   ]
  },
  {
   "cell_type": "code",
   "execution_count": null,
   "metadata": {
    "colab": {
     "base_uri": "https://localhost:8080/"
    },
    "executionInfo": {
     "elapsed": 74607,
     "status": "ok",
     "timestamp": 1635064778010,
     "user": {
      "displayName": "권유진",
      "photoUrl": "https://lh3.googleusercontent.com/a/default-user=s64",
      "userId": "17694849594474805342"
     },
     "user_tz": -540
    },
    "id": "muHwnKD615o2",
    "outputId": "5f1bfc84-2fb0-46ec-c227-54d6b39fb734"
   },
   "outputs": [],
   "source": [
    "np.random.seed(1234)\n",
    "random.seed(1234)\n",
    "\n",
    "pred_list = []\n",
    "for i in tqdm(range(30)):\n",
    "    split_date = pd.to_datetime('2021-05-31') + pd.Timedelta(days=i)\n",
    "    train_set = data.loc[data.index < split_date].copy()\n",
    "    test_set = data.loc[split_date:split_date+pd.Timedelta(days=2)].copy()\n",
    "    model = Prophet(yearly_seasonality=False, holidays=holiday_df)\n",
    "    model.fit(train_set.reset_index().rename(columns={'DATE':'ds', 'TARGET':'y'}),) # 데이터프레임에 무조건 ds, y컬럼 있어야 함\n",
    "    prediction = model.predict(test_set.reset_index().rename(columns={'DATE':'ds', 'TARGET':'y'}))\n",
    "    pred_list.append(prediction[-25:])"
   ]
  },
  {
   "cell_type": "code",
   "execution_count": null,
   "metadata": {
    "executionInfo": {
     "elapsed": 13,
     "status": "ok",
     "timestamp": 1635064778010,
     "user": {
      "displayName": "권유진",
      "photoUrl": "https://lh3.googleusercontent.com/a/default-user=s64",
      "userId": "17694849594474805342"
     },
     "user_tz": -540
    },
    "id": "PgtZjPo43EeO"
   },
   "outputs": [],
   "source": [
    "preds = pd.concat(pred_list).drop_duplicates('ds', keep='last')"
   ]
  },
  {
   "cell_type": "code",
   "execution_count": null,
   "metadata": {
    "colab": {
     "base_uri": "https://localhost:8080/",
     "height": 300
    },
    "executionInfo": {
     "elapsed": 534,
     "status": "ok",
     "timestamp": 1635064778532,
     "user": {
      "displayName": "권유진",
      "photoUrl": "https://lh3.googleusercontent.com/a/default-user=s64",
      "userId": "17694849594474805342"
     },
     "user_tz": -540
    },
    "id": "-V2rUo4v3HUM",
    "outputId": "c4c3fa78-be60-4ced-bbf7-3199130d7259"
   },
   "outputs": [],
   "source": [
    "fig, ax = plt.subplots(figsize=(10,4))\n",
    "ax.plot(data.iloc[-720:].index, preds['yhat'], label='preds', color='k')\n",
    "data.iloc[-720:].plot(ax=ax, label='real', color='pink')\n",
    "ax.set_title('Prophet with Holidays')\n",
    "plt.legend()\n",
    "plt.show()"
   ]
  },
  {
   "cell_type": "code",
   "execution_count": null,
   "metadata": {
    "colab": {
     "base_uri": "https://localhost:8080/",
     "height": 595
    },
    "executionInfo": {
     "elapsed": 656,
     "status": "ok",
     "timestamp": 1635064779184,
     "user": {
      "displayName": "권유진",
      "photoUrl": "https://lh3.googleusercontent.com/a/default-user=s64",
      "userId": "17694849594474805342"
     },
     "user_tz": -540
    },
    "id": "QHmrkj3CcNG2",
    "outputId": "976647d5-ab40-4bbe-c8e8-ce8e4dabcf46"
   },
   "outputs": [],
   "source": [
    "fig, ax = plt.subplots(2,1, figsize=(10,10))\n",
    "ax[0].plot(data.iloc[-720:-360].index, preds['yhat'].iloc[:360], label='preds', color='k')\n",
    "data.iloc[-720:-360].plot(ax=ax[0], label='real', color='pink')\n",
    "ax[0].set_title('Validation Set')\n",
    "ax[0].legend()\n",
    "ax[1].plot(data.iloc[-360:].index, preds['yhat'].iloc[360:], label='preds', color='k')\n",
    "data.iloc[-360:].plot(ax=ax[1], label='real', color='pink')\n",
    "ax[1].set_title('Validation Set')\n",
    "ax[1].legend()\n",
    "plt.show()"
   ]
  },
  {
   "cell_type": "code",
   "execution_count": null,
   "metadata": {
    "colab": {
     "base_uri": "https://localhost:8080/"
    },
    "executionInfo": {
     "elapsed": 8,
     "status": "ok",
     "timestamp": 1635064779185,
     "user": {
      "displayName": "권유진",
      "photoUrl": "https://lh3.googleusercontent.com/a/default-user=s64",
      "userId": "17694849594474805342"
     },
     "user_tz": -540
    },
    "id": "cWGAUQk-3PgF",
    "outputId": "abc27a73-05a6-47d0-abc6-b9bef2372888"
   },
   "outputs": [],
   "source": [
    "mean_squared_error(preds['yhat'].values, data.iloc[-720:].values, squared=False)"
   ]
  },
  {
   "cell_type": "code",
   "execution_count": null,
   "metadata": {
    "colab": {
     "base_uri": "https://localhost:8080/"
    },
    "executionInfo": {
     "elapsed": 7,
     "status": "ok",
     "timestamp": 1635064779186,
     "user": {
      "displayName": "권유진",
      "photoUrl": "https://lh3.googleusercontent.com/a/default-user=s64",
      "userId": "17694849594474805342"
     },
     "user_tz": -540
    },
    "id": "IhWgpT0DaFNu",
    "outputId": "465e7091-f446-4aaa-dedc-dcd8054b4867"
   },
   "outputs": [],
   "source": [
    "mean_squared_error(preds['yhat'].iloc[-15*24:].values, data.iloc[-15*24:].values, squared=False)"
   ]
  },
  {
   "cell_type": "code",
   "execution_count": null,
   "metadata": {
    "colab": {
     "base_uri": "https://localhost:8080/",
     "height": 890
    },
    "executionInfo": {
     "elapsed": 1304,
     "status": "ok",
     "timestamp": 1635064780485,
     "user": {
      "displayName": "권유진",
      "photoUrl": "https://lh3.googleusercontent.com/a/default-user=s64",
      "userId": "17694849594474805342"
     },
     "user_tz": -540
    },
    "id": "pZayzdZPJinQ",
    "outputId": "aa428fe0-bda8-4705-c969-e9aeda45c28f"
   },
   "outputs": [],
   "source": [
    "model.plot_components(preds)\n",
    "plt.plot()"
   ]
  },
  {
   "cell_type": "code",
   "execution_count": null,
   "metadata": {
    "executionInfo": {
     "elapsed": 229,
     "status": "ok",
     "timestamp": 1635064879096,
     "user": {
      "displayName": "권유진",
      "photoUrl": "https://lh3.googleusercontent.com/a/default-user=s64",
      "userId": "17694849594474805342"
     },
     "user_tz": -540
    },
    "id": "b0MwqojGdRCb"
   },
   "outputs": [],
   "source": [
    "preds[['ds','yhat']].to_csv('restults_prophet_hol.csv', index=False)"
   ]
  }
 ],
 "metadata": {
  "colab": {
   "authorship_tag": "ABX9TyOyrGv1bhERUmhj9rhF/QWQ",
   "machine_shape": "hm",
   "mount_file_id": "1SXmSe7_y07dRWIY0NG6QrQNRS9VRXBJD",
   "name": "Prophet.ipynb",
   "provenance": []
  },
  "kernelspec": {
   "display_name": "Python 3 (ipykernel)",
   "language": "python",
   "name": "python3"
  },
  "language_info": {
   "codemirror_mode": {
    "name": "ipython",
    "version": 3
   },
   "file_extension": ".py",
   "mimetype": "text/x-python",
   "name": "python",
   "nbconvert_exporter": "python",
   "pygments_lexer": "ipython3",
   "version": "3.9.7"
  }
 },
 "nbformat": 4,
 "nbformat_minor": 1
}
