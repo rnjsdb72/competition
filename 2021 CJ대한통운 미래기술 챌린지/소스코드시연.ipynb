{
 "cells": [
  {
   "cell_type": "code",
   "execution_count": 11,
   "id": "47d1db7a",
   "metadata": {},
   "outputs": [],
   "source": [
    "import numpy as np\n",
    "\n",
    "import keras"
   ]
  },
  {
   "cell_type": "code",
   "execution_count": 6,
   "id": "0b68a463",
   "metadata": {},
   "outputs": [],
   "source": [
    "def cal_labor(x):\n",
    "    a= x[:8]\n",
    "    b = x[8:17]    \n",
    "    c = x[17:25]\n",
    "    labor_a = (a.sum())/800 + (a.sum())/800 + (a.sum())/1600\n",
    "    labor_b = (b.sum())/800 + (b.sum())/800 + (b.sum())/1600\n",
    "    labor_c = (c.sum())/800 + (c.sum())/800 + (c.sum())/1600\n",
    "    return labor_a, labor_b, labor_c"
   ]
  },
  {
   "cell_type": "code",
   "execution_count": null,
   "id": "b97925f9",
   "metadata": {},
   "outputs": [],
   "source": [
    "if __name__=='__main__':\n",
    "    data = np.load('test_data.npy')\n",
    "    gru = keras.models.load_model('gru_6496.keras')\n",
    "    lstm = keras.models.load_model('lstm_9696.keras')\n",
    "    \n",
    "    gru_results = gru.predict(data)\n",
    "    lstm_results = lstm.predict(data)\n",
    "    ensemble_results = (gru_results + lstm_results)/2\n",
    "    \n",
    "    a, b, c = cal_labor(ensemble_results)\n",
    "    print('금일 필요한 인력은 오전조 {a}명, 오후조 {b}명, 야간조 {c}명입니다.'.format(a=int(np.round(a)),b=int(np.round(b)),c=int(np.round(c))))"
   ]
  }
 ],
 "metadata": {
  "kernelspec": {
   "display_name": "Python 3 (ipykernel)",
   "language": "python",
   "name": "python3"
  },
  "language_info": {
   "codemirror_mode": {
    "name": "ipython",
    "version": 3
   },
   "file_extension": ".py",
   "mimetype": "text/x-python",
   "name": "python",
   "nbconvert_exporter": "python",
   "pygments_lexer": "ipython3",
   "version": "3.7.11"
  }
 },
 "nbformat": 4,
 "nbformat_minor": 5
}
