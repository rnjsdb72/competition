{
 "cells": [
  {
   "cell_type": "code",
   "execution_count": 1,
   "id": "6bc53cd8",
   "metadata": {},
   "outputs": [],
   "source": [
    "import pandas as pd\n",
    "import numpy as np\n",
    "import matplotlib.pylab as plt\n",
    "%matplotlib inline\n",
    "plt.rc('font', family='malgun gothic')\n",
    "plt.rc('axes', unicode_minus=False)\n",
    "import seaborn as sns\n",
    "import os\n",
    "import missingno as msno\n",
    "import pickle\n",
    "from glob import glob\n",
    "from tqdm import tqdm\n",
    "import warnings\n",
    "warnings.filterwarnings(\"ignore\")"
   ]
  },
  {
   "cell_type": "markdown",
   "id": "868352a9",
   "metadata": {},
   "source": [
    "## Import Data"
   ]
  },
  {
   "cell_type": "code",
   "execution_count": 2,
   "id": "d62644c9",
   "metadata": {},
   "outputs": [],
   "source": [
    "order_files = glob(f'{os.path.abspath(\"1. 이커머스 FC주문 데이터\")}/1-*')\n",
    "delivery_files = glob(f'{os.path.abspath(\"2. 택배 배송 데이터\")}/2-*.xlsx')"
   ]
  },
  {
   "cell_type": "code",
   "execution_count": 3,
   "id": "20264ac9",
   "metadata": {},
   "outputs": [
    {
     "name": "stderr",
     "output_type": "stream",
     "text": [
      "100%|███████████████████████████████████████████████████████████████████████████████████| 4/4 [33:02<00:00, 495.63s/it]\n"
     ]
    }
   ],
   "source": [
    "order_raw = []\n",
    "for file in tqdm(order_files):\n",
    "    try:\n",
    "        order = pd.read_excel(file, sheet_name=0)\n",
    "        order_raw.append(order)\n",
    "    except:\n",
    "        order = pd.read_csv(file)\n",
    "        order_raw.append(order)\n",
    "orders = pd.concat(order_raw)"
   ]
  },
  {
   "cell_type": "code",
   "execution_count": 4,
   "id": "10e65503",
   "metadata": {},
   "outputs": [
    {
     "name": "stderr",
     "output_type": "stream",
     "text": [
      "100%|██████████████████████████████████████████████████████████████████████████████████| 14/14 [18:22<00:00, 78.77s/it]\n"
     ]
    }
   ],
   "source": [
    "delivery_raw = []\n",
    "for file in tqdm(delivery_files):\n",
    "    delivery = pd.read_excel(file, index_col=0)\n",
    "    delivery_raw.append(delivery)\n",
    "deliveries = pd.concat(delivery_raw)"
   ]
  },
  {
   "cell_type": "code",
   "execution_count": 5,
   "id": "3cd3cbd0",
   "metadata": {},
   "outputs": [],
   "source": [
    "orders.to_csv('orders.csv', index=False)\n",
    "deliveries.to_csv('deliveries.csv', index=False)"
   ]
  },
  {
   "cell_type": "markdown",
   "id": "a6aca340",
   "metadata": {},
   "source": [
    "## Preprocessing"
   ]
  },
  {
   "cell_type": "code",
   "execution_count": 29,
   "id": "04afc369",
   "metadata": {},
   "outputs": [],
   "source": [
    "orders.BKG_DATE = pd.to_datetime(orders.BKG_DATE, format='%Y%m%d')\n",
    "orders.INS_DATE = pd.to_datetime(orders.INS_DATE, format='%Y%m%d')\n",
    "orders[\"BKG_TIME\"] = pd.to_datetime(orders[\"BKG_TIME\"].apply(lambda x : str(x).zfill(6)), format='%H%M%S')"
   ]
  },
  {
   "cell_type": "code",
   "execution_count": 30,
   "id": "d30169f5",
   "metadata": {},
   "outputs": [],
   "source": [
    "# 주문 날짜 분류\n",
    "orders['BKG_MONTH'] = orders.BKG_DATE.dt.month\n",
    "orders['BKG_DAY'] = orders.BKG_DATE.dt.day\n",
    "orders['BKG_DAYNAME'] = orders.BKG_DATE.dt.day_name()\n",
    "\n",
    "orders['BKG_HOUR'] = orders['BKG_TIME'].dt.hour"
   ]
  },
  {
   "cell_type": "code",
   "execution_count": 304,
   "id": "98c8112f",
   "metadata": {},
   "outputs": [],
   "source": [
    "orders['BKG_HOUR'] = orders['BKG_TIME'].dt.hour"
   ]
  },
  {
   "cell_type": "code",
   "execution_count": 31,
   "id": "cb472c92",
   "metadata": {},
   "outputs": [],
   "source": [
    "# 송화인 주소 전처리\n",
    "orders.loc[orders.SHPR_ADDR_1=='서울시','SHPR_ADDR_1'] = '서울특별시'\n",
    "orders.loc[orders.SHPR_ADDR_1=='경기','SHPR_ADDR_1'] = '경기도'"
   ]
  },
  {
   "cell_type": "code",
   "execution_count": 32,
   "id": "c19cb09d",
   "metadata": {},
   "outputs": [],
   "source": [
    "# 수화인 주소 전처리\n",
    "orders.loc[orders.CNEE_ADDR_1=='전남목포시',['CNEE_ADDR_1','CNEE_ADDR_2']] = ['전라남도','목포시']\n",
    "orders.loc[orders.CNEE_ADDR_1=='경기도수원시',['CNEE_ADDR_1','CNEE_ADDR_2']] = ['경기도','수원시']\n",
    "orders.loc[orders.CNEE_ADDR_1=='경기도시흥시',['CNEE_ADDR_1','CNEE_ADDR_2']] = ['경기도','시흥시']\n",
    "orders.loc[orders.CNEE_ADDR_1=='충남금산군',['CNEE_ADDR_1','CNEE_ADDR_2']] = ['충청남도','금산군']\n",
    "orders.loc[orders.CNEE_ADDR_1=='인천광역시미추홀구',['CNEE_ADDR_1','CNEE_ADDR_2']] = ['인천광역시','미추홀구']\n",
    "orders.loc[orders.CNEE_ADDR_1=='청주시',['CNEE_ADDR_1','CNEE_ADDR_2']] = ['충청북도','청주시']\n",
    "orders.loc[orders.CNEE_ADDR_1=='경기도수원시',['CNEE_ADDR_1','CNEE_ADDR_2']] = ['경기도','수원시']\n",
    "orders.loc[orders.CNEE_ADDR_1=='경기도시흥시',['CNEE_ADDR_1','CNEE_ADDR_2']] = ['경기도','시흥시']\n",
    "orders.loc[orders.CNEE_ADDR_1=='충남금산군',['CNEE_ADDR_1','CNEE_ADDR_2']] = ['충청남도','금산군']\n",
    "orders.loc[orders.CNEE_ADDR_1=='인천광역시미추홀구',['CNEE_ADDR_1','CNEE_ADDR_2']] = ['인천광역시','미추홀구']\n",
    "orders.loc[orders.CNEE_ADDR_1=='영천시',['CNEE_ADDR_1','CNEE_ADDR_2']] = ['경상북도','영천시']\n",
    "orders.loc[orders.CNEE_ADDR_1=='청주시',['CNEE_ADDR_1','CNEE_ADDR_2']] = ['충청북도','청주시']\n",
    "orders.loc[orders.CNEE_ADDR_1=='태종로711번길',['CNEE_ADDR_1','CNEE_ADDR_2']] = ['경상북도','경주시']\n",
    "orders.loc[orders.CNEE_ADDR_1=='道路名稱首爾特別市中區麻將路1街22號（STUDIO',['CNEE_ADDR_1','CNEE_ADDR_2']] = ['서울특별시','중구']\n",
    "orders.loc[orders.CNEE_ADDR_1=='강서구',['CNEE_ADDR_1','CNEE_ADDR_2']] = ['서울특별시', '강서구']\n",
    "orders.loc[orders.CNEE_ADDR_1=='마포구',['CNEE_ADDR_1','CNEE_ADDR_2']] = ['서울특별시','마포구']\n",
    "orders.loc[orders.CNEE_ADDR_1=='영등포구',['CNEE_ADDR_1','CNEE_ADDR_2']] = ['서울특별시','영등포구']\n",
    "\n",
    "orders.loc[orders.CNEE_ADDR_1=='울특별시','CNEE_ADDR_1'] = '서울특별시'\n",
    "orders.loc[orders.CNEE_ADDR_1=='강원','CNEE_ADDR_1'] = '강원도'\n",
    "orders.loc[orders.CNEE_ADDR_1=='서울','CNEE_ADDR_1'] = '서울특별시'\n",
    "orders.loc[orders.CNEE_ADDR_1=='경북','CNEE_ADDR_1'] = '경상북도'\n",
    "orders.loc[orders.CNEE_ADDR_1=='대전','CNEE_ADDR_1'] = '대전광역시'\n",
    "orders.loc[orders.CNEE_ADDR_1=='광주','CNEE_ADDR_1'] = '광주광역시'\n",
    "orders.loc[orders.CNEE_ADDR_1=='전북','CNEE_ADDR_1'] = '전라북도'\n",
    "orders.loc[orders.CNEE_ADDR_1=='경남','CNEE_ADDR_1'] = '경상남도'\n",
    "orders.loc[orders.CNEE_ADDR_1=='대구','CNEE_ADDR_1'] = '대구광역시'\n",
    "orders.loc[orders.CNEE_ADDR_1=='세종','CNEE_ADDR_1'] = '세종특별자치시'\n",
    "orders.loc[orders.CNEE_ADDR_1=='\\u200b서울시','CNEE_ADDR_1'] = '서울특별시'\n",
    "orders.loc[orders.CNEE_ADDR_1=='대구시','CNEE_ADDR_1'] = '대구광역시'\n",
    "orders.loc[orders.CNEE_ADDR_1=='\\t경기도','CNEE_ADDR_1'] = '경기도'\n",
    "orders.loc[orders.CNEE_ADDR_1=='경기','CNEE_ADDR_1'] = '경기도'\n",
    "orders.loc[orders.CNEE_ADDR_1=='인천','CNEE_ADDR_1'] = '인천광역시'\n",
    "orders.loc[orders.CNEE_ADDR_1=='전남','CNEE_ADDR_1'] = '전라남도'\n",
    "orders.loc[orders.CNEE_ADDR_1=='부산','CNEE_ADDR_1'] = '부산광역시'\n",
    "orders.loc[orders.CNEE_ADDR_1=='충남','CNEE_ADDR_1'] = '충청남도'\n",
    "orders.loc[orders.CNEE_ADDR_1=='충북','CNEE_ADDR_1'] = '충청북도'\n",
    "orders.loc[orders.CNEE_ADDR_1=='울산','CNEE_ADDR_1'] = '울산광역시'\n",
    "orders.loc[orders.CNEE_ADDR_1=='부산시','CNEE_ADDR_1'] = '부산광역시'\n",
    "orders.loc[orders.CNEE_ADDR_1=='인천시','CNEE_ADDR_1'] = '인천광역시'\n",
    "orders.loc[orders.CNEE_ADDR_1=='서울시','CNEE_ADDR_1'] = '서울특별시'\n",
    "orders.loc[orders.CNEE_ADDR_1=='제주','CNEE_ADDR_1'] = '제주특별자치도'\n",
    "orders.loc[orders.CNEE_ADDR_1=='세종시','CNEE_ADDR_1'] = '세종특별자치시'\n",
    "orders.loc[orders.CNEE_ADDR_1=='화성시','CNEE_ADDR_1'] = '경기도'\n",
    "orders.loc[orders.CNEE_ADDR_1=='전남','CNEE_ADDR_1'] = '전라남도'\n",
    "orders.loc[orders.CNEE_ADDR_1=='울특별시','CNEE_ADDR_1'] = '서울특별시'\n",
    "orders.loc[orders.CNEE_ADDR_1=='강원','CNEE_ADDR_1'] = '강원도'\n",
    "orders.loc[orders.CNEE_ADDR_1=='서울','CNEE_ADDR_1'] = '서울특별시'\n",
    "orders.loc[orders.CNEE_ADDR_1=='경북','CNEE_ADDR_1'] = '경상북도'\n",
    "orders.loc[orders.CNEE_ADDR_1=='대전','CNEE_ADDR_1'] = '대전광역시'\n",
    "orders.loc[orders.CNEE_ADDR_1=='광주','CNEE_ADDR_1'] = '광주광역시'\n",
    "orders.loc[orders.CNEE_ADDR_1=='전북','CNEE_ADDR_1'] = '전라북도'\n",
    "orders.loc[orders.CNEE_ADDR_1=='경남','CNEE_ADDR_1'] = '경상남도'\n",
    "orders.loc[orders.CNEE_ADDR_1=='대구','CNEE_ADDR_1'] = '대구광역시'\n",
    "orders.loc[orders.CNEE_ADDR_1=='세종','CNEE_ADDR_1'] = '세종특별자치시'\n",
    "orders.loc[orders.CNEE_ADDR_1=='\\u200b서울시','CNEE_ADDR_1'] = '서울특별시'\n",
    "orders.loc[orders.CNEE_ADDR_1=='대구시','CNEE_ADDR_1'] = '대구광역시'\n",
    "orders.loc[orders.CNEE_ADDR_1=='\\t경기도','CNEE_ADDR_1'] = '경기도'\n",
    "orders.loc[orders.CNEE_ADDR_1=='경기','CNEE_ADDR_1'] = '경기도'\n",
    "orders.loc[orders.CNEE_ADDR_1=='인천','CNEE_ADDR_1'] = '인천광역시'\n",
    "orders.loc[orders.CNEE_ADDR_1=='전남','CNEE_ADDR_1'] = '전라남도'\n",
    "orders.loc[orders.CNEE_ADDR_1=='부산','CNEE_ADDR_1'] = '부산광역시'\n",
    "orders.loc[orders.CNEE_ADDR_1=='충남','CNEE_ADDR_1'] = '충청남도'\n",
    "orders.loc[orders.CNEE_ADDR_1=='충북','CNEE_ADDR_1'] = '충청북도'\n",
    "orders.loc[orders.CNEE_ADDR_1=='울산','CNEE_ADDR_1'] = '울산광역시'\n",
    "orders.loc[orders.CNEE_ADDR_1=='부산시','CNEE_ADDR_1'] = '부산광역시'\n",
    "orders.loc[orders.CNEE_ADDR_1=='인천시','CNEE_ADDR_1'] = '인천광역시'\n",
    "orders.loc[orders.CNEE_ADDR_1=='서울시','CNEE_ADDR_1'] = '서울특별시'\n",
    "orders.loc[orders.CNEE_ADDR_1=='제주','CNEE_ADDR_1'] = '제주특별자치도'\n",
    "orders.loc[orders.CNEE_ADDR_1=='세종시','CNEE_ADDR_1'] = '세종특별자치시'\n",
    "orders.loc[orders.CNEE_ADDR_1=='화성시','CNEE_ADDR_1'] = '경기도'\n",
    "orders.loc[orders.CNEE_ADDR_1=='전남','CNEE_ADDR_1'] = '전라남도'\n",
    "orders.loc[orders.CNEE_ADDR_1=='경삼남도','CNEE_ADDR_1'] = '경상남도'\n",
    "orders.loc[orders.CNEE_ADDR_1=='종시','CNEE_ADDR_1'] = '세종특별자치시'\n",
    "orders.loc[orders.CNEE_ADDR_1=='청남도','CNEE_ADDR_1'] = '충청남도'\n",
    "\n",
    "orders.loc[orders.CNEE_ADDR_1=='[16817]',['CNEE_ADDR_1','CNEE_ADDR_2']] = ['경기도', '용인시']\n",
    "orders.loc[orders.CNEE_ADDR_1=='(14782)',['CNEE_ADDR_1','CNEE_ADDR_2']] = ['경기도', '부천시']\n",
    "orders.loc[orders.CNEE_ADDR_1=='(30100)',['CNEE_ADDR_1','CNEE_ADDR_2']] = ['세종특별자치시', '세종로']\n",
    "orders.loc[orders.CNEE_ADDR_1=='(22738)',['CNEE_ADDR_1','CNEE_ADDR_2']] = ['인천광역시', '서구']\n",
    "orders.loc[orders.CNEE_ADDR_1=='(53298)',['CNEE_ADDR_1','CNEE_ADDR_2']] = ['경상남도', '거제시']\n",
    "orders.loc[orders.CNEE_ADDR_1=='(13279)',['CNEE_ADDR_1','CNEE_ADDR_2']] = ['경기도', '성남시']\n",
    "orders.loc[orders.CNEE_ADDR_1=='(13499)',['CNEE_ADDR_1','CNEE_ADDR_2']] = ['경기도', '성남시']\n",
    "orders.loc[orders.CNEE_ADDR_1=='(12730)', ['CNEE_ADDR_1','CNEE_ADDR_2']] = ['인천광역시','서구']\n",
    "orders.loc[orders.CNEE_ADDR_1=='인천광역시\\xa0서구\\xa0정서진로\\xa047',['CNEE_ADDR_1','CNEE_ADDR_2']] = ['인천광역시','서구']\n",
    "orders.loc[orders.CNEE_ADDR_1=='평택시',['CNEE_ADDR_1','CNEE_ADDR_2']] = ['경기도','평택시']\n",
    "orders.loc[orders.CNEE_ADDR_1=='곤지암',['CNEE_ADDR_1','CNEE_ADDR_2']] = ['경기도','광주시']\n",
    "orders.loc[orders.CNEE_ADDR_1=='상주시',['CNEE_ADDR_1','CNEE_ADDR_2']] = ['경상북도','상주시']\n",
    "\n",
    "orders.loc[orders.CNEE_ADDR_2=='충남공주시',['CNEE_ADDR_1','CNEE_ADDR_2']] = ['충청남도','공주시']\n",
    "orders.loc[orders.CNEE_ADDR_2=='경상남도',['CNEE_ADDR_1','CNEE_ADDR_2']] = ['경상남도',np.nan]"
   ]
  },
  {
   "cell_type": "code",
   "execution_count": 80,
   "id": "58a507f2",
   "metadata": {},
   "outputs": [],
   "source": [
    "orders.to_csv('orders.csv', index=False)"
   ]
  },
  {
   "cell_type": "code",
   "execution_count": null,
   "id": "9280016c",
   "metadata": {},
   "outputs": [],
   "source": [
    "orders = pd.read_csv('orders.csv')\n",
    "deliveries = pd.read_csv('deliveries.csv')"
   ]
  },
  {
   "cell_type": "code",
   "execution_count": null,
   "id": "98d03170",
   "metadata": {},
   "outputs": [],
   "source": [
    "orders.BKG_DATE = pd.to_datetime(orders.BKG_DATE, format='%Y-%m-%d')\n",
    "orders.INS_DATE = pd.to_datetime(orders.INS_DATE, format='%Y-%m-%d')"
   ]
  },
  {
   "cell_type": "markdown",
   "id": "e500045d",
   "metadata": {},
   "source": [
    "## EDA"
   ]
  },
  {
   "cell_type": "markdown",
   "id": "151b2d44",
   "metadata": {},
   "source": [
    "### Orders"
   ]
  },
  {
   "cell_type": "markdown",
   "id": "964ae029",
   "metadata": {},
   "source": [
    "#### column 설명\n",
    "- CORP_ID: 창고코드(KX007: 곤지암, GP001: 군포)\n",
    "- REF_ORD_NO: 고객 주문번호, 해당 테이블 key값, 네이버 채번\n",
    "- BKG_NO: CJ대한통운 주문번호\n",
    "- BKG_TYP: 주문유형(7: B2C출고, 8: 정상반출, 9: 불량반출) \n",
    "- BKG_DATE: 주문날짜\n",
    "- BKG_TIME: 주문시간\n",
    "- SHPR_CD: 고객사 코드\n",
    "- INV_AMT: 주문금액\n",
    "- ITEM_SEQ: 품목순번\n",
    "- ITEM_CD: 품목코드\n",
    "- BRAND_NM: 브랜드\n",
    "- ITEM_QTY: 품목수량\n",
    "- ITEM_AMT: 품목금액\n",
    "- IF_YN: 수신여부\n",
    "- ORDER_CRT_DATETIME: 주문생성시간\n",
    "- DLV_DV: 택배구분\n",
    "- REF_ITEM_SEQ: 상품주문번호\n",
    "- ORDER_IDX: 중개업체 주문번호\n",
    "- ORDER_YN: 접수여부\n",
    "- DLVPREARRBRANCD: 배달예정점소코드\n",
    "- DLVPREARREMPNICKNM: 배달예정사원분류코드\n",
    "- DLVCLSFCD: 배달터미널코드\n",
    "- DLVSUBCLSFCD: 배달터미널 소분류코드\n",
    "- INS_ID: 입력자ID\n",
    "- INS_DATE: 입력일자(인터페이스시간)\n",
    "- INS_TIME: 입력시간(인터페이스시간)\n",
    "- POST_ZONE: 권역구분\n",
    "- SPLIT_EXEC_YN: 배송처별 주문분할여부\n",
    "- SHPR_ADDR_1: 송화인 주소1(시도)\n",
    "- SHPR_ADDR_2: 송화인 주소2(시군구)\n",
    "- CNEE_ADDR_1: 수화인 주소1(시도)\n",
    "- CNEE_ADDR_2: 수화인 주소2(시군구)"
   ]
  },
  {
   "cell_type": "code",
   "execution_count": 134,
   "id": "056c1a07",
   "metadata": {},
   "outputs": [
    {
     "data": {
      "text/html": [
       "<div>\n",
       "<style scoped>\n",
       "    .dataframe tbody tr th:only-of-type {\n",
       "        vertical-align: middle;\n",
       "    }\n",
       "\n",
       "    .dataframe tbody tr th {\n",
       "        vertical-align: top;\n",
       "    }\n",
       "\n",
       "    .dataframe thead th {\n",
       "        text-align: right;\n",
       "    }\n",
       "</style>\n",
       "<table border=\"1\" class=\"dataframe\">\n",
       "  <thead>\n",
       "    <tr style=\"text-align: right;\">\n",
       "      <th></th>\n",
       "      <th>CORP_ID</th>\n",
       "      <th>REF_ORD_NO</th>\n",
       "      <th>BKG_NO</th>\n",
       "      <th>BKG_TYP</th>\n",
       "      <th>BKG_DATE</th>\n",
       "      <th>BKG_TIME</th>\n",
       "      <th>SHPR_CD</th>\n",
       "      <th>INV_AMT</th>\n",
       "      <th>ITEM_SEQ</th>\n",
       "      <th>ITEM_CD</th>\n",
       "      <th>...</th>\n",
       "      <th>POST_ZONE</th>\n",
       "      <th>SPLIT_EXEC_YN</th>\n",
       "      <th>SHPR_ADDR_1</th>\n",
       "      <th>SHPR_ADDR_2</th>\n",
       "      <th>CNEE_ADDR_1</th>\n",
       "      <th>CNEE_ADDR_2</th>\n",
       "      <th>BKG_MONTH</th>\n",
       "      <th>BKG_DAY</th>\n",
       "      <th>BKG_DAYNAME</th>\n",
       "      <th>BKG_HOUR</th>\n",
       "    </tr>\n",
       "  </thead>\n",
       "  <tbody>\n",
       "    <tr>\n",
       "      <th>0</th>\n",
       "      <td>KX007</td>\n",
       "      <td>2021030365922551</td>\n",
       "      <td>KX007210303370934</td>\n",
       "      <td>7</td>\n",
       "      <td>2021-03-03</td>\n",
       "      <td>1900-01-01 03:55:10</td>\n",
       "      <td>90001302</td>\n",
       "      <td>22400.0</td>\n",
       "      <td>2</td>\n",
       "      <td>134265392</td>\n",
       "      <td>...</td>\n",
       "      <td>3.0</td>\n",
       "      <td>N</td>\n",
       "      <td>세종특별자치시</td>\n",
       "      <td>NaN</td>\n",
       "      <td>서울특별시</td>\n",
       "      <td>서대문구</td>\n",
       "      <td>3</td>\n",
       "      <td>3</td>\n",
       "      <td>Wednesday</td>\n",
       "      <td>3</td>\n",
       "    </tr>\n",
       "    <tr>\n",
       "      <th>1</th>\n",
       "      <td>KX007</td>\n",
       "      <td>2021030365922951</td>\n",
       "      <td>KX007210303371080</td>\n",
       "      <td>7</td>\n",
       "      <td>2021-03-03</td>\n",
       "      <td>1900-01-01 03:55:21</td>\n",
       "      <td>90001441</td>\n",
       "      <td>20900.0</td>\n",
       "      <td>1</td>\n",
       "      <td>4610261043_2</td>\n",
       "      <td>...</td>\n",
       "      <td>50.0</td>\n",
       "      <td>N</td>\n",
       "      <td>경기도</td>\n",
       "      <td>광주시</td>\n",
       "      <td>경상남도</td>\n",
       "      <td>김해시</td>\n",
       "      <td>3</td>\n",
       "      <td>3</td>\n",
       "      <td>Wednesday</td>\n",
       "      <td>3</td>\n",
       "    </tr>\n",
       "    <tr>\n",
       "      <th>2</th>\n",
       "      <td>KX007</td>\n",
       "      <td>2021030365924361</td>\n",
       "      <td>KX007210303371081</td>\n",
       "      <td>7</td>\n",
       "      <td>2021-03-03</td>\n",
       "      <td>1900-01-01 03:55:13</td>\n",
       "      <td>90001441</td>\n",
       "      <td>37900.0</td>\n",
       "      <td>1</td>\n",
       "      <td>4936599538_1</td>\n",
       "      <td>...</td>\n",
       "      <td>53.0</td>\n",
       "      <td>N</td>\n",
       "      <td>경기도</td>\n",
       "      <td>광주시</td>\n",
       "      <td>경상남도</td>\n",
       "      <td>거제시</td>\n",
       "      <td>3</td>\n",
       "      <td>3</td>\n",
       "      <td>Wednesday</td>\n",
       "      <td>3</td>\n",
       "    </tr>\n",
       "    <tr>\n",
       "      <th>3</th>\n",
       "      <td>KX007</td>\n",
       "      <td>2021030365928921</td>\n",
       "      <td>KX007210303371205</td>\n",
       "      <td>7</td>\n",
       "      <td>2021-03-03</td>\n",
       "      <td>1900-01-01 03:56:08</td>\n",
       "      <td>90001542</td>\n",
       "      <td>69800.0</td>\n",
       "      <td>1</td>\n",
       "      <td>3858391637_1</td>\n",
       "      <td>...</td>\n",
       "      <td>6.0</td>\n",
       "      <td>N</td>\n",
       "      <td>경기도</td>\n",
       "      <td>광주시</td>\n",
       "      <td>서울특별시</td>\n",
       "      <td>서초구</td>\n",
       "      <td>3</td>\n",
       "      <td>3</td>\n",
       "      <td>Wednesday</td>\n",
       "      <td>3</td>\n",
       "    </tr>\n",
       "    <tr>\n",
       "      <th>4</th>\n",
       "      <td>KX007</td>\n",
       "      <td>2021030365930451</td>\n",
       "      <td>KX007210303370967</td>\n",
       "      <td>7</td>\n",
       "      <td>2021-03-03</td>\n",
       "      <td>1900-01-01 03:55:51</td>\n",
       "      <td>90001341</td>\n",
       "      <td>73700.0</td>\n",
       "      <td>1</td>\n",
       "      <td>4631307460</td>\n",
       "      <td>...</td>\n",
       "      <td>10.0</td>\n",
       "      <td>N</td>\n",
       "      <td>경기도</td>\n",
       "      <td>광주시</td>\n",
       "      <td>경기도</td>\n",
       "      <td>김포시</td>\n",
       "      <td>3</td>\n",
       "      <td>3</td>\n",
       "      <td>Wednesday</td>\n",
       "      <td>3</td>\n",
       "    </tr>\n",
       "  </tbody>\n",
       "</table>\n",
       "<p>5 rows × 36 columns</p>\n",
       "</div>"
      ],
      "text/plain": [
       "  CORP_ID        REF_ORD_NO             BKG_NO BKG_TYP   BKG_DATE  \\\n",
       "0   KX007  2021030365922551  KX007210303370934       7 2021-03-03   \n",
       "1   KX007  2021030365922951  KX007210303371080       7 2021-03-03   \n",
       "2   KX007  2021030365924361  KX007210303371081       7 2021-03-03   \n",
       "3   KX007  2021030365928921  KX007210303371205       7 2021-03-03   \n",
       "4   KX007  2021030365930451  KX007210303370967       7 2021-03-03   \n",
       "\n",
       "             BKG_TIME   SHPR_CD  INV_AMT  ITEM_SEQ       ITEM_CD  ...  \\\n",
       "0 1900-01-01 03:55:10  90001302  22400.0         2     134265392  ...   \n",
       "1 1900-01-01 03:55:21  90001441  20900.0         1  4610261043_2  ...   \n",
       "2 1900-01-01 03:55:13  90001441  37900.0         1  4936599538_1  ...   \n",
       "3 1900-01-01 03:56:08  90001542  69800.0         1  3858391637_1  ...   \n",
       "4 1900-01-01 03:55:51  90001341  73700.0         1    4631307460  ...   \n",
       "\n",
       "  POST_ZONE  SPLIT_EXEC_YN  SHPR_ADDR_1 SHPR_ADDR_2 CNEE_ADDR_1 CNEE_ADDR_2  \\\n",
       "0       3.0              N      세종특별자치시         NaN       서울특별시        서대문구   \n",
       "1      50.0              N          경기도         광주시        경상남도         김해시   \n",
       "2      53.0              N          경기도         광주시        경상남도         거제시   \n",
       "3       6.0              N          경기도         광주시       서울특별시         서초구   \n",
       "4      10.0              N          경기도         광주시         경기도         김포시   \n",
       "\n",
       "  BKG_MONTH BKG_DAY BKG_DAYNAME BKG_HOUR  \n",
       "0         3       3   Wednesday        3  \n",
       "1         3       3   Wednesday        3  \n",
       "2         3       3   Wednesday        3  \n",
       "3         3       3   Wednesday        3  \n",
       "4         3       3   Wednesday        3  \n",
       "\n",
       "[5 rows x 36 columns]"
      ]
     },
     "execution_count": 134,
     "metadata": {},
     "output_type": "execute_result"
    }
   ],
   "source": [
    "orders.head()"
   ]
  },
  {
   "cell_type": "code",
   "execution_count": 135,
   "id": "fac75034",
   "metadata": {},
   "outputs": [
    {
     "data": {
      "image/png": "[encoded data removed]",
      "text/plain": [
       "<Figure size 1728x720 with 3 Axes>"
      ]
     },
     "metadata": {
      "needs_background": "light"
     },
     "output_type": "display_data"
    }
   ],
   "source": [
    "msno.bar(orders)\n",
    "plt.show()"
   ]
  },
  {
   "cell_type": "code",
   "execution_count": 9,
   "id": "3f1ca9c8",
   "metadata": {
    "scrolled": true
   },
   "outputs": [
    {
     "data": {
      "text/plain": [
       "KX007    1606010\n",
       "GP001     180364\n",
       "Name: CORP_ID, dtype: int64"
      ]
     },
     "execution_count": 9,
     "metadata": {},
     "output_type": "execute_result"
    }
   ],
   "source": [
    "# 창고코드\n",
    "orders.CORP_ID.value_counts()"
   ]
  },
  {
   "cell_type": "code",
   "execution_count": 10,
   "id": "f77ae9fd",
   "metadata": {},
   "outputs": [
    {
     "data": {
      "text/plain": [
       "7    1785327\n",
       "8       1047\n",
       "Name: BKG_TYP, dtype: int64"
      ]
     },
     "execution_count": 10,
     "metadata": {},
     "output_type": "execute_result"
    }
   ],
   "source": [
    "# 주문유형\n",
    "orders.BKG_TYP.value_counts()"
   ]
  },
  {
   "cell_type": "code",
   "execution_count": 11,
   "id": "ce712be6",
   "metadata": {
    "scrolled": true
   },
   "outputs": [
    {
     "name": "stdout",
     "output_type": "stream",
     "text": [
      "nunique: 29\n",
      "90001302    464991\n",
      "90001542    205013\n",
      "90001341    168297\n",
      "90001541    148705\n",
      "90001441    126855\n",
      "90001602    110317\n",
      "90001443    100764\n",
      "90001582     82210\n",
      "90001622     68840\n",
      "90001521     59042\n",
      "90001703     57220\n",
      "90001682     36238\n",
      "90001702     30948\n",
      "90001705     24686\n",
      "90001776     24418\n",
      "90001704     21182\n",
      "90001502     14024\n",
      "90001768     12867\n",
      "90001662      8260\n",
      "90001765      6271\n",
      "90001683      5876\n",
      "90001381      5469\n",
      "90001664      1941\n",
      "90001562      1109\n",
      "90001774       751\n",
      "90001842        49\n",
      "90001772        20\n",
      "90001802         6\n",
      "90001762         5\n",
      "Name: SHPR_CD, dtype: int64\n"
     ]
    }
   ],
   "source": [
    "# 고객사 번호\n",
    "print(f'nunique: {orders.SHPR_CD.nunique()}')\n",
    "print(orders.SHPR_CD.value_counts())"
   ]
  },
  {
   "cell_type": "code",
   "execution_count": 13,
   "id": "dc0d2d55",
   "metadata": {},
   "outputs": [
    {
     "data": {
      "text/plain": [
       "116"
      ]
     },
     "execution_count": 13,
     "metadata": {},
     "output_type": "execute_result"
    }
   ],
   "source": [
    "# 품목순번\n",
    "orders.ITEM_SEQ.nunique()"
   ]
  },
  {
   "cell_type": "code",
   "execution_count": 14,
   "id": "b3264bbc",
   "metadata": {},
   "outputs": [
    {
     "data": {
      "text/plain": [
       "16951"
      ]
     },
     "execution_count": 14,
     "metadata": {},
     "output_type": "execute_result"
    }
   ],
   "source": [
    "# 품목코드\n",
    "orders.ITEM_CD.nunique()"
   ]
  },
  {
   "cell_type": "code",
   "execution_count": 15,
   "id": "8b8d1c13",
   "metadata": {},
   "outputs": [
    {
     "data": {
      "text/plain": [
       "조합형옵션상품    1349758\n",
       "단일상품        387783\n",
       "추가구성상품        6874\n",
       "Name: BRAND_NM, dtype: int64"
      ]
     },
     "execution_count": 15,
     "metadata": {},
     "output_type": "execute_result"
    }
   ],
   "source": [
    "# 브랜드명\n",
    "orders.BRAND_NM.value_counts()"
   ]
  },
  {
   "cell_type": "code",
   "execution_count": 16,
   "id": "4db733bd",
   "metadata": {},
   "outputs": [
    {
     "data": {
      "text/plain": [
       "N    1786374\n",
       "Name: IF_YN, dtype: int64"
      ]
     },
     "execution_count": 16,
     "metadata": {},
     "output_type": "execute_result"
    }
   ],
   "source": [
    "# 수신여부\n",
    "orders.IF_YN.value_counts()"
   ]
  },
  {
   "cell_type": "code",
   "execution_count": 17,
   "id": "7cc5bc81",
   "metadata": {},
   "outputs": [
    {
     "data": {
      "text/plain": [
       "1.0    1785331\n",
       "Name: DLV_DV, dtype: int64"
      ]
     },
     "execution_count": 17,
     "metadata": {},
     "output_type": "execute_result"
    }
   ],
   "source": [
    "# 택배 구분\n",
    "orders.DLV_DV.value_counts()"
   ]
  },
  {
   "cell_type": "code",
   "execution_count": 18,
   "id": "7f1f9db5",
   "metadata": {},
   "outputs": [
    {
     "data": {
      "text/plain": [
       "Y    1786374\n",
       "Name: ORDER_YN, dtype: int64"
      ]
     },
     "execution_count": 18,
     "metadata": {},
     "output_type": "execute_result"
    }
   ],
   "source": [
    "# 접수여부\n",
    "orders.ORDER_YN.value_counts()"
   ]
  },
  {
   "cell_type": "code",
   "execution_count": 19,
   "id": "a97a3a0b",
   "metadata": {},
   "outputs": [
    {
     "data": {
      "text/plain": [
       "2074"
      ]
     },
     "execution_count": 19,
     "metadata": {},
     "output_type": "execute_result"
    }
   ],
   "source": [
    "# 배달예정점소코드\n",
    "orders.DLVPREARRBRANCD.nunique()"
   ]
  },
  {
   "cell_type": "code",
   "execution_count": 20,
   "id": "d5e46e25",
   "metadata": {},
   "outputs": [
    {
     "data": {
      "text/plain": [
       "2430"
      ]
     },
     "execution_count": 20,
     "metadata": {},
     "output_type": "execute_result"
    }
   ],
   "source": [
    "# 배달예정사원분류코드\n",
    "orders.DLVPREARREMPNICKNM.nunique()"
   ]
  },
  {
   "cell_type": "code",
   "execution_count": 21,
   "id": "dc8ad4ab",
   "metadata": {},
   "outputs": [
    {
     "data": {
      "text/plain": [
       "349"
      ]
     },
     "execution_count": 21,
     "metadata": {},
     "output_type": "execute_result"
    }
   ],
   "source": [
    "# 배달터미널코드\n",
    "orders.DLVCLSFCD.nunique()"
   ]
  },
  {
   "cell_type": "code",
   "execution_count": 22,
   "id": "632038f1",
   "metadata": {},
   "outputs": [
    {
     "data": {
      "text/plain": [
       "119"
      ]
     },
     "execution_count": 22,
     "metadata": {},
     "output_type": "execute_result"
    }
   ],
   "source": [
    "# 배달터미널소분류코드\n",
    "orders.DLVSUBCLSFCD.nunique()"
   ]
  },
  {
   "cell_type": "code",
   "execution_count": 23,
   "id": "33e7ffa5",
   "metadata": {
    "scrolled": true
   },
   "outputs": [
    {
     "data": {
      "text/plain": [
       "1     433787\n",
       "2     365820\n",
       "0     276883\n",
       "3     121861\n",
       "4      75339\n",
       "       ...  \n",
       "1r        10\n",
       "1o         8\n",
       "1n         7\n",
       "1q         6\n",
       "1s         5\n",
       "Name: DLVSUBCLSFCD, Length: 119, dtype: int64"
      ]
     },
     "execution_count": 23,
     "metadata": {},
     "output_type": "execute_result"
    }
   ],
   "source": [
    "orders.DLVSUBCLSFCD.value_counts()"
   ]
  },
  {
   "cell_type": "code",
   "execution_count": 24,
   "id": "2f906093",
   "metadata": {
    "scrolled": true
   },
   "outputs": [
    {
     "name": "stdout",
     "output_type": "stream",
     "text": [
      "nunique: 55\n"
     ]
    },
    {
     "data": {
      "text/plain": [
       "iNEXBatch       1744385\n",
       "BATCH             14054\n",
       "sibizi53           8760\n",
       "sibizi47           2333\n",
       "13406634_WEB       2142\n",
       "sibizi22           1945\n",
       "LION03             1876\n",
       "sibizi56           1682\n",
       "sibizi28           1634\n",
       "MIMI01             1109\n",
       "NESTLE09           1048\n",
       "AK04                992\n",
       "nutrione06          990\n",
       "daesang01           919\n",
       "YUHAN16             823\n",
       "sibizi27            572\n",
       "sibizi49            189\n",
       "NESTLE11            123\n",
       "GNM01                90\n",
       "CHANSOL01            89\n",
       "GNM02                73\n",
       "yangji03             72\n",
       "LION02               49\n",
       "hamsoa02             47\n",
       "LION05               45\n",
       "frombio01            38\n",
       "life03               37\n",
       "vanada01             36\n",
       "YUHAN17              30\n",
       "gcbio03              26\n",
       "bebesup09            21\n",
       "osulloc01            20\n",
       "daechungim01         19\n",
       "nutrione01           14\n",
       "NESTLE04              9\n",
       "AK05                  8\n",
       "LION08                8\n",
       "ckdhc04               8\n",
       "nutrione03            7\n",
       "JKI04                 7\n",
       "pigeon07              6\n",
       "YUHAN08               5\n",
       "ngarden01             5\n",
       "CHANSOL02             4\n",
       "frombio04             4\n",
       "nutrione11            3\n",
       "pg05                  3\n",
       "13407185_web          3\n",
       "life01                3\n",
       "YUHAN10               2\n",
       "daechungim02          2\n",
       "GNM04                 2\n",
       "ckdhc03               1\n",
       "nutrione10            1\n",
       "yangji02              1\n",
       "Name: INS_ID, dtype: int64"
      ]
     },
     "execution_count": 24,
     "metadata": {},
     "output_type": "execute_result"
    }
   ],
   "source": [
    "# 입력자 ID\n",
    "print(f'nunique: {orders.INS_ID.nunique()}')\n",
    "orders.INS_ID.value_counts()"
   ]
  },
  {
   "cell_type": "code",
   "execution_count": 25,
   "id": "21bcf96b",
   "metadata": {},
   "outputs": [
    {
     "data": {
      "text/plain": [
       "60"
      ]
     },
     "execution_count": 25,
     "metadata": {},
     "output_type": "execute_result"
    }
   ],
   "source": [
    "# 권역구분\n",
    "orders.POST_ZONE.nunique()"
   ]
  },
  {
   "cell_type": "code",
   "execution_count": 26,
   "id": "c713ad20",
   "metadata": {
    "scrolled": true
   },
   "outputs": [
    {
     "data": {
      "text/plain": [
       "16.0    76506\n",
       "10.0    76037\n",
       "12.0    62731\n",
       "14.0    60307\n",
       "6.0     56291\n",
       "7.0     55761\n",
       "18.0    53855\n",
       "5.0     53324\n",
       "17.0    52719\n",
       "31.0    50642\n",
       "21.0    50416\n",
       "8.0     49272\n",
       "4.0     47159\n",
       "13.0    46709\n",
       "42.0    43527\n",
       "22.0    41866\n",
       "3.0     40628\n",
       "2.0     39735\n",
       "51.0    39139\n",
       "1.0     35899\n",
       "15.0    35848\n",
       "11.0    35365\n",
       "44.0    33665\n",
       "50.0    33265\n",
       "48.0    31818\n",
       "46.0    31751\n",
       "28.0    31398\n",
       "34.0    30903\n",
       "41.0    30499\n",
       "47.0    30434\n",
       "54.0    30044\n",
       "61.0    29077\n",
       "52.0    23625\n",
       "37.0    22318\n",
       "58.0    21731\n",
       "39.0    21281\n",
       "27.0    19489\n",
       "38.0    19256\n",
       "26.0    18117\n",
       "24.0    17673\n",
       "62.0    17631\n",
       "35.0    17484\n",
       "57.0    16475\n",
       "25.0    16204\n",
       "30.0    16011\n",
       "32.0    15516\n",
       "59.0    15085\n",
       "36.0    14974\n",
       "55.0    14829\n",
       "53.0    14476\n",
       "49.0    14183\n",
       "63.0    10995\n",
       "33.0     5777\n",
       "56.0     5060\n",
       "99.0     2608\n",
       "43.0     2198\n",
       "29.0     1947\n",
       "23.0     1714\n",
       "40.0     1422\n",
       "45.0      662\n",
       "Name: POST_ZONE, dtype: int64"
      ]
     },
     "execution_count": 26,
     "metadata": {},
     "output_type": "execute_result"
    }
   ],
   "source": [
    "orders.POST_ZONE.value_counts()"
   ]
  },
  {
   "cell_type": "code",
   "execution_count": 27,
   "id": "8e7f6379",
   "metadata": {},
   "outputs": [
    {
     "data": {
      "text/plain": [
       "N    1786358\n",
       "Y         16\n",
       "Name: SPLIT_EXEC_YN, dtype: int64"
      ]
     },
     "execution_count": 27,
     "metadata": {},
     "output_type": "execute_result"
    }
   ],
   "source": [
    "# 배송처별 주문분할여부\n",
    "orders.SPLIT_EXEC_YN.value_counts()"
   ]
  },
  {
   "cell_type": "code",
   "execution_count": 33,
   "id": "b56f2bbb",
   "metadata": {
    "scrolled": true
   },
   "outputs": [
    {
     "data": {
      "text/plain": [
       "경기도        1706030\n",
       "세종특별자치시      43563\n",
       "충청남도         18764\n",
       "서울특별시        14581\n",
       "인천광역시         3360\n",
       "충청북도            52\n",
       "대전광역시           18\n",
       "경상북도             6\n",
       "Name: SHPR_ADDR_1, dtype: int64"
      ]
     },
     "execution_count": 33,
     "metadata": {},
     "output_type": "execute_result"
    }
   ],
   "source": [
    "orders.SHPR_ADDR_1.value_counts()"
   ]
  },
  {
   "cell_type": "code",
   "execution_count": 34,
   "id": "51321756",
   "metadata": {},
   "outputs": [
    {
     "data": {
      "text/plain": [
       "광주시    1475675\n",
       "안산시      82117\n",
       "용인시      43442\n",
       "안성시      35942\n",
       "금천구      14581\n",
       "천안시      12861\n",
       "보령시       5855\n",
       "고양시       5433\n",
       "군포시        722\n",
       "포천시        385\n",
       "청주시         51\n",
       "당진시         48\n",
       "평택시          8\n",
       "이천시          2\n",
       "충주시          1\n",
       "Name: SHPR_ADDR_2, dtype: int64"
      ]
     },
     "execution_count": 34,
     "metadata": {},
     "output_type": "execute_result"
    }
   ],
   "source": [
    "orders.SHPR_ADDR_2.value_counts()"
   ]
  },
  {
   "cell_type": "code",
   "execution_count": 72,
   "id": "78c915c3",
   "metadata": {},
   "outputs": [
    {
     "data": {
      "text/plain": [
       "경기도                 501363\n",
       "서울특별시               378672\n",
       "경상남도                110723\n",
       "부산광역시               108283\n",
       "인천광역시                94106\n",
       "경상북도                 79420\n",
       "대구광역시                76265\n",
       "충청남도                 72115\n",
       "전라남도                 53562\n",
       "충청북도                 52962\n",
       "강원도                  52153\n",
       "전라북도                 50038\n",
       "대전광역시                48450\n",
       "광주광역시                46779\n",
       "울산광역시                34357\n",
       "세종특별자치시              16062\n",
       "제주특별자치도              11025\n",
       "인천광역시 서구 정서진로 47         7\n",
       "중구                       2\n",
       "Name: CNEE_ADDR_1, dtype: int64"
      ]
     },
     "execution_count": 72,
     "metadata": {},
     "output_type": "execute_result"
    }
   ],
   "source": [
    "orders.CNEE_ADDR_1.value_counts()"
   ]
  },
  {
   "cell_type": "code",
   "execution_count": 73,
   "id": "2c024b23",
   "metadata": {},
   "outputs": [
    {
     "data": {
      "text/plain": [
       "서구       50522\n",
       "수원시      43588\n",
       "용인시      42810\n",
       "북구       41851\n",
       "화성시      39764\n",
       "         ...  \n",
       "고운북4길        1\n",
       "대평4길         1\n",
       "반곡5길         1\n",
       "바른8길         1\n",
       "고운서3길        1\n",
       "Name: CNEE_ADDR_2, Length: 337, dtype: int64"
      ]
     },
     "execution_count": 73,
     "metadata": {},
     "output_type": "execute_result"
    }
   ],
   "source": [
    "orders.CNEE_ADDR_2.value_counts()"
   ]
  },
  {
   "cell_type": "markdown",
   "id": "5425e0a7",
   "metadata": {},
   "source": [
    "### Delivery"
   ]
  },
  {
   "cell_type": "markdown",
   "id": "5869982e",
   "metadata": {},
   "source": [
    "#### column 설명\n",
    "- 구분명: 배달/집하\n",
    "- 집화일자: 집화(화물이나 상품 따위가 한곳에 모여들거나 모이게 함)\n",
    "- 집배일자: 집배(우편물이나 화물 따위를 모아서 주소지로 배달하는 따위를 이른다.)\n",
    "- 운임명: 선불/신용/착불\n",
    "- 수량: box\n",
    "- 운임: 원\n",
    "- 집화여부: 여부(Y/N)\n",
    "- 집배시간: \n",
    "- 배달일자: 배달/집하 완료 일자\n",
    "- 장비구분: 화면/스마트폰\n",
    "- 품목: 배송상품 품목 분류\n",
    "- SM명: 택배기사 성명\n",
    "- 받는분 주소"
   ]
  },
  {
   "cell_type": "code",
   "execution_count": null,
   "id": "fb361d43",
   "metadata": {},
   "outputs": [],
   "source": [
    "msno.bar(deliveries)\n",
    "plt.show()"
   ]
  },
  {
   "cell_type": "code",
   "execution_count": null,
   "id": "fa8afe9c",
   "metadata": {},
   "outputs": [],
   "source": [
    "deliveries.isna().sum()[deliveries.isna().sum()!=0]"
   ]
  },
  {
   "cell_type": "code",
   "execution_count": null,
   "id": "fc248bd2",
   "metadata": {},
   "outputs": [],
   "source": [
    "deliveries.head()"
   ]
  },
  {
   "cell_type": "code",
   "execution_count": null,
   "id": "e9699164",
   "metadata": {},
   "outputs": [],
   "source": [
    "deliveries.구분명.value_counts()"
   ]
  },
  {
   "cell_type": "code",
   "execution_count": null,
   "id": "19d69119",
   "metadata": {},
   "outputs": [],
   "source": [
    "deliveries.운임명.value_counts()"
   ]
  },
  {
   "cell_type": "code",
   "execution_count": null,
   "id": "a3264b03",
   "metadata": {},
   "outputs": [],
   "source": [
    "deliveries.집화여부.value_counts()"
   ]
  },
  {
   "cell_type": "code",
   "execution_count": null,
   "id": "ccf43c4d",
   "metadata": {},
   "outputs": [],
   "source": [
    "deliveries.장비구분.value_counts()"
   ]
  },
  {
   "cell_type": "code",
   "execution_count": null,
   "id": "79fdecb8",
   "metadata": {},
   "outputs": [],
   "source": [
    "deliveries.품목.value_counts()"
   ]
  },
  {
   "cell_type": "code",
   "execution_count": null,
   "id": "76f5ff9a",
   "metadata": {},
   "outputs": [],
   "source": [
    "deliveries.SM명.nunique()"
   ]
  }
 ],
 "metadata": {
  "kernelspec": {
   "display_name": "Python 3 (ipykernel)",
   "language": "python",
   "name": "python3"
  },
  "language_info": {
   "codemirror_mode": {
    "name": "ipython",
    "version": 3
   },
   "file_extension": ".py",
   "mimetype": "text/x-python",
   "name": "python",
   "nbconvert_exporter": "python",
   "pygments_lexer": "ipython3",
   "version": "3.9.7"
  }
 },
 "nbformat": 4,
 "nbformat_minor": 5
}
